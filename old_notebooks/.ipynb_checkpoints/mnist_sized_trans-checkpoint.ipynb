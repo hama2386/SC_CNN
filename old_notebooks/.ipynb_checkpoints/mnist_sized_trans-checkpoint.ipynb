{
 "cells": [
  {
   "cell_type": "code",
   "execution_count": 1,
   "metadata": {},
   "outputs": [],
   "source": [
    "INTERNAL_DATA_PATH = 'mnist_sized'"
   ]
  },
  {
   "cell_type": "code",
   "execution_count": 2,
   "metadata": {},
   "outputs": [],
   "source": [
    "import os\n",
    "import fnmatch\n",
    " \n",
    "# Get a list of all files in directory\n",
    "for rootDir, subdirs, filenames in os.walk(INTERNAL_DATA_PATH):\n",
    "    # Find the files that matches the given patterm\n",
    "    for filename in fnmatch.filter(filenames, '.*'):\n",
    "        try:\n",
    "            #print(filename)\n",
    "            os.remove(os.path.join(rootDir, filename))\n",
    "        except OSError:\n",
    "            print(\"Error while deleting file\")"
   ]
  },
  {
   "cell_type": "code",
   "execution_count": 9,
   "metadata": {},
   "outputs": [
    {
     "name": "stdout",
     "output_type": "stream",
     "text": [
      "[['sized_val/78/ds0', 'sized_val/78/ds1', 'sized_val/78/ds2', 'sized_val/78/ds3'], ['sized_val/9/ds0', 'sized_val/9/ds1', 'sized_val/9/ds2', 'sized_val/9/ds3'], ['sized_val/106/ds0', 'sized_val/106/ds1', 'sized_val/106/ds2', 'sized_val/106/ds3'], ['sized_val/3/ds0', 'sized_val/3/ds1', 'sized_val/3/ds2', 'sized_val/3/ds3'], ['sized_val/45/ds0', 'sized_val/45/ds1', 'sized_val/45/ds2', 'sized_val/45/ds3'], ['sized_val/84/ds0', 'sized_val/84/ds1', 'sized_val/84/ds2', 'sized_val/84/ds3'], ['sized_val/88/ds0', 'sized_val/88/ds1', 'sized_val/88/ds2', 'sized_val/88/ds3'], ['sized_val/58/ds0', 'sized_val/58/ds1', 'sized_val/58/ds2', 'sized_val/58/ds3'], ['sized_val/38/ds0', 'sized_val/38/ds1', 'sized_val/38/ds2', 'sized_val/38/ds3'], ['sized_val/33/ds0', 'sized_val/33/ds1', 'sized_val/33/ds2', 'sized_val/33/ds3'], ['sized_val/92/ds0', 'sized_val/92/ds1', 'sized_val/92/ds2', 'sized_val/92/ds3'], ['sized_val/1/ds0', 'sized_val/1/ds1', 'sized_val/1/ds2', 'sized_val/1/ds3'], ['sized_val/89/ds0', 'sized_val/89/ds1', 'sized_val/89/ds2', 'sized_val/89/ds3'], ['sized_val/91/ds0', 'sized_val/91/ds1', 'sized_val/91/ds2', 'sized_val/91/ds3'], ['sized_val/49/ds0', 'sized_val/49/ds1', 'sized_val/49/ds2', 'sized_val/49/ds3'], ['sized_val/74/ds0', 'sized_val/74/ds1', 'sized_val/74/ds2', 'sized_val/74/ds3'], ['sized_val/17/ds0', 'sized_val/17/ds1', 'sized_val/17/ds2', 'sized_val/17/ds3'], ['sized_val/40/ds0', 'sized_val/40/ds1', 'sized_val/40/ds2', 'sized_val/40/ds3'], ['sized_val/18/ds0', 'sized_val/18/ds1', 'sized_val/18/ds2', 'sized_val/18/ds3'], ['sized_val/19/ds0', 'sized_val/19/ds1', 'sized_val/19/ds2', 'sized_val/19/ds3'], ['sized_val/12/ds0', 'sized_val/12/ds1', 'sized_val/12/ds2', 'sized_val/12/ds3'], ['sized_val/76/ds0', 'sized_val/76/ds1', 'sized_val/76/ds2', 'sized_val/76/ds3'], ['sized_val/25/ds0', 'sized_val/25/ds1', 'sized_val/25/ds2', 'sized_val/25/ds3'], ['sized_val/2/ds0', 'sized_val/2/ds1', 'sized_val/2/ds2', 'sized_val/2/ds3'], ['sized_val/50/ds0', 'sized_val/50/ds1', 'sized_val/50/ds2', 'sized_val/50/ds3'], ['sized_val/11/ds0', 'sized_val/11/ds1', 'sized_val/11/ds2', 'sized_val/11/ds3'], ['sized_val/34/ds0', 'sized_val/34/ds1', 'sized_val/34/ds2', 'sized_val/34/ds3'], ['sized_val/36/ds0', 'sized_val/36/ds1', 'sized_val/36/ds2', 'sized_val/36/ds3'], ['sized_val/39/ds0', 'sized_val/39/ds1', 'sized_val/39/ds2', 'sized_val/39/ds3'], ['sized_val/30/ds0', 'sized_val/30/ds1', 'sized_val/30/ds2', 'sized_val/30/ds3'], ['sized_val/102/ds0', 'sized_val/102/ds1', 'sized_val/102/ds2', 'sized_val/102/ds3'], ['sized_val/73/ds0', 'sized_val/73/ds1', 'sized_val/73/ds2', 'sized_val/73/ds3'], ['sized_val/85/ds0', 'sized_val/85/ds1', 'sized_val/85/ds2', 'sized_val/85/ds3'], ['sized_val/95/ds0', 'sized_val/95/ds1', 'sized_val/95/ds2', 'sized_val/95/ds3'], ['sized_val/109/ds0', 'sized_val/109/ds1', 'sized_val/109/ds2', 'sized_val/109/ds3'], ['sized_val/64/ds0', 'sized_val/64/ds1', 'sized_val/64/ds2', 'sized_val/64/ds3'], ['sized_val/13/ds0', 'sized_val/13/ds1', 'sized_val/13/ds2', 'sized_val/13/ds3'], ['sized_val/87/ds0', 'sized_val/87/ds1', 'sized_val/87/ds2', 'sized_val/87/ds3'], ['sized_val/104/ds0', 'sized_val/104/ds1', 'sized_val/104/ds2', 'sized_val/104/ds3'], ['sized_val/37/ds0', 'sized_val/37/ds1', 'sized_val/37/ds2', 'sized_val/37/ds3'], ['sized_val/63/ds0', 'sized_val/63/ds1', 'sized_val/63/ds2', 'sized_val/63/ds3'], ['sized_val/6/ds0', 'sized_val/6/ds1', 'sized_val/6/ds2', 'sized_val/6/ds3'], ['sized_val/15/ds0', 'sized_val/15/ds1', 'sized_val/15/ds2', 'sized_val/15/ds3'], ['sized_val/31/ds0', 'sized_val/31/ds1', 'sized_val/31/ds2', 'sized_val/31/ds3'], ['sized_val/51/ds0', 'sized_val/51/ds1', 'sized_val/51/ds2', 'sized_val/51/ds3'], ['sized_val/72/ds0', 'sized_val/72/ds1', 'sized_val/72/ds2', 'sized_val/72/ds3'], ['sized_val/22/ds0', 'sized_val/22/ds1', 'sized_val/22/ds2', 'sized_val/22/ds3'], ['sized_val/8/ds0', 'sized_val/8/ds1', 'sized_val/8/ds2', 'sized_val/8/ds3'], ['sized_val/35/ds0', 'sized_val/35/ds1', 'sized_val/35/ds2', 'sized_val/35/ds3'], ['sized_val/47/ds0', 'sized_val/47/ds1', 'sized_val/47/ds2', 'sized_val/47/ds3'], ['sized_val/94/ds0', 'sized_val/94/ds1', 'sized_val/94/ds2', 'sized_val/94/ds3'], ['sized_val/5/ds0', 'sized_val/5/ds1', 'sized_val/5/ds2', 'sized_val/5/ds3'], ['sized_val/81/ds0', 'sized_val/81/ds1', 'sized_val/81/ds2', 'sized_val/81/ds3'], ['sized_val/93/ds0', 'sized_val/93/ds1', 'sized_val/93/ds2', 'sized_val/93/ds3'], ['sized_val/110/ds0', 'sized_val/110/ds1', 'sized_val/110/ds2', 'sized_val/110/ds3'], ['sized_val/26/ds0', 'sized_val/26/ds1', 'sized_val/26/ds2', 'sized_val/26/ds3'], ['sized_val/24/ds0', 'sized_val/24/ds1', 'sized_val/24/ds2', 'sized_val/24/ds3'], ['sized_val/20/ds0', 'sized_val/20/ds1', 'sized_val/20/ds2', 'sized_val/20/ds3'], ['sized_val/103/ds0', 'sized_val/103/ds1', 'sized_val/103/ds2', 'sized_val/103/ds3'], ['sized_val/44/ds0', 'sized_val/44/ds1', 'sized_val/44/ds2', 'sized_val/44/ds3'], ['sized_val/66/ds0', 'sized_val/66/ds1', 'sized_val/66/ds2', 'sized_val/66/ds3'], ['sized_val/27/ds0', 'sized_val/27/ds1', 'sized_val/27/ds2', 'sized_val/27/ds3'], ['sized_val/86/ds0', 'sized_val/86/ds1', 'sized_val/86/ds2', 'sized_val/86/ds3'], ['sized_val/90/ds0', 'sized_val/90/ds1', 'sized_val/90/ds2', 'sized_val/90/ds3'], ['sized_val/62/ds0', 'sized_val/62/ds1', 'sized_val/62/ds2', 'sized_val/62/ds3'], ['sized_val/97/ds0', 'sized_val/97/ds1', 'sized_val/97/ds2', 'sized_val/97/ds3'], ['sized_val/65/ds0', 'sized_val/65/ds1', 'sized_val/65/ds2', 'sized_val/65/ds3'], ['sized_val/53/ds0', 'sized_val/53/ds1', 'sized_val/53/ds2', 'sized_val/53/ds3'], ['sized_val/70/ds0', 'sized_val/70/ds1', 'sized_val/70/ds2', 'sized_val/70/ds3'], ['sized_val/46/ds0', 'sized_val/46/ds1', 'sized_val/46/ds2', 'sized_val/46/ds3'], ['sized_val/14/ds0', 'sized_val/14/ds1', 'sized_val/14/ds2', 'sized_val/14/ds3'], ['sized_val/105/ds0', 'sized_val/105/ds1', 'sized_val/105/ds2', 'sized_val/105/ds3'], ['sized_val/42/ds0', 'sized_val/42/ds1', 'sized_val/42/ds2', 'sized_val/42/ds3'], ['sized_val/21/ds0', 'sized_val/21/ds1', 'sized_val/21/ds2', 'sized_val/21/ds3'], ['sized_val/108/ds0', 'sized_val/108/ds1', 'sized_val/108/ds2', 'sized_val/108/ds3'], ['sized_val/77/ds0', 'sized_val/77/ds1', 'sized_val/77/ds2', 'sized_val/77/ds3'], ['sized_val/99/ds0', 'sized_val/99/ds1', 'sized_val/99/ds2', 'sized_val/99/ds3'], ['sized_val/54/ds0', 'sized_val/54/ds1', 'sized_val/54/ds2', 'sized_val/54/ds3'], ['sized_val/67/ds0', 'sized_val/67/ds1', 'sized_val/67/ds2', 'sized_val/67/ds3'], ['sized_val/82/ds0', 'sized_val/82/ds1', 'sized_val/82/ds2', 'sized_val/82/ds3'], ['sized_val/96/ds0', 'sized_val/96/ds1', 'sized_val/96/ds2', 'sized_val/96/ds3'], ['sized_val/43/ds0', 'sized_val/43/ds1', 'sized_val/43/ds2', 'sized_val/43/ds3'], ['sized_val/80/ds0', 'sized_val/80/ds1', 'sized_val/80/ds2', 'sized_val/80/ds3'], ['sized_val/29/ds0', 'sized_val/29/ds1', 'sized_val/29/ds2', 'sized_val/29/ds3'], ['sized_val/28/ds0', 'sized_val/28/ds1', 'sized_val/28/ds2', 'sized_val/28/ds3'], ['sized_val/7/ds0', 'sized_val/7/ds1', 'sized_val/7/ds2', 'sized_val/7/ds3'], ['sized_val/112/ds0', 'sized_val/112/ds1', 'sized_val/112/ds2', 'sized_val/112/ds3'], ['sized_val/23/ds0', 'sized_val/23/ds1', 'sized_val/23/ds2', 'sized_val/23/ds3'], ['sized_val/41/ds0', 'sized_val/41/ds1', 'sized_val/41/ds2', 'sized_val/41/ds3'], ['sized_val/10/ds0', 'sized_val/10/ds1', 'sized_val/10/ds2', 'sized_val/10/ds3'], ['sized_val/4/ds0', 'sized_val/4/ds1', 'sized_val/4/ds2', 'sized_val/4/ds3'], ['sized_val/57/ds0', 'sized_val/57/ds1', 'sized_val/57/ds2', 'sized_val/57/ds3'], ['sized_val/59/ds0', 'sized_val/59/ds1', 'sized_val/59/ds2', 'sized_val/59/ds3'], ['sized_val/16/ds0', 'sized_val/16/ds1', 'sized_val/16/ds2', 'sized_val/16/ds3'], ['sized_val/32/ds0', 'sized_val/32/ds1', 'sized_val/32/ds2', 'sized_val/32/ds3'], ['sized_val/71/ds0', 'sized_val/71/ds1', 'sized_val/71/ds2', 'sized_val/71/ds3'], ['sized_val/111/ds0', 'sized_val/111/ds1', 'sized_val/111/ds2', 'sized_val/111/ds3'], ['sized_val/69/ds0', 'sized_val/69/ds1', 'sized_val/69/ds2', 'sized_val/69/ds3'], ['sized_val/101/ds0', 'sized_val/101/ds1', 'sized_val/101/ds2', 'sized_val/101/ds3'], ['sized_val/68/ds0', 'sized_val/68/ds1', 'sized_val/68/ds2', 'sized_val/68/ds3'], ['sized_val/75/ds0', 'sized_val/75/ds1', 'sized_val/75/ds2', 'sized_val/75/ds3'], ['sized_val/83/ds0', 'sized_val/83/ds1', 'sized_val/83/ds2', 'sized_val/83/ds3'], ['sized_val/52/ds0', 'sized_val/52/ds1', 'sized_val/52/ds2', 'sized_val/52/ds3'], ['sized_val/100/ds0', 'sized_val/100/ds1', 'sized_val/100/ds2', 'sized_val/100/ds3'], ['sized_val/98/ds0', 'sized_val/98/ds1', 'sized_val/98/ds2', 'sized_val/98/ds3'], ['sized_val/61/ds0', 'sized_val/61/ds1', 'sized_val/61/ds2', 'sized_val/61/ds3'], ['sized_val/79/ds0', 'sized_val/79/ds1', 'sized_val/79/ds2', 'sized_val/79/ds3'], ['sized_val/48/ds0', 'sized_val/48/ds1', 'sized_val/48/ds2', 'sized_val/48/ds3'], ['sized_val/107/ds0', 'sized_val/107/ds1', 'sized_val/107/ds2', 'sized_val/107/ds3'], ['sized_val/55/ds0', 'sized_val/55/ds1', 'sized_val/55/ds2', 'sized_val/55/ds3'], ['sized_val/56/ds0', 'sized_val/56/ds1', 'sized_val/56/ds2', 'sized_val/56/ds3'], ['sized_val/60/ds0', 'sized_val/60/ds1', 'sized_val/60/ds2', 'sized_val/60/ds3']]\n"
     ]
    },
    {
     "data": {
      "text/plain": [
       "'for l in range(4):\\n    os.mkdir(new_path[l])\\n    for i in os.listdir(INTERNAL_DATA_PATH_MAIN):\\n        os.mkdir(os.path.join(new_path[l],i))\\n        for j in os.listdir(os.path.join(INTERNAL_DATA_PATH_MAIN,i)):\\n            os.mkdir(os.path.join(new_path[l],i,j))\\n            for k in tqdm(os.listdir(os.path.join(INTERNAL_DATA_PATH_MAIN,i,j))):\\n                img_origin = cv2.imread(os.path.join(INTERNAL_DATA_PATH_MAIN,i,j,k))\\n                img_resized = cv2.resize(img_origin,(img_size[l],img_size[l]))\\n                cv2.imwrite(os.path.join(new_path[l],i,j,k),img_resized)'"
      ]
     },
     "execution_count": 9,
     "metadata": {},
     "output_type": "execute_result"
    }
   ],
   "source": [
    "import cv2\n",
    "import os\n",
    "\n",
    "'''new_path = ['data/ds2','data/ds3','data/ds4','data/ds5']'''\n",
    "img_size = [243,81,27,9]  \n",
    "SIZED_VAL_PATH = 'sized_val'\n",
    "\n",
    "new_path = []\n",
    "\n",
    "for i in os.listdir(INTERNAL_DATA_PATH):\n",
    "    #print(i)\n",
    "    temp = []\n",
    "    for j in range(4):\n",
    "        temp.append(os.path.join(SIZED_VAL_PATH,str(i),'ds'+str(j)))\n",
    "    new_path.append(temp)\n",
    "        \n",
    "print(new_path)\n",
    "'''os.mkdir(SIZED_VAL_PATH)\n",
    "for i in range(len(new_path)):\n",
    "    os.mkdir(os.path.join(SIZED_VAL_PATH,)\n",
    "    for j in range(4):\n",
    "        os.mkdir(new_path)'''\n",
    "'''for l in range(4):\n",
    "    os.mkdir(new_path[l])\n",
    "    for i in os.listdir(INTERNAL_DATA_PATH_MAIN):\n",
    "        os.mkdir(os.path.join(new_path[l],i))\n",
    "        for j in os.listdir(os.path.join(INTERNAL_DATA_PATH_MAIN,i)):\n",
    "            os.mkdir(os.path.join(new_path[l],i,j))\n",
    "            for k in tqdm(os.listdir(os.path.join(INTERNAL_DATA_PATH_MAIN,i,j))):\n",
    "                img_origin = cv2.imread(os.path.join(INTERNAL_DATA_PATH_MAIN,i,j,k))\n",
    "                img_resized = cv2.resize(img_origin,(img_size[l],img_size[l]))\n",
    "                cv2.imwrite(os.path.join(new_path[l],i,j,k),img_resized)'''"
   ]
  },
  {
   "cell_type": "code",
   "execution_count": null,
   "metadata": {
    "collapsed": true
   },
   "outputs": [],
   "source": []
  },
  {
   "cell_type": "code",
   "execution_count": null,
   "metadata": {},
   "outputs": [],
   "source": []
  }
 ],
 "metadata": {
  "kernelspec": {
   "display_name": "Python 3",
   "language": "python",
   "name": "python3"
  },
  "language_info": {
   "codemirror_mode": {
    "name": "ipython",
    "version": 3
   },
   "file_extension": ".py",
   "mimetype": "text/x-python",
   "name": "python",
   "nbconvert_exporter": "python",
   "pygments_lexer": "ipython3",
   "version": "3.6.9"
  }
 },
 "nbformat": 4,
 "nbformat_minor": 4
}
