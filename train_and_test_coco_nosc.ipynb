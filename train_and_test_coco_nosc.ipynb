{
 "cells": [
  {
   "cell_type": "code",
   "execution_count": 1,
   "metadata": {
    "colab": {
     "base_uri": "https://localhost:8080/",
     "height": 318
    },
    "colab_type": "code",
    "id": "SD8EvIMWEBPH",
    "outputId": "f582d519-eb7a-457f-9705-0d961fc032a2"
   },
   "outputs": [
    {
     "name": "stdout",
     "output_type": "stream",
     "text": [
      "Mon Apr  6 04:39:22 2020       \r\n",
      "+-----------------------------------------------------------------------------+\r\n",
      "| NVIDIA-SMI 440.33.01    Driver Version: 440.33.01    CUDA Version: 10.2     |\r\n",
      "|-------------------------------+----------------------+----------------------+\r\n",
      "| GPU  Name        Persistence-M| Bus-Id        Disp.A | Volatile Uncorr. ECC |\r\n",
      "| Fan  Temp  Perf  Pwr:Usage/Cap|         Memory-Usage | GPU-Util  Compute M. |\r\n",
      "|===============================+======================+======================|\r\n",
      "|   0  GeForce RTX 208...  Off  | 00000000:3B:00.0 Off |                  N/A |\r\n",
      "| 32%   43C    P0    64W / 250W |      0MiB / 11019MiB |      0%      Default |\r\n",
      "+-------------------------------+----------------------+----------------------+\r\n",
      "|   1  GeForce RTX 208...  Off  | 00000000:5E:00.0 Off |                  N/A |\r\n",
      "| 33%   44C    P0    65W / 250W |      0MiB / 11019MiB |      1%      Default |\r\n",
      "+-------------------------------+----------------------+----------------------+\r\n",
      "|   2  GeForce RTX 208...  Off  | 00000000:86:00.0 Off |                  N/A |\r\n",
      "| 31%   43C    P0    49W / 250W |      0MiB / 11019MiB |      0%      Default |\r\n",
      "+-------------------------------+----------------------+----------------------+\r\n",
      "|   3  GeForce RTX 208...  Off  | 00000000:AF:00.0 Off |                  N/A |\r\n",
      "| 25%   47C    P0    36W / 250W |      0MiB / 11016MiB |      0%      Default |\r\n",
      "+-------------------------------+----------------------+----------------------+\r\n",
      "                                                                               \r\n",
      "+-----------------------------------------------------------------------------+\r\n",
      "| Processes:                                                       GPU Memory |\r\n",
      "|  GPU       PID   Type   Process name                             Usage      |\r\n",
      "|=============================================================================|\r\n",
      "|  No running processes found                                                 |\r\n",
      "+-----------------------------------------------------------------------------+\r\n"
     ]
    }
   ],
   "source": [
    "!nvidia-smi "
   ]
  },
  {
   "cell_type": "code",
   "execution_count": 2,
   "metadata": {
    "colab": {},
    "colab_type": "code",
    "id": "QuCAgoS1Hn4L"
   },
   "outputs": [
    {
     "data": {
      "text/plain": [
       "'# For clean\\n\\nimport os\\nimport fnmatch\\n \\nINTERNAL_DATA_PATH = \\'cropped_coco/\\'\\n# Get a list of all files in directory\\nfor rootDir, subdirs, filenames in os.walk(INTERNAL_DATA_PATH):\\n    # Find the files that matches the given patterm\\n    for filename in fnmatch.filter(filenames, \\'.*\\'):\\n        try:\\n            #print(filename)\\n            os.remove(os.path.join(rootDir, filename))\\n        except OSError:\\n            print(\"Error while deleting file\")\\n    for subdir in fnmatch.filter(subdirs, \\'.*\\'):\\n        try:\\n            #print(filename)\\n            os.remove(os.path.join(rootDir, subdir))\\n        except OSError:\\n            print(\"Error while deleting file\")'"
      ]
     },
     "execution_count": 2,
     "metadata": {},
     "output_type": "execute_result"
    }
   ],
   "source": [
    "'''# For clean\n",
    "\n",
    "import os\n",
    "import fnmatch\n",
    " \n",
    "INTERNAL_DATA_PATH = 'cropped_coco/'\n",
    "# Get a list of all files in directory\n",
    "for rootDir, subdirs, filenames in os.walk(INTERNAL_DATA_PATH):\n",
    "    # Find the files that matches the given patterm\n",
    "    for filename in fnmatch.filter(filenames, '.*'):\n",
    "        try:\n",
    "            #print(filename)\n",
    "            os.remove(os.path.join(rootDir, filename))\n",
    "        except OSError:\n",
    "            print(\"Error while deleting file\")\n",
    "    for subdir in fnmatch.filter(subdirs, '.*'):\n",
    "        try:\n",
    "            #print(filename)\n",
    "            os.remove(os.path.join(rootDir, subdir))\n",
    "        except OSError:\n",
    "            print(\"Error while deleting file\")'''"
   ]
  },
  {
   "cell_type": "code",
   "execution_count": 3,
   "metadata": {
    "colab": {},
    "colab_type": "code",
    "id": "q-52A9hHEf9y"
   },
   "outputs": [],
   "source": [
    "import torchvision.datasets as datasets\n",
    "import torchvision.transforms as transforms\n",
    "import torchvision\n",
    "import torch\n",
    "from torch.utils.data import Dataset, DataLoader\n",
    "import os\n",
    "import matplotlib.pyplot as plt\n",
    "import numpy as np\n",
    "from tqdm import tqdm\n",
    "\n",
    "\n",
    "########################################################################\n",
    "batch_size = 64\n",
    "########################################################################\n"
   ]
  },
  {
   "cell_type": "code",
   "execution_count": 4,
   "metadata": {},
   "outputs": [],
   "source": [
    "DATASET_PATH = 'sampled_cropped_coco'\n",
    "TRAIN_PATH = DATASET_PATH + '/train/100'\n",
    "TEST_PATH = DATASET_PATH + '/val/100'"
   ]
  },
  {
   "cell_type": "code",
   "execution_count": 5,
   "metadata": {},
   "outputs": [],
   "source": [
    "#img_size = [729,243,81,27,9]  \n",
    "\n",
    "default_transform = transforms.Compose(\n",
    "    [transforms.Resize((224,224)),\n",
    "    transforms.ToTensor()])\n",
    "\n",
    "trainCocoDataset = datasets.ImageFolder(root=TRAIN_PATH,transform = default_transform)\n",
    "testCocoDataset = datasets.ImageFolder(root=TEST_PATH,transform = default_transform)\n",
    "\n",
    "trainloader = torch.utils.data.DataLoader(trainCocoDataset,\n",
    "                                          batch_size = batch_size, \n",
    "                                          shuffle=True,\n",
    "                                         num_workers=4)\n",
    "\n",
    "testloader = torch.utils.data.DataLoader(testCocoDataset,\n",
    "                                          batch_size = batch_size, \n",
    "                                          shuffle=False,\n",
    "                                        num_workers=4)\n"
   ]
  },
  {
   "cell_type": "code",
   "execution_count": 6,
   "metadata": {
    "scrolled": true
   },
   "outputs": [
    {
     "data": {
      "text/plain": [
       "'trainCocoDataset.class_to_idx'"
      ]
     },
     "execution_count": 6,
     "metadata": {},
     "output_type": "execute_result"
    }
   ],
   "source": [
    "'''trainCocoDataset.class_to_idx'''"
   ]
  },
  {
   "cell_type": "code",
   "execution_count": 7,
   "metadata": {},
   "outputs": [],
   "source": [
    "from SCResnet import SCResNet50,ResNet50\n",
    "from torchvision.models import resnet50\n"
   ]
  },
  {
   "cell_type": "code",
   "execution_count": 8,
   "metadata": {},
   "outputs": [],
   "source": [
    "from torch.nn.parallel.data_parallel import DataParallel\n",
    "from torch.nn.parallel import DistributedDataParallel as DDP\n",
    "import torch.distributed as dist\n",
    "\n",
    "os.environ['MASTER_ADDR'] = '127.0.0.1'\n",
    "os.environ['MASTER_PORT'] = '29500'\n",
    "dist.init_process_group(backend='nccl',rank=0,world_size=1)"
   ]
  },
  {
   "cell_type": "code",
   "execution_count": 9,
   "metadata": {
    "colab": {
     "base_uri": "https://localhost:8080/",
     "height": 214
    },
    "colab_type": "code",
    "id": "xdajs104otKK",
    "outputId": "294463e8-ed55-49c4-939e-6bdda6c87d72"
   },
   "outputs": [],
   "source": [
    "device = 'cuda:2'\n",
    "num_classes = 58\n",
    "model1 = resnet50(num_classes=num_classes).to(device)\n",
    "#model1 = SCResNet50(num_classes).to(device)\n",
    "if torch.cuda.device_count() > 1:\n",
    "    model1 = DDP(model1,device_ids = [2,3],find_unused_parameters=True)"
   ]
  },
  {
   "cell_type": "code",
   "execution_count": 10,
   "metadata": {},
   "outputs": [
    {
     "name": "stderr",
     "output_type": "stream",
     "text": [
      "100%|██████████| 10/10 [00:01<00:00,  9.13it/s]\n"
     ]
    }
   ],
   "source": [
    "import os\n",
    "from torchvision import transforms\n",
    "\n",
    "SIZED_VAL_PATH = 'cropped_coco/val'\n",
    "\n",
    "val_gen_arr = []\n",
    "for i in tqdm(range(10,110,10)):\n",
    "    transform = transforms.Compose(\n",
    "        [\n",
    "        transforms.Resize((224,224)),\n",
    "        transforms.ToTensor()])\n",
    "\n",
    "    testCocoDataset_val = datasets.ImageFolder(root=os.path.join(SIZED_VAL_PATH,str(i)),transform = transform)\n",
    "\n",
    "    testloader_val = torch.utils.data.DataLoader(testCocoDataset_val,\n",
    "                                              batch_size = batch_size, \n",
    "                                              shuffle=False,\n",
    "                                            num_workers=4)\n",
    "    val_gen_arr.append(testloader_val)\n"
   ]
  },
  {
   "cell_type": "code",
   "execution_count": 11,
   "metadata": {
    "colab": {},
    "colab_type": "code",
    "id": "74xBqeGcpub_"
   },
   "outputs": [],
   "source": [
    "import torch.optim as optim\n",
    "import torch.nn as nn\n",
    "import torch.nn.functional as F\n",
    "\n",
    "learning_rate = 0.001\n",
    "criterion = nn.CrossEntropyLoss()\n",
    "optimizer = optim.Adam(model1.parameters(), lr=learning_rate)"
   ]
  },
  {
   "cell_type": "code",
   "execution_count": 12,
   "metadata": {},
   "outputs": [],
   "source": [
    "TEST_RESULT_PATH = 'testresults/'\n",
    "WEIGHTS_PATH = 'weights/'\n",
    "\n",
    "TASK_NAME = 'sampled_COCO_Resnet_50'\n",
    "DATE = 'apr5'"
   ]
  },
  {
   "cell_type": "code",
   "execution_count": 13,
   "metadata": {
    "colab": {
     "base_uri": "https://localhost:8080/",
     "height": 1000
    },
    "colab_type": "code",
    "id": "Pd0stQ4Jolv7",
    "outputId": "3e1b592d-71a2-41cf-9936-8dd874e59431",
    "scrolled": true
   },
   "outputs": [
    {
     "name": "stderr",
     "output_type": "stream",
     "text": [
      "2719it [08:20,  5.44it/s]\n",
      "  0%|          | 0/10 [00:00<?, ?it/s]"
     ]
    },
    {
     "name": "stdout",
     "output_type": "stream",
     "text": [
      "epoch: 0 3  batch\n",
      "Accuracy of     0 :  8 %\n",
      "Accuracy of     1 : 20 %\n",
      "Accuracy of     2 :  1 %\n",
      "Accuracy of     3 : 15 %\n",
      "Accuracy of     4 : 11 %\n",
      "Accuracy of     5 : 23 %\n",
      "Accuracy of     6 : 19 %\n",
      "Accuracy of     7 : 54 %\n",
      "Accuracy of     8 : 26 %\n",
      "Accuracy of     9 : 49 %\n",
      "Accuracy of    10 : 89 %\n",
      "Accuracy of    11 : 53 %\n",
      "Accuracy of    12 : 28 %\n",
      "Accuracy of    13 : 22 %\n",
      "Accuracy of    14 :  9 %\n",
      "Accuracy of    15 :  7 %\n",
      "Accuracy of    16 : 41 %\n",
      "Accuracy of    17 : 19 %\n",
      "Accuracy of    18 : 53 %\n",
      "Accuracy of    19 : 29 %\n",
      "Accuracy of    20 : 32 %\n",
      "Accuracy of    21 : 14 %\n",
      "Accuracy of    22 : 27 %\n",
      "Accuracy of    23 : 18 %\n",
      "Accuracy of    24 : 10 %\n",
      "Accuracy of    25 : 47 %\n",
      "Accuracy of    26 : 28 %\n",
      "Accuracy of    27 :  1 %\n",
      "Accuracy of    28 : 10 %\n",
      "Accuracy of    29 : 34 %\n",
      "Accuracy of    30 :  2 %\n",
      "Accuracy of    31 : 18 %\n",
      "Accuracy of    32 : 32 %\n",
      "Accuracy of    33 : 64 %\n",
      "Accuracy of    34 :  9 %\n",
      "Accuracy of    35 : 63 %\n",
      "Accuracy of    36 : 75 %\n",
      "Accuracy of    37 :  9 %\n",
      "Accuracy of    38 : 35 %\n",
      "Accuracy of    39 : 46 %\n",
      "Accuracy of    40 : 27 %\n",
      "Accuracy of    41 :  3 %\n",
      "Accuracy of    42 :  3 %\n",
      "Accuracy of    43 : 13 %\n",
      "Accuracy of    44 : 32 %\n",
      "Accuracy of    45 : 36 %\n",
      "Accuracy of    46 : 13 %\n",
      "Accuracy of    47 : 48 %\n",
      "Accuracy of    48 : 32 %\n",
      "Accuracy of    49 : 66 %\n",
      "Accuracy of    50 : 26 %\n",
      "Accuracy of    51 : 35 %\n",
      "Accuracy of    52 : 14 %\n",
      "Accuracy of    53 : 41 %\n",
      "Accuracy of    54 : 34 %\n",
      "Accuracy of    55 : 23 %\n",
      "Accuracy of    56 : 35 %\n",
      "Accuracy of    57 :  9 %\n",
      "epoch: 1/20 | step: 58/2719 | trn loss: 2.9848 | val loss: 3.1823\n",
      "Accuracy of the network on the 10000 test images: 19 %\n"
     ]
    },
    {
     "name": "stderr",
     "output_type": "stream",
     "text": [
      "\r",
      " 10%|█         | 1/10 [02:07<19:05, 127.28s/it]"
     ]
    },
    {
     "name": "stdout",
     "output_type": "stream",
     "text": [
      "Accuracy of the network on the 10000 test images: 1 %\n"
     ]
    },
    {
     "name": "stderr",
     "output_type": "stream",
     "text": [
      "\r",
      " 20%|██        | 2/10 [04:04<16:34, 124.30s/it]"
     ]
    },
    {
     "name": "stdout",
     "output_type": "stream",
     "text": [
      "Accuracy of the network on the 10000 test images: 1 %\n"
     ]
    },
    {
     "name": "stderr",
     "output_type": "stream",
     "text": [
      "\r",
      " 30%|███       | 3/10 [05:58<14:08, 121.18s/it]"
     ]
    },
    {
     "name": "stdout",
     "output_type": "stream",
     "text": [
      "Accuracy of the network on the 10000 test images: 1 %\n"
     ]
    },
    {
     "name": "stderr",
     "output_type": "stream",
     "text": [
      "\r",
      " 40%|████      | 4/10 [07:33<11:19, 113.29s/it]"
     ]
    },
    {
     "name": "stdout",
     "output_type": "stream",
     "text": [
      "Accuracy of the network on the 10000 test images: 1 %\n"
     ]
    },
    {
     "name": "stderr",
     "output_type": "stream",
     "text": [
      "\r",
      " 50%|█████     | 5/10 [08:47<08:28, 101.68s/it]"
     ]
    },
    {
     "name": "stdout",
     "output_type": "stream",
     "text": [
      "Accuracy of the network on the 10000 test images: 1 %\n"
     ]
    },
    {
     "name": "stderr",
     "output_type": "stream",
     "text": [
      "\r",
      " 60%|██████    | 6/10 [09:44<05:52, 88.14s/it] "
     ]
    },
    {
     "name": "stdout",
     "output_type": "stream",
     "text": [
      "Accuracy of the network on the 10000 test images: 2 %\n"
     ]
    },
    {
     "name": "stderr",
     "output_type": "stream",
     "text": [
      "\r",
      " 70%|███████   | 7/10 [10:28<03:44, 74.99s/it]"
     ]
    },
    {
     "name": "stdout",
     "output_type": "stream",
     "text": [
      "Accuracy of the network on the 10000 test images: 2 %\n"
     ]
    },
    {
     "name": "stderr",
     "output_type": "stream",
     "text": [
      "\r",
      " 80%|████████  | 8/10 [11:07<02:08, 64.14s/it]"
     ]
    },
    {
     "name": "stdout",
     "output_type": "stream",
     "text": [
      "Accuracy of the network on the 10000 test images: 2 %\n"
     ]
    },
    {
     "name": "stderr",
     "output_type": "stream",
     "text": [
      "\r",
      " 90%|█████████ | 9/10 [11:43<00:55, 55.65s/it]"
     ]
    },
    {
     "name": "stdout",
     "output_type": "stream",
     "text": [
      "Accuracy of the network on the 10000 test images: 2 %\n"
     ]
    },
    {
     "name": "stderr",
     "output_type": "stream",
     "text": [
      "100%|██████████| 10/10 [12:17<00:00, 73.80s/it]"
     ]
    },
    {
     "name": "stdout",
     "output_type": "stream",
     "text": [
      "Accuracy of the network on the 10000 test images: 3 %\n"
     ]
    },
    {
     "name": "stderr",
     "output_type": "stream",
     "text": [
      "\n",
      "2719it [08:18,  5.46it/s]\n",
      "  0%|          | 0/10 [00:00<?, ?it/s]"
     ]
    },
    {
     "name": "stdout",
     "output_type": "stream",
     "text": [
      "epoch: 1 3  batch\n",
      "Accuracy of     0 : 23 %\n",
      "Accuracy of     1 : 23 %\n",
      "Accuracy of     2 : 12 %\n",
      "Accuracy of     3 : 44 %\n",
      "Accuracy of     4 : 26 %\n",
      "Accuracy of     5 : 39 %\n",
      "Accuracy of     6 : 49 %\n",
      "Accuracy of     7 : 49 %\n",
      "Accuracy of     8 : 44 %\n",
      "Accuracy of     9 : 43 %\n",
      "Accuracy of    10 : 83 %\n",
      "Accuracy of    11 : 82 %\n",
      "Accuracy of    12 : 39 %\n",
      "Accuracy of    13 : 46 %\n",
      "Accuracy of    14 : 25 %\n",
      "Accuracy of    15 : 13 %\n",
      "Accuracy of    16 : 35 %\n",
      "Accuracy of    17 : 11 %\n",
      "Accuracy of    18 : 73 %\n",
      "Accuracy of    19 : 50 %\n",
      "Accuracy of    20 : 33 %\n",
      "Accuracy of    21 : 45 %\n",
      "Accuracy of    22 : 30 %\n",
      "Accuracy of    23 : 45 %\n",
      "Accuracy of    24 : 56 %\n",
      "Accuracy of    25 : 40 %\n",
      "Accuracy of    26 : 21 %\n",
      "Accuracy of    27 : 22 %\n",
      "Accuracy of    28 : 34 %\n",
      "Accuracy of    29 : 48 %\n",
      "Accuracy of    30 :  7 %\n",
      "Accuracy of    31 : 61 %\n",
      "Accuracy of    32 : 52 %\n",
      "Accuracy of    33 : 33 %\n",
      "Accuracy of    34 : 27 %\n",
      "Accuracy of    35 : 51 %\n",
      "Accuracy of    36 : 87 %\n",
      "Accuracy of    37 : 66 %\n",
      "Accuracy of    38 : 72 %\n",
      "Accuracy of    39 : 35 %\n",
      "Accuracy of    40 : 30 %\n",
      "Accuracy of    41 : 17 %\n",
      "Accuracy of    42 : 22 %\n",
      "Accuracy of    43 : 30 %\n",
      "Accuracy of    44 : 55 %\n",
      "Accuracy of    45 : 29 %\n",
      "Accuracy of    46 : 22 %\n",
      "Accuracy of    47 : 56 %\n",
      "Accuracy of    48 : 38 %\n",
      "Accuracy of    49 : 69 %\n",
      "Accuracy of    50 : 42 %\n",
      "Accuracy of    51 : 39 %\n",
      "Accuracy of    52 : 37 %\n",
      "Accuracy of    53 : 50 %\n",
      "Accuracy of    54 : 39 %\n",
      "Accuracy of    55 : 31 %\n",
      "Accuracy of    56 : 29 %\n",
      "Accuracy of    57 : 47 %\n",
      "epoch: 2/20 | step: 58/2719 | trn loss: 2.1617 | val loss: 2.5497\n",
      "Accuracy of the network on the 10000 test images: 33 %\n"
     ]
    },
    {
     "name": "stderr",
     "output_type": "stream",
     "text": [
      "\r",
      " 10%|█         | 1/10 [02:05<18:52, 125.83s/it]"
     ]
    },
    {
     "name": "stdout",
     "output_type": "stream",
     "text": [
      "Accuracy of the network on the 10000 test images: 3 %\n"
     ]
    },
    {
     "name": "stderr",
     "output_type": "stream",
     "text": [
      "\r",
      " 20%|██        | 2/10 [04:06<16:33, 124.19s/it]"
     ]
    },
    {
     "name": "stdout",
     "output_type": "stream",
     "text": [
      "Accuracy of the network on the 10000 test images: 3 %\n"
     ]
    },
    {
     "name": "stderr",
     "output_type": "stream",
     "text": [
      "\r",
      " 30%|███       | 3/10 [06:01<14:10, 121.43s/it]"
     ]
    },
    {
     "name": "stdout",
     "output_type": "stream",
     "text": [
      "Accuracy of the network on the 10000 test images: 3 %\n"
     ]
    },
    {
     "name": "stderr",
     "output_type": "stream",
     "text": [
      "\r",
      " 40%|████      | 4/10 [07:38<11:25, 114.23s/it]"
     ]
    },
    {
     "name": "stdout",
     "output_type": "stream",
     "text": [
      "Accuracy of the network on the 10000 test images: 3 %\n"
     ]
    },
    {
     "name": "stderr",
     "output_type": "stream",
     "text": [
      "\r",
      " 50%|█████     | 5/10 [08:53<08:31, 102.38s/it]"
     ]
    },
    {
     "name": "stdout",
     "output_type": "stream",
     "text": [
      "Accuracy of the network on the 10000 test images: 4 %\n"
     ]
    },
    {
     "name": "stderr",
     "output_type": "stream",
     "text": [
      "\r",
      " 60%|██████    | 6/10 [09:49<05:53, 88.45s/it] "
     ]
    },
    {
     "name": "stdout",
     "output_type": "stream",
     "text": [
      "Accuracy of the network on the 10000 test images: 4 %\n"
     ]
    },
    {
     "name": "stderr",
     "output_type": "stream",
     "text": [
      "\r",
      " 70%|███████   | 7/10 [10:33<03:45, 75.09s/it]"
     ]
    },
    {
     "name": "stdout",
     "output_type": "stream",
     "text": [
      "Accuracy of the network on the 10000 test images: 5 %\n"
     ]
    },
    {
     "name": "stderr",
     "output_type": "stream",
     "text": [
      "\r",
      " 80%|████████  | 8/10 [11:11<02:08, 64.10s/it]"
     ]
    },
    {
     "name": "stdout",
     "output_type": "stream",
     "text": [
      "Accuracy of the network on the 10000 test images: 5 %\n"
     ]
    },
    {
     "name": "stderr",
     "output_type": "stream",
     "text": [
      "\r",
      " 90%|█████████ | 9/10 [11:47<00:55, 55.52s/it]"
     ]
    },
    {
     "name": "stdout",
     "output_type": "stream",
     "text": [
      "Accuracy of the network on the 10000 test images: 6 %\n"
     ]
    },
    {
     "name": "stderr",
     "output_type": "stream",
     "text": [
      "100%|██████████| 10/10 [12:21<00:00, 74.14s/it]"
     ]
    },
    {
     "name": "stdout",
     "output_type": "stream",
     "text": [
      "Accuracy of the network on the 10000 test images: 7 %\n"
     ]
    },
    {
     "name": "stderr",
     "output_type": "stream",
     "text": [
      "\n",
      "2719it [08:09,  5.55it/s]\n",
      "  0%|          | 0/10 [00:00<?, ?it/s]"
     ]
    },
    {
     "name": "stdout",
     "output_type": "stream",
     "text": [
      "epoch: 2 3  batch\n",
      "Accuracy of     0 : 32 %\n",
      "Accuracy of     1 : 32 %\n",
      "Accuracy of     2 : 13 %\n",
      "Accuracy of     3 : 50 %\n",
      "Accuracy of     4 : 18 %\n",
      "Accuracy of     5 : 29 %\n",
      "Accuracy of     6 : 20 %\n",
      "Accuracy of     7 : 26 %\n",
      "Accuracy of     8 : 45 %\n",
      "Accuracy of     9 : 63 %\n",
      "Accuracy of    10 : 88 %\n",
      "Accuracy of    11 : 79 %\n",
      "Accuracy of    12 : 29 %\n",
      "Accuracy of    13 : 47 %\n",
      "Accuracy of    14 : 43 %\n",
      "Accuracy of    15 :  9 %\n",
      "Accuracy of    16 : 35 %\n",
      "Accuracy of    17 :  9 %\n",
      "Accuracy of    18 : 50 %\n",
      "Accuracy of    19 : 39 %\n",
      "Accuracy of    20 : 49 %\n",
      "Accuracy of    21 : 44 %\n",
      "Accuracy of    22 : 23 %\n",
      "Accuracy of    23 : 30 %\n",
      "Accuracy of    24 : 51 %\n",
      "Accuracy of    25 : 45 %\n",
      "Accuracy of    26 : 35 %\n",
      "Accuracy of    27 : 19 %\n",
      "Accuracy of    28 :  5 %\n",
      "Accuracy of    29 : 56 %\n",
      "Accuracy of    30 : 28 %\n",
      "Accuracy of    31 : 22 %\n",
      "Accuracy of    32 : 52 %\n",
      "Accuracy of    33 : 55 %\n",
      "Accuracy of    34 : 25 %\n",
      "Accuracy of    35 : 44 %\n",
      "Accuracy of    36 : 82 %\n",
      "Accuracy of    37 : 50 %\n",
      "Accuracy of    38 : 38 %\n",
      "Accuracy of    39 : 67 %\n",
      "Accuracy of    40 : 21 %\n",
      "Accuracy of    41 : 16 %\n",
      "Accuracy of    42 :  3 %\n",
      "Accuracy of    43 : 49 %\n",
      "Accuracy of    44 : 54 %\n",
      "Accuracy of    45 : 52 %\n",
      "Accuracy of    46 : 31 %\n",
      "Accuracy of    47 : 65 %\n",
      "Accuracy of    48 : 55 %\n",
      "Accuracy of    49 : 73 %\n",
      "Accuracy of    50 : 31 %\n",
      "Accuracy of    51 : 65 %\n",
      "Accuracy of    52 : 25 %\n",
      "Accuracy of    53 : 51 %\n",
      "Accuracy of    54 : 46 %\n",
      "Accuracy of    55 : 55 %\n",
      "Accuracy of    56 : 43 %\n",
      "Accuracy of    57 : 39 %\n",
      "epoch: 3/20 | step: 58/2719 | trn loss: 1.7595 | val loss: 2.4312\n",
      "Accuracy of the network on the 10000 test images: 35 %\n"
     ]
    },
    {
     "name": "stderr",
     "output_type": "stream",
     "text": [
      "\r",
      " 10%|█         | 1/10 [02:02<18:20, 122.26s/it]"
     ]
    },
    {
     "name": "stdout",
     "output_type": "stream",
     "text": [
      "Accuracy of the network on the 10000 test images: 3 %\n"
     ]
    },
    {
     "name": "stderr",
     "output_type": "stream",
     "text": [
      "\r",
      " 20%|██        | 2/10 [04:05<16:20, 122.52s/it]"
     ]
    },
    {
     "name": "stdout",
     "output_type": "stream",
     "text": [
      "Accuracy of the network on the 10000 test images: 3 %\n"
     ]
    },
    {
     "name": "stderr",
     "output_type": "stream",
     "text": [
      "\r",
      " 30%|███       | 3/10 [05:58<13:58, 119.76s/it]"
     ]
    },
    {
     "name": "stdout",
     "output_type": "stream",
     "text": [
      "Accuracy of the network on the 10000 test images: 3 %\n"
     ]
    },
    {
     "name": "stderr",
     "output_type": "stream",
     "text": [
      "\r",
      " 40%|████      | 4/10 [07:33<11:14, 112.39s/it]"
     ]
    },
    {
     "name": "stdout",
     "output_type": "stream",
     "text": [
      "Accuracy of the network on the 10000 test images: 4 %\n"
     ]
    },
    {
     "name": "stderr",
     "output_type": "stream",
     "text": [
      "\r",
      " 50%|█████     | 5/10 [08:48<08:24, 100.91s/it]"
     ]
    },
    {
     "name": "stdout",
     "output_type": "stream",
     "text": [
      "Accuracy of the network on the 10000 test images: 4 %\n"
     ]
    },
    {
     "name": "stderr",
     "output_type": "stream",
     "text": [
      "\r",
      " 60%|██████    | 6/10 [09:42<05:48, 87.02s/it] "
     ]
    },
    {
     "name": "stdout",
     "output_type": "stream",
     "text": [
      "Accuracy of the network on the 10000 test images: 4 %\n"
     ]
    },
    {
     "name": "stderr",
     "output_type": "stream",
     "text": [
      "\r",
      " 70%|███████   | 7/10 [10:26<03:42, 74.14s/it]"
     ]
    },
    {
     "name": "stdout",
     "output_type": "stream",
     "text": [
      "Accuracy of the network on the 10000 test images: 5 %\n"
     ]
    },
    {
     "name": "stderr",
     "output_type": "stream",
     "text": [
      "\r",
      " 80%|████████  | 8/10 [11:05<02:06, 63.40s/it]"
     ]
    },
    {
     "name": "stdout",
     "output_type": "stream",
     "text": [
      "Accuracy of the network on the 10000 test images: 6 %\n"
     ]
    },
    {
     "name": "stderr",
     "output_type": "stream",
     "text": [
      "\r",
      " 90%|█████████ | 9/10 [11:41<00:55, 55.35s/it]"
     ]
    },
    {
     "name": "stdout",
     "output_type": "stream",
     "text": [
      "Accuracy of the network on the 10000 test images: 8 %\n"
     ]
    },
    {
     "name": "stderr",
     "output_type": "stream",
     "text": [
      "100%|██████████| 10/10 [12:16<00:00, 73.66s/it]"
     ]
    },
    {
     "name": "stdout",
     "output_type": "stream",
     "text": [
      "Accuracy of the network on the 10000 test images: 10 %\n"
     ]
    },
    {
     "name": "stderr",
     "output_type": "stream",
     "text": [
      "\n",
      "2719it [08:16,  5.48it/s]\n",
      "  0%|          | 0/10 [00:00<?, ?it/s]"
     ]
    },
    {
     "name": "stdout",
     "output_type": "stream",
     "text": [
      "epoch: 3 3  batch\n",
      "Accuracy of     0 : 45 %\n",
      "Accuracy of     1 : 44 %\n",
      "Accuracy of     2 : 30 %\n",
      "Accuracy of     3 : 55 %\n",
      "Accuracy of     4 : 27 %\n",
      "Accuracy of     5 : 40 %\n",
      "Accuracy of     6 : 40 %\n",
      "Accuracy of     7 : 78 %\n",
      "Accuracy of     8 : 30 %\n",
      "Accuracy of     9 : 77 %\n",
      "Accuracy of    10 : 87 %\n",
      "Accuracy of    11 : 80 %\n",
      "Accuracy of    12 : 25 %\n",
      "Accuracy of    13 : 58 %\n",
      "Accuracy of    14 : 67 %\n",
      "Accuracy of    15 : 30 %\n",
      "Accuracy of    16 : 51 %\n",
      "Accuracy of    17 : 30 %\n",
      "Accuracy of    18 : 68 %\n",
      "Accuracy of    19 : 50 %\n",
      "Accuracy of    20 : 70 %\n",
      "Accuracy of    21 : 67 %\n",
      "Accuracy of    22 : 38 %\n",
      "Accuracy of    23 : 65 %\n",
      "Accuracy of    24 : 47 %\n",
      "Accuracy of    25 : 41 %\n",
      "Accuracy of    26 : 32 %\n",
      "Accuracy of    27 : 39 %\n",
      "Accuracy of    28 : 13 %\n",
      "Accuracy of    29 : 63 %\n",
      "Accuracy of    30 : 16 %\n",
      "Accuracy of    31 : 23 %\n",
      "Accuracy of    32 : 49 %\n",
      "Accuracy of    33 : 55 %\n",
      "Accuracy of    34 : 48 %\n",
      "Accuracy of    35 : 52 %\n",
      "Accuracy of    36 : 92 %\n",
      "Accuracy of    37 : 63 %\n",
      "Accuracy of    38 : 65 %\n",
      "Accuracy of    39 : 40 %\n",
      "Accuracy of    40 : 42 %\n",
      "Accuracy of    41 :  8 %\n",
      "Accuracy of    42 : 24 %\n",
      "Accuracy of    43 : 43 %\n",
      "Accuracy of    44 : 62 %\n",
      "Accuracy of    45 : 51 %\n",
      "Accuracy of    46 : 22 %\n",
      "Accuracy of    47 : 73 %\n",
      "Accuracy of    48 : 63 %\n",
      "Accuracy of    49 : 67 %\n",
      "Accuracy of    50 : 52 %\n",
      "Accuracy of    51 : 53 %\n",
      "Accuracy of    52 : 26 %\n",
      "Accuracy of    53 : 55 %\n",
      "Accuracy of    54 : 59 %\n",
      "Accuracy of    55 : 29 %\n",
      "Accuracy of    56 : 58 %\n",
      "Accuracy of    57 : 36 %\n",
      "epoch: 4/20 | step: 58/2719 | trn loss: 1.5163 | val loss: 2.0168\n",
      "Accuracy of the network on the 10000 test images: 46 %\n"
     ]
    },
    {
     "name": "stderr",
     "output_type": "stream",
     "text": [
      "\r",
      " 10%|█         | 1/10 [02:02<18:22, 122.46s/it]"
     ]
    },
    {
     "name": "stdout",
     "output_type": "stream",
     "text": [
      "Accuracy of the network on the 10000 test images: 5 %\n"
     ]
    },
    {
     "name": "stderr",
     "output_type": "stream",
     "text": [
      "\r",
      " 20%|██        | 2/10 [04:00<16:09, 121.22s/it]"
     ]
    },
    {
     "name": "stdout",
     "output_type": "stream",
     "text": [
      "Accuracy of the network on the 10000 test images: 5 %\n"
     ]
    },
    {
     "name": "stderr",
     "output_type": "stream",
     "text": [
      "\r",
      " 30%|███       | 3/10 [05:56<13:56, 119.47s/it]"
     ]
    },
    {
     "name": "stdout",
     "output_type": "stream",
     "text": [
      "Accuracy of the network on the 10000 test images: 5 %\n"
     ]
    },
    {
     "name": "stderr",
     "output_type": "stream",
     "text": [
      "\r",
      " 40%|████      | 4/10 [07:31<11:13, 112.21s/it]"
     ]
    },
    {
     "name": "stdout",
     "output_type": "stream",
     "text": [
      "Accuracy of the network on the 10000 test images: 5 %\n"
     ]
    },
    {
     "name": "stderr",
     "output_type": "stream",
     "text": [
      "\r",
      " 50%|█████     | 5/10 [08:45<08:23, 100.65s/it]"
     ]
    },
    {
     "name": "stdout",
     "output_type": "stream",
     "text": [
      "Accuracy of the network on the 10000 test images: 6 %\n"
     ]
    },
    {
     "name": "stderr",
     "output_type": "stream",
     "text": [
      "\r",
      " 60%|██████    | 6/10 [09:40<05:48, 87.09s/it] "
     ]
    },
    {
     "name": "stdout",
     "output_type": "stream",
     "text": [
      "Accuracy of the network on the 10000 test images: 6 %\n"
     ]
    },
    {
     "name": "stderr",
     "output_type": "stream",
     "text": [
      "\r",
      " 70%|███████   | 7/10 [10:24<03:42, 74.07s/it]"
     ]
    },
    {
     "name": "stdout",
     "output_type": "stream",
     "text": [
      "Accuracy of the network on the 10000 test images: 7 %\n"
     ]
    },
    {
     "name": "stderr",
     "output_type": "stream",
     "text": [
      "\r",
      " 80%|████████  | 8/10 [11:02<02:06, 63.44s/it]"
     ]
    },
    {
     "name": "stdout",
     "output_type": "stream",
     "text": [
      "Accuracy of the network on the 10000 test images: 8 %\n"
     ]
    },
    {
     "name": "stderr",
     "output_type": "stream",
     "text": [
      "\r",
      " 90%|█████████ | 9/10 [11:39<00:55, 55.28s/it]"
     ]
    },
    {
     "name": "stdout",
     "output_type": "stream",
     "text": [
      "Accuracy of the network on the 10000 test images: 10 %\n"
     ]
    },
    {
     "name": "stderr",
     "output_type": "stream",
     "text": [
      "100%|██████████| 10/10 [12:13<00:00, 73.40s/it]"
     ]
    },
    {
     "name": "stdout",
     "output_type": "stream",
     "text": [
      "Accuracy of the network on the 10000 test images: 14 %\n"
     ]
    },
    {
     "name": "stderr",
     "output_type": "stream",
     "text": [
      "\n",
      "2719it [08:50,  5.12it/s]\n",
      "  0%|          | 0/10 [00:00<?, ?it/s]"
     ]
    },
    {
     "name": "stdout",
     "output_type": "stream",
     "text": [
      "epoch: 4 3  batch\n",
      "Accuracy of     0 : 35 %\n",
      "Accuracy of     1 : 64 %\n",
      "Accuracy of     2 : 36 %\n",
      "Accuracy of     3 : 53 %\n",
      "Accuracy of     4 : 50 %\n",
      "Accuracy of     5 : 60 %\n",
      "Accuracy of     6 : 51 %\n",
      "Accuracy of     7 : 71 %\n",
      "Accuracy of     8 : 30 %\n",
      "Accuracy of     9 : 83 %\n",
      "Accuracy of    10 : 90 %\n",
      "Accuracy of    11 : 90 %\n",
      "Accuracy of    12 : 45 %\n",
      "Accuracy of    13 : 53 %\n",
      "Accuracy of    14 : 40 %\n",
      "Accuracy of    15 : 26 %\n",
      "Accuracy of    16 : 46 %\n",
      "Accuracy of    17 : 40 %\n",
      "Accuracy of    18 : 64 %\n",
      "Accuracy of    19 : 54 %\n",
      "Accuracy of    20 : 64 %\n",
      "Accuracy of    21 : 58 %\n",
      "Accuracy of    22 : 51 %\n",
      "Accuracy of    23 : 69 %\n",
      "Accuracy of    24 : 45 %\n",
      "Accuracy of    25 : 57 %\n",
      "Accuracy of    26 : 53 %\n",
      "Accuracy of    27 : 49 %\n",
      "Accuracy of    28 : 11 %\n",
      "Accuracy of    29 : 66 %\n",
      "Accuracy of    30 : 22 %\n",
      "Accuracy of    31 : 44 %\n",
      "Accuracy of    32 : 43 %\n",
      "Accuracy of    33 : 38 %\n",
      "Accuracy of    34 : 50 %\n",
      "Accuracy of    35 : 66 %\n",
      "Accuracy of    36 : 92 %\n",
      "Accuracy of    37 : 51 %\n",
      "Accuracy of    38 : 58 %\n",
      "Accuracy of    39 : 59 %\n",
      "Accuracy of    40 : 55 %\n",
      "Accuracy of    41 : 17 %\n",
      "Accuracy of    42 : 22 %\n",
      "Accuracy of    43 : 54 %\n",
      "Accuracy of    44 : 70 %\n",
      "Accuracy of    45 : 41 %\n",
      "Accuracy of    46 : 28 %\n",
      "Accuracy of    47 : 56 %\n",
      "Accuracy of    48 : 77 %\n",
      "Accuracy of    49 : 68 %\n",
      "Accuracy of    50 : 55 %\n",
      "Accuracy of    51 : 48 %\n",
      "Accuracy of    52 : 65 %\n",
      "Accuracy of    53 : 69 %\n",
      "Accuracy of    54 : 59 %\n",
      "Accuracy of    55 : 25 %\n",
      "Accuracy of    56 : 59 %\n",
      "Accuracy of    57 : 59 %\n",
      "epoch: 5/20 | step: 58/2719 | trn loss: 1.3235 | val loss: 2.0464\n",
      "Accuracy of the network on the 10000 test images: 44 %\n"
     ]
    },
    {
     "name": "stderr",
     "output_type": "stream",
     "text": [
      "\r",
      " 10%|█         | 1/10 [02:03<18:28, 123.11s/it]"
     ]
    },
    {
     "name": "stdout",
     "output_type": "stream",
     "text": [
      "Accuracy of the network on the 10000 test images: 3 %\n"
     ]
    },
    {
     "name": "stderr",
     "output_type": "stream",
     "text": [
      "\r",
      " 20%|██        | 2/10 [04:05<16:23, 122.96s/it]"
     ]
    },
    {
     "name": "stdout",
     "output_type": "stream",
     "text": [
      "Accuracy of the network on the 10000 test images: 3 %\n"
     ]
    },
    {
     "name": "stderr",
     "output_type": "stream",
     "text": [
      "\r",
      " 30%|███       | 3/10 [06:01<14:05, 120.73s/it]"
     ]
    },
    {
     "name": "stdout",
     "output_type": "stream",
     "text": [
      "Accuracy of the network on the 10000 test images: 3 %\n"
     ]
    },
    {
     "name": "stderr",
     "output_type": "stream",
     "text": [
      "\r",
      " 40%|████      | 4/10 [07:37<11:19, 113.26s/it]"
     ]
    },
    {
     "name": "stdout",
     "output_type": "stream",
     "text": [
      "Accuracy of the network on the 10000 test images: 3 %\n"
     ]
    },
    {
     "name": "stderr",
     "output_type": "stream",
     "text": [
      "\r",
      " 50%|█████     | 5/10 [08:51<08:27, 101.51s/it]"
     ]
    },
    {
     "name": "stdout",
     "output_type": "stream",
     "text": [
      "Accuracy of the network on the 10000 test images: 3 %\n"
     ]
    },
    {
     "name": "stderr",
     "output_type": "stream",
     "text": [
      "\r",
      " 60%|██████    | 6/10 [09:46<05:51, 87.77s/it] "
     ]
    },
    {
     "name": "stdout",
     "output_type": "stream",
     "text": [
      "Accuracy of the network on the 10000 test images: 3 %\n"
     ]
    },
    {
     "name": "stderr",
     "output_type": "stream",
     "text": [
      "\r",
      " 70%|███████   | 7/10 [10:31<03:44, 74.71s/it]"
     ]
    },
    {
     "name": "stdout",
     "output_type": "stream",
     "text": [
      "Accuracy of the network on the 10000 test images: 4 %\n"
     ]
    },
    {
     "name": "stderr",
     "output_type": "stream",
     "text": [
      "\r",
      " 80%|████████  | 8/10 [11:09<02:07, 63.85s/it]"
     ]
    },
    {
     "name": "stdout",
     "output_type": "stream",
     "text": [
      "Accuracy of the network on the 10000 test images: 5 %\n"
     ]
    },
    {
     "name": "stderr",
     "output_type": "stream",
     "text": [
      "\r",
      " 90%|█████████ | 9/10 [11:45<00:55, 55.60s/it]"
     ]
    },
    {
     "name": "stdout",
     "output_type": "stream",
     "text": [
      "Accuracy of the network on the 10000 test images: 7 %\n"
     ]
    },
    {
     "name": "stderr",
     "output_type": "stream",
     "text": [
      "100%|██████████| 10/10 [12:21<00:00, 74.12s/it]"
     ]
    },
    {
     "name": "stdout",
     "output_type": "stream",
     "text": [
      "Accuracy of the network on the 10000 test images: 11 %\n"
     ]
    },
    {
     "name": "stderr",
     "output_type": "stream",
     "text": [
      "\n",
      "2719it [08:37,  5.26it/s]\n",
      "  0%|          | 0/10 [00:00<?, ?it/s]"
     ]
    },
    {
     "name": "stdout",
     "output_type": "stream",
     "text": [
      "epoch: 5 3  batch\n",
      "Accuracy of     0 : 51 %\n",
      "Accuracy of     1 : 55 %\n",
      "Accuracy of     2 : 34 %\n",
      "Accuracy of     3 : 57 %\n",
      "Accuracy of     4 : 53 %\n",
      "Accuracy of     5 : 44 %\n",
      "Accuracy of     6 : 53 %\n",
      "Accuracy of     7 : 76 %\n",
      "Accuracy of     8 : 48 %\n",
      "Accuracy of     9 : 71 %\n",
      "Accuracy of    10 : 92 %\n",
      "Accuracy of    11 : 88 %\n",
      "Accuracy of    12 : 42 %\n",
      "Accuracy of    13 : 59 %\n",
      "Accuracy of    14 : 59 %\n",
      "Accuracy of    15 : 35 %\n",
      "Accuracy of    16 : 60 %\n",
      "Accuracy of    17 : 36 %\n",
      "Accuracy of    18 : 60 %\n",
      "Accuracy of    19 : 50 %\n",
      "Accuracy of    20 : 73 %\n",
      "Accuracy of    21 : 59 %\n",
      "Accuracy of    22 : 50 %\n",
      "Accuracy of    23 : 72 %\n",
      "Accuracy of    24 : 41 %\n",
      "Accuracy of    25 : 49 %\n",
      "Accuracy of    26 : 35 %\n",
      "Accuracy of    27 : 39 %\n",
      "Accuracy of    28 :  8 %\n",
      "Accuracy of    29 : 62 %\n",
      "Accuracy of    30 : 18 %\n",
      "Accuracy of    31 : 49 %\n",
      "Accuracy of    32 : 63 %\n",
      "Accuracy of    33 : 60 %\n",
      "Accuracy of    34 : 46 %\n",
      "Accuracy of    35 : 51 %\n",
      "Accuracy of    36 : 84 %\n",
      "Accuracy of    37 : 74 %\n",
      "Accuracy of    38 : 62 %\n",
      "Accuracy of    39 : 67 %\n",
      "Accuracy of    40 : 76 %\n",
      "Accuracy of    41 : 32 %\n",
      "Accuracy of    42 : 34 %\n",
      "Accuracy of    43 : 58 %\n",
      "Accuracy of    44 : 56 %\n",
      "Accuracy of    45 : 62 %\n",
      "Accuracy of    46 : 35 %\n",
      "Accuracy of    47 : 64 %\n",
      "Accuracy of    48 : 70 %\n",
      "Accuracy of    49 : 74 %\n",
      "Accuracy of    50 : 57 %\n",
      "Accuracy of    51 : 53 %\n",
      "Accuracy of    52 : 44 %\n",
      "Accuracy of    53 : 56 %\n",
      "Accuracy of    54 : 57 %\n",
      "Accuracy of    55 : 32 %\n",
      "Accuracy of    56 : 64 %\n",
      "Accuracy of    57 : 57 %\n",
      "epoch: 6/20 | step: 58/2719 | trn loss: 1.1615 | val loss: 1.7781\n",
      "Accuracy of the network on the 10000 test images: 51 %\n"
     ]
    },
    {
     "name": "stderr",
     "output_type": "stream",
     "text": [
      "\r",
      " 10%|█         | 1/10 [02:02<18:23, 122.57s/it]"
     ]
    },
    {
     "name": "stdout",
     "output_type": "stream",
     "text": [
      "Accuracy of the network on the 10000 test images: 3 %\n"
     ]
    },
    {
     "name": "stderr",
     "output_type": "stream",
     "text": [
      "\r",
      " 20%|██        | 2/10 [04:02<16:14, 121.83s/it]"
     ]
    },
    {
     "name": "stdout",
     "output_type": "stream",
     "text": [
      "Accuracy of the network on the 10000 test images: 4 %\n"
     ]
    },
    {
     "name": "stderr",
     "output_type": "stream",
     "text": [
      "\r",
      " 30%|███       | 3/10 [05:58<13:59, 119.98s/it]"
     ]
    },
    {
     "name": "stdout",
     "output_type": "stream",
     "text": [
      "Accuracy of the network on the 10000 test images: 4 %\n"
     ]
    },
    {
     "name": "stderr",
     "output_type": "stream",
     "text": [
      "\r",
      " 40%|████      | 4/10 [07:35<11:18, 113.13s/it]"
     ]
    },
    {
     "name": "stdout",
     "output_type": "stream",
     "text": [
      "Accuracy of the network on the 10000 test images: 4 %\n"
     ]
    },
    {
     "name": "stderr",
     "output_type": "stream",
     "text": [
      "\r",
      " 50%|█████     | 5/10 [08:50<08:28, 101.66s/it]"
     ]
    },
    {
     "name": "stdout",
     "output_type": "stream",
     "text": [
      "Accuracy of the network on the 10000 test images: 5 %\n"
     ]
    },
    {
     "name": "stderr",
     "output_type": "stream",
     "text": [
      "\r",
      " 60%|██████    | 6/10 [09:46<05:51, 87.98s/it] "
     ]
    },
    {
     "name": "stdout",
     "output_type": "stream",
     "text": [
      "Accuracy of the network on the 10000 test images: 5 %\n"
     ]
    },
    {
     "name": "stderr",
     "output_type": "stream",
     "text": [
      "\r",
      " 70%|███████   | 7/10 [10:30<03:44, 74.83s/it]"
     ]
    },
    {
     "name": "stdout",
     "output_type": "stream",
     "text": [
      "Accuracy of the network on the 10000 test images: 6 %\n"
     ]
    },
    {
     "name": "stderr",
     "output_type": "stream",
     "text": [
      "\r",
      " 80%|████████  | 8/10 [11:09<02:07, 63.91s/it]"
     ]
    },
    {
     "name": "stdout",
     "output_type": "stream",
     "text": [
      "Accuracy of the network on the 10000 test images: 8 %\n"
     ]
    },
    {
     "name": "stderr",
     "output_type": "stream",
     "text": [
      "\r",
      " 90%|█████████ | 9/10 [11:45<00:55, 55.65s/it]"
     ]
    },
    {
     "name": "stdout",
     "output_type": "stream",
     "text": [
      "Accuracy of the network on the 10000 test images: 11 %\n"
     ]
    },
    {
     "name": "stderr",
     "output_type": "stream",
     "text": [
      "100%|██████████| 10/10 [12:20<00:00, 74.07s/it]"
     ]
    },
    {
     "name": "stdout",
     "output_type": "stream",
     "text": [
      "Accuracy of the network on the 10000 test images: 15 %\n"
     ]
    },
    {
     "name": "stderr",
     "output_type": "stream",
     "text": [
      "\n",
      "2719it [08:31,  5.31it/s]\n",
      "  0%|          | 0/10 [00:00<?, ?it/s]"
     ]
    },
    {
     "name": "stdout",
     "output_type": "stream",
     "text": [
      "epoch: 6 3  batch\n",
      "Accuracy of     0 : 33 %\n",
      "Accuracy of     1 : 45 %\n",
      "Accuracy of     2 : 31 %\n",
      "Accuracy of     3 : 68 %\n",
      "Accuracy of     4 : 40 %\n",
      "Accuracy of     5 : 42 %\n",
      "Accuracy of     6 : 61 %\n",
      "Accuracy of     7 : 68 %\n",
      "Accuracy of     8 : 63 %\n",
      "Accuracy of     9 : 57 %\n",
      "Accuracy of    10 : 82 %\n",
      "Accuracy of    11 : 81 %\n",
      "Accuracy of    12 : 42 %\n",
      "Accuracy of    13 : 55 %\n",
      "Accuracy of    14 : 70 %\n",
      "Accuracy of    15 : 31 %\n",
      "Accuracy of    16 : 48 %\n",
      "Accuracy of    17 : 33 %\n",
      "Accuracy of    18 : 64 %\n",
      "Accuracy of    19 : 59 %\n",
      "Accuracy of    20 : 78 %\n",
      "Accuracy of    21 : 63 %\n",
      "Accuracy of    22 : 59 %\n",
      "Accuracy of    23 : 59 %\n",
      "Accuracy of    24 : 54 %\n",
      "Accuracy of    25 : 53 %\n",
      "Accuracy of    26 : 39 %\n",
      "Accuracy of    27 : 38 %\n",
      "Accuracy of    28 : 21 %\n",
      "Accuracy of    29 : 81 %\n",
      "Accuracy of    30 : 35 %\n",
      "Accuracy of    31 : 38 %\n",
      "Accuracy of    32 : 51 %\n",
      "Accuracy of    33 : 52 %\n",
      "Accuracy of    34 : 49 %\n",
      "Accuracy of    35 : 50 %\n",
      "Accuracy of    36 : 94 %\n",
      "Accuracy of    37 : 76 %\n",
      "Accuracy of    38 : 70 %\n",
      "Accuracy of    39 : 55 %\n",
      "Accuracy of    40 : 56 %\n",
      "Accuracy of    41 : 42 %\n",
      "Accuracy of    42 : 29 %\n",
      "Accuracy of    43 : 35 %\n",
      "Accuracy of    44 : 67 %\n",
      "Accuracy of    45 : 60 %\n",
      "Accuracy of    46 : 50 %\n",
      "Accuracy of    47 : 67 %\n",
      "Accuracy of    48 : 52 %\n",
      "Accuracy of    49 : 73 %\n",
      "Accuracy of    50 : 66 %\n",
      "Accuracy of    51 : 53 %\n",
      "Accuracy of    52 : 50 %\n",
      "Accuracy of    53 : 75 %\n",
      "Accuracy of    54 : 57 %\n",
      "Accuracy of    55 : 29 %\n",
      "Accuracy of    56 : 65 %\n",
      "Accuracy of    57 : 56 %\n",
      "epoch: 7/20 | step: 58/2719 | trn loss: 1.0236 | val loss: 2.0207\n",
      "Accuracy of the network on the 10000 test images: 47 %\n"
     ]
    },
    {
     "name": "stderr",
     "output_type": "stream",
     "text": [
      "\r",
      " 10%|█         | 1/10 [02:04<18:38, 124.26s/it]"
     ]
    },
    {
     "name": "stdout",
     "output_type": "stream",
     "text": [
      "Accuracy of the network on the 10000 test images: 2 %\n"
     ]
    },
    {
     "name": "stderr",
     "output_type": "stream",
     "text": [
      "\r",
      " 20%|██        | 2/10 [04:06<16:28, 123.60s/it]"
     ]
    },
    {
     "name": "stdout",
     "output_type": "stream",
     "text": [
      "Accuracy of the network on the 10000 test images: 2 %\n"
     ]
    },
    {
     "name": "stderr",
     "output_type": "stream",
     "text": [
      "\r",
      " 30%|███       | 3/10 [06:01<14:08, 121.21s/it]"
     ]
    },
    {
     "name": "stdout",
     "output_type": "stream",
     "text": [
      "Accuracy of the network on the 10000 test images: 2 %\n"
     ]
    },
    {
     "name": "stderr",
     "output_type": "stream",
     "text": [
      "\r",
      " 40%|████      | 4/10 [07:38<11:23, 113.93s/it]"
     ]
    },
    {
     "name": "stdout",
     "output_type": "stream",
     "text": [
      "Accuracy of the network on the 10000 test images: 3 %\n"
     ]
    },
    {
     "name": "stderr",
     "output_type": "stream",
     "text": [
      "\r",
      " 50%|█████     | 5/10 [08:53<08:31, 102.26s/it]"
     ]
    },
    {
     "name": "stdout",
     "output_type": "stream",
     "text": [
      "Accuracy of the network on the 10000 test images: 3 %\n"
     ]
    },
    {
     "name": "stderr",
     "output_type": "stream",
     "text": [
      "\r",
      " 60%|██████    | 6/10 [09:49<05:52, 88.25s/it] "
     ]
    },
    {
     "name": "stdout",
     "output_type": "stream",
     "text": [
      "Accuracy of the network on the 10000 test images: 3 %\n"
     ]
    },
    {
     "name": "stderr",
     "output_type": "stream",
     "text": [
      "\r",
      " 70%|███████   | 7/10 [10:33<03:45, 75.05s/it]"
     ]
    },
    {
     "name": "stdout",
     "output_type": "stream",
     "text": [
      "Accuracy of the network on the 10000 test images: 3 %\n"
     ]
    },
    {
     "name": "stderr",
     "output_type": "stream",
     "text": [
      "\r",
      " 80%|████████  | 8/10 [11:12<02:08, 64.08s/it]"
     ]
    },
    {
     "name": "stdout",
     "output_type": "stream",
     "text": [
      "Accuracy of the network on the 10000 test images: 4 %\n"
     ]
    },
    {
     "name": "stderr",
     "output_type": "stream",
     "text": [
      "\r",
      " 90%|█████████ | 9/10 [11:48<00:55, 55.83s/it]"
     ]
    },
    {
     "name": "stdout",
     "output_type": "stream",
     "text": [
      "Accuracy of the network on the 10000 test images: 6 %\n"
     ]
    },
    {
     "name": "stderr",
     "output_type": "stream",
     "text": [
      "100%|██████████| 10/10 [12:24<00:00, 74.46s/it]"
     ]
    },
    {
     "name": "stdout",
     "output_type": "stream",
     "text": [
      "Accuracy of the network on the 10000 test images: 10 %\n"
     ]
    },
    {
     "name": "stderr",
     "output_type": "stream",
     "text": [
      "\n",
      "2719it [08:29,  5.33it/s]\n",
      "  0%|          | 0/10 [00:00<?, ?it/s]"
     ]
    },
    {
     "name": "stdout",
     "output_type": "stream",
     "text": [
      "epoch: 7 3  batch\n",
      "Accuracy of     0 : 48 %\n",
      "Accuracy of     1 : 46 %\n",
      "Accuracy of     2 : 32 %\n",
      "Accuracy of     3 : 50 %\n",
      "Accuracy of     4 : 54 %\n",
      "Accuracy of     5 : 65 %\n",
      "Accuracy of     6 : 60 %\n",
      "Accuracy of     7 : 57 %\n",
      "Accuracy of     8 : 61 %\n",
      "Accuracy of     9 : 80 %\n",
      "Accuracy of    10 : 90 %\n",
      "Accuracy of    11 : 89 %\n",
      "Accuracy of    12 : 48 %\n",
      "Accuracy of    13 : 57 %\n",
      "Accuracy of    14 : 52 %\n",
      "Accuracy of    15 : 33 %\n",
      "Accuracy of    16 : 55 %\n",
      "Accuracy of    17 : 45 %\n",
      "Accuracy of    18 : 67 %\n",
      "Accuracy of    19 : 54 %\n",
      "Accuracy of    20 : 66 %\n",
      "Accuracy of    21 : 66 %\n",
      "Accuracy of    22 : 53 %\n",
      "Accuracy of    23 : 67 %\n",
      "Accuracy of    24 : 49 %\n",
      "Accuracy of    25 : 50 %\n",
      "Accuracy of    26 : 47 %\n",
      "Accuracy of    27 : 37 %\n",
      "Accuracy of    28 : 21 %\n",
      "Accuracy of    29 : 72 %\n",
      "Accuracy of    30 : 36 %\n",
      "Accuracy of    31 : 46 %\n",
      "Accuracy of    32 : 63 %\n",
      "Accuracy of    33 : 38 %\n",
      "Accuracy of    34 : 41 %\n",
      "Accuracy of    35 : 61 %\n",
      "Accuracy of    36 : 89 %\n",
      "Accuracy of    37 : 76 %\n",
      "Accuracy of    38 : 65 %\n",
      "Accuracy of    39 : 75 %\n",
      "Accuracy of    40 : 58 %\n",
      "Accuracy of    41 : 62 %\n",
      "Accuracy of    42 : 34 %\n",
      "Accuracy of    43 : 47 %\n",
      "Accuracy of    44 : 68 %\n",
      "Accuracy of    45 : 51 %\n",
      "Accuracy of    46 : 39 %\n",
      "Accuracy of    47 : 64 %\n",
      "Accuracy of    48 : 66 %\n",
      "Accuracy of    49 : 67 %\n",
      "Accuracy of    50 : 63 %\n",
      "Accuracy of    51 : 57 %\n",
      "Accuracy of    52 : 56 %\n",
      "Accuracy of    53 : 67 %\n",
      "Accuracy of    54 : 54 %\n",
      "Accuracy of    55 : 46 %\n",
      "Accuracy of    56 : 64 %\n",
      "Accuracy of    57 : 59 %\n",
      "epoch: 8/20 | step: 58/2719 | trn loss: 0.8737 | val loss: 1.8231\n",
      "Accuracy of the network on the 10000 test images: 51 %\n"
     ]
    },
    {
     "name": "stderr",
     "output_type": "stream",
     "text": [
      "\r",
      " 10%|█         | 1/10 [02:02<18:26, 122.98s/it]"
     ]
    },
    {
     "name": "stdout",
     "output_type": "stream",
     "text": [
      "Accuracy of the network on the 10000 test images: 6 %\n"
     ]
    },
    {
     "name": "stderr",
     "output_type": "stream",
     "text": [
      "\r",
      " 20%|██        | 2/10 [04:04<16:19, 122.45s/it]"
     ]
    },
    {
     "name": "stdout",
     "output_type": "stream",
     "text": [
      "Accuracy of the network on the 10000 test images: 6 %\n"
     ]
    },
    {
     "name": "stderr",
     "output_type": "stream",
     "text": [
      "\r",
      " 30%|███       | 3/10 [06:04<14:11, 121.66s/it]"
     ]
    },
    {
     "name": "stdout",
     "output_type": "stream",
     "text": [
      "Accuracy of the network on the 10000 test images: 6 %\n"
     ]
    },
    {
     "name": "stderr",
     "output_type": "stream",
     "text": [
      "\r",
      " 40%|████      | 4/10 [07:42<11:27, 114.63s/it]"
     ]
    },
    {
     "name": "stdout",
     "output_type": "stream",
     "text": [
      "Accuracy of the network on the 10000 test images: 6 %\n"
     ]
    },
    {
     "name": "stderr",
     "output_type": "stream",
     "text": [
      "\r",
      " 50%|█████     | 5/10 [08:56<08:32, 102.55s/it]"
     ]
    },
    {
     "name": "stdout",
     "output_type": "stream",
     "text": [
      "Accuracy of the network on the 10000 test images: 6 %\n"
     ]
    },
    {
     "name": "stderr",
     "output_type": "stream",
     "text": [
      "\r",
      " 60%|██████    | 6/10 [09:53<05:54, 88.73s/it] "
     ]
    },
    {
     "name": "stdout",
     "output_type": "stream",
     "text": [
      "Accuracy of the network on the 10000 test images: 7 %\n"
     ]
    },
    {
     "name": "stderr",
     "output_type": "stream",
     "text": [
      "\r",
      " 70%|███████   | 7/10 [10:37<03:46, 75.43s/it]"
     ]
    },
    {
     "name": "stdout",
     "output_type": "stream",
     "text": [
      "Accuracy of the network on the 10000 test images: 7 %\n"
     ]
    },
    {
     "name": "stderr",
     "output_type": "stream",
     "text": [
      "\r",
      " 80%|████████  | 8/10 [11:16<02:09, 64.54s/it]"
     ]
    },
    {
     "name": "stdout",
     "output_type": "stream",
     "text": [
      "Accuracy of the network on the 10000 test images: 8 %\n"
     ]
    },
    {
     "name": "stderr",
     "output_type": "stream",
     "text": [
      "\r",
      " 90%|█████████ | 9/10 [11:52<00:55, 55.99s/it]"
     ]
    },
    {
     "name": "stdout",
     "output_type": "stream",
     "text": [
      "Accuracy of the network on the 10000 test images: 11 %\n"
     ]
    },
    {
     "name": "stderr",
     "output_type": "stream",
     "text": [
      "100%|██████████| 10/10 [12:27<00:00, 74.73s/it]"
     ]
    },
    {
     "name": "stdout",
     "output_type": "stream",
     "text": [
      "Accuracy of the network on the 10000 test images: 15 %\n"
     ]
    },
    {
     "name": "stderr",
     "output_type": "stream",
     "text": [
      "\n",
      "2719it [08:23,  5.40it/s]\n",
      "  0%|          | 0/10 [00:00<?, ?it/s]"
     ]
    },
    {
     "name": "stdout",
     "output_type": "stream",
     "text": [
      "epoch: 8 3  batch\n",
      "Accuracy of     0 : 51 %\n",
      "Accuracy of     1 : 50 %\n",
      "Accuracy of     2 : 42 %\n",
      "Accuracy of     3 : 60 %\n",
      "Accuracy of     4 : 49 %\n",
      "Accuracy of     5 : 63 %\n",
      "Accuracy of     6 : 57 %\n",
      "Accuracy of     7 : 78 %\n",
      "Accuracy of     8 : 46 %\n",
      "Accuracy of     9 : 82 %\n",
      "Accuracy of    10 : 92 %\n",
      "Accuracy of    11 : 87 %\n",
      "Accuracy of    12 : 31 %\n",
      "Accuracy of    13 : 61 %\n",
      "Accuracy of    14 : 48 %\n",
      "Accuracy of    15 : 30 %\n",
      "Accuracy of    16 : 45 %\n",
      "Accuracy of    17 : 33 %\n",
      "Accuracy of    18 : 64 %\n",
      "Accuracy of    19 : 42 %\n",
      "Accuracy of    20 : 78 %\n",
      "Accuracy of    21 : 69 %\n",
      "Accuracy of    22 : 63 %\n",
      "Accuracy of    23 : 66 %\n",
      "Accuracy of    24 : 52 %\n",
      "Accuracy of    25 : 50 %\n",
      "Accuracy of    26 : 58 %\n",
      "Accuracy of    27 : 30 %\n",
      "Accuracy of    28 : 34 %\n",
      "Accuracy of    29 : 72 %\n",
      "Accuracy of    30 : 46 %\n",
      "Accuracy of    31 : 58 %\n",
      "Accuracy of    32 : 51 %\n",
      "Accuracy of    33 : 44 %\n",
      "Accuracy of    34 : 48 %\n",
      "Accuracy of    35 : 56 %\n",
      "Accuracy of    36 : 93 %\n",
      "Accuracy of    37 : 73 %\n",
      "Accuracy of    38 : 70 %\n",
      "Accuracy of    39 : 66 %\n",
      "Accuracy of    40 : 59 %\n",
      "Accuracy of    41 : 41 %\n",
      "Accuracy of    42 : 47 %\n",
      "Accuracy of    43 : 56 %\n",
      "Accuracy of    44 : 64 %\n",
      "Accuracy of    45 : 31 %\n",
      "Accuracy of    46 : 42 %\n",
      "Accuracy of    47 : 65 %\n",
      "Accuracy of    48 : 60 %\n",
      "Accuracy of    49 : 71 %\n",
      "Accuracy of    50 : 61 %\n",
      "Accuracy of    51 : 59 %\n",
      "Accuracy of    52 : 52 %\n",
      "Accuracy of    53 : 67 %\n",
      "Accuracy of    54 : 63 %\n",
      "Accuracy of    55 : 33 %\n",
      "Accuracy of    56 : 64 %\n",
      "Accuracy of    57 : 70 %\n",
      "epoch: 9/20 | step: 58/2719 | trn loss: 0.7206 | val loss: 1.7406\n",
      "Accuracy of the network on the 10000 test images: 54 %\n"
     ]
    },
    {
     "name": "stderr",
     "output_type": "stream",
     "text": [
      "\r",
      " 10%|█         | 1/10 [02:05<18:49, 125.53s/it]"
     ]
    },
    {
     "name": "stdout",
     "output_type": "stream",
     "text": [
      "Accuracy of the network on the 10000 test images: 5 %\n"
     ]
    },
    {
     "name": "stderr",
     "output_type": "stream",
     "text": [
      "\r",
      " 20%|██        | 2/10 [04:07<16:35, 124.39s/it]"
     ]
    },
    {
     "name": "stdout",
     "output_type": "stream",
     "text": [
      "Accuracy of the network on the 10000 test images: 5 %\n"
     ]
    },
    {
     "name": "stderr",
     "output_type": "stream",
     "text": [
      "\r",
      " 30%|███       | 3/10 [06:05<14:16, 122.42s/it]"
     ]
    },
    {
     "name": "stdout",
     "output_type": "stream",
     "text": [
      "Accuracy of the network on the 10000 test images: 5 %\n"
     ]
    },
    {
     "name": "stderr",
     "output_type": "stream",
     "text": [
      "\r",
      " 40%|████      | 4/10 [07:42<11:28, 114.80s/it]"
     ]
    },
    {
     "name": "stdout",
     "output_type": "stream",
     "text": [
      "Accuracy of the network on the 10000 test images: 5 %\n"
     ]
    },
    {
     "name": "stderr",
     "output_type": "stream",
     "text": [
      "\r",
      " 50%|█████     | 5/10 [08:54<08:30, 102.17s/it]"
     ]
    },
    {
     "name": "stdout",
     "output_type": "stream",
     "text": [
      "Accuracy of the network on the 10000 test images: 6 %\n"
     ]
    },
    {
     "name": "stderr",
     "output_type": "stream",
     "text": [
      "\r",
      " 60%|██████    | 6/10 [09:52<05:54, 88.74s/it] "
     ]
    },
    {
     "name": "stdout",
     "output_type": "stream",
     "text": [
      "Accuracy of the network on the 10000 test images: 6 %\n"
     ]
    },
    {
     "name": "stderr",
     "output_type": "stream",
     "text": [
      "\r",
      " 70%|███████   | 7/10 [10:36<03:45, 75.33s/it]"
     ]
    },
    {
     "name": "stdout",
     "output_type": "stream",
     "text": [
      "Accuracy of the network on the 10000 test images: 7 %\n"
     ]
    },
    {
     "name": "stderr",
     "output_type": "stream",
     "text": [
      "\r",
      " 80%|████████  | 8/10 [11:15<02:08, 64.39s/it]"
     ]
    },
    {
     "name": "stdout",
     "output_type": "stream",
     "text": [
      "Accuracy of the network on the 10000 test images: 9 %\n"
     ]
    },
    {
     "name": "stderr",
     "output_type": "stream",
     "text": [
      "\r",
      " 90%|█████████ | 9/10 [11:51<00:55, 55.92s/it]"
     ]
    },
    {
     "name": "stdout",
     "output_type": "stream",
     "text": [
      "Accuracy of the network on the 10000 test images: 11 %\n"
     ]
    },
    {
     "name": "stderr",
     "output_type": "stream",
     "text": [
      "100%|██████████| 10/10 [12:26<00:00, 74.61s/it]"
     ]
    },
    {
     "name": "stdout",
     "output_type": "stream",
     "text": [
      "Accuracy of the network on the 10000 test images: 16 %\n"
     ]
    },
    {
     "name": "stderr",
     "output_type": "stream",
     "text": [
      "\n",
      "2719it [08:16,  5.48it/s]\n",
      "  0%|          | 0/10 [00:00<?, ?it/s]"
     ]
    },
    {
     "name": "stdout",
     "output_type": "stream",
     "text": [
      "epoch: 9 3  batch\n",
      "Accuracy of     0 : 55 %\n",
      "Accuracy of     1 : 51 %\n",
      "Accuracy of     2 : 41 %\n",
      "Accuracy of     3 : 65 %\n",
      "Accuracy of     4 : 47 %\n",
      "Accuracy of     5 : 59 %\n",
      "Accuracy of     6 : 52 %\n",
      "Accuracy of     7 : 70 %\n",
      "Accuracy of     8 : 47 %\n",
      "Accuracy of     9 : 85 %\n",
      "Accuracy of    10 : 90 %\n",
      "Accuracy of    11 : 87 %\n",
      "Accuracy of    12 : 49 %\n",
      "Accuracy of    13 : 56 %\n",
      "Accuracy of    14 : 44 %\n",
      "Accuracy of    15 : 19 %\n",
      "Accuracy of    16 : 42 %\n",
      "Accuracy of    17 : 55 %\n",
      "Accuracy of    18 : 54 %\n",
      "Accuracy of    19 : 52 %\n",
      "Accuracy of    20 : 68 %\n",
      "Accuracy of    21 : 64 %\n",
      "Accuracy of    22 : 68 %\n",
      "Accuracy of    23 : 50 %\n",
      "Accuracy of    24 : 51 %\n",
      "Accuracy of    25 : 50 %\n",
      "Accuracy of    26 : 29 %\n",
      "Accuracy of    27 : 39 %\n",
      "Accuracy of    28 : 29 %\n",
      "Accuracy of    29 : 82 %\n",
      "Accuracy of    30 : 18 %\n",
      "Accuracy of    31 : 43 %\n",
      "Accuracy of    32 : 62 %\n",
      "Accuracy of    33 : 48 %\n",
      "Accuracy of    34 : 70 %\n",
      "Accuracy of    35 : 63 %\n",
      "Accuracy of    36 : 86 %\n",
      "Accuracy of    37 : 74 %\n",
      "Accuracy of    38 : 69 %\n",
      "Accuracy of    39 : 64 %\n",
      "Accuracy of    40 : 52 %\n",
      "Accuracy of    41 : 32 %\n",
      "Accuracy of    42 : 35 %\n",
      "Accuracy of    43 : 55 %\n",
      "Accuracy of    44 : 63 %\n",
      "Accuracy of    45 : 57 %\n",
      "Accuracy of    46 : 52 %\n",
      "Accuracy of    47 : 61 %\n",
      "Accuracy of    48 : 73 %\n",
      "Accuracy of    49 : 80 %\n",
      "Accuracy of    50 : 64 %\n",
      "Accuracy of    51 : 64 %\n",
      "Accuracy of    52 : 58 %\n",
      "Accuracy of    53 : 52 %\n",
      "Accuracy of    54 : 55 %\n",
      "Accuracy of    55 : 45 %\n",
      "Accuracy of    56 : 62 %\n",
      "Accuracy of    57 : 68 %\n",
      "epoch: 10/20 | step: 58/2719 | trn loss: 0.5701 | val loss: 1.8478\n",
      "Accuracy of the network on the 10000 test images: 53 %\n"
     ]
    },
    {
     "name": "stderr",
     "output_type": "stream",
     "text": [
      "\r",
      " 10%|█         | 1/10 [02:03<18:33, 123.72s/it]"
     ]
    },
    {
     "name": "stdout",
     "output_type": "stream",
     "text": [
      "Accuracy of the network on the 10000 test images: 5 %\n"
     ]
    },
    {
     "name": "stderr",
     "output_type": "stream",
     "text": [
      "\r",
      " 20%|██        | 2/10 [04:03<16:21, 122.63s/it]"
     ]
    },
    {
     "name": "stdout",
     "output_type": "stream",
     "text": [
      "Accuracy of the network on the 10000 test images: 5 %\n"
     ]
    },
    {
     "name": "stderr",
     "output_type": "stream",
     "text": [
      "\r",
      " 30%|███       | 3/10 [05:59<14:03, 120.54s/it]"
     ]
    },
    {
     "name": "stdout",
     "output_type": "stream",
     "text": [
      "Accuracy of the network on the 10000 test images: 5 %\n"
     ]
    },
    {
     "name": "stderr",
     "output_type": "stream",
     "text": [
      "\r",
      " 40%|████      | 4/10 [07:38<11:24, 114.06s/it]"
     ]
    },
    {
     "name": "stdout",
     "output_type": "stream",
     "text": [
      "Accuracy of the network on the 10000 test images: 5 %\n"
     ]
    },
    {
     "name": "stderr",
     "output_type": "stream",
     "text": [
      "\r",
      " 50%|█████     | 5/10 [08:52<08:31, 102.21s/it]"
     ]
    },
    {
     "name": "stdout",
     "output_type": "stream",
     "text": [
      "Accuracy of the network on the 10000 test images: 6 %\n"
     ]
    },
    {
     "name": "stderr",
     "output_type": "stream",
     "text": [
      "\r",
      " 60%|██████    | 6/10 [09:48<05:52, 88.23s/it] "
     ]
    },
    {
     "name": "stdout",
     "output_type": "stream",
     "text": [
      "Accuracy of the network on the 10000 test images: 7 %\n"
     ]
    },
    {
     "name": "stderr",
     "output_type": "stream",
     "text": [
      "\r",
      " 70%|███████   | 7/10 [10:32<03:45, 75.02s/it]"
     ]
    },
    {
     "name": "stdout",
     "output_type": "stream",
     "text": [
      "Accuracy of the network on the 10000 test images: 7 %\n"
     ]
    },
    {
     "name": "stderr",
     "output_type": "stream",
     "text": [
      "\r",
      " 80%|████████  | 8/10 [11:11<02:08, 64.27s/it]"
     ]
    },
    {
     "name": "stdout",
     "output_type": "stream",
     "text": [
      "Accuracy of the network on the 10000 test images: 9 %\n"
     ]
    },
    {
     "name": "stderr",
     "output_type": "stream",
     "text": [
      "\r",
      " 90%|█████████ | 9/10 [11:47<00:55, 55.71s/it]"
     ]
    },
    {
     "name": "stdout",
     "output_type": "stream",
     "text": [
      "Accuracy of the network on the 10000 test images: 12 %\n"
     ]
    },
    {
     "name": "stderr",
     "output_type": "stream",
     "text": [
      "100%|██████████| 10/10 [12:22<00:00, 74.26s/it]"
     ]
    },
    {
     "name": "stdout",
     "output_type": "stream",
     "text": [
      "Accuracy of the network on the 10000 test images: 17 %\n"
     ]
    },
    {
     "name": "stderr",
     "output_type": "stream",
     "text": [
      "\n",
      "2719it [08:21,  5.43it/s]\n",
      "  0%|          | 0/10 [00:00<?, ?it/s]"
     ]
    },
    {
     "name": "stdout",
     "output_type": "stream",
     "text": [
      "epoch: 10 3  batch\n",
      "Accuracy of     0 : 64 %\n",
      "Accuracy of     1 : 60 %\n",
      "Accuracy of     2 : 32 %\n",
      "Accuracy of     3 : 64 %\n",
      "Accuracy of     4 : 55 %\n",
      "Accuracy of     5 : 57 %\n",
      "Accuracy of     6 : 69 %\n",
      "Accuracy of     7 : 65 %\n",
      "Accuracy of     8 : 49 %\n",
      "Accuracy of     9 : 63 %\n",
      "Accuracy of    10 : 92 %\n",
      "Accuracy of    11 : 88 %\n",
      "Accuracy of    12 : 53 %\n",
      "Accuracy of    13 : 56 %\n",
      "Accuracy of    14 : 44 %\n",
      "Accuracy of    15 : 21 %\n",
      "Accuracy of    16 : 43 %\n",
      "Accuracy of    17 : 42 %\n",
      "Accuracy of    18 : 68 %\n",
      "Accuracy of    19 : 52 %\n",
      "Accuracy of    20 : 63 %\n",
      "Accuracy of    21 : 59 %\n",
      "Accuracy of    22 : 48 %\n",
      "Accuracy of    23 : 75 %\n",
      "Accuracy of    24 : 45 %\n",
      "Accuracy of    25 : 51 %\n",
      "Accuracy of    26 : 43 %\n",
      "Accuracy of    27 : 46 %\n",
      "Accuracy of    28 : 16 %\n",
      "Accuracy of    29 : 77 %\n",
      "Accuracy of    30 : 42 %\n",
      "Accuracy of    31 : 52 %\n",
      "Accuracy of    32 : 61 %\n",
      "Accuracy of    33 : 51 %\n",
      "Accuracy of    34 : 43 %\n",
      "Accuracy of    35 : 59 %\n",
      "Accuracy of    36 : 89 %\n",
      "Accuracy of    37 : 75 %\n",
      "Accuracy of    38 : 68 %\n",
      "Accuracy of    39 : 55 %\n",
      "Accuracy of    40 : 55 %\n",
      "Accuracy of    41 : 53 %\n",
      "Accuracy of    42 : 15 %\n",
      "Accuracy of    43 : 32 %\n",
      "Accuracy of    44 : 55 %\n",
      "Accuracy of    45 : 48 %\n",
      "Accuracy of    46 : 42 %\n",
      "Accuracy of    47 : 66 %\n",
      "Accuracy of    48 : 64 %\n",
      "Accuracy of    49 : 78 %\n",
      "Accuracy of    50 : 67 %\n",
      "Accuracy of    51 : 60 %\n",
      "Accuracy of    52 : 52 %\n",
      "Accuracy of    53 : 61 %\n",
      "Accuracy of    54 : 65 %\n",
      "Accuracy of    55 : 40 %\n",
      "Accuracy of    56 : 60 %\n",
      "Accuracy of    57 : 66 %\n",
      "epoch: 11/20 | step: 58/2719 | trn loss: 0.4353 | val loss: 1.9265\n",
      "Accuracy of the network on the 10000 test images: 55 %\n"
     ]
    },
    {
     "name": "stderr",
     "output_type": "stream",
     "text": [
      "\r",
      " 10%|█         | 1/10 [02:03<18:29, 123.26s/it]"
     ]
    },
    {
     "name": "stdout",
     "output_type": "stream",
     "text": [
      "Accuracy of the network on the 10000 test images: 8 %\n"
     ]
    },
    {
     "name": "stderr",
     "output_type": "stream",
     "text": [
      "\r",
      " 20%|██        | 2/10 [04:03<16:19, 122.47s/it]"
     ]
    },
    {
     "name": "stdout",
     "output_type": "stream",
     "text": [
      "Accuracy of the network on the 10000 test images: 8 %\n"
     ]
    },
    {
     "name": "stderr",
     "output_type": "stream",
     "text": [
      "\r",
      " 30%|███       | 3/10 [06:01<14:07, 121.02s/it]"
     ]
    },
    {
     "name": "stdout",
     "output_type": "stream",
     "text": [
      "Accuracy of the network on the 10000 test images: 7 %\n"
     ]
    },
    {
     "name": "stderr",
     "output_type": "stream",
     "text": [
      "\r",
      " 40%|████      | 4/10 [07:40<11:27, 114.51s/it]"
     ]
    },
    {
     "name": "stdout",
     "output_type": "stream",
     "text": [
      "Accuracy of the network on the 10000 test images: 8 %\n"
     ]
    },
    {
     "name": "stderr",
     "output_type": "stream",
     "text": [
      "\r",
      " 50%|█████     | 5/10 [08:53<08:30, 102.04s/it]"
     ]
    },
    {
     "name": "stdout",
     "output_type": "stream",
     "text": [
      "Accuracy of the network on the 10000 test images: 8 %\n"
     ]
    },
    {
     "name": "stderr",
     "output_type": "stream",
     "text": [
      "\r",
      " 60%|██████    | 6/10 [09:50<05:53, 88.42s/it] "
     ]
    },
    {
     "name": "stdout",
     "output_type": "stream",
     "text": [
      "Accuracy of the network on the 10000 test images: 9 %\n"
     ]
    },
    {
     "name": "stderr",
     "output_type": "stream",
     "text": [
      "\r",
      " 70%|███████   | 7/10 [10:35<03:45, 75.28s/it]"
     ]
    },
    {
     "name": "stdout",
     "output_type": "stream",
     "text": [
      "Accuracy of the network on the 10000 test images: 10 %\n"
     ]
    },
    {
     "name": "stderr",
     "output_type": "stream",
     "text": [
      "\r",
      " 80%|████████  | 8/10 [11:13<02:08, 64.30s/it]"
     ]
    },
    {
     "name": "stdout",
     "output_type": "stream",
     "text": [
      "Accuracy of the network on the 10000 test images: 11 %\n"
     ]
    },
    {
     "name": "stderr",
     "output_type": "stream",
     "text": [
      "\r",
      " 90%|█████████ | 9/10 [11:49<00:55, 55.84s/it]"
     ]
    },
    {
     "name": "stdout",
     "output_type": "stream",
     "text": [
      "Accuracy of the network on the 10000 test images: 14 %\n"
     ]
    },
    {
     "name": "stderr",
     "output_type": "stream",
     "text": [
      "100%|██████████| 10/10 [12:25<00:00, 74.50s/it]"
     ]
    },
    {
     "name": "stdout",
     "output_type": "stream",
     "text": [
      "Accuracy of the network on the 10000 test images: 20 %\n"
     ]
    },
    {
     "name": "stderr",
     "output_type": "stream",
     "text": [
      "\n",
      "2719it [08:11,  5.53it/s]\n",
      "  0%|          | 0/10 [00:00<?, ?it/s]"
     ]
    },
    {
     "name": "stdout",
     "output_type": "stream",
     "text": [
      "epoch: 11 3  batch\n",
      "Accuracy of     0 : 56 %\n",
      "Accuracy of     1 : 46 %\n",
      "Accuracy of     2 : 34 %\n",
      "Accuracy of     3 : 78 %\n",
      "Accuracy of     4 : 55 %\n",
      "Accuracy of     5 : 50 %\n",
      "Accuracy of     6 : 52 %\n",
      "Accuracy of     7 : 49 %\n",
      "Accuracy of     8 : 58 %\n",
      "Accuracy of     9 : 81 %\n",
      "Accuracy of    10 : 96 %\n",
      "Accuracy of    11 : 87 %\n",
      "Accuracy of    12 : 48 %\n",
      "Accuracy of    13 : 57 %\n",
      "Accuracy of    14 : 60 %\n",
      "Accuracy of    15 : 30 %\n",
      "Accuracy of    16 : 34 %\n",
      "Accuracy of    17 : 42 %\n",
      "Accuracy of    18 : 68 %\n",
      "Accuracy of    19 : 48 %\n",
      "Accuracy of    20 : 59 %\n",
      "Accuracy of    21 : 64 %\n",
      "Accuracy of    22 : 59 %\n",
      "Accuracy of    23 : 64 %\n",
      "Accuracy of    24 : 49 %\n",
      "Accuracy of    25 : 53 %\n",
      "Accuracy of    26 : 48 %\n",
      "Accuracy of    27 : 54 %\n",
      "Accuracy of    28 : 16 %\n",
      "Accuracy of    29 : 72 %\n",
      "Accuracy of    30 : 28 %\n",
      "Accuracy of    31 : 42 %\n",
      "Accuracy of    32 : 60 %\n",
      "Accuracy of    33 : 48 %\n",
      "Accuracy of    34 : 41 %\n",
      "Accuracy of    35 : 55 %\n",
      "Accuracy of    36 : 89 %\n",
      "Accuracy of    37 : 74 %\n",
      "Accuracy of    38 : 74 %\n",
      "Accuracy of    39 : 54 %\n",
      "Accuracy of    40 : 54 %\n",
      "Accuracy of    41 : 31 %\n",
      "Accuracy of    42 : 27 %\n",
      "Accuracy of    43 : 44 %\n",
      "Accuracy of    44 : 61 %\n",
      "Accuracy of    45 : 60 %\n",
      "Accuracy of    46 : 39 %\n",
      "Accuracy of    47 : 74 %\n",
      "Accuracy of    48 : 66 %\n",
      "Accuracy of    49 : 80 %\n",
      "Accuracy of    50 : 62 %\n",
      "Accuracy of    51 : 69 %\n",
      "Accuracy of    52 : 50 %\n",
      "Accuracy of    53 : 62 %\n",
      "Accuracy of    54 : 64 %\n",
      "Accuracy of    55 : 31 %\n",
      "Accuracy of    56 : 59 %\n",
      "Accuracy of    57 : 65 %\n",
      "epoch: 12/20 | step: 58/2719 | trn loss: 0.3334 | val loss: 2.0138\n",
      "Accuracy of the network on the 10000 test images: 54 %\n"
     ]
    },
    {
     "name": "stderr",
     "output_type": "stream",
     "text": [
      "\r",
      " 10%|█         | 1/10 [02:07<19:07, 127.50s/it]"
     ]
    },
    {
     "name": "stdout",
     "output_type": "stream",
     "text": [
      "Accuracy of the network on the 10000 test images: 6 %\n"
     ]
    },
    {
     "name": "stderr",
     "output_type": "stream",
     "text": [
      "\r",
      " 20%|██        | 2/10 [04:08<16:43, 125.48s/it]"
     ]
    },
    {
     "name": "stdout",
     "output_type": "stream",
     "text": [
      "Accuracy of the network on the 10000 test images: 6 %\n"
     ]
    },
    {
     "name": "stderr",
     "output_type": "stream",
     "text": [
      "\r",
      " 30%|███       | 3/10 [06:03<14:17, 122.52s/it]"
     ]
    },
    {
     "name": "stdout",
     "output_type": "stream",
     "text": [
      "Accuracy of the network on the 10000 test images: 6 %\n"
     ]
    },
    {
     "name": "stderr",
     "output_type": "stream",
     "text": [
      "\r",
      " 40%|████      | 4/10 [07:43<11:33, 115.63s/it]"
     ]
    },
    {
     "name": "stdout",
     "output_type": "stream",
     "text": [
      "Accuracy of the network on the 10000 test images: 6 %\n"
     ]
    },
    {
     "name": "stderr",
     "output_type": "stream",
     "text": [
      "\r",
      " 50%|█████     | 5/10 [08:56<08:34, 102.95s/it]"
     ]
    },
    {
     "name": "stdout",
     "output_type": "stream",
     "text": [
      "Accuracy of the network on the 10000 test images: 7 %\n"
     ]
    },
    {
     "name": "stderr",
     "output_type": "stream",
     "text": [
      "\r",
      " 60%|██████    | 6/10 [09:52<05:55, 88.87s/it] "
     ]
    },
    {
     "name": "stdout",
     "output_type": "stream",
     "text": [
      "Accuracy of the network on the 10000 test images: 7 %\n"
     ]
    },
    {
     "name": "stderr",
     "output_type": "stream",
     "text": [
      "\r",
      " 70%|███████   | 7/10 [10:37<03:46, 75.57s/it]"
     ]
    },
    {
     "name": "stdout",
     "output_type": "stream",
     "text": [
      "Accuracy of the network on the 10000 test images: 8 %\n"
     ]
    },
    {
     "name": "stderr",
     "output_type": "stream",
     "text": [
      "\r",
      " 80%|████████  | 8/10 [11:16<02:09, 64.53s/it]"
     ]
    },
    {
     "name": "stdout",
     "output_type": "stream",
     "text": [
      "Accuracy of the network on the 10000 test images: 10 %\n"
     ]
    },
    {
     "name": "stderr",
     "output_type": "stream",
     "text": [
      "\r",
      " 90%|█████████ | 9/10 [11:52<00:55, 55.96s/it]"
     ]
    },
    {
     "name": "stdout",
     "output_type": "stream",
     "text": [
      "Accuracy of the network on the 10000 test images: 13 %\n"
     ]
    },
    {
     "name": "stderr",
     "output_type": "stream",
     "text": [
      "100%|██████████| 10/10 [12:27<00:00, 74.76s/it]"
     ]
    },
    {
     "name": "stdout",
     "output_type": "stream",
     "text": [
      "Accuracy of the network on the 10000 test images: 17 %\n"
     ]
    },
    {
     "name": "stderr",
     "output_type": "stream",
     "text": [
      "\n",
      "2719it [08:42,  5.21it/s]\n",
      "  0%|          | 0/10 [00:00<?, ?it/s]"
     ]
    },
    {
     "name": "stdout",
     "output_type": "stream",
     "text": [
      "epoch: 12 3  batch\n",
      "Accuracy of     0 : 50 %\n",
      "Accuracy of     1 : 53 %\n",
      "Accuracy of     2 : 42 %\n",
      "Accuracy of     3 : 51 %\n",
      "Accuracy of     4 : 52 %\n",
      "Accuracy of     5 : 53 %\n",
      "Accuracy of     6 : 53 %\n",
      "Accuracy of     7 : 68 %\n",
      "Accuracy of     8 : 42 %\n",
      "Accuracy of     9 : 85 %\n",
      "Accuracy of    10 : 92 %\n",
      "Accuracy of    11 : 86 %\n",
      "Accuracy of    12 : 25 %\n",
      "Accuracy of    13 : 63 %\n",
      "Accuracy of    14 : 47 %\n",
      "Accuracy of    15 : 40 %\n",
      "Accuracy of    16 : 47 %\n",
      "Accuracy of    17 : 48 %\n",
      "Accuracy of    18 : 68 %\n",
      "Accuracy of    19 : 47 %\n",
      "Accuracy of    20 : 78 %\n",
      "Accuracy of    21 : 63 %\n",
      "Accuracy of    22 : 49 %\n",
      "Accuracy of    23 : 63 %\n",
      "Accuracy of    24 : 50 %\n",
      "Accuracy of    25 : 49 %\n",
      "Accuracy of    26 : 46 %\n",
      "Accuracy of    27 : 56 %\n",
      "Accuracy of    28 : 24 %\n",
      "Accuracy of    29 : 83 %\n",
      "Accuracy of    30 : 19 %\n",
      "Accuracy of    31 : 29 %\n",
      "Accuracy of    32 : 58 %\n",
      "Accuracy of    33 : 51 %\n",
      "Accuracy of    34 : 44 %\n",
      "Accuracy of    35 : 54 %\n",
      "Accuracy of    36 : 93 %\n",
      "Accuracy of    37 : 74 %\n",
      "Accuracy of    38 : 56 %\n",
      "Accuracy of    39 : 67 %\n",
      "Accuracy of    40 : 56 %\n",
      "Accuracy of    41 : 35 %\n",
      "Accuracy of    42 : 30 %\n",
      "Accuracy of    43 : 53 %\n",
      "Accuracy of    44 : 72 %\n",
      "Accuracy of    45 : 47 %\n",
      "Accuracy of    46 : 47 %\n",
      "Accuracy of    47 : 65 %\n",
      "Accuracy of    48 : 76 %\n",
      "Accuracy of    49 : 81 %\n",
      "Accuracy of    50 : 59 %\n",
      "Accuracy of    51 : 62 %\n",
      "Accuracy of    52 : 56 %\n",
      "Accuracy of    53 : 63 %\n",
      "Accuracy of    54 : 61 %\n",
      "Accuracy of    55 : 42 %\n",
      "Accuracy of    56 : 70 %\n",
      "Accuracy of    57 : 50 %\n",
      "epoch: 13/20 | step: 58/2719 | trn loss: 0.2633 | val loss: 2.3044\n",
      "Accuracy of the network on the 10000 test images: 51 %\n"
     ]
    },
    {
     "name": "stderr",
     "output_type": "stream",
     "text": [
      "\r",
      " 10%|█         | 1/10 [02:06<18:57, 126.42s/it]"
     ]
    },
    {
     "name": "stdout",
     "output_type": "stream",
     "text": [
      "Accuracy of the network on the 10000 test images: 5 %\n"
     ]
    },
    {
     "name": "stderr",
     "output_type": "stream",
     "text": [
      "\r",
      " 20%|██        | 2/10 [04:08<16:40, 125.12s/it]"
     ]
    },
    {
     "name": "stdout",
     "output_type": "stream",
     "text": [
      "Accuracy of the network on the 10000 test images: 5 %\n"
     ]
    },
    {
     "name": "stderr",
     "output_type": "stream",
     "text": [
      "\r",
      " 30%|███       | 3/10 [06:04<14:16, 122.33s/it]"
     ]
    },
    {
     "name": "stdout",
     "output_type": "stream",
     "text": [
      "Accuracy of the network on the 10000 test images: 5 %\n"
     ]
    },
    {
     "name": "stderr",
     "output_type": "stream",
     "text": [
      "\r",
      " 40%|████      | 4/10 [07:44<11:34, 115.69s/it]"
     ]
    },
    {
     "name": "stdout",
     "output_type": "stream",
     "text": [
      "Accuracy of the network on the 10000 test images: 5 %\n"
     ]
    },
    {
     "name": "stderr",
     "output_type": "stream",
     "text": [
      "\r",
      " 50%|█████     | 5/10 [08:59<08:37, 103.48s/it]"
     ]
    },
    {
     "name": "stdout",
     "output_type": "stream",
     "text": [
      "Accuracy of the network on the 10000 test images: 6 %\n"
     ]
    },
    {
     "name": "stderr",
     "output_type": "stream",
     "text": [
      "\r",
      " 60%|██████    | 6/10 [09:55<05:57, 89.37s/it] "
     ]
    },
    {
     "name": "stdout",
     "output_type": "stream",
     "text": [
      "Accuracy of the network on the 10000 test images: 6 %\n"
     ]
    },
    {
     "name": "stderr",
     "output_type": "stream",
     "text": [
      "\r",
      " 70%|███████   | 7/10 [10:40<03:47, 75.88s/it]"
     ]
    },
    {
     "name": "stdout",
     "output_type": "stream",
     "text": [
      "Accuracy of the network on the 10000 test images: 7 %\n"
     ]
    },
    {
     "name": "stderr",
     "output_type": "stream",
     "text": [
      "\r",
      " 80%|████████  | 8/10 [11:18<02:09, 64.70s/it]"
     ]
    },
    {
     "name": "stdout",
     "output_type": "stream",
     "text": [
      "Accuracy of the network on the 10000 test images: 8 %\n"
     ]
    },
    {
     "name": "stderr",
     "output_type": "stream",
     "text": [
      "\r",
      " 90%|█████████ | 9/10 [11:55<00:56, 56.21s/it]"
     ]
    },
    {
     "name": "stdout",
     "output_type": "stream",
     "text": [
      "Accuracy of the network on the 10000 test images: 11 %\n"
     ]
    },
    {
     "name": "stderr",
     "output_type": "stream",
     "text": [
      "100%|██████████| 10/10 [12:30<00:00, 75.07s/it]"
     ]
    },
    {
     "name": "stdout",
     "output_type": "stream",
     "text": [
      "Accuracy of the network on the 10000 test images: 15 %\n"
     ]
    },
    {
     "name": "stderr",
     "output_type": "stream",
     "text": [
      "\n",
      "2719it [08:30,  5.32it/s]\n",
      "  0%|          | 0/10 [00:00<?, ?it/s]"
     ]
    },
    {
     "name": "stdout",
     "output_type": "stream",
     "text": [
      "epoch: 13 3  batch\n",
      "Accuracy of     0 : 46 %\n",
      "Accuracy of     1 : 44 %\n",
      "Accuracy of     2 : 33 %\n",
      "Accuracy of     3 : 71 %\n",
      "Accuracy of     4 : 47 %\n",
      "Accuracy of     5 : 59 %\n",
      "Accuracy of     6 : 64 %\n",
      "Accuracy of     7 : 74 %\n",
      "Accuracy of     8 : 51 %\n",
      "Accuracy of     9 : 70 %\n",
      "Accuracy of    10 : 94 %\n",
      "Accuracy of    11 : 90 %\n",
      "Accuracy of    12 : 39 %\n",
      "Accuracy of    13 : 56 %\n",
      "Accuracy of    14 : 48 %\n",
      "Accuracy of    15 : 45 %\n",
      "Accuracy of    16 : 50 %\n",
      "Accuracy of    17 : 36 %\n",
      "Accuracy of    18 : 61 %\n",
      "Accuracy of    19 : 56 %\n",
      "Accuracy of    20 : 66 %\n",
      "Accuracy of    21 : 70 %\n",
      "Accuracy of    22 : 55 %\n",
      "Accuracy of    23 : 69 %\n",
      "Accuracy of    24 : 53 %\n",
      "Accuracy of    25 : 53 %\n",
      "Accuracy of    26 : 44 %\n",
      "Accuracy of    27 : 43 %\n",
      "Accuracy of    28 : 23 %\n",
      "Accuracy of    29 : 78 %\n",
      "Accuracy of    30 : 33 %\n",
      "Accuracy of    31 : 51 %\n",
      "Accuracy of    32 : 58 %\n",
      "Accuracy of    33 : 53 %\n",
      "Accuracy of    34 : 41 %\n",
      "Accuracy of    35 : 57 %\n",
      "Accuracy of    36 : 87 %\n",
      "Accuracy of    37 : 66 %\n",
      "Accuracy of    38 : 65 %\n",
      "Accuracy of    39 : 66 %\n",
      "Accuracy of    40 : 65 %\n",
      "Accuracy of    41 : 38 %\n",
      "Accuracy of    42 : 36 %\n",
      "Accuracy of    43 : 41 %\n",
      "Accuracy of    44 : 63 %\n",
      "Accuracy of    45 : 60 %\n",
      "Accuracy of    46 : 40 %\n",
      "Accuracy of    47 : 69 %\n",
      "Accuracy of    48 : 73 %\n",
      "Accuracy of    49 : 79 %\n",
      "Accuracy of    50 : 63 %\n",
      "Accuracy of    51 : 56 %\n",
      "Accuracy of    52 : 44 %\n",
      "Accuracy of    53 : 55 %\n",
      "Accuracy of    54 : 54 %\n",
      "Accuracy of    55 : 49 %\n",
      "Accuracy of    56 : 67 %\n",
      "Accuracy of    57 : 70 %\n",
      "epoch: 14/20 | step: 58/2719 | trn loss: 0.2164 | val loss: 2.4557\n",
      "Accuracy of the network on the 10000 test images: 51 %\n"
     ]
    },
    {
     "name": "stderr",
     "output_type": "stream",
     "text": [
      "\r",
      " 10%|█         | 1/10 [02:04<18:40, 124.50s/it]"
     ]
    },
    {
     "name": "stdout",
     "output_type": "stream",
     "text": [
      "Accuracy of the network on the 10000 test images: 3 %\n"
     ]
    },
    {
     "name": "stderr",
     "output_type": "stream",
     "text": [
      "\r",
      " 20%|██        | 2/10 [04:04<16:24, 123.03s/it]"
     ]
    },
    {
     "name": "stdout",
     "output_type": "stream",
     "text": [
      "Accuracy of the network on the 10000 test images: 4 %\n"
     ]
    },
    {
     "name": "stderr",
     "output_type": "stream",
     "text": [
      "\r",
      " 30%|███       | 3/10 [06:01<14:09, 121.42s/it]"
     ]
    },
    {
     "name": "stdout",
     "output_type": "stream",
     "text": [
      "Accuracy of the network on the 10000 test images: 4 %\n"
     ]
    },
    {
     "name": "stderr",
     "output_type": "stream",
     "text": [
      "\r",
      " 40%|████      | 4/10 [07:37<11:22, 113.67s/it]"
     ]
    },
    {
     "name": "stdout",
     "output_type": "stream",
     "text": [
      "Accuracy of the network on the 10000 test images: 4 %\n"
     ]
    },
    {
     "name": "stderr",
     "output_type": "stream",
     "text": [
      "\r",
      " 50%|█████     | 5/10 [08:52<08:30, 102.18s/it]"
     ]
    },
    {
     "name": "stdout",
     "output_type": "stream",
     "text": [
      "Accuracy of the network on the 10000 test images: 4 %\n"
     ]
    },
    {
     "name": "stderr",
     "output_type": "stream",
     "text": [
      "\r",
      " 60%|██████    | 6/10 [09:49<05:54, 88.53s/it] "
     ]
    },
    {
     "name": "stdout",
     "output_type": "stream",
     "text": [
      "Accuracy of the network on the 10000 test images: 4 %\n"
     ]
    },
    {
     "name": "stderr",
     "output_type": "stream",
     "text": [
      "\r",
      " 70%|███████   | 7/10 [10:33<03:45, 75.25s/it]"
     ]
    },
    {
     "name": "stdout",
     "output_type": "stream",
     "text": [
      "Accuracy of the network on the 10000 test images: 5 %\n"
     ]
    },
    {
     "name": "stderr",
     "output_type": "stream",
     "text": [
      "\r",
      " 80%|████████  | 8/10 [11:12<02:08, 64.40s/it]"
     ]
    },
    {
     "name": "stdout",
     "output_type": "stream",
     "text": [
      "Accuracy of the network on the 10000 test images: 6 %\n"
     ]
    },
    {
     "name": "stderr",
     "output_type": "stream",
     "text": [
      "\r",
      " 90%|█████████ | 9/10 [11:48<00:55, 55.84s/it]"
     ]
    },
    {
     "name": "stdout",
     "output_type": "stream",
     "text": [
      "Accuracy of the network on the 10000 test images: 9 %\n"
     ]
    },
    {
     "name": "stderr",
     "output_type": "stream",
     "text": [
      "100%|██████████| 10/10 [12:24<00:00, 74.41s/it]"
     ]
    },
    {
     "name": "stdout",
     "output_type": "stream",
     "text": [
      "Accuracy of the network on the 10000 test images: 14 %\n"
     ]
    },
    {
     "name": "stderr",
     "output_type": "stream",
     "text": [
      "\n",
      "2719it [08:17,  5.47it/s]\n",
      "  0%|          | 0/10 [00:00<?, ?it/s]"
     ]
    },
    {
     "name": "stdout",
     "output_type": "stream",
     "text": [
      "epoch: 14 3  batch\n",
      "Accuracy of     0 : 40 %\n",
      "Accuracy of     1 : 48 %\n",
      "Accuracy of     2 : 41 %\n",
      "Accuracy of     3 : 83 %\n",
      "Accuracy of     4 : 40 %\n",
      "Accuracy of     5 : 58 %\n",
      "Accuracy of     6 : 59 %\n",
      "Accuracy of     7 : 69 %\n",
      "Accuracy of     8 : 40 %\n",
      "Accuracy of     9 : 74 %\n",
      "Accuracy of    10 : 89 %\n",
      "Accuracy of    11 : 87 %\n",
      "Accuracy of    12 : 30 %\n",
      "Accuracy of    13 : 60 %\n",
      "Accuracy of    14 : 68 %\n",
      "Accuracy of    15 : 27 %\n",
      "Accuracy of    16 : 42 %\n",
      "Accuracy of    17 : 27 %\n",
      "Accuracy of    18 : 55 %\n",
      "Accuracy of    19 : 44 %\n",
      "Accuracy of    20 : 67 %\n",
      "Accuracy of    21 : 62 %\n",
      "Accuracy of    22 : 54 %\n",
      "Accuracy of    23 : 60 %\n",
      "Accuracy of    24 : 53 %\n",
      "Accuracy of    25 : 52 %\n",
      "Accuracy of    26 : 36 %\n",
      "Accuracy of    27 : 21 %\n",
      "Accuracy of    28 : 17 %\n",
      "Accuracy of    29 : 80 %\n",
      "Accuracy of    30 : 51 %\n",
      "Accuracy of    31 : 48 %\n",
      "Accuracy of    32 : 59 %\n",
      "Accuracy of    33 : 55 %\n",
      "Accuracy of    34 : 44 %\n",
      "Accuracy of    35 : 50 %\n",
      "Accuracy of    36 : 88 %\n",
      "Accuracy of    37 : 70 %\n",
      "Accuracy of    38 : 56 %\n",
      "Accuracy of    39 : 57 %\n",
      "Accuracy of    40 : 65 %\n",
      "Accuracy of    41 : 54 %\n",
      "Accuracy of    42 : 27 %\n",
      "Accuracy of    43 : 36 %\n",
      "Accuracy of    44 : 65 %\n",
      "Accuracy of    45 : 58 %\n",
      "Accuracy of    46 : 42 %\n",
      "Accuracy of    47 : 73 %\n",
      "Accuracy of    48 : 70 %\n",
      "Accuracy of    49 : 69 %\n",
      "Accuracy of    50 : 66 %\n",
      "Accuracy of    51 : 68 %\n",
      "Accuracy of    52 : 36 %\n",
      "Accuracy of    53 : 69 %\n",
      "Accuracy of    54 : 68 %\n",
      "Accuracy of    55 : 36 %\n",
      "Accuracy of    56 : 71 %\n",
      "Accuracy of    57 : 44 %\n",
      "epoch: 15/20 | step: 58/2719 | trn loss: 0.1823 | val loss: 2.7815\n",
      "Accuracy of the network on the 10000 test images: 48 %\n"
     ]
    },
    {
     "name": "stderr",
     "output_type": "stream",
     "text": [
      "\r",
      " 10%|█         | 1/10 [02:03<18:34, 123.83s/it]"
     ]
    },
    {
     "name": "stdout",
     "output_type": "stream",
     "text": [
      "Accuracy of the network on the 10000 test images: 4 %\n"
     ]
    },
    {
     "name": "stderr",
     "output_type": "stream",
     "text": [
      "\r",
      " 20%|██        | 2/10 [04:03<16:20, 122.56s/it]"
     ]
    },
    {
     "name": "stdout",
     "output_type": "stream",
     "text": [
      "Accuracy of the network on the 10000 test images: 4 %\n"
     ]
    },
    {
     "name": "stderr",
     "output_type": "stream",
     "text": [
      "\r",
      " 30%|███       | 3/10 [06:02<14:10, 121.45s/it]"
     ]
    },
    {
     "name": "stdout",
     "output_type": "stream",
     "text": [
      "Accuracy of the network on the 10000 test images: 4 %\n"
     ]
    },
    {
     "name": "stderr",
     "output_type": "stream",
     "text": [
      "\r",
      " 40%|████      | 4/10 [07:42<11:30, 115.07s/it]"
     ]
    },
    {
     "name": "stdout",
     "output_type": "stream",
     "text": [
      "Accuracy of the network on the 10000 test images: 4 %\n"
     ]
    },
    {
     "name": "stderr",
     "output_type": "stream",
     "text": [
      "\r",
      " 50%|█████     | 5/10 [08:56<08:34, 102.87s/it]"
     ]
    },
    {
     "name": "stdout",
     "output_type": "stream",
     "text": [
      "Accuracy of the network on the 10000 test images: 4 %\n"
     ]
    },
    {
     "name": "stderr",
     "output_type": "stream",
     "text": [
      "\r",
      " 60%|██████    | 6/10 [09:52<05:55, 88.84s/it] "
     ]
    },
    {
     "name": "stdout",
     "output_type": "stream",
     "text": [
      "Accuracy of the network on the 10000 test images: 5 %\n"
     ]
    },
    {
     "name": "stderr",
     "output_type": "stream",
     "text": [
      "\r",
      " 70%|███████   | 7/10 [10:37<03:46, 75.53s/it]"
     ]
    },
    {
     "name": "stdout",
     "output_type": "stream",
     "text": [
      "Accuracy of the network on the 10000 test images: 5 %\n"
     ]
    },
    {
     "name": "stderr",
     "output_type": "stream",
     "text": [
      "\r",
      " 80%|████████  | 8/10 [11:16<02:08, 64.44s/it]"
     ]
    },
    {
     "name": "stdout",
     "output_type": "stream",
     "text": [
      "Accuracy of the network on the 10000 test images: 6 %\n"
     ]
    },
    {
     "name": "stderr",
     "output_type": "stream",
     "text": [
      "\r",
      " 90%|█████████ | 9/10 [11:52<00:56, 56.11s/it]"
     ]
    },
    {
     "name": "stdout",
     "output_type": "stream",
     "text": [
      "Accuracy of the network on the 10000 test images: 8 %\n"
     ]
    },
    {
     "name": "stderr",
     "output_type": "stream",
     "text": [
      "100%|██████████| 10/10 [12:28<00:00, 74.84s/it]"
     ]
    },
    {
     "name": "stdout",
     "output_type": "stream",
     "text": [
      "Accuracy of the network on the 10000 test images: 12 %\n"
     ]
    },
    {
     "name": "stderr",
     "output_type": "stream",
     "text": [
      "\n",
      "2719it [08:47,  5.15it/s]\n",
      "  0%|          | 0/10 [00:00<?, ?it/s]"
     ]
    },
    {
     "name": "stdout",
     "output_type": "stream",
     "text": [
      "epoch: 15 3  batch\n",
      "Accuracy of     0 : 50 %\n",
      "Accuracy of     1 : 37 %\n",
      "Accuracy of     2 : 27 %\n",
      "Accuracy of     3 : 63 %\n",
      "Accuracy of     4 : 54 %\n",
      "Accuracy of     5 : 56 %\n",
      "Accuracy of     6 : 48 %\n",
      "Accuracy of     7 : 62 %\n",
      "Accuracy of     8 : 62 %\n",
      "Accuracy of     9 : 65 %\n",
      "Accuracy of    10 : 91 %\n",
      "Accuracy of    11 : 90 %\n",
      "Accuracy of    12 : 28 %\n",
      "Accuracy of    13 : 62 %\n",
      "Accuracy of    14 : 57 %\n",
      "Accuracy of    15 : 28 %\n",
      "Accuracy of    16 : 42 %\n",
      "Accuracy of    17 : 53 %\n",
      "Accuracy of    18 : 48 %\n",
      "Accuracy of    19 : 38 %\n",
      "Accuracy of    20 : 72 %\n",
      "Accuracy of    21 : 54 %\n",
      "Accuracy of    22 : 48 %\n",
      "Accuracy of    23 : 56 %\n",
      "Accuracy of    24 : 51 %\n",
      "Accuracy of    25 : 57 %\n",
      "Accuracy of    26 : 45 %\n",
      "Accuracy of    27 : 36 %\n",
      "Accuracy of    28 : 22 %\n",
      "Accuracy of    29 : 69 %\n",
      "Accuracy of    30 : 30 %\n",
      "Accuracy of    31 : 47 %\n",
      "Accuracy of    32 : 55 %\n",
      "Accuracy of    33 : 54 %\n",
      "Accuracy of    34 : 44 %\n",
      "Accuracy of    35 : 52 %\n",
      "Accuracy of    36 : 89 %\n",
      "Accuracy of    37 : 73 %\n",
      "Accuracy of    38 : 76 %\n",
      "Accuracy of    39 : 69 %\n",
      "Accuracy of    40 : 57 %\n",
      "Accuracy of    41 : 24 %\n",
      "Accuracy of    42 : 34 %\n",
      "Accuracy of    43 : 45 %\n",
      "Accuracy of    44 : 60 %\n",
      "Accuracy of    45 : 56 %\n",
      "Accuracy of    46 : 33 %\n",
      "Accuracy of    47 : 65 %\n",
      "Accuracy of    48 : 57 %\n",
      "Accuracy of    49 : 83 %\n",
      "Accuracy of    50 : 55 %\n",
      "Accuracy of    51 : 51 %\n",
      "Accuracy of    52 : 29 %\n",
      "Accuracy of    53 : 64 %\n",
      "Accuracy of    54 : 54 %\n",
      "Accuracy of    55 : 46 %\n",
      "Accuracy of    56 : 60 %\n",
      "Accuracy of    57 : 57 %\n",
      "epoch: 16/20 | step: 58/2719 | trn loss: 0.1636 | val loss: 2.7017\n",
      "Accuracy of the network on the 10000 test images: 51 %\n"
     ]
    },
    {
     "name": "stderr",
     "output_type": "stream",
     "text": [
      "\r",
      " 10%|█         | 1/10 [02:07<19:08, 127.57s/it]"
     ]
    },
    {
     "name": "stdout",
     "output_type": "stream",
     "text": [
      "Accuracy of the network on the 10000 test images: 5 %\n"
     ]
    },
    {
     "name": "stderr",
     "output_type": "stream",
     "text": [
      "\r",
      " 20%|██        | 2/10 [04:12<16:53, 126.69s/it]"
     ]
    },
    {
     "name": "stdout",
     "output_type": "stream",
     "text": [
      "Accuracy of the network on the 10000 test images: 5 %\n"
     ]
    },
    {
     "name": "stderr",
     "output_type": "stream",
     "text": [
      "\r",
      " 30%|███       | 3/10 [06:09<14:27, 123.88s/it]"
     ]
    },
    {
     "name": "stdout",
     "output_type": "stream",
     "text": [
      "Accuracy of the network on the 10000 test images: 5 %\n"
     ]
    },
    {
     "name": "stderr",
     "output_type": "stream",
     "text": [
      "\r",
      " 40%|████      | 4/10 [07:50<11:41, 116.95s/it]"
     ]
    },
    {
     "name": "stdout",
     "output_type": "stream",
     "text": [
      "Accuracy of the network on the 10000 test images: 5 %\n"
     ]
    },
    {
     "name": "stderr",
     "output_type": "stream",
     "text": [
      "\r",
      " 50%|█████     | 5/10 [09:03<08:39, 103.90s/it]"
     ]
    },
    {
     "name": "stdout",
     "output_type": "stream",
     "text": [
      "Accuracy of the network on the 10000 test images: 5 %\n"
     ]
    },
    {
     "name": "stderr",
     "output_type": "stream",
     "text": [
      "\r",
      " 60%|██████    | 6/10 [10:00<05:58, 89.60s/it] "
     ]
    },
    {
     "name": "stdout",
     "output_type": "stream",
     "text": [
      "Accuracy of the network on the 10000 test images: 6 %\n"
     ]
    },
    {
     "name": "stderr",
     "output_type": "stream",
     "text": [
      "\r",
      " 70%|███████   | 7/10 [10:44<03:48, 76.08s/it]"
     ]
    },
    {
     "name": "stdout",
     "output_type": "stream",
     "text": [
      "Accuracy of the network on the 10000 test images: 7 %\n"
     ]
    },
    {
     "name": "stderr",
     "output_type": "stream",
     "text": [
      "\r",
      " 80%|████████  | 8/10 [11:23<02:10, 65.08s/it]"
     ]
    },
    {
     "name": "stdout",
     "output_type": "stream",
     "text": [
      "Accuracy of the network on the 10000 test images: 8 %\n"
     ]
    },
    {
     "name": "stderr",
     "output_type": "stream",
     "text": [
      "\r",
      " 90%|█████████ | 9/10 [12:00<00:56, 56.64s/it]"
     ]
    },
    {
     "name": "stdout",
     "output_type": "stream",
     "text": [
      "Accuracy of the network on the 10000 test images: 11 %\n"
     ]
    },
    {
     "name": "stderr",
     "output_type": "stream",
     "text": [
      "100%|██████████| 10/10 [12:36<00:00, 75.63s/it]"
     ]
    },
    {
     "name": "stdout",
     "output_type": "stream",
     "text": [
      "Accuracy of the network on the 10000 test images: 15 %\n"
     ]
    },
    {
     "name": "stderr",
     "output_type": "stream",
     "text": [
      "\n",
      "2719it [08:18,  5.45it/s]\n",
      "  0%|          | 0/10 [00:00<?, ?it/s]"
     ]
    },
    {
     "name": "stdout",
     "output_type": "stream",
     "text": [
      "epoch: 16 3  batch\n",
      "Accuracy of     0 : 40 %\n",
      "Accuracy of     1 : 44 %\n",
      "Accuracy of     2 : 35 %\n",
      "Accuracy of     3 : 66 %\n",
      "Accuracy of     4 : 50 %\n",
      "Accuracy of     5 : 56 %\n",
      "Accuracy of     6 : 61 %\n",
      "Accuracy of     7 : 60 %\n",
      "Accuracy of     8 : 48 %\n",
      "Accuracy of     9 : 78 %\n",
      "Accuracy of    10 : 92 %\n",
      "Accuracy of    11 : 92 %\n",
      "Accuracy of    12 : 29 %\n",
      "Accuracy of    13 : 56 %\n",
      "Accuracy of    14 : 56 %\n",
      "Accuracy of    15 : 42 %\n",
      "Accuracy of    16 : 49 %\n",
      "Accuracy of    17 : 44 %\n",
      "Accuracy of    18 : 60 %\n",
      "Accuracy of    19 : 55 %\n",
      "Accuracy of    20 : 70 %\n",
      "Accuracy of    21 : 69 %\n",
      "Accuracy of    22 : 48 %\n",
      "Accuracy of    23 : 63 %\n",
      "Accuracy of    24 : 57 %\n",
      "Accuracy of    25 : 48 %\n",
      "Accuracy of    26 : 52 %\n",
      "Accuracy of    27 : 40 %\n",
      "Accuracy of    28 : 25 %\n",
      "Accuracy of    29 : 67 %\n",
      "Accuracy of    30 : 28 %\n",
      "Accuracy of    31 : 46 %\n",
      "Accuracy of    32 : 65 %\n",
      "Accuracy of    33 : 47 %\n",
      "Accuracy of    34 : 53 %\n",
      "Accuracy of    35 : 52 %\n",
      "Accuracy of    36 : 87 %\n",
      "Accuracy of    37 : 76 %\n",
      "Accuracy of    38 : 61 %\n",
      "Accuracy of    39 : 68 %\n",
      "Accuracy of    40 : 70 %\n",
      "Accuracy of    41 : 39 %\n",
      "Accuracy of    42 : 34 %\n",
      "Accuracy of    43 : 50 %\n",
      "Accuracy of    44 : 70 %\n",
      "Accuracy of    45 : 60 %\n",
      "Accuracy of    46 : 38 %\n",
      "Accuracy of    47 : 70 %\n",
      "Accuracy of    48 : 68 %\n",
      "Accuracy of    49 : 79 %\n",
      "Accuracy of    50 : 58 %\n",
      "Accuracy of    51 : 67 %\n",
      "Accuracy of    52 : 46 %\n",
      "Accuracy of    53 : 65 %\n",
      "Accuracy of    54 : 61 %\n",
      "Accuracy of    55 : 44 %\n",
      "Accuracy of    56 : 68 %\n",
      "Accuracy of    57 : 53 %\n",
      "epoch: 17/20 | step: 58/2719 | trn loss: 0.1505 | val loss: 2.8342\n",
      "Accuracy of the network on the 10000 test images: 49 %\n"
     ]
    },
    {
     "name": "stderr",
     "output_type": "stream",
     "text": [
      "\r",
      " 10%|█         | 1/10 [02:04<18:37, 124.19s/it]"
     ]
    },
    {
     "name": "stdout",
     "output_type": "stream",
     "text": [
      "Accuracy of the network on the 10000 test images: 3 %\n"
     ]
    },
    {
     "name": "stderr",
     "output_type": "stream",
     "text": [
      "\r",
      " 20%|██        | 2/10 [04:05<16:25, 123.23s/it]"
     ]
    },
    {
     "name": "stdout",
     "output_type": "stream",
     "text": [
      "Accuracy of the network on the 10000 test images: 3 %\n"
     ]
    },
    {
     "name": "stderr",
     "output_type": "stream",
     "text": [
      "\r",
      " 30%|███       | 3/10 [06:02<14:10, 121.46s/it]"
     ]
    },
    {
     "name": "stdout",
     "output_type": "stream",
     "text": [
      "Accuracy of the network on the 10000 test images: 3 %\n"
     ]
    },
    {
     "name": "stderr",
     "output_type": "stream",
     "text": [
      "\r",
      " 40%|████      | 4/10 [07:38<11:23, 113.95s/it]"
     ]
    },
    {
     "name": "stdout",
     "output_type": "stream",
     "text": [
      "Accuracy of the network on the 10000 test images: 3 %\n"
     ]
    },
    {
     "name": "stderr",
     "output_type": "stream",
     "text": [
      "\r",
      " 50%|█████     | 5/10 [08:54<08:32, 102.48s/it]"
     ]
    },
    {
     "name": "stdout",
     "output_type": "stream",
     "text": [
      "Accuracy of the network on the 10000 test images: 3 %\n"
     ]
    },
    {
     "name": "stderr",
     "output_type": "stream",
     "text": [
      "\r",
      " 60%|██████    | 6/10 [09:50<05:54, 88.62s/it] "
     ]
    },
    {
     "name": "stdout",
     "output_type": "stream",
     "text": [
      "Accuracy of the network on the 10000 test images: 4 %\n"
     ]
    },
    {
     "name": "stderr",
     "output_type": "stream",
     "text": [
      "\r",
      " 70%|███████   | 7/10 [10:35<03:45, 75.33s/it]"
     ]
    },
    {
     "name": "stdout",
     "output_type": "stream",
     "text": [
      "Accuracy of the network on the 10000 test images: 4 %\n"
     ]
    },
    {
     "name": "stderr",
     "output_type": "stream",
     "text": [
      "\r",
      " 80%|████████  | 8/10 [11:13<02:08, 64.35s/it]"
     ]
    },
    {
     "name": "stdout",
     "output_type": "stream",
     "text": [
      "Accuracy of the network on the 10000 test images: 5 %\n"
     ]
    },
    {
     "name": "stderr",
     "output_type": "stream",
     "text": [
      "\r",
      " 90%|█████████ | 9/10 [11:50<00:56, 56.11s/it]"
     ]
    },
    {
     "name": "stdout",
     "output_type": "stream",
     "text": [
      "Accuracy of the network on the 10000 test images: 8 %\n"
     ]
    },
    {
     "name": "stderr",
     "output_type": "stream",
     "text": [
      "100%|██████████| 10/10 [12:26<00:00, 74.63s/it]"
     ]
    },
    {
     "name": "stdout",
     "output_type": "stream",
     "text": [
      "Accuracy of the network on the 10000 test images: 12 %\n"
     ]
    },
    {
     "name": "stderr",
     "output_type": "stream",
     "text": [
      "\n",
      "2719it [08:10,  5.54it/s]\n",
      "  0%|          | 0/10 [00:00<?, ?it/s]"
     ]
    },
    {
     "name": "stdout",
     "output_type": "stream",
     "text": [
      "epoch: 17 3  batch\n",
      "Accuracy of     0 : 49 %\n",
      "Accuracy of     1 : 49 %\n",
      "Accuracy of     2 : 40 %\n",
      "Accuracy of     3 : 73 %\n",
      "Accuracy of     4 : 38 %\n",
      "Accuracy of     5 : 60 %\n",
      "Accuracy of     6 : 55 %\n",
      "Accuracy of     7 : 65 %\n",
      "Accuracy of     8 : 55 %\n",
      "Accuracy of     9 : 77 %\n",
      "Accuracy of    10 : 89 %\n",
      "Accuracy of    11 : 89 %\n",
      "Accuracy of    12 : 39 %\n",
      "Accuracy of    13 : 68 %\n",
      "Accuracy of    14 : 49 %\n",
      "Accuracy of    15 : 26 %\n",
      "Accuracy of    16 : 42 %\n",
      "Accuracy of    17 : 43 %\n",
      "Accuracy of    18 : 56 %\n",
      "Accuracy of    19 : 44 %\n",
      "Accuracy of    20 : 78 %\n",
      "Accuracy of    21 : 60 %\n",
      "Accuracy of    22 : 59 %\n",
      "Accuracy of    23 : 63 %\n",
      "Accuracy of    24 : 53 %\n",
      "Accuracy of    25 : 38 %\n",
      "Accuracy of    26 : 48 %\n",
      "Accuracy of    27 : 29 %\n",
      "Accuracy of    28 : 24 %\n",
      "Accuracy of    29 : 79 %\n",
      "Accuracy of    30 : 29 %\n",
      "Accuracy of    31 : 40 %\n",
      "Accuracy of    32 : 66 %\n",
      "Accuracy of    33 : 54 %\n",
      "Accuracy of    34 : 45 %\n",
      "Accuracy of    35 : 47 %\n",
      "Accuracy of    36 : 91 %\n",
      "Accuracy of    37 : 76 %\n",
      "Accuracy of    38 : 61 %\n",
      "Accuracy of    39 : 66 %\n",
      "Accuracy of    40 : 41 %\n",
      "Accuracy of    41 : 49 %\n",
      "Accuracy of    42 : 38 %\n",
      "Accuracy of    43 : 41 %\n",
      "Accuracy of    44 : 70 %\n",
      "Accuracy of    45 : 52 %\n",
      "Accuracy of    46 : 40 %\n",
      "Accuracy of    47 : 66 %\n",
      "Accuracy of    48 : 66 %\n",
      "Accuracy of    49 : 79 %\n",
      "Accuracy of    50 : 63 %\n",
      "Accuracy of    51 : 67 %\n",
      "Accuracy of    52 : 55 %\n",
      "Accuracy of    53 : 68 %\n",
      "Accuracy of    54 : 54 %\n",
      "Accuracy of    55 : 49 %\n",
      "Accuracy of    56 : 57 %\n",
      "Accuracy of    57 : 49 %\n",
      "epoch: 18/20 | step: 58/2719 | trn loss: 0.1336 | val loss: 2.6997\n",
      "Accuracy of the network on the 10000 test images: 51 %\n"
     ]
    },
    {
     "name": "stderr",
     "output_type": "stream",
     "text": [
      "\r",
      " 10%|█         | 1/10 [02:05<18:48, 125.36s/it]"
     ]
    },
    {
     "name": "stdout",
     "output_type": "stream",
     "text": [
      "Accuracy of the network on the 10000 test images: 6 %\n"
     ]
    },
    {
     "name": "stderr",
     "output_type": "stream",
     "text": [
      "\r",
      " 20%|██        | 2/10 [04:06<16:33, 124.19s/it]"
     ]
    },
    {
     "name": "stdout",
     "output_type": "stream",
     "text": [
      "Accuracy of the network on the 10000 test images: 6 %\n"
     ]
    },
    {
     "name": "stderr",
     "output_type": "stream",
     "text": [
      "\r",
      " 30%|███       | 3/10 [06:04<14:15, 122.20s/it]"
     ]
    },
    {
     "name": "stdout",
     "output_type": "stream",
     "text": [
      "Accuracy of the network on the 10000 test images: 6 %\n"
     ]
    },
    {
     "name": "stderr",
     "output_type": "stream",
     "text": [
      "\r",
      " 40%|████      | 4/10 [07:42<11:29, 114.95s/it]"
     ]
    },
    {
     "name": "stdout",
     "output_type": "stream",
     "text": [
      "Accuracy of the network on the 10000 test images: 6 %\n"
     ]
    },
    {
     "name": "stderr",
     "output_type": "stream",
     "text": [
      "\r",
      " 50%|█████     | 5/10 [08:57<08:35, 103.03s/it]"
     ]
    },
    {
     "name": "stdout",
     "output_type": "stream",
     "text": [
      "Accuracy of the network on the 10000 test images: 6 %\n"
     ]
    },
    {
     "name": "stderr",
     "output_type": "stream",
     "text": [
      "\r",
      " 60%|██████    | 6/10 [09:53<05:55, 88.95s/it] "
     ]
    },
    {
     "name": "stdout",
     "output_type": "stream",
     "text": [
      "Accuracy of the network on the 10000 test images: 7 %\n"
     ]
    },
    {
     "name": "stderr",
     "output_type": "stream",
     "text": [
      "\r",
      " 70%|███████   | 7/10 [10:37<03:46, 75.42s/it]"
     ]
    },
    {
     "name": "stdout",
     "output_type": "stream",
     "text": [
      "Accuracy of the network on the 10000 test images: 7 %\n"
     ]
    },
    {
     "name": "stderr",
     "output_type": "stream",
     "text": [
      "\r",
      " 80%|████████  | 8/10 [11:16<02:08, 64.46s/it]"
     ]
    },
    {
     "name": "stdout",
     "output_type": "stream",
     "text": [
      "Accuracy of the network on the 10000 test images: 9 %\n"
     ]
    },
    {
     "name": "stderr",
     "output_type": "stream",
     "text": [
      "\r",
      " 90%|█████████ | 9/10 [11:53<00:56, 56.16s/it]"
     ]
    },
    {
     "name": "stdout",
     "output_type": "stream",
     "text": [
      "Accuracy of the network on the 10000 test images: 11 %\n"
     ]
    },
    {
     "name": "stderr",
     "output_type": "stream",
     "text": [
      "100%|██████████| 10/10 [12:28<00:00, 74.88s/it]"
     ]
    },
    {
     "name": "stdout",
     "output_type": "stream",
     "text": [
      "Accuracy of the network on the 10000 test images: 15 %\n"
     ]
    },
    {
     "name": "stderr",
     "output_type": "stream",
     "text": [
      "\n",
      "2719it [08:16,  5.48it/s]\n",
      "  0%|          | 0/10 [00:00<?, ?it/s]"
     ]
    },
    {
     "name": "stdout",
     "output_type": "stream",
     "text": [
      "epoch: 18 3  batch\n",
      "Accuracy of     0 : 49 %\n",
      "Accuracy of     1 : 46 %\n",
      "Accuracy of     2 : 32 %\n",
      "Accuracy of     3 : 57 %\n",
      "Accuracy of     4 : 31 %\n",
      "Accuracy of     5 : 57 %\n",
      "Accuracy of     6 : 60 %\n",
      "Accuracy of     7 : 74 %\n",
      "Accuracy of     8 : 53 %\n",
      "Accuracy of     9 : 69 %\n",
      "Accuracy of    10 : 89 %\n",
      "Accuracy of    11 : 91 %\n",
      "Accuracy of    12 : 36 %\n",
      "Accuracy of    13 : 54 %\n",
      "Accuracy of    14 : 48 %\n",
      "Accuracy of    15 : 33 %\n",
      "Accuracy of    16 : 49 %\n",
      "Accuracy of    17 : 44 %\n",
      "Accuracy of    18 : 70 %\n",
      "Accuracy of    19 : 44 %\n",
      "Accuracy of    20 : 66 %\n",
      "Accuracy of    21 : 68 %\n",
      "Accuracy of    22 : 54 %\n",
      "Accuracy of    23 : 59 %\n",
      "Accuracy of    24 : 61 %\n",
      "Accuracy of    25 : 50 %\n",
      "Accuracy of    26 : 56 %\n",
      "Accuracy of    27 : 46 %\n",
      "Accuracy of    28 : 21 %\n",
      "Accuracy of    29 : 82 %\n",
      "Accuracy of    30 : 30 %\n",
      "Accuracy of    31 : 30 %\n",
      "Accuracy of    32 : 61 %\n",
      "Accuracy of    33 : 63 %\n",
      "Accuracy of    34 : 41 %\n",
      "Accuracy of    35 : 43 %\n",
      "Accuracy of    36 : 90 %\n",
      "Accuracy of    37 : 80 %\n",
      "Accuracy of    38 : 55 %\n",
      "Accuracy of    39 : 59 %\n",
      "Accuracy of    40 : 49 %\n",
      "Accuracy of    41 : 42 %\n",
      "Accuracy of    42 : 37 %\n",
      "Accuracy of    43 : 65 %\n",
      "Accuracy of    44 : 64 %\n",
      "Accuracy of    45 : 40 %\n",
      "Accuracy of    46 : 42 %\n",
      "Accuracy of    47 : 70 %\n",
      "Accuracy of    48 : 64 %\n",
      "Accuracy of    49 : 76 %\n",
      "Accuracy of    50 : 66 %\n",
      "Accuracy of    51 : 63 %\n",
      "Accuracy of    52 : 39 %\n",
      "Accuracy of    53 : 60 %\n",
      "Accuracy of    54 : 64 %\n",
      "Accuracy of    55 : 32 %\n",
      "Accuracy of    56 : 62 %\n",
      "Accuracy of    57 : 53 %\n",
      "epoch: 19/20 | step: 58/2719 | trn loss: 0.1199 | val loss: 2.7255\n",
      "Accuracy of the network on the 10000 test images: 51 %\n"
     ]
    },
    {
     "name": "stderr",
     "output_type": "stream",
     "text": [
      "\r",
      " 10%|█         | 1/10 [02:02<18:22, 122.46s/it]"
     ]
    },
    {
     "name": "stdout",
     "output_type": "stream",
     "text": [
      "Accuracy of the network on the 10000 test images: 3 %\n"
     ]
    },
    {
     "name": "stderr",
     "output_type": "stream",
     "text": [
      "\r",
      " 20%|██        | 2/10 [04:01<16:11, 121.50s/it]"
     ]
    },
    {
     "name": "stdout",
     "output_type": "stream",
     "text": [
      "Accuracy of the network on the 10000 test images: 3 %\n"
     ]
    },
    {
     "name": "stderr",
     "output_type": "stream",
     "text": [
      "\r",
      " 30%|███       | 3/10 [05:59<14:03, 120.50s/it]"
     ]
    },
    {
     "name": "stdout",
     "output_type": "stream",
     "text": [
      "Accuracy of the network on the 10000 test images: 3 %\n"
     ]
    },
    {
     "name": "stderr",
     "output_type": "stream",
     "text": [
      "\r",
      " 40%|████      | 4/10 [07:40<11:26, 114.39s/it]"
     ]
    },
    {
     "name": "stdout",
     "output_type": "stream",
     "text": [
      "Accuracy of the network on the 10000 test images: 4 %\n"
     ]
    },
    {
     "name": "stderr",
     "output_type": "stream",
     "text": [
      "\r",
      " 50%|█████     | 5/10 [08:52<08:28, 101.71s/it]"
     ]
    },
    {
     "name": "stdout",
     "output_type": "stream",
     "text": [
      "Accuracy of the network on the 10000 test images: 4 %\n"
     ]
    },
    {
     "name": "stderr",
     "output_type": "stream",
     "text": [
      "\r",
      " 60%|██████    | 6/10 [09:48<05:52, 88.07s/it] "
     ]
    },
    {
     "name": "stdout",
     "output_type": "stream",
     "text": [
      "Accuracy of the network on the 10000 test images: 5 %\n"
     ]
    },
    {
     "name": "stderr",
     "output_type": "stream",
     "text": [
      "\r",
      " 70%|███████   | 7/10 [10:32<03:44, 74.86s/it]"
     ]
    },
    {
     "name": "stdout",
     "output_type": "stream",
     "text": [
      "Accuracy of the network on the 10000 test images: 5 %\n"
     ]
    },
    {
     "name": "stderr",
     "output_type": "stream",
     "text": [
      "\r",
      " 80%|████████  | 8/10 [11:11<02:08, 64.01s/it]"
     ]
    },
    {
     "name": "stdout",
     "output_type": "stream",
     "text": [
      "Accuracy of the network on the 10000 test images: 7 %\n"
     ]
    },
    {
     "name": "stderr",
     "output_type": "stream",
     "text": [
      "\r",
      " 90%|█████████ | 9/10 [11:47<00:55, 55.83s/it]"
     ]
    },
    {
     "name": "stdout",
     "output_type": "stream",
     "text": [
      "Accuracy of the network on the 10000 test images: 9 %\n"
     ]
    },
    {
     "name": "stderr",
     "output_type": "stream",
     "text": [
      "100%|██████████| 10/10 [12:22<00:00, 74.29s/it]"
     ]
    },
    {
     "name": "stdout",
     "output_type": "stream",
     "text": [
      "Accuracy of the network on the 10000 test images: 15 %\n"
     ]
    },
    {
     "name": "stderr",
     "output_type": "stream",
     "text": [
      "\n",
      "2719it [08:26,  5.37it/s]\n",
      "  0%|          | 0/10 [00:00<?, ?it/s]"
     ]
    },
    {
     "name": "stdout",
     "output_type": "stream",
     "text": [
      "epoch: 19 3  batch\n",
      "Accuracy of     0 : 47 %\n",
      "Accuracy of     1 : 45 %\n",
      "Accuracy of     2 : 36 %\n",
      "Accuracy of     3 : 76 %\n",
      "Accuracy of     4 : 49 %\n",
      "Accuracy of     5 : 64 %\n",
      "Accuracy of     6 : 62 %\n",
      "Accuracy of     7 : 67 %\n",
      "Accuracy of     8 : 43 %\n",
      "Accuracy of     9 : 65 %\n",
      "Accuracy of    10 : 94 %\n",
      "Accuracy of    11 : 89 %\n",
      "Accuracy of    12 : 38 %\n",
      "Accuracy of    13 : 62 %\n",
      "Accuracy of    14 : 49 %\n",
      "Accuracy of    15 : 36 %\n",
      "Accuracy of    16 : 51 %\n",
      "Accuracy of    17 : 39 %\n",
      "Accuracy of    18 : 72 %\n",
      "Accuracy of    19 : 49 %\n",
      "Accuracy of    20 : 73 %\n",
      "Accuracy of    21 : 65 %\n",
      "Accuracy of    22 : 59 %\n",
      "Accuracy of    23 : 64 %\n",
      "Accuracy of    24 : 51 %\n",
      "Accuracy of    25 : 43 %\n",
      "Accuracy of    26 : 45 %\n",
      "Accuracy of    27 : 42 %\n",
      "Accuracy of    28 : 23 %\n",
      "Accuracy of    29 : 79 %\n",
      "Accuracy of    30 : 36 %\n",
      "Accuracy of    31 : 45 %\n",
      "Accuracy of    32 : 70 %\n",
      "Accuracy of    33 : 49 %\n",
      "Accuracy of    34 : 54 %\n",
      "Accuracy of    35 : 56 %\n",
      "Accuracy of    36 : 89 %\n",
      "Accuracy of    37 : 76 %\n",
      "Accuracy of    38 : 68 %\n",
      "Accuracy of    39 : 57 %\n",
      "Accuracy of    40 : 50 %\n",
      "Accuracy of    41 : 33 %\n",
      "Accuracy of    42 : 18 %\n",
      "Accuracy of    43 : 54 %\n",
      "Accuracy of    44 : 63 %\n",
      "Accuracy of    45 : 46 %\n",
      "Accuracy of    46 : 32 %\n",
      "Accuracy of    47 : 76 %\n",
      "Accuracy of    48 : 64 %\n",
      "Accuracy of    49 : 73 %\n",
      "Accuracy of    50 : 63 %\n",
      "Accuracy of    51 : 76 %\n",
      "Accuracy of    52 : 39 %\n",
      "Accuracy of    53 : 51 %\n",
      "Accuracy of    54 : 67 %\n",
      "Accuracy of    55 : 51 %\n",
      "Accuracy of    56 : 61 %\n",
      "Accuracy of    57 : 69 %\n",
      "epoch: 20/20 | step: 58/2719 | trn loss: 0.1109 | val loss: 2.9636\n",
      "Accuracy of the network on the 10000 test images: 50 %\n"
     ]
    },
    {
     "name": "stderr",
     "output_type": "stream",
     "text": [
      "\r",
      " 10%|█         | 1/10 [02:02<18:23, 122.62s/it]"
     ]
    },
    {
     "name": "stdout",
     "output_type": "stream",
     "text": [
      "Accuracy of the network on the 10000 test images: 5 %\n"
     ]
    },
    {
     "name": "stderr",
     "output_type": "stream",
     "text": [
      "\r",
      " 20%|██        | 2/10 [04:03<16:15, 121.98s/it]"
     ]
    },
    {
     "name": "stdout",
     "output_type": "stream",
     "text": [
      "Accuracy of the network on the 10000 test images: 5 %\n"
     ]
    },
    {
     "name": "stderr",
     "output_type": "stream",
     "text": [
      "\r",
      " 30%|███       | 3/10 [05:59<14:02, 120.38s/it]"
     ]
    },
    {
     "name": "stdout",
     "output_type": "stream",
     "text": [
      "Accuracy of the network on the 10000 test images: 5 %\n"
     ]
    },
    {
     "name": "stderr",
     "output_type": "stream",
     "text": [
      "\r",
      " 40%|████      | 4/10 [07:37<11:21, 113.63s/it]"
     ]
    },
    {
     "name": "stdout",
     "output_type": "stream",
     "text": [
      "Accuracy of the network on the 10000 test images: 5 %\n"
     ]
    },
    {
     "name": "stderr",
     "output_type": "stream",
     "text": [
      "\r",
      " 50%|█████     | 5/10 [08:52<08:30, 102.08s/it]"
     ]
    },
    {
     "name": "stdout",
     "output_type": "stream",
     "text": [
      "Accuracy of the network on the 10000 test images: 5 %\n"
     ]
    },
    {
     "name": "stderr",
     "output_type": "stream",
     "text": [
      "\r",
      " 60%|██████    | 6/10 [09:48<05:53, 88.27s/it] "
     ]
    },
    {
     "name": "stdout",
     "output_type": "stream",
     "text": [
      "Accuracy of the network on the 10000 test images: 6 %\n"
     ]
    },
    {
     "name": "stderr",
     "output_type": "stream",
     "text": [
      "\r",
      " 70%|███████   | 7/10 [10:33<03:45, 75.05s/it]"
     ]
    },
    {
     "name": "stdout",
     "output_type": "stream",
     "text": [
      "Accuracy of the network on the 10000 test images: 6 %\n"
     ]
    },
    {
     "name": "stderr",
     "output_type": "stream",
     "text": [
      "\r",
      " 80%|████████  | 8/10 [11:11<02:08, 64.09s/it]"
     ]
    },
    {
     "name": "stdout",
     "output_type": "stream",
     "text": [
      "Accuracy of the network on the 10000 test images: 7 %\n"
     ]
    },
    {
     "name": "stderr",
     "output_type": "stream",
     "text": [
      "\r",
      " 90%|█████████ | 9/10 [11:48<00:55, 55.83s/it]"
     ]
    },
    {
     "name": "stdout",
     "output_type": "stream",
     "text": [
      "Accuracy of the network on the 10000 test images: 10 %\n"
     ]
    },
    {
     "name": "stderr",
     "output_type": "stream",
     "text": [
      "100%|██████████| 10/10 [12:23<00:00, 74.36s/it]"
     ]
    },
    {
     "name": "stdout",
     "output_type": "stream",
     "text": [
      "Accuracy of the network on the 10000 test images: 14 %\n"
     ]
    },
    {
     "name": "stderr",
     "output_type": "stream",
     "text": [
      "\n"
     ]
    }
   ],
   "source": [
    "import torch.optim as optim\n",
    "import sys\n",
    "\n",
    "trn_loss_list = []\n",
    "val_loss_list = []\n",
    "acc_list = []\n",
    "acc_list_aug = []\n",
    "num_batches = len(trainloader)\n",
    "for epoch in range(20):\n",
    "    running_loss = 0.0\n",
    "    model1.train()\n",
    "    for i,images in tqdm(enumerate(trainloader)):\n",
    "        optimizer.zero_grad()\n",
    "        c1 = images[0].to(device)\n",
    "        c6 = images[1].to(device)\n",
    "        output = model1(c1)\n",
    "        loss = criterion(output, c6)\n",
    "        loss.backward()    # calc gradients\n",
    "        optimizer.step()   # update gradients\n",
    "        running_loss += loss.item()\n",
    "\n",
    "    model1.eval()\n",
    "    with torch.no_grad(): # very very very very important!!!\n",
    "        val_loss = 0.0\n",
    "        class_correct = list(0. for i in range(num_classes))\n",
    "        class_total = list(0. for i in range(num_classes))\n",
    "        correct = 0\n",
    "        total = 0\n",
    "        for j,val in enumerate(testloader):\n",
    "            v1 = val[0].to(device)\n",
    "            val_labels = val[1].to(device)\n",
    "            val_output = model1(v1)\n",
    "            v_loss = criterion(val_output, val_labels)\n",
    "            val_loss += v_loss\n",
    "            _, predicted = torch.max(val_output, 1)\n",
    "            c = (predicted == val_labels).squeeze()\n",
    "            total += val_labels.size(0)\n",
    "            correct += (predicted == val_labels).sum().item()\n",
    "            for i in range(len(val_labels)):\n",
    "                val_label = val_labels[i]\n",
    "                class_correct[val_label] += c[i].item()\n",
    "                class_total[val_label] += 1\n",
    "\n",
    "        print(\"epoch:\",str(epoch),str(i),\" batch\")\n",
    "        for i in range(num_classes):\n",
    "            if class_total[i]==0:\n",
    "                print('class_total = 0',class_correct,class_total)\n",
    "            else:\n",
    "                print('Accuracy of %5s : %2d %%' % (i, 100 * class_correct[i] / class_total[i]))\n",
    "\n",
    "    print(\"epoch: {}/{} | step: {}/{} | trn loss: {:.4f} | val loss: {:.4f}\".format(\n",
    "        epoch+1, 20, i+1, num_batches, running_loss / len(trainloader), val_loss / len(testloader)\n",
    "    ))        \n",
    "    print('Accuracy of the network on the 10000 test images: %d %%' % (100 * correct / total))\n",
    "\n",
    "    trn_loss_list.append(running_loss/1875)\n",
    "    val_loss_list.append(val_loss/len(testloader))\n",
    "    running_loss = 0.0\n",
    "\n",
    "    temp_acc = []\n",
    "    for testloader_val in tqdm(val_gen_arr):\n",
    "        correct = 0\n",
    "        total = 0\n",
    "        class_correct = list(0. for i in range(num_classes))\n",
    "        class_total = list(0. for i in range(num_classes))\n",
    "        with torch.no_grad():\n",
    "            for images in testloader_val:\n",
    "                c1 = images[0].to(device)\n",
    "                val_labels = images[1].to(device)\n",
    "                outputs = model1(c1)\n",
    "                _, predicted = torch.max(outputs.data, 1)\n",
    "                c = (predicted == val_labels).squeeze()\n",
    "                total += val_labels.size(0)\n",
    "                correct += (predicted == val_labels).sum().item()\n",
    "        #print(total,correct,end='')\n",
    "\n",
    "        print('Accuracy of the network on the 10000 test images: %d %%' % (100 * correct / total))\n",
    "        temp_acc.append(100 * correct / total)\n",
    "        #print(temp_acc)\n",
    "    acc_list.append(temp_acc)\n",
    "\n",
    "    import csv\n",
    "\n",
    "    csvfile = open(TEST_RESULT_PATH+'testresult_'+TASK_NAME+'_'+DATE+'.csv','w',newline=\"\")\n",
    "\n",
    "    csvwriter = csv.writer(csvfile)\n",
    "    for row in acc_list:\n",
    "        csvwriter.writerow(row)\n",
    "\n",
    "    csvfile.close()\n",
    "\n",
    "    torch.save(model1.state_dict(),WEIGHTS_PATH+TASK_NAME+'_'+DATE+'.pt')\n",
    "\n",
    "    model1.train()\n",
    "    '''if epoch == 9:\n",
    "        optimizer = optim.Adam(model1.parameters(), lr=0.0001)\n",
    "        print('lr is changed to 0.0001')'''\n",
    "        \n",
    "    #optimizer = optim.SGD(model.parameters(), lr=0.001, momentum=0.9)'''\n",
    "    "
   ]
  },
  {
   "cell_type": "code",
   "execution_count": null,
   "metadata": {},
   "outputs": [],
   "source": [
    "images[1]"
   ]
  },
  {
   "cell_type": "code",
   "execution_count": null,
   "metadata": {},
   "outputs": [],
   "source": [
    "for i,images in tqdm(enumerate(trainloader)):\n",
    "    print(images[1].shape)\n",
    "    break"
   ]
  },
  {
   "cell_type": "markdown",
   "metadata": {},
   "source": [
    "# TRAIN AND TEST ENDS\n",
    "code below won't work"
   ]
  },
  {
   "cell_type": "code",
   "execution_count": null,
   "metadata": {},
   "outputs": [],
   "source": [
    "import torch.nn as nn\n",
    "import torch.nn.functional as F\n",
    "\n",
    "class Net(nn.Module):\n",
    "    def __init__(self):\n",
    "        super(Net, self).__init__()\n",
    "        \n",
    "        self.conv1 = nn.Conv2d(3,64,kernel_size=7,stride=2,padding=3,bias=False)\n",
    "        self.bn1 = nn.BatchNorm2d(64)\n",
    "        self.relu = nn.ReLU(inplace = True)\n",
    "        self.maxpool = nn.MaxPool2d(kernel_size=3,stride=2,padding=1)\n",
    "        \n",
    "        self.prepool1 = nn.Upsample(scale_factor=2, mode='bilinear')\n",
    "        self.prepool2 = nn.AvgPool2d(2,2)\n",
    "        \n",
    "        #self.sc1 = SCModule1(3,64)\n",
    "        self.rp1 = ResPoolModule(256)\n",
    "        self.rp2 = ResPoolModule(512)\n",
    "        self.rp3 = ResPoolModule(1024)\n",
    "        self.rp4 = ResPoolModule(2048)\n",
    "        \n",
    "        #self.relu = nn.ReLU(inplace = True)\n",
    "        \n",
    "        self.conv2_1 = SCBottleneck(64,256,downsample=True)\n",
    "        self.conv2_2 = SCBottleneck(256,256)\n",
    "        self.conv2_3 = SCBottleneck(256,256)\n",
    "        \n",
    "        self.conv3_1 = SCBottleneck(256,512,downsample=True)\n",
    "        self.conv3_2 = SCBottleneck(512,512)\n",
    "        self.conv3_3 = SCBottleneck(512,512)\n",
    "        self.conv3_4 = SCBottleneck(512,512)\n",
    "        \n",
    "        self.conv4_1 = SCBottleneck(512,1024,downsample=True)\n",
    "        self.conv4_2 = SCBottleneck(1024,1024)\n",
    "        self.conv4_3 = SCBottleneck(1024,1024)\n",
    "        self.conv4_4 = SCBottleneck(1024,1024)\n",
    "        self.conv4_5 = SCBottleneck(1024,1024)\n",
    "        self.conv4_6 = SCBottleneck(1024,1024)\n",
    "        \n",
    "        self.conv5_1 = SCBottleneck(1024,2048,downsample=True)\n",
    "        self.conv5_2 = SCBottleneck(2048,2048)\n",
    "        self.conv5_3 = SCBottleneck(2048,2048)\n",
    "        \n",
    "        self.avgpool = nn.AdaptiveAvgPool2d((1,1))\n",
    "        self.fc = nn.Linear(2048,10)\n",
    "\n",
    "    def forward(self, x):\n",
    "        save = []\n",
    "        \n",
    "        x = self.conv1(x)\n",
    "        x = self.bn1(x)\n",
    "        x = self.relu(x)\n",
    "        save.append(x)\n",
    "        \n",
    "        #print(x.size())\n",
    "            \n",
    "        x = self.conv2_1([self.prepool1(x),x,self.prepool2(x)])\n",
    "        save.append(x[0])\n",
    "        save.append(x[1])\n",
    "        save.append(x[2])\n",
    "        x = self.conv2_2(x)\n",
    "        save.append(x[0])\n",
    "        save.append(x[1])\n",
    "        save.append(x[2])\n",
    "        x = self.conv2_3(x)\n",
    "        save.append(x[0])\n",
    "        save.append(x[1])\n",
    "        save.append(x[2])\n",
    "        \n",
    "        x = self.rp1(x)\n",
    "        save.append(x)\n",
    "        \n",
    "        #print(x.size())\n",
    "        \n",
    "        x = self.conv3_1([self.prepool1(x),x,self.prepool2(x)])\n",
    "        save.append(x[0])\n",
    "        save.append(x[1])\n",
    "        save.append(x[2])\n",
    "        x = self.conv3_2(x)\n",
    "        save.append(x[0])\n",
    "        save.append(x[1])\n",
    "        save.append(x[2])\n",
    "        x = self.conv3_3(x)\n",
    "        save.append(x[0])\n",
    "        save.append(x[1])\n",
    "        save.append(x[2])\n",
    "        x = self.conv3_4(x)\n",
    "        save.append(x[0])\n",
    "        save.append(x[1])\n",
    "        save.append(x[2])\n",
    "        \n",
    "        x = self.rp2(x)\n",
    "        save.append(x)\n",
    "        \n",
    "        x = self.conv4_1([self.prepool1(x),x,self.prepool2(x)])\n",
    "        save.append(x[0])\n",
    "        save.append(x[1])\n",
    "        save.append(x[2])\n",
    "        x = self.conv4_2(x)\n",
    "        save.append(x[0])\n",
    "        save.append(x[1])\n",
    "        save.append(x[2])\n",
    "        x = self.conv4_3(x)\n",
    "        save.append(x[0])\n",
    "        save.append(x[1])\n",
    "        save.append(x[2])\n",
    "        x = self.conv4_4(x)\n",
    "        save.append(x[0])\n",
    "        save.append(x[1])\n",
    "        save.append(x[2])\n",
    "        x = self.conv4_5(x)\n",
    "        save.append(x[0])\n",
    "        save.append(x[1])\n",
    "        save.append(x[2])\n",
    "        x = self.conv4_6(x)\n",
    "        save.append(x[0])\n",
    "        save.append(x[1])\n",
    "        save.append(x[2])\n",
    "        \n",
    "        x = self.rp3(x)\n",
    "        save.append(x)\n",
    "        \n",
    "        x = self.conv5_1([self.prepool1(x),x,self.prepool2(x)])\n",
    "        save.append(x[0])\n",
    "        save.append(x[1])\n",
    "        save.append(x[2])\n",
    "        x = self.conv5_2(x)\n",
    "        save.append(x[0])\n",
    "        save.append(x[1])\n",
    "        save.append(x[2])\n",
    "        x = self.conv5_3(x)\n",
    "        save.append(x[0])\n",
    "        save.append(x[1])\n",
    "        save.append(x[2])\n",
    "        \n",
    "        x = self.rp4(x)\n",
    "        save.append(x)\n",
    "        \n",
    "        x = self.avgpool(x)\n",
    "        x = torch.flatten(x,1)\n",
    "        x = self.fc(x)\n",
    "        \n",
    "        return x,save\n",
    "        \n",
    "        "
   ]
  },
  {
   "cell_type": "code",
   "execution_count": null,
   "metadata": {},
   "outputs": [],
   "source": [
    "model1 = Net().to('cuda:0')\n",
    "if torch.cuda.device_count() > 1:\n",
    "    model1 = DDP(model1,device_ids = [0])\n",
    "'''    \n",
    "model2 = Net().to('cuda:0')\n",
    "if torch.cuda.device_count() > 1:\n",
    "    model2 = DDP(model2,device_ids = [2])'''"
   ]
  },
  {
   "cell_type": "code",
   "execution_count": null,
   "metadata": {},
   "outputs": [],
   "source": [
    "model1.load_state_dict(torch.load('ResNet50_allsc_half_mar11.pt'))\n",
    "#model2.load_state_dict(torch.load('ResNet50_scrp2_feb19.pt'))"
   ]
  },
  {
   "cell_type": "code",
   "execution_count": null,
   "metadata": {},
   "outputs": [],
   "source": [
    "model1.eval()\n",
    "#model2.eval()"
   ]
  },
  {
   "cell_type": "code",
   "execution_count": null,
   "metadata": {},
   "outputs": [],
   "source": [
    "from PIL import Image\n",
    "\n",
    "transform = transforms.Compose([\n",
    "    transforms.ToTensor(),\n",
    "    transforms.Normalize((0.1307, 0.1307, 0.1307), (0.3081, 0.3081, 0.3081))])\n",
    "\n",
    "SIZED_VAL_PATH = 'mnist_sized'\n",
    "l2_img_test_arr = []\n",
    "for i in range(1,113):\n",
    "    img_path = os.path.join(SIZED_VAL_PATH,str(i),'9','1622.png')\n",
    "    img = Image.open(img_path)\n",
    "    img = transform(img)\n",
    "    img = torch.unsqueeze(img,0)\n",
    "    img.to(device)\n",
    "    l2_img_test_arr.append(img)"
   ]
  },
  {
   "cell_type": "code",
   "execution_count": null,
   "metadata": {},
   "outputs": [],
   "source": [
    "!mkdir res50_allsc_l2"
   ]
  },
  {
   "cell_type": "code",
   "execution_count": null,
   "metadata": {
    "scrolled": true
   },
   "outputs": [],
   "source": [
    "name = ['1st conv',\\\n",
    "        'sc2_1_1(256)','sc2_1_2(256)','sc2_1_3(256)',\\\n",
    "        'sc2_2_1(256)','sc2_2_2(256)','sc2_2_3(256)',\\\n",
    "        'sc2_3_1(256)','sc2_3_2(256)','sc2_3_3(256)',\\\n",
    "        'rp2',\\\n",
    "        'sc3_1_1(512)','sc3_1_2(512)','sc3_1_3(512)',\\\n",
    "        'sc3_2_1(512)','sc3_2_2(512)','sc3_2_3(512)',\\\n",
    "        'sc3_3_1(512)','sc3_3_2(512)','sc3_3_3(512)',\\\n",
    "        'sc3_4_1(512)','sc3_4_2(512)','sc3_4_3(512)',\\\n",
    "        'rp3',\\\n",
    "        'sc4_1_1(1024)','sc4_1_2(1024)','sc4_1_3(1024)',\\\n",
    "        'sc4_2_1(1024)','sc4_2_2(1024)','sc4_2_3(1024)',\\\n",
    "        'sc4_3_1(1024)','sc4_3_2(1024)','sc4_3_3(1024)',\\\n",
    "        'sc4_4_1(1024)','sc4_4_2(1024)','sc4_4_3(1024)',\\\n",
    "        'sc4_5_1(1024)','sc4_5_2(1024)','sc4_5_3(1024)',\\\n",
    "        'sc4_6_1(1024)','sc4_6_2(1024)','sc4_6_3(1024)',\\\n",
    "        'rp4',\\\n",
    "        'sc5_1_1(2048)','sc5_1_2(2048)','sc5_1_3(2048)',\\\n",
    "        'sc5_2_1(2048)','sc5_2_2(2048)','sc5_2_3(2048)',\\\n",
    "        'sc5_3_1(2048)','sc5_3_2(2048)','sc5_3_3(2048)',\\\n",
    "        'rp5']\n",
    "\n",
    "size = 1\n",
    "for img in tqdm(l2_img_test_arr):\n",
    "    with torch.no_grad():\n",
    "        outputs,save = model1(img)\n",
    "        _, predicted = torch.max(outputs.data, 1)\n",
    "    print(predicted)\n",
    "    \n",
    "    j = 0\n",
    "    plt.figure(figsize=(24,12))\n",
    "    plt.suptitle('resnet L2ALL SC half image size:'+str(size)+'\\n'+'predicted :'+str(predicted.cpu().numpy()[0])+' ground truth:9')\n",
    "    #plt.suptitle('resnet L2 ALL layer SC half')\n",
    "    for act in save:\n",
    "        dist = []\n",
    "        index = np.arange(act[0].size()[0])\n",
    "        for i in range(act[0].size()[0]):\n",
    "            dist.append(torch.norm(act[0][i],p=2).cpu().detach().numpy())\n",
    "        plt.subplot(6,9,j+1)\n",
    "        plt.title(name[j])\n",
    "        plt.bar(index,dist)\n",
    "        j = j+1\n",
    "        plt.gca().axes.get_xaxis().set_visible(False)\n",
    "    plt.savefig('res50_allsc_l2/l2_'+str(size)+'.png')\n",
    "    plt.show()\n",
    "    size = size+1"
   ]
  },
  {
   "cell_type": "code",
   "execution_count": null,
   "metadata": {},
   "outputs": [],
   "source": [
    "import cv2\n",
    "\n",
    "frame_array = []\n",
    "for i in range(1,113):\n",
    "    filename='res50_allsc_l2/l2_'+str(i)+'.png'\n",
    "    img = cv2.imread(filename)\n",
    "    height, width, layers = img.shape\n",
    "    size = (width,height)\n",
    "    \n",
    "    #inserting the frames into an image array\n",
    "    frame_array.append(img)\n",
    "    \n",
    "out = cv2.VideoWriter('res50_allsc_l2/allsc_half_l2_mar15.mp4',cv2.VideoWriter_fourcc(*'MP4V'), 5, size)\n",
    "for i in range(len(frame_array)):\n",
    "    # writing to a image array\n",
    "    out.write(frame_array[i])\n",
    "out.release()"
   ]
  },
  {
   "cell_type": "code",
   "execution_count": null,
   "metadata": {},
   "outputs": [],
   "source": [
    "def imshow(img):\n",
    "    img = img / 2 + 0.5     # unnormalize\n",
    "    npimg = img.detach().numpy()\n",
    "    #plt.imshow(np.transpose(npimg, (1, 2, 0)))\n",
    "    return np.transpose(npimg, (1, 2, 0))"
   ]
  },
  {
   "cell_type": "code",
   "execution_count": null,
   "metadata": {},
   "outputs": [],
   "source": [
    "import matplotlib.cm as cm\n",
    "\n",
    "def show_gradient(gradient):\n",
    "    #gradient = gradient.cpu().numpy().transpose(1, 2, 0)\n",
    "    gradient = gradient.cpu().numpy().transpose(1,2,0)\n",
    "    gradient -= gradient.min()\n",
    "    gradient /= gradient.max()\n",
    "    gradient *= 255.0\n",
    "    plt.imshow(np.squeeze(np.uint8(gradient),axis=2))\n",
    "    plt.show()\n",
    "\n",
    "def show_gradcam(gcam, raw_image, paper_cmap=False,show = True):\n",
    "    gcam = gcam.cpu().numpy()\n",
    "    cmap = cm.jet(gcam)[..., :3]*255.0#\n",
    "    if paper_cmap:\n",
    "        alpha = gcam[..., None]\n",
    "        gcam = alpha * cmap + (1 - alpha) * raw_image\n",
    "    else:\n",
    "        gcam = (cmap.astype(np.float) + raw_image.astype(np.float)) / 2\n",
    "        #gcam = (cmap.astype(np.float)*raw_image.astype(np.float))\n",
    "    if show:\n",
    "        plt.imshow(gcam.astype(np.uint8))\n",
    "        plt.show()\n",
    "        return 0\n",
    "    else:\n",
    "        return gcam.astype(np.uint8)"
   ]
  },
  {
   "cell_type": "code",
   "execution_count": null,
   "metadata": {},
   "outputs": [],
   "source": [
    "!mkdir 'gradcam_2x_respool_soloconv'"
   ]
  },
  {
   "cell_type": "code",
   "execution_count": null,
   "metadata": {
    "scrolled": true
   },
   "outputs": [],
   "source": [
    "from sklearn.metrics import confusion_matrix\n",
    "\n",
    "confusion = []\n",
    "\n",
    "temp_acc = []\n",
    "device = 'cuda:0'\n",
    "for testloader in tqdm(val_gen_arr):\n",
    "    correct = 0\n",
    "    total = 0\n",
    "    class_correct = list(0. for i in range(10))\n",
    "    class_total = list(0. for i in range(10))\n",
    "    confusion.append([])\n",
    "    with torch.no_grad():\n",
    "        for images in testloader:\n",
    "            c1 = images[0].to(device)\n",
    "            val_labels = images[1].to(device)\n",
    "            outputs = model1(c1)\n",
    "            _, predicted = torch.max(outputs.data, 1)\n",
    "            #print(predicted)\n",
    "            c = (predicted == val_labels).squeeze()\n",
    "            total += val_labels.size(0)\n",
    "            correct += (predicted == val_labels).sum().item()\n",
    "            \n",
    "            confusion[-1].append(confusion_matrix(val_labels.cpu().numpy(),predicted.cpu().numpy(),labels=[0,1,2,3,4,5,6,7,8,9]))\n",
    "    #print(total,correct,end='')\n",
    "\n",
    "    print('Accuracy of the network on the 10000 test images: %d %%' % (100 * correct / total))\n",
    "    temp_acc.append(100 * correct / total)\n",
    "    \n",
    "#print(confusion)\n"
   ]
  },
  {
   "cell_type": "code",
   "execution_count": null,
   "metadata": {},
   "outputs": [],
   "source": [
    "confusion_sum = []\n",
    "\n",
    "for i in range(len(confusion)):\n",
    "    confusion_sum.append(confusion[i][0])\n",
    "    for j in range(1,len(confusion[i])):\n",
    "        confusion_sum[i] += confusion[i][j]\n",
    "        \n",
    "print(confusion_sum[0])"
   ]
  },
  {
   "cell_type": "code",
   "execution_count": null,
   "metadata": {},
   "outputs": [],
   "source": [
    "!mkdir confusion_2x_respool_soloconv"
   ]
  },
  {
   "cell_type": "code",
   "execution_count": null,
   "metadata": {},
   "outputs": [],
   "source": [
    "for size in range(0,112):\n",
    "    fig = plt.figure(figsize=(12,12))\n",
    "    pred_name = ['pred '+str(x) for x in range(0,10)]\n",
    "    actual_name = ['true '+str(x) for x in range(0,10)]\n",
    "    ax = fig.add_subplot(111)\n",
    "    cax = ax.matshow(confusion_sum[size],cmap = plt.cm.Greens)\n",
    "    fig.colorbar(cax)\n",
    "    ticks = np.arange(0,10,1)\n",
    "\n",
    "    ind_array = np.arange(0, 10, 1)\n",
    "    x, y = np.meshgrid(ind_array, ind_array)\n",
    "\n",
    "    for x_val, y_val in zip(x.flatten(), y.flatten()):\n",
    "        c = str(confusion_sum[size][y_val][x_val])\n",
    "        ax.text(x_val, y_val, c, va='center', ha='center')\n",
    "\n",
    "    ax.set_xticks(ticks)\n",
    "    ax.set_yticks(ticks)\n",
    "    ax.set_xticklabels(pred_name)\n",
    "    ax.set_yticklabels(actual_name)\n",
    "    ax.set_title('size : '+str(size+1)+' acc : '+str(temp_acc[size]))\n",
    "    #plt.matshow(confusion_sum[0])\n",
    "    plt.savefig('confusion_2x_respool_soloconv/confusion'+str(size)+'.png')\n",
    "    plt.show()"
   ]
  },
  {
   "cell_type": "code",
   "execution_count": null,
   "metadata": {},
   "outputs": [],
   "source": [
    "import cv2\n",
    "\n",
    "frame_array = []\n",
    "for i in range(0,112):\n",
    "    filename='confusion_2x_respool_soloconv/confusion' + str(i)+'.png'\n",
    "    img = cv2.imread(filename)\n",
    "    height, width, layers = img.shape\n",
    "    size = (width,height)\n",
    "    \n",
    "    #inserting the frames into an image array\n",
    "    frame_array.append(img)\n",
    "    \n",
    "out = cv2.VideoWriter('confusion_2x_respool_soloconv/confusion_feb13.mp4',cv2.VideoWriter_fourcc(*'MP4V'), 5, size)\n",
    "for i in range(len(frame_array)):\n",
    "    # writing to a image array\n",
    "    out.write(frame_array[i])\n",
    "out.release()"
   ]
  },
  {
   "cell_type": "code",
   "execution_count": null,
   "metadata": {},
   "outputs": [],
   "source": [
    "import os\n",
    "\n",
    "\n",
    "SIZED_VAL_PATH = 'mnist_sized'\n",
    "new_path = []\n",
    "for i in range(1,113):\n",
    "    new_path.append([os.path.join(SIZED_VAL_PATH,str(i))])\n",
    "\n",
    "#new_path.sort(key=lambda x:int(x[0].split('/')[1]))\n",
    "\n",
    "gradcam_gen_arr = []\n",
    "for i in tqdm(range(0,len(new_path))):\n",
    "    transform = transforms.Compose(\n",
    "        [\n",
    "        transforms.ToTensor(),\n",
    "        transforms.Normalize((0.1307, 0.1307, 0.1307), (0.3081, 0.3081, 0.3081))])\n",
    "\n",
    "    testMnistDataset = SizedMnistDataset(new_path[i],transform)\n",
    "\n",
    "    testloader = torch.utils.data.DataLoader(testMnistDataset,\n",
    "                                              batch_size = batch_size, \n",
    "                                              shuffle=False,\n",
    "                                            num_workers=8)\n",
    "    gradcam_gen_arr.append(testloader)\n",
    "#\n",
    "#val_gen_arr\n",
    "accuracy = []"
   ]
  },
  {
   "cell_type": "code",
   "execution_count": null,
   "metadata": {},
   "outputs": [],
   "source": [
    "from gradcam import GradCAM\n",
    "from gradcam import GuidedBackPropagation\n",
    "\n",
    "#model1.eval()\n",
    "#model2.eval()\n",
    "gcam = GradCAM(model=model1)\n",
    "gbp = GuidedBackPropagation(model=model2)"
   ]
  },
  {
   "cell_type": "code",
   "execution_count": null,
   "metadata": {},
   "outputs": [],
   "source": [
    "for name, module in model1.named_modules():\n",
    "    print(name)"
   ]
  },
  {
   "cell_type": "code",
   "execution_count": null,
   "metadata": {},
   "outputs": [],
   "source": [
    "for i in gcam.fmap_pool.keys():\n",
    "    print(i)"
   ]
  },
  {
   "cell_type": "code",
   "execution_count": null,
   "metadata": {},
   "outputs": [],
   "source": [
    "from matplotlib import gridspec\n",
    "\n",
    "gridspec.GridSpec(3,6)\n",
    "\n",
    "imsize = 1\n",
    "for testloader in tqdm(gradcam_gen_arr):\n",
    "    for images in testloader:\n",
    "        v1 = images[0].to(device)\n",
    "        val_labels = images[1].to(device)\n",
    "        break\n",
    "\n",
    "    _ = gcam.forward(v1)\n",
    "    probs,ids = gbp.forward(v1)\n",
    "\n",
    "    gcam.backward(ids=ids[:,[0]])\n",
    "    gbp.backward(ids=ids[:,[0]])\n",
    "\n",
    "    grad_img = []\n",
    "\n",
    "    for j in range(len(v1)):\n",
    "        grad_img.append([])\n",
    "        for name, module in model1.named_modules():\n",
    "            #print(name)\n",
    "            if name == '' or name == 'module' or name == 'module.fc1' or name == 'module.fc2' or name == 'module.fc3' or name == 'module.prepool1' or name == 'module.prepool2':\n",
    "                continue\n",
    "            regions = gcam.generate(target_layer=name)\n",
    "            gradients = gbp.generate()\n",
    "            #print(\"\\t#{}: {} ({:.5f})\".format(j, ids[j, 0], probs[j, 0]))\n",
    "            #print(regions[j,0])\n",
    "            if name == 'module.sc1' or name == 'module.sc2' or name == 'module.sc3':\n",
    "                grad_img[j].append(show_gradcam(gcam=regions[0][j,0],raw_image=imshow(v1[j].cpu()),show=False))\n",
    "                grad_img[j].append(show_gradcam(gcam=regions[1][j,0],raw_image=imshow(v1[j].cpu()),show=False))\n",
    "                grad_img[j].append(show_gradcam(gcam=regions[2][j,0],raw_image=imshow(v1[j].cpu()),show=False))\n",
    "            if name == 'module.rp1':\n",
    "                grad_img[j].append(show_gradcam(gcam=regions[j,0],raw_image=imshow(v1[j].cpu()),show=False))\n",
    "\n",
    "    img_num = [0,1,2,3,4,5,15,16,17,18,19,20,31,32,33,34]\n",
    "    col_num = [3,3,3,1]\n",
    "    title = ['sc1 (L1,L2,L3)','sc2(L1,L2,L3)','sc3(L1,L2,L3)','rp1']\n",
    "    size = 112\n",
    "    \n",
    "    scale = 3./size\n",
    "    plt.figure(figsize=(18,9))\n",
    "    plt.suptitle('SC_CNN_2x_respool_gradcam'+'_size:'+str(imsize)+'_acc:'+str(temp_acc[imsize-1])+'\\n predicted:{} ({:.5f})'.format(ids[0, 0], probs[0, 0]))\n",
    "    num = 0\n",
    "    for i in range(len(col_num)):\n",
    "        display_grid = np.zeros((112,112*col_num[i],3)).astype(np.uint8)\n",
    "        for row in range(col_num[i]):\n",
    "            display_grid[:size,row*size : (row+1)*size,:3] = grad_img[0][num]\n",
    "            num = num+1\n",
    "        if i == 3:\n",
    "            plt.subplot2grid((3,6), (i//2,(i%2)*3),colspan = 1,rowspan=1)\n",
    "        else:\n",
    "            plt.subplot2grid((3,6), (i//2,(i%2)*3),colspan = 3,rowspan=1)\n",
    "        plt.axis('off')\n",
    "        plt.title(title[i])\n",
    "        plt.grid(False)\n",
    "        plt.imshow(display_grid,aspect='auto')\n",
    "    plt.savefig('gradcam_2x_respool/pltgrad'+str(imsize)+'.png')\n",
    "    plt.show()\n",
    "    imsize = imsize+1"
   ]
  },
  {
   "cell_type": "code",
   "execution_count": null,
   "metadata": {},
   "outputs": [],
   "source": [
    "v1.size()"
   ]
  },
  {
   "cell_type": "code",
   "execution_count": null,
   "metadata": {},
   "outputs": [],
   "source": [
    "frame_array = []\n",
    "for i in range(1,113):\n",
    "    filename='gradcam_2x/pltgrad' + str(i)+'.png'\n",
    "    img = cv2.imread(filename)\n",
    "    height, width, layers = img.shape\n",
    "    size = (width,height)\n",
    "    \n",
    "    #inserting the frames into an image array\n",
    "    frame_array.append(img)\n",
    "    \n",
    "out = cv2.VideoWriter('gradcam_2x_respool/gradcam_ordered_feb13.mp4',cv2.VideoWriter_fourcc(*'MP4V'), 5, size)\n",
    "for i in range(len(frame_array)):\n",
    "    # writing to a image array\n",
    "    out.write(frame_array[i])\n",
    "out.release()"
   ]
  },
  {
   "cell_type": "code",
   "execution_count": null,
   "metadata": {},
   "outputs": [],
   "source": [
    "for i in gcam.fmap_pool.keys():\n",
    "    print(i)"
   ]
  },
  {
   "cell_type": "code",
   "execution_count": null,
   "metadata": {},
   "outputs": [],
   "source": [
    "num=0\n",
    "\n",
    "#plt.figure(figsize=(12,5))\n",
    "plt.matshow([gcam.fmap_pool['module.fc1'].cpu().numpy()[num]])\n",
    "plt.matshow([gcam.fmap_pool['module.fc2'].cpu().numpy()[num]])\n",
    "plt.matshow([gcam.fmap_pool['module.fc3'].cpu().numpy()[num]])\n",
    "\n",
    "plt.show()"
   ]
  },
  {
   "cell_type": "code",
   "execution_count": null,
   "metadata": {},
   "outputs": [],
   "source": [
    "i=0\n",
    "print(gcam.fmap_pool['module.prepool1'].cpu().numpy()[0][i].var())\n",
    "plt.imshow(gcam.fmap_pool['module.prepool2'].cpu().numpy()[0][i])\n",
    "plt.show()"
   ]
  },
  {
   "cell_type": "code",
   "execution_count": null,
   "metadata": {},
   "outputs": [],
   "source": [
    "gcam.fmap_pool['module.sc1_1'].cpu().numpy()[0][0]"
   ]
  },
  {
   "cell_type": "code",
   "execution_count": null,
   "metadata": {},
   "outputs": [],
   "source": [
    "num = 1\n",
    "#print(gcam.fmap_pool['module.sc1_1'].cpu().numpy()[0][num])\n",
    "plt.figure(figsize=(16,12))\n",
    "for i in range(6):\n",
    "    plt.subplot(3,6,i+1)\n",
    "    plt.imshow(gcam.fmap_pool['module.sc1_1'].cpu().numpy()[0][i])\n",
    "for i in range(6):\n",
    "    plt.subplot(3,6,i+1+6)\n",
    "    plt.imshow(gcam.fmap_pool['module.sc1_2'].cpu().numpy()[0][i])\n",
    "for i in range(6):\n",
    "    plt.subplot(3,6,i+1+12)\n",
    "    plt.imshow(gcam.fmap_pool['module.sc1_3'].cpu().numpy()[0][i])\n",
    "plt.show()"
   ]
  },
  {
   "cell_type": "code",
   "execution_count": null,
   "metadata": {},
   "outputs": [],
   "source": [
    "num = 1\n",
    "#print(gcam.fmap_pool['module.sc1_1'].cpu().numpy()[0][num])\n",
    "plt.figure(figsize=(16,5))\n",
    "for i in range(18):\n",
    "    plt.subplot(3,18,i+1)\n",
    "    plt.imshow(gcam.fmap_pool['module.sc2_1'].cpu().numpy()[0][i])\n",
    "for i in range(18):\n",
    "    plt.subplot(3,18,i+1+18)\n",
    "    plt.imshow(gcam.fmap_pool['module.sc2_2'].cpu().numpy()[0][i])\n",
    "for i in range(18):\n",
    "    plt.subplot(3,18,i+1+36)\n",
    "    plt.imshow(gcam.fmap_pool['module.sc2_3'].cpu().numpy()[0][i])\n",
    "plt.show()"
   ]
  },
  {
   "cell_type": "code",
   "execution_count": null,
   "metadata": {},
   "outputs": [],
   "source": [
    "num = 1\n",
    "#print(gcam.fmap_pool['module.sc1_1'].cpu().numpy()[0][num])\n",
    "plt.figure(figsize=(16,5))\n",
    "for i in range(30):\n",
    "    plt.subplot(3,30,i+1)\n",
    "    plt.imshow(gcam.fmap_pool['module.sc3_1'].cpu().numpy()[0][i])\n",
    "for i in range(30):\n",
    "    plt.subplot(3,30,i+1+30)\n",
    "    plt.imshow(gcam.fmap_pool['module.sc3_2'].cpu().numpy()[0][i])\n",
    "for i in range(30):\n",
    "    plt.subplot(3,30,i+1+60)\n",
    "    plt.imshow(gcam.fmap_pool['module.sc3_3'].cpu().numpy()[0][i])\n",
    "plt.show()"
   ]
  },
  {
   "cell_type": "code",
   "execution_count": null,
   "metadata": {},
   "outputs": [],
   "source": [
    "num = 1\n",
    "#print(gcam.fmap_pool['module.sc1_1'].cpu().numpy()[0][num])\n",
    "plt.figure(figsize=(16,5))\n",
    "for i in range(30):\n",
    "    plt.subplot(3,10,i+1)\n",
    "    plt.imshow(gcam.fmap_pool['module.rp1'].cpu().numpy()[0][i])\n",
    "plt.show()"
   ]
  },
  {
   "cell_type": "code",
   "execution_count": null,
   "metadata": {},
   "outputs": [],
   "source": [
    "gcam.fmap_pool['module.sc1_1'].cpu().numpy().shape"
   ]
  },
  {
   "cell_type": "code",
   "execution_count": null,
   "metadata": {},
   "outputs": [],
   "source": [
    "num = 1\n",
    "conv_list = ['module.sc1.conv1','module.sc1.conv2','module.sc1.conv3']\n",
    "conv_num = 0\n",
    "#print(gcam.fmap_pool[conv_list[conv_num]].cpu().numpy()[0][num])\n",
    "for i in range(2):\n",
    "    plt.subplot(1,2,i+1)\n",
    "    plt.imshow(gcam.fmap_pool[conv_list[conv_num]].cpu().numpy()[0][i])\n",
    "plt.show()"
   ]
  },
  {
   "cell_type": "code",
   "execution_count": null,
   "metadata": {},
   "outputs": [],
   "source": [
    "num = 1\n",
    "conv_list = ['module.sc1.conv1','module.sc1.conv2','module.sc1.conv3']\n",
    "conv_num = 1\n",
    "#print(gcam.fmap_pool[conv_list[conv_num]].cpu().numpy()[0][num])\n",
    "for i in range(2):\n",
    "    plt.subplot(1,2,i+1)\n",
    "    plt.imshow(gcam.fmap_pool[conv_list[conv_num]].cpu().numpy()[0][i])\n",
    "plt.show()"
   ]
  },
  {
   "cell_type": "code",
   "execution_count": null,
   "metadata": {},
   "outputs": [],
   "source": [
    "num = 1\n",
    "conv_list = ['module.sc1.conv1','module.sc1.conv2','module.sc1.conv3']\n",
    "conv_num = 2\n",
    "#print(gcam.fmap_pool[conv_list[conv_num]].cpu().numpy()[0][num])\n",
    "for i in range(2):\n",
    "    plt.subplot(1,2,i+1)\n",
    "    plt.imshow(gcam.fmap_pool[conv_list[conv_num]].cpu().numpy()[0][i])\n",
    "plt.show()"
   ]
  },
  {
   "cell_type": "code",
   "execution_count": null,
   "metadata": {},
   "outputs": [],
   "source": [
    "model1.module.sc1.conv1.weight.shape"
   ]
  },
  {
   "cell_type": "code",
   "execution_count": null,
   "metadata": {},
   "outputs": [],
   "source": [
    "for i in range(3):\n",
    "    print(model1.module.sc1.conv1.weight[0][i].cpu().detach().numpy())\n",
    "    plt.imshow(model1.module.sc1.conv1.weight[0][i].cpu().detach().numpy())#.shape\n",
    "    plt.show()"
   ]
  },
  {
   "cell_type": "code",
   "execution_count": null,
   "metadata": {},
   "outputs": [],
   "source": [
    "for i in range(3):\n",
    "    print(model1.module.sc1.conv2.weight[0][i].cpu().detach().numpy())\n",
    "    plt.imshow(model1.module.sc1.conv2.weight[0][i].cpu().detach().numpy())#.shape\n",
    "    plt.show()"
   ]
  },
  {
   "cell_type": "code",
   "execution_count": null,
   "metadata": {},
   "outputs": [],
   "source": [
    "for i in range(3):\n",
    "    print(model1.module.sc1.conv3.weight[0][i].cpu().detach().numpy())\n",
    "    plt.imshow(model1.module.sc1.conv3.weight[0][i].cpu().detach().numpy())#.shape\n",
    "    plt.show()"
   ]
  },
  {
   "cell_type": "code",
   "execution_count": null,
   "metadata": {},
   "outputs": [],
   "source": []
  }
 ],
 "metadata": {
  "accelerator": "GPU",
  "colab": {
   "collapsed_sections": [],
   "name": "SC_CNN_v0.ipynb",
   "provenance": []
  },
  "kernelspec": {
   "display_name": "Python 3",
   "language": "python",
   "name": "python3"
  },
  "language_info": {
   "codemirror_mode": {
    "name": "ipython",
    "version": 3
   },
   "file_extension": ".py",
   "mimetype": "text/x-python",
   "name": "python",
   "nbconvert_exporter": "python",
   "pygments_lexer": "ipython3",
   "version": "3.6.9"
  }
 },
 "nbformat": 4,
 "nbformat_minor": 1
}
