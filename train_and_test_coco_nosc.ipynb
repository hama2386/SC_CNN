{
 "cells": [
  {
   "cell_type": "code",
   "execution_count": 1,
   "metadata": {
    "colab": {
     "base_uri": "https://localhost:8080/",
     "height": 318
    },
    "colab_type": "code",
    "id": "SD8EvIMWEBPH",
    "outputId": "f582d519-eb7a-457f-9705-0d961fc032a2"
   },
   "outputs": [
    {
     "name": "stdout",
     "output_type": "stream",
     "text": [
      "Tue Mar 31 23:50:17 2020       \r\n",
      "+-----------------------------------------------------------------------------+\r\n",
      "| NVIDIA-SMI 440.33.01    Driver Version: 440.33.01    CUDA Version: 10.2     |\r\n",
      "|-------------------------------+----------------------+----------------------+\r\n",
      "| GPU  Name        Persistence-M| Bus-Id        Disp.A | Volatile Uncorr. ECC |\r\n",
      "| Fan  Temp  Perf  Pwr:Usage/Cap|         Memory-Usage | GPU-Util  Compute M. |\r\n",
      "|===============================+======================+======================|\r\n",
      "|   0  GeForce RTX 208...  Off  | 00000000:3B:00.0 Off |                  N/A |\r\n",
      "| 31%   43C    P0    63W / 250W |      0MiB / 11019MiB |      1%      Default |\r\n",
      "+-------------------------------+----------------------+----------------------+\r\n",
      "|   1  GeForce RTX 208...  Off  | 00000000:5E:00.0 Off |                  N/A |\r\n",
      "| 33%   43C    P0    64W / 250W |      0MiB / 11019MiB |      1%      Default |\r\n",
      "+-------------------------------+----------------------+----------------------+\r\n",
      "|   2  GeForce RTX 208...  Off  | 00000000:86:00.0 Off |                  N/A |\r\n",
      "| 31%   41C    P0    48W / 250W |      0MiB / 11019MiB |      0%      Default |\r\n",
      "+-------------------------------+----------------------+----------------------+\r\n",
      "|   3  GeForce RTX 208...  Off  | 00000000:AF:00.0 Off |                  N/A |\r\n",
      "| 25%   46C    P0    35W / 250W |      0MiB / 11016MiB |      0%      Default |\r\n",
      "+-------------------------------+----------------------+----------------------+\r\n",
      "                                                                               \r\n",
      "+-----------------------------------------------------------------------------+\r\n",
      "| Processes:                                                       GPU Memory |\r\n",
      "|  GPU       PID   Type   Process name                             Usage      |\r\n",
      "|=============================================================================|\r\n",
      "|  No running processes found                                                 |\r\n",
      "+-----------------------------------------------------------------------------+\r\n"
     ]
    }
   ],
   "source": [
    "!nvidia-smi "
   ]
  },
  {
   "cell_type": "code",
   "execution_count": 2,
   "metadata": {
    "colab": {},
    "colab_type": "code",
    "id": "QuCAgoS1Hn4L"
   },
   "outputs": [
    {
     "data": {
      "text/plain": [
       "'# For clean\\n\\nimport os\\nimport fnmatch\\n \\nINTERNAL_DATA_PATH = \\'cropped_coco/\\'\\n# Get a list of all files in directory\\nfor rootDir, subdirs, filenames in os.walk(INTERNAL_DATA_PATH):\\n    # Find the files that matches the given patterm\\n    for filename in fnmatch.filter(filenames, \\'.*\\'):\\n        try:\\n            #print(filename)\\n            os.remove(os.path.join(rootDir, filename))\\n        except OSError:\\n            print(\"Error while deleting file\")\\n    for subdir in fnmatch.filter(subdirs, \\'.*\\'):\\n        try:\\n            #print(filename)\\n            os.remove(os.path.join(rootDir, subdir))\\n        except OSError:\\n            print(\"Error while deleting file\")'"
      ]
     },
     "execution_count": 2,
     "metadata": {},
     "output_type": "execute_result"
    }
   ],
   "source": [
    "'''# For clean\n",
    "\n",
    "import os\n",
    "import fnmatch\n",
    " \n",
    "INTERNAL_DATA_PATH = 'cropped_coco/'\n",
    "# Get a list of all files in directory\n",
    "for rootDir, subdirs, filenames in os.walk(INTERNAL_DATA_PATH):\n",
    "    # Find the files that matches the given patterm\n",
    "    for filename in fnmatch.filter(filenames, '.*'):\n",
    "        try:\n",
    "            #print(filename)\n",
    "            os.remove(os.path.join(rootDir, filename))\n",
    "        except OSError:\n",
    "            print(\"Error while deleting file\")\n",
    "    for subdir in fnmatch.filter(subdirs, '.*'):\n",
    "        try:\n",
    "            #print(filename)\n",
    "            os.remove(os.path.join(rootDir, subdir))\n",
    "        except OSError:\n",
    "            print(\"Error while deleting file\")'''"
   ]
  },
  {
   "cell_type": "code",
   "execution_count": 3,
   "metadata": {
    "colab": {},
    "colab_type": "code",
    "id": "q-52A9hHEf9y"
   },
   "outputs": [],
   "source": [
    "import torchvision.datasets as datasets\n",
    "import torchvision.transforms as transforms\n",
    "import torchvision\n",
    "import torch\n",
    "from torch.utils.data import Dataset, DataLoader\n",
    "import os\n",
    "import matplotlib.pyplot as plt\n",
    "import numpy as np\n",
    "from tqdm import tqdm\n",
    "\n",
    "\n",
    "########################################################################\n",
    "batch_size = 64\n",
    "########################################################################\n"
   ]
  },
  {
   "cell_type": "code",
   "execution_count": 4,
   "metadata": {},
   "outputs": [],
   "source": [
    "DATASET_PATH = 'cropped_coco'\n",
    "TRAIN_PATH = DATASET_PATH + '/train/50'\n",
    "TEST_PATH = DATASET_PATH + '/val/50'"
   ]
  },
  {
   "cell_type": "code",
   "execution_count": 5,
   "metadata": {},
   "outputs": [],
   "source": [
    "#img_size = [729,243,81,27,9]  \n",
    "\n",
    "default_transform = transforms.Compose(\n",
    "    [transforms.Resize((224,224)),\n",
    "    transforms.ToTensor()])\n",
    "\n",
    "trainCocoDataset = datasets.ImageFolder(root=TRAIN_PATH,transform = default_transform)\n",
    "testCocoDataset = datasets.ImageFolder(root=TEST_PATH,transform = default_transform)\n",
    "\n",
    "trainloader = torch.utils.data.DataLoader(trainCocoDataset,\n",
    "                                          batch_size = batch_size, \n",
    "                                          shuffle=True,\n",
    "                                         num_workers=4)\n",
    "\n",
    "testloader = torch.utils.data.DataLoader(testCocoDataset,\n",
    "                                          batch_size = batch_size, \n",
    "                                          shuffle=False,\n",
    "                                        num_workers=4)\n"
   ]
  },
  {
   "cell_type": "code",
   "execution_count": 6,
   "metadata": {
    "scrolled": true
   },
   "outputs": [
    {
     "data": {
      "text/plain": [
       "'trainCocoDataset.class_to_idx'"
      ]
     },
     "execution_count": 6,
     "metadata": {},
     "output_type": "execute_result"
    }
   ],
   "source": [
    "'''trainCocoDataset.class_to_idx'''"
   ]
  },
  {
   "cell_type": "code",
   "execution_count": 7,
   "metadata": {},
   "outputs": [],
   "source": [
    "from SCResnet import SCResNet50,ResNet50\n",
    "from torchvision.models import resnet50\n",
    "#torchvision.models.resnet50(pretrained=False, progress=True, **kwargs)\n"
   ]
  },
  {
   "cell_type": "code",
   "execution_count": 8,
   "metadata": {},
   "outputs": [],
   "source": [
    "from torch.nn.parallel.data_parallel import DataParallel\n",
    "from torch.nn.parallel import DistributedDataParallel as DDP\n",
    "import torch.distributed as dist\n",
    "\n",
    "os.environ['MASTER_ADDR'] = '127.0.0.1'\n",
    "os.environ['MASTER_PORT'] = '29500'\n",
    "dist.init_process_group(backend='nccl',rank=0,world_size=1)"
   ]
  },
  {
   "cell_type": "code",
   "execution_count": 9,
   "metadata": {
    "colab": {
     "base_uri": "https://localhost:8080/",
     "height": 214
    },
    "colab_type": "code",
    "id": "xdajs104otKK",
    "outputId": "294463e8-ed55-49c4-939e-6bdda6c87d72"
   },
   "outputs": [],
   "source": [
    "device = 'cuda:2'\n",
    "\n",
    "model1 = resnet50(num_classes=80).to(device)\n",
    "if torch.cuda.device_count() > 1:\n",
    "    model1 = DDP(model1,device_ids = [2,3])"
   ]
  },
  {
   "cell_type": "code",
   "execution_count": 10,
   "metadata": {},
   "outputs": [
    {
     "name": "stderr",
     "output_type": "stream",
     "text": [
      "100%|██████████| 10/10 [00:01<00:00,  9.86it/s]\n"
     ]
    }
   ],
   "source": [
    "import os\n",
    "from torchvision import transforms\n",
    "\n",
    "SIZED_VAL_PATH = 'cropped_coco/val'\n",
    "\n",
    "val_gen_arr = []\n",
    "for i in tqdm(range(10,110,10)):\n",
    "    transform = transforms.Compose(\n",
    "        [\n",
    "        transforms.Resize((224,224)),\n",
    "        transforms.ToTensor()])\n",
    "\n",
    "    testCocoDataset_val = datasets.ImageFolder(root=os.path.join(SIZED_VAL_PATH,str(i)),transform = transform)\n",
    "\n",
    "    testloader_val = torch.utils.data.DataLoader(testCocoDataset_val,\n",
    "                                              batch_size = batch_size, \n",
    "                                              shuffle=False,\n",
    "                                            num_workers=4)\n",
    "    val_gen_arr.append(testloader_val)\n"
   ]
  },
  {
   "cell_type": "code",
   "execution_count": 11,
   "metadata": {
    "colab": {},
    "colab_type": "code",
    "id": "74xBqeGcpub_"
   },
   "outputs": [],
   "source": [
    "import torch.optim as optim\n",
    "import torch.nn as nn\n",
    "import torch.nn.functional as F\n",
    "\n",
    "learning_rate = 0.001\n",
    "criterion = nn.CrossEntropyLoss()\n",
    "optimizer = optim.Adam(model1.parameters(), lr=learning_rate)"
   ]
  },
  {
   "cell_type": "code",
   "execution_count": 12,
   "metadata": {},
   "outputs": [],
   "source": [
    "TEST_RESULT_PATH = 'testresults/'\n",
    "WEIGHTS_PATH = 'weights/'\n",
    "\n",
    "TASK_NAME = 'COCO_Resnet_50'\n",
    "DATE = 'apr1'"
   ]
  },
  {
   "cell_type": "code",
   "execution_count": null,
   "metadata": {
    "colab": {
     "base_uri": "https://localhost:8080/",
     "height": 1000
    },
    "colab_type": "code",
    "id": "Pd0stQ4Jolv7",
    "outputId": "3e1b592d-71a2-41cf-9936-8dd874e59431",
    "scrolled": true
   },
   "outputs": [
    {
     "name": "stderr",
     "output_type": "stream",
     "text": [
      "6499it [20:09,  5.07it/s]\n",
      "  0%|          | 0/10 [00:00<?, ?it/s]\u001b[A"
     ]
    },
    {
     "name": "stdout",
     "output_type": "stream",
     "text": [
      "epoch: 0 44  batch\n",
      "Accuracy of     0 : 93 %\n",
      "Accuracy of     1 :  0 %\n",
      "Accuracy of     2 :  0 %\n",
      "Accuracy of     3 :  8 %\n",
      "Accuracy of     4 :  0 %\n",
      "Accuracy of     5 :  0 %\n",
      "Accuracy of     6 :  0 %\n",
      "Accuracy of     7 :  1 %\n",
      "Accuracy of     8 :  0 %\n",
      "Accuracy of     9 :  0 %\n",
      "Accuracy of    10 :  0 %\n",
      "Accuracy of    11 : 17 %\n",
      "Accuracy of    12 :  8 %\n",
      "Accuracy of    13 : 17 %\n",
      "Accuracy of    14 :  1 %\n",
      "Accuracy of    15 : 50 %\n",
      "Accuracy of    16 : 24 %\n",
      "Accuracy of    17 :  0 %\n",
      "Accuracy of    18 :  0 %\n",
      "Accuracy of    19 :  3 %\n",
      "Accuracy of    20 :  0 %\n",
      "Accuracy of    21 :  0 %\n",
      "Accuracy of    22 :  0 %\n",
      "Accuracy of    23 :  0 %\n",
      "Accuracy of    24 : 19 %\n",
      "Accuracy of    25 :  0 %\n",
      "Accuracy of    26 :  0 %\n",
      "Accuracy of    27 : 11 %\n",
      "Accuracy of    28 :  0 %\n",
      "Accuracy of    29 :  0 %\n",
      "Accuracy of    30 :  0 %\n",
      "Accuracy of    31 :  2 %\n",
      "Accuracy of    32 : 25 %\n",
      "Accuracy of    33 :  1 %\n",
      "Accuracy of    34 :  6 %\n",
      "Accuracy of    35 :  0 %\n",
      "Accuracy of    36 :  7 %\n",
      "Accuracy of    37 :  0 %\n",
      "Accuracy of    38 :  0 %\n",
      "Accuracy of    39 :  1 %\n",
      "Accuracy of    40 :  0 %\n",
      "Accuracy of    41 :  8 %\n",
      "Accuracy of    42 : 21 %\n",
      "Accuracy of    43 :  0 %\n",
      "Accuracy of    44 :  0 %\n",
      "Accuracy of    45 : 35 %\n",
      "Accuracy of    46 : 55 %\n",
      "Accuracy of    47 : 38 %\n",
      "Accuracy of    48 :  0 %\n",
      "Accuracy of    49 : 10 %\n",
      "Accuracy of    50 :  0 %\n",
      "Accuracy of    51 :  7 %\n",
      "Accuracy of    52 :  1 %\n",
      "Accuracy of    53 :  6 %\n",
      "Accuracy of    54 :  0 %\n",
      "Accuracy of    55 :  0 %\n",
      "Accuracy of    56 :  0 %\n",
      "Accuracy of    57 :  0 %\n",
      "Accuracy of    58 :  0 %\n",
      "Accuracy of    59 : 10 %\n",
      "Accuracy of    60 :  3 %\n",
      "Accuracy of    61 :  0 %\n",
      "Accuracy of    62 :  7 %\n",
      "Accuracy of    63 :  0 %\n",
      "Accuracy of    64 :  0 %\n",
      "Accuracy of    65 :  0 %\n",
      "Accuracy of    66 :  0 %\n",
      "Accuracy of    67 :  1 %\n",
      "Accuracy of    68 :  0 %\n",
      "Accuracy of    69 :  0 %\n",
      "Accuracy of    70 : 29 %\n",
      "Accuracy of    71 :  0 %\n",
      "Accuracy of    72 : 39 %\n",
      "Accuracy of    73 :  6 %\n",
      "Accuracy of    74 :  0 %\n",
      "Accuracy of    75 :  0 %\n",
      "Accuracy of    76 :  0 %\n",
      "Accuracy of    77 :  0 %\n",
      "Accuracy of    78 : 12 %\n",
      "Accuracy of    79 :  0 %\n",
      "epoch: 1/20 | step: 80/13438 | trn loss: 1.3814 | val loss: 2.6420\n",
      "Accuracy of the network on the 10000 test images: 33 %\n"
     ]
    },
    {
     "name": "stderr",
     "output_type": "stream",
     "text": [
      "\n",
      " 10%|█         | 1/10 [02:15<20:17, 135.24s/it]\u001b[A"
     ]
    },
    {
     "name": "stdout",
     "output_type": "stream",
     "text": [
      "Accuracy of the network on the 10000 test images: 32 %\n"
     ]
    },
    {
     "name": "stderr",
     "output_type": "stream",
     "text": [
      "\n",
      " 20%|██        | 2/10 [04:25<17:49, 133.74s/it]\u001b[A"
     ]
    },
    {
     "name": "stdout",
     "output_type": "stream",
     "text": [
      "Accuracy of the network on the 10000 test images: 32 %\n"
     ]
    },
    {
     "name": "stderr",
     "output_type": "stream",
     "text": [
      "\n",
      " 30%|███       | 3/10 [06:31<15:19, 131.34s/it]\u001b[A"
     ]
    },
    {
     "name": "stdout",
     "output_type": "stream",
     "text": [
      "Accuracy of the network on the 10000 test images: 32 %\n"
     ]
    },
    {
     "name": "stderr",
     "output_type": "stream",
     "text": [
      "\n",
      " 40%|████      | 4/10 [08:17<12:23, 123.88s/it]\u001b[A"
     ]
    },
    {
     "name": "stdout",
     "output_type": "stream",
     "text": [
      "Accuracy of the network on the 10000 test images: 32 %\n"
     ]
    },
    {
     "name": "stderr",
     "output_type": "stream",
     "text": [
      "\n",
      " 50%|█████     | 5/10 [09:32<09:05, 109.03s/it]\u001b[A"
     ]
    },
    {
     "name": "stdout",
     "output_type": "stream",
     "text": [
      "Accuracy of the network on the 10000 test images: 33 %\n"
     ]
    },
    {
     "name": "stderr",
     "output_type": "stream",
     "text": [
      "\n",
      " 60%|██████    | 6/10 [10:34<06:20, 95.16s/it] \u001b[A"
     ]
    },
    {
     "name": "stdout",
     "output_type": "stream",
     "text": [
      "Accuracy of the network on the 10000 test images: 33 %\n"
     ]
    },
    {
     "name": "stderr",
     "output_type": "stream",
     "text": [
      "\n",
      " 70%|███████   | 7/10 [11:24<04:04, 81.40s/it]\u001b[A"
     ]
    },
    {
     "name": "stdout",
     "output_type": "stream",
     "text": [
      "Accuracy of the network on the 10000 test images: 33 %\n"
     ]
    },
    {
     "name": "stderr",
     "output_type": "stream",
     "text": [
      "\n",
      " 80%|████████  | 8/10 [12:06<02:19, 69.81s/it]\u001b[A"
     ]
    },
    {
     "name": "stdout",
     "output_type": "stream",
     "text": [
      "Accuracy of the network on the 10000 test images: 33 %\n"
     ]
    },
    {
     "name": "stderr",
     "output_type": "stream",
     "text": [
      "\n",
      " 90%|█████████ | 9/10 [12:44<01:00, 60.01s/it]\u001b[A"
     ]
    },
    {
     "name": "stdout",
     "output_type": "stream",
     "text": [
      "Accuracy of the network on the 10000 test images: 31 %\n"
     ]
    },
    {
     "name": "stderr",
     "output_type": "stream",
     "text": [
      "\n",
      "100%|██████████| 10/10 [13:19<00:00, 79.96s/it]\u001b[A\n",
      "6500it [34:46, 263.22s/it]"
     ]
    },
    {
     "name": "stdout",
     "output_type": "stream",
     "text": [
      "Accuracy of the network on the 10000 test images: 29 %\n"
     ]
    },
    {
     "name": "stderr",
     "output_type": "stream",
     "text": [
      "12999it [55:27,  5.48it/s]\n",
      "  0%|          | 0/10 [00:00<?, ?it/s]\u001b[A"
     ]
    },
    {
     "name": "stdout",
     "output_type": "stream",
     "text": [
      "epoch: 0 44  batch\n",
      "Accuracy of     0 : 83 %\n",
      "Accuracy of     1 : 20 %\n",
      "Accuracy of     2 :  0 %\n",
      "Accuracy of     3 : 36 %\n",
      "Accuracy of     4 :  0 %\n",
      "Accuracy of     5 :  0 %\n",
      "Accuracy of     6 : 13 %\n",
      "Accuracy of     7 :  4 %\n",
      "Accuracy of     8 :  0 %\n",
      "Accuracy of     9 :  5 %\n",
      "Accuracy of    10 :  0 %\n",
      "Accuracy of    11 : 42 %\n",
      "Accuracy of    12 : 44 %\n",
      "Accuracy of    13 : 33 %\n",
      "Accuracy of    14 :  1 %\n",
      "Accuracy of    15 : 72 %\n",
      "Accuracy of    16 : 45 %\n",
      "Accuracy of    17 :  0 %\n",
      "Accuracy of    18 :  1 %\n",
      "Accuracy of    19 : 30 %\n",
      "Accuracy of    20 :  0 %\n",
      "Accuracy of    21 :  0 %\n",
      "Accuracy of    22 :  0 %\n",
      "Accuracy of    23 :  0 %\n",
      "Accuracy of    24 : 14 %\n",
      "Accuracy of    25 :  0 %\n",
      "Accuracy of    26 : 11 %\n",
      "Accuracy of    27 : 44 %\n",
      "Accuracy of    28 :  2 %\n",
      "Accuracy of    29 :  5 %\n",
      "Accuracy of    30 :  0 %\n",
      "Accuracy of    31 :  7 %\n",
      "Accuracy of    32 :  7 %\n",
      "Accuracy of    33 : 22 %\n",
      "Accuracy of    34 : 18 %\n",
      "Accuracy of    35 :  0 %\n",
      "Accuracy of    36 :  8 %\n",
      "Accuracy of    37 :  0 %\n",
      "Accuracy of    38 :  0 %\n",
      "Accuracy of    39 : 40 %\n",
      "Accuracy of    40 :  0 %\n",
      "Accuracy of    41 : 20 %\n",
      "Accuracy of    42 : 34 %\n",
      "Accuracy of    43 :  1 %\n",
      "Accuracy of    44 : 29 %\n",
      "Accuracy of    45 : 12 %\n",
      "Accuracy of    46 : 66 %\n",
      "Accuracy of    47 : 14 %\n",
      "Accuracy of    48 :  0 %\n",
      "Accuracy of    49 : 23 %\n",
      "Accuracy of    50 : 20 %\n",
      "Accuracy of    51 : 29 %\n",
      "Accuracy of    52 :  1 %\n",
      "Accuracy of    53 : 16 %\n",
      "Accuracy of    54 :  0 %\n",
      "Accuracy of    55 :  6 %\n",
      "Accuracy of    56 :  4 %\n",
      "Accuracy of    57 :  3 %\n",
      "Accuracy of    58 : 17 %\n",
      "Accuracy of    59 : 41 %\n",
      "Accuracy of    60 : 17 %\n",
      "Accuracy of    61 :  0 %\n",
      "Accuracy of    62 :  4 %\n",
      "Accuracy of    63 :  0 %\n",
      "Accuracy of    64 : 17 %\n",
      "Accuracy of    65 :  0 %\n",
      "Accuracy of    66 :  5 %\n",
      "Accuracy of    67 :  3 %\n",
      "Accuracy of    68 :  3 %\n",
      "Accuracy of    69 :  0 %\n",
      "Accuracy of    70 : 30 %\n",
      "Accuracy of    71 : 21 %\n",
      "Accuracy of    72 : 58 %\n",
      "Accuracy of    73 : 30 %\n",
      "Accuracy of    74 :  4 %\n",
      "Accuracy of    75 :  0 %\n",
      "Accuracy of    76 :  7 %\n",
      "Accuracy of    77 :  0 %\n",
      "Accuracy of    78 : 22 %\n",
      "Accuracy of    79 :  0 %\n",
      "epoch: 1/20 | step: 80/13438 | trn loss: 1.1916 | val loss: 2.4175\n",
      "Accuracy of the network on the 10000 test images: 37 %\n"
     ]
    },
    {
     "name": "stderr",
     "output_type": "stream",
     "text": [
      "\n",
      " 10%|█         | 1/10 [02:14<20:10, 134.48s/it]\u001b[A"
     ]
    },
    {
     "name": "stdout",
     "output_type": "stream",
     "text": [
      "Accuracy of the network on the 10000 test images: 33 %\n"
     ]
    },
    {
     "name": "stderr",
     "output_type": "stream",
     "text": [
      "\n",
      " 20%|██        | 2/10 [04:25<17:46, 133.37s/it]\u001b[A"
     ]
    },
    {
     "name": "stdout",
     "output_type": "stream",
     "text": [
      "Accuracy of the network on the 10000 test images: 33 %\n"
     ]
    },
    {
     "name": "stderr",
     "output_type": "stream",
     "text": [
      "\n",
      " 30%|███       | 3/10 [06:33<15:22, 131.84s/it]\u001b[A"
     ]
    },
    {
     "name": "stdout",
     "output_type": "stream",
     "text": [
      "Accuracy of the network on the 10000 test images: 34 %\n"
     ]
    },
    {
     "name": "stderr",
     "output_type": "stream",
     "text": [
      "\n",
      " 40%|████      | 4/10 [08:21<12:28, 124.71s/it]\u001b[A"
     ]
    },
    {
     "name": "stdout",
     "output_type": "stream",
     "text": [
      "Accuracy of the network on the 10000 test images: 35 %\n"
     ]
    },
    {
     "name": "stderr",
     "output_type": "stream",
     "text": [
      "\n",
      " 50%|█████     | 5/10 [09:34<09:05, 109.05s/it]\u001b[A"
     ]
    },
    {
     "name": "stdout",
     "output_type": "stream",
     "text": [
      "Accuracy of the network on the 10000 test images: 37 %\n"
     ]
    },
    {
     "name": "stderr",
     "output_type": "stream",
     "text": [
      "\n",
      " 60%|██████    | 6/10 [10:36<06:19, 94.97s/it] \u001b[A"
     ]
    },
    {
     "name": "stdout",
     "output_type": "stream",
     "text": [
      "Accuracy of the network on the 10000 test images: 38 %\n"
     ]
    },
    {
     "name": "stderr",
     "output_type": "stream",
     "text": [
      "\n",
      " 70%|███████   | 7/10 [11:26<04:04, 81.62s/it]\u001b[A"
     ]
    },
    {
     "name": "stdout",
     "output_type": "stream",
     "text": [
      "Accuracy of the network on the 10000 test images: 39 %\n"
     ]
    },
    {
     "name": "stderr",
     "output_type": "stream",
     "text": [
      "\n",
      " 80%|████████  | 8/10 [12:08<02:19, 69.64s/it]\u001b[A"
     ]
    },
    {
     "name": "stdout",
     "output_type": "stream",
     "text": [
      "Accuracy of the network on the 10000 test images: 38 %\n"
     ]
    },
    {
     "name": "stderr",
     "output_type": "stream",
     "text": [
      "\n",
      " 90%|█████████ | 9/10 [12:46<01:00, 60.07s/it]\u001b[A"
     ]
    },
    {
     "name": "stdout",
     "output_type": "stream",
     "text": [
      "Accuracy of the network on the 10000 test images: 35 %\n"
     ]
    },
    {
     "name": "stderr",
     "output_type": "stream",
     "text": [
      "\n",
      "100%|██████████| 10/10 [13:22<00:00, 80.23s/it]\u001b[A\n",
      "13000it [1:10:04, 263.25s/it]"
     ]
    },
    {
     "name": "stdout",
     "output_type": "stream",
     "text": [
      "Accuracy of the network on the 10000 test images: 31 %\n"
     ]
    },
    {
     "name": "stderr",
     "output_type": "stream",
     "text": [
      "13438it [1:11:30,  3.13it/s] \n",
      "  0%|          | 0/10 [00:00<?, ?it/s]"
     ]
    },
    {
     "name": "stdout",
     "output_type": "stream",
     "text": [
      "epoch: 0 44  batch\n",
      "Accuracy of     0 : 82 %\n",
      "Accuracy of     1 : 24 %\n",
      "Accuracy of     2 :  1 %\n",
      "Accuracy of     3 : 24 %\n",
      "Accuracy of     4 :  0 %\n",
      "Accuracy of     5 :  0 %\n",
      "Accuracy of     6 : 11 %\n",
      "Accuracy of     7 : 14 %\n",
      "Accuracy of     8 :  1 %\n",
      "Accuracy of     9 :  8 %\n",
      "Accuracy of    10 :  0 %\n",
      "Accuracy of    11 : 67 %\n",
      "Accuracy of    12 : 25 %\n",
      "Accuracy of    13 : 38 %\n",
      "Accuracy of    14 : 12 %\n",
      "Accuracy of    15 : 79 %\n",
      "Accuracy of    16 : 61 %\n",
      "Accuracy of    17 :  0 %\n",
      "Accuracy of    18 :  5 %\n",
      "Accuracy of    19 : 44 %\n",
      "Accuracy of    20 :  0 %\n",
      "Accuracy of    21 :  3 %\n",
      "Accuracy of    22 :  0 %\n",
      "Accuracy of    23 :  4 %\n",
      "Accuracy of    24 : 15 %\n",
      "Accuracy of    25 : 11 %\n",
      "Accuracy of    26 :  0 %\n",
      "Accuracy of    27 : 32 %\n",
      "Accuracy of    28 :  0 %\n",
      "Accuracy of    29 : 22 %\n",
      "Accuracy of    30 :  0 %\n",
      "Accuracy of    31 :  0 %\n",
      "Accuracy of    32 :  8 %\n",
      "Accuracy of    33 :  5 %\n",
      "Accuracy of    34 : 13 %\n",
      "Accuracy of    35 :  2 %\n",
      "Accuracy of    36 :  5 %\n",
      "Accuracy of    37 :  0 %\n",
      "Accuracy of    38 :  0 %\n",
      "Accuracy of    39 : 37 %\n",
      "Accuracy of    40 :  0 %\n",
      "Accuracy of    41 :  4 %\n",
      "Accuracy of    42 : 39 %\n",
      "Accuracy of    43 :  7 %\n",
      "Accuracy of    44 :  0 %\n",
      "Accuracy of    45 :  6 %\n",
      "Accuracy of    46 : 73 %\n",
      "Accuracy of    47 : 14 %\n",
      "Accuracy of    48 :  0 %\n",
      "Accuracy of    49 :  9 %\n",
      "Accuracy of    50 : 13 %\n",
      "Accuracy of    51 : 11 %\n",
      "Accuracy of    52 :  0 %\n",
      "Accuracy of    53 :  4 %\n",
      "Accuracy of    54 :  6 %\n",
      "Accuracy of    55 : 10 %\n",
      "Accuracy of    56 :  5 %\n",
      "Accuracy of    57 :  7 %\n",
      "Accuracy of    58 : 33 %\n",
      "Accuracy of    59 : 30 %\n",
      "Accuracy of    60 : 12 %\n",
      "Accuracy of    61 :  2 %\n",
      "Accuracy of    62 :  0 %\n",
      "Accuracy of    63 :  0 %\n",
      "Accuracy of    64 :  5 %\n",
      "Accuracy of    65 :  0 %\n",
      "Accuracy of    66 :  1 %\n",
      "Accuracy of    67 :  1 %\n",
      "Accuracy of    68 :  5 %\n",
      "Accuracy of    69 :  0 %\n",
      "Accuracy of    70 : 11 %\n",
      "Accuracy of    71 : 13 %\n",
      "Accuracy of    72 : 44 %\n",
      "Accuracy of    73 : 22 %\n",
      "Accuracy of    74 :  2 %\n",
      "Accuracy of    75 :  0 %\n",
      "Accuracy of    76 :  8 %\n",
      "Accuracy of    77 :  0 %\n",
      "Accuracy of    78 : 23 %\n",
      "Accuracy of    79 :  0 %\n",
      "epoch: 1/20 | step: 80/13438 | trn loss: 0.0771 | val loss: 2.5544\n",
      "Accuracy of the network on the 10000 test images: 36 %\n"
     ]
    },
    {
     "name": "stderr",
     "output_type": "stream",
     "text": [
      "\r",
      " 10%|█         | 1/10 [02:05<18:49, 125.46s/it]"
     ]
    },
    {
     "name": "stdout",
     "output_type": "stream",
     "text": [
      "Accuracy of the network on the 10000 test images: 32 %\n"
     ]
    },
    {
     "name": "stderr",
     "output_type": "stream",
     "text": [
      "\r",
      " 20%|██        | 2/10 [04:11<16:44, 125.62s/it]"
     ]
    },
    {
     "name": "stdout",
     "output_type": "stream",
     "text": [
      "Accuracy of the network on the 10000 test images: 32 %\n"
     ]
    },
    {
     "name": "stderr",
     "output_type": "stream",
     "text": [
      "\r",
      " 30%|███       | 3/10 [06:12<14:29, 124.24s/it]"
     ]
    },
    {
     "name": "stdout",
     "output_type": "stream",
     "text": [
      "Accuracy of the network on the 10000 test images: 32 %\n"
     ]
    },
    {
     "name": "stderr",
     "output_type": "stream",
     "text": [
      "\r",
      " 40%|████      | 4/10 [07:49<11:35, 115.93s/it]"
     ]
    },
    {
     "name": "stdout",
     "output_type": "stream",
     "text": [
      "Accuracy of the network on the 10000 test images: 34 %\n"
     ]
    },
    {
     "name": "stderr",
     "output_type": "stream",
     "text": [
      "\r",
      " 50%|█████     | 5/10 [09:04<08:38, 103.73s/it]"
     ]
    },
    {
     "name": "stdout",
     "output_type": "stream",
     "text": [
      "Accuracy of the network on the 10000 test images: 36 %\n"
     ]
    },
    {
     "name": "stderr",
     "output_type": "stream",
     "text": [
      "\r",
      " 60%|██████    | 6/10 [10:00<05:57, 89.48s/it] "
     ]
    },
    {
     "name": "stdout",
     "output_type": "stream",
     "text": [
      "Accuracy of the network on the 10000 test images: 37 %\n"
     ]
    },
    {
     "name": "stderr",
     "output_type": "stream",
     "text": [
      "\r",
      " 70%|███████   | 7/10 [10:44<03:47, 75.98s/it]"
     ]
    },
    {
     "name": "stdout",
     "output_type": "stream",
     "text": [
      "Accuracy of the network on the 10000 test images: 38 %\n"
     ]
    },
    {
     "name": "stderr",
     "output_type": "stream",
     "text": [
      "\r",
      " 80%|████████  | 8/10 [11:23<02:09, 64.69s/it]"
     ]
    },
    {
     "name": "stdout",
     "output_type": "stream",
     "text": [
      "Accuracy of the network on the 10000 test images: 37 %\n"
     ]
    },
    {
     "name": "stderr",
     "output_type": "stream",
     "text": [
      "\r",
      " 90%|█████████ | 9/10 [12:00<00:56, 56.33s/it]"
     ]
    },
    {
     "name": "stdout",
     "output_type": "stream",
     "text": [
      "Accuracy of the network on the 10000 test images: 34 %\n"
     ]
    },
    {
     "name": "stderr",
     "output_type": "stream",
     "text": [
      "100%|██████████| 10/10 [12:34<00:00, 75.44s/it]"
     ]
    },
    {
     "name": "stdout",
     "output_type": "stream",
     "text": [
      "Accuracy of the network on the 10000 test images: 29 %\n"
     ]
    },
    {
     "name": "stderr",
     "output_type": "stream",
     "text": [
      "\n",
      "6499it [20:49,  5.12it/s]\n",
      "  0%|          | 0/10 [00:00<?, ?it/s]\u001b[A"
     ]
    },
    {
     "name": "stdout",
     "output_type": "stream",
     "text": [
      "epoch: 1 44  batch\n",
      "Accuracy of     0 : 82 %\n",
      "Accuracy of     1 : 46 %\n",
      "Accuracy of     2 :  3 %\n",
      "Accuracy of     3 : 40 %\n",
      "Accuracy of     4 :  1 %\n",
      "Accuracy of     5 :  6 %\n",
      "Accuracy of     6 : 19 %\n",
      "Accuracy of     7 : 28 %\n",
      "Accuracy of     8 : 11 %\n",
      "Accuracy of     9 : 18 %\n",
      "Accuracy of    10 :  3 %\n",
      "Accuracy of    11 : 73 %\n",
      "Accuracy of    12 : 36 %\n",
      "Accuracy of    13 : 59 %\n",
      "Accuracy of    14 : 40 %\n",
      "Accuracy of    15 : 69 %\n",
      "Accuracy of    16 : 71 %\n",
      "Accuracy of    17 :  0 %\n",
      "Accuracy of    18 :  8 %\n",
      "Accuracy of    19 : 38 %\n",
      "Accuracy of    20 :  0 %\n",
      "Accuracy of    21 :  9 %\n",
      "Accuracy of    22 :  8 %\n",
      "Accuracy of    23 :  8 %\n",
      "Accuracy of    24 : 19 %\n",
      "Accuracy of    25 :  1 %\n",
      "Accuracy of    26 : 14 %\n",
      "Accuracy of    27 : 30 %\n",
      "Accuracy of    28 :  0 %\n",
      "Accuracy of    29 :  7 %\n",
      "Accuracy of    30 :  1 %\n",
      "Accuracy of    31 : 22 %\n",
      "Accuracy of    32 :  8 %\n",
      "Accuracy of    33 :  2 %\n",
      "Accuracy of    34 : 40 %\n",
      "Accuracy of    35 :  0 %\n",
      "Accuracy of    36 :  8 %\n",
      "Accuracy of    37 :  0 %\n",
      "Accuracy of    38 :  4 %\n",
      "Accuracy of    39 : 23 %\n",
      "Accuracy of    40 :  0 %\n",
      "Accuracy of    41 :  9 %\n",
      "Accuracy of    42 : 45 %\n",
      "Accuracy of    43 :  7 %\n",
      "Accuracy of    44 :  0 %\n",
      "Accuracy of    45 : 33 %\n",
      "Accuracy of    46 : 74 %\n",
      "Accuracy of    47 : 33 %\n",
      "Accuracy of    48 :  3 %\n",
      "Accuracy of    49 : 19 %\n",
      "Accuracy of    50 :  8 %\n",
      "Accuracy of    51 : 49 %\n",
      "Accuracy of    52 :  6 %\n",
      "Accuracy of    53 : 19 %\n",
      "Accuracy of    54 :  6 %\n",
      "Accuracy of    55 :  8 %\n",
      "Accuracy of    56 :  8 %\n",
      "Accuracy of    57 :  8 %\n",
      "Accuracy of    58 : 37 %\n",
      "Accuracy of    59 : 35 %\n",
      "Accuracy of    60 :  4 %\n",
      "Accuracy of    61 :  0 %\n",
      "Accuracy of    62 :  0 %\n",
      "Accuracy of    63 :  0 %\n",
      "Accuracy of    64 :  9 %\n",
      "Accuracy of    65 :  0 %\n",
      "Accuracy of    66 :  3 %\n",
      "Accuracy of    67 : 12 %\n",
      "Accuracy of    68 :  0 %\n",
      "Accuracy of    69 :  0 %\n",
      "Accuracy of    70 : 24 %\n",
      "Accuracy of    71 :  7 %\n",
      "Accuracy of    72 : 51 %\n",
      "Accuracy of    73 : 40 %\n",
      "Accuracy of    74 : 13 %\n",
      "Accuracy of    75 :  0 %\n",
      "Accuracy of    76 : 18 %\n",
      "Accuracy of    77 :  0 %\n",
      "Accuracy of    78 : 30 %\n",
      "Accuracy of    79 :  0 %\n",
      "epoch: 2/20 | step: 80/13438 | trn loss: 1.0796 | val loss: 2.2653\n",
      "Accuracy of the network on the 10000 test images: 40 %\n"
     ]
    },
    {
     "name": "stderr",
     "output_type": "stream",
     "text": [
      "\n",
      " 10%|█         | 1/10 [02:11<19:42, 131.40s/it]\u001b[A"
     ]
    },
    {
     "name": "stdout",
     "output_type": "stream",
     "text": [
      "Accuracy of the network on the 10000 test images: 35 %\n"
     ]
    },
    {
     "name": "stderr",
     "output_type": "stream",
     "text": [
      "\n",
      " 20%|██        | 2/10 [04:18<17:21, 130.25s/it]\u001b[A"
     ]
    },
    {
     "name": "stdout",
     "output_type": "stream",
     "text": [
      "Accuracy of the network on the 10000 test images: 35 %\n"
     ]
    },
    {
     "name": "stderr",
     "output_type": "stream",
     "text": [
      "\n",
      " 30%|███       | 3/10 [06:22<14:57, 128.27s/it]\u001b[A"
     ]
    },
    {
     "name": "stdout",
     "output_type": "stream",
     "text": [
      "Accuracy of the network on the 10000 test images: 35 %\n"
     ]
    },
    {
     "name": "stderr",
     "output_type": "stream",
     "text": [
      "\n",
      " 40%|████      | 4/10 [08:09<12:11, 121.89s/it]\u001b[A"
     ]
    },
    {
     "name": "stdout",
     "output_type": "stream",
     "text": [
      "Accuracy of the network on the 10000 test images: 37 %\n"
     ]
    },
    {
     "name": "stderr",
     "output_type": "stream",
     "text": [
      "\n",
      " 50%|█████     | 5/10 [09:22<08:56, 107.31s/it]\u001b[A"
     ]
    },
    {
     "name": "stdout",
     "output_type": "stream",
     "text": [
      "Accuracy of the network on the 10000 test images: 40 %\n"
     ]
    },
    {
     "name": "stderr",
     "output_type": "stream",
     "text": [
      "\n",
      " 60%|██████    | 6/10 [10:23<06:13, 93.44s/it] \u001b[A"
     ]
    },
    {
     "name": "stdout",
     "output_type": "stream",
     "text": [
      "Accuracy of the network on the 10000 test images: 42 %\n"
     ]
    },
    {
     "name": "stderr",
     "output_type": "stream",
     "text": [
      "\n",
      " 70%|███████   | 7/10 [11:13<04:00, 80.15s/it]\u001b[A"
     ]
    },
    {
     "name": "stdout",
     "output_type": "stream",
     "text": [
      "Accuracy of the network on the 10000 test images: 43 %\n"
     ]
    },
    {
     "name": "stderr",
     "output_type": "stream",
     "text": [
      "\n",
      " 80%|████████  | 8/10 [11:53<02:16, 68.28s/it]\u001b[A"
     ]
    },
    {
     "name": "stdout",
     "output_type": "stream",
     "text": [
      "Accuracy of the network on the 10000 test images: 42 %\n"
     ]
    },
    {
     "name": "stderr",
     "output_type": "stream",
     "text": [
      "\n",
      " 90%|█████████ | 9/10 [12:31<00:59, 59.02s/it]\u001b[A"
     ]
    },
    {
     "name": "stdout",
     "output_type": "stream",
     "text": [
      "Accuracy of the network on the 10000 test images: 37 %\n"
     ]
    },
    {
     "name": "stderr",
     "output_type": "stream",
     "text": [
      "\n",
      "100%|██████████| 10/10 [13:06<00:00, 78.70s/it]\u001b[A\n",
      "6500it [35:17, 260.40s/it]"
     ]
    },
    {
     "name": "stdout",
     "output_type": "stream",
     "text": [
      "Accuracy of the network on the 10000 test images: 29 %\n"
     ]
    },
    {
     "name": "stderr",
     "output_type": "stream",
     "text": [
      "12999it [55:37,  5.57it/s]\n",
      "  0%|          | 0/10 [00:00<?, ?it/s]\u001b[A"
     ]
    },
    {
     "name": "stdout",
     "output_type": "stream",
     "text": [
      "epoch: 1 44  batch\n",
      "Accuracy of     0 : 88 %\n",
      "Accuracy of     1 : 28 %\n",
      "Accuracy of     2 :  8 %\n",
      "Accuracy of     3 : 28 %\n",
      "Accuracy of     4 :  0 %\n",
      "Accuracy of     5 :  7 %\n",
      "Accuracy of     6 : 23 %\n",
      "Accuracy of     7 : 12 %\n",
      "Accuracy of     8 :  6 %\n",
      "Accuracy of     9 : 17 %\n",
      "Accuracy of    10 :  0 %\n",
      "Accuracy of    11 : 45 %\n",
      "Accuracy of    12 : 61 %\n",
      "Accuracy of    13 : 58 %\n",
      "Accuracy of    14 : 25 %\n",
      "Accuracy of    15 : 80 %\n",
      "Accuracy of    16 : 75 %\n",
      "Accuracy of    17 :  0 %\n",
      "Accuracy of    18 : 14 %\n",
      "Accuracy of    19 : 42 %\n",
      "Accuracy of    20 :  0 %\n",
      "Accuracy of    21 : 12 %\n",
      "Accuracy of    22 :  7 %\n",
      "Accuracy of    23 :  1 %\n",
      "Accuracy of    24 : 28 %\n",
      "Accuracy of    25 :  0 %\n",
      "Accuracy of    26 : 11 %\n",
      "Accuracy of    27 : 38 %\n",
      "Accuracy of    28 :  0 %\n",
      "Accuracy of    29 :  7 %\n",
      "Accuracy of    30 :  0 %\n",
      "Accuracy of    31 :  5 %\n",
      "Accuracy of    32 :  4 %\n",
      "Accuracy of    33 : 20 %\n",
      "Accuracy of    34 :  9 %\n",
      "Accuracy of    35 :  4 %\n",
      "Accuracy of    36 :  8 %\n",
      "Accuracy of    37 :  0 %\n",
      "Accuracy of    38 :  1 %\n",
      "Accuracy of    39 : 42 %\n",
      "Accuracy of    40 :  0 %\n",
      "Accuracy of    41 : 22 %\n",
      "Accuracy of    42 : 51 %\n",
      "Accuracy of    43 : 14 %\n",
      "Accuracy of    44 : 29 %\n",
      "Accuracy of    45 : 28 %\n",
      "Accuracy of    46 : 75 %\n",
      "Accuracy of    47 : 30 %\n",
      "Accuracy of    48 : 17 %\n",
      "Accuracy of    49 : 27 %\n",
      "Accuracy of    50 : 12 %\n",
      "Accuracy of    51 : 36 %\n",
      "Accuracy of    52 :  4 %\n",
      "Accuracy of    53 : 18 %\n",
      "Accuracy of    54 :  6 %\n",
      "Accuracy of    55 : 12 %\n",
      "Accuracy of    56 :  8 %\n",
      "Accuracy of    57 : 15 %\n",
      "Accuracy of    58 : 24 %\n",
      "Accuracy of    59 : 57 %\n",
      "Accuracy of    60 : 21 %\n",
      "Accuracy of    61 :  8 %\n",
      "Accuracy of    62 :  5 %\n",
      "Accuracy of    63 :  3 %\n",
      "Accuracy of    64 : 20 %\n",
      "Accuracy of    65 :  3 %\n",
      "Accuracy of    66 :  3 %\n",
      "Accuracy of    67 : 16 %\n",
      "Accuracy of    68 :  4 %\n",
      "Accuracy of    69 :  0 %\n",
      "Accuracy of    70 : 31 %\n",
      "Accuracy of    71 : 25 %\n",
      "Accuracy of    72 : 46 %\n",
      "Accuracy of    73 : 25 %\n",
      "Accuracy of    74 : 16 %\n",
      "Accuracy of    75 :  0 %\n",
      "Accuracy of    76 : 24 %\n",
      "Accuracy of    77 :  0 %\n",
      "Accuracy of    78 : 37 %\n",
      "Accuracy of    79 :  1 %\n",
      "epoch: 2/20 | step: 80/13438 | trn loss: 1.0245 | val loss: 2.1291\n",
      "Accuracy of the network on the 10000 test images: 42 %\n"
     ]
    },
    {
     "name": "stderr",
     "output_type": "stream",
     "text": [
      "\n",
      " 10%|█         | 1/10 [02:11<19:43, 131.51s/it]\u001b[A"
     ]
    },
    {
     "name": "stdout",
     "output_type": "stream",
     "text": [
      "Accuracy of the network on the 10000 test images: 36 %\n"
     ]
    },
    {
     "name": "stderr",
     "output_type": "stream",
     "text": [
      "\n",
      " 20%|██        | 2/10 [04:22<17:30, 131.32s/it]\u001b[A"
     ]
    },
    {
     "name": "stdout",
     "output_type": "stream",
     "text": [
      "Accuracy of the network on the 10000 test images: 36 %\n"
     ]
    },
    {
     "name": "stderr",
     "output_type": "stream",
     "text": [
      "\n",
      " 30%|███       | 3/10 [06:25<15:02, 128.94s/it]\u001b[A"
     ]
    },
    {
     "name": "stdout",
     "output_type": "stream",
     "text": [
      "Accuracy of the network on the 10000 test images: 37 %\n"
     ]
    },
    {
     "name": "stderr",
     "output_type": "stream",
     "text": [
      "\n",
      " 40%|████      | 4/10 [08:13<12:15, 122.61s/it]\u001b[A"
     ]
    },
    {
     "name": "stdout",
     "output_type": "stream",
     "text": [
      "Accuracy of the network on the 10000 test images: 39 %\n"
     ]
    },
    {
     "name": "stderr",
     "output_type": "stream",
     "text": [
      "\n",
      " 50%|█████     | 5/10 [09:29<09:03, 108.64s/it]\u001b[A"
     ]
    },
    {
     "name": "stdout",
     "output_type": "stream",
     "text": [
      "Accuracy of the network on the 10000 test images: 42 %\n"
     ]
    },
    {
     "name": "stderr",
     "output_type": "stream",
     "text": [
      "\n",
      " 60%|██████    | 6/10 [10:32<06:19, 94.83s/it] \u001b[A"
     ]
    },
    {
     "name": "stdout",
     "output_type": "stream",
     "text": [
      "Accuracy of the network on the 10000 test images: 45 %\n"
     ]
    },
    {
     "name": "stderr",
     "output_type": "stream",
     "text": [
      "\n",
      " 70%|███████   | 7/10 [11:23<04:04, 81.61s/it]\u001b[A"
     ]
    },
    {
     "name": "stdout",
     "output_type": "stream",
     "text": [
      "Accuracy of the network on the 10000 test images: 46 %\n"
     ]
    },
    {
     "name": "stderr",
     "output_type": "stream",
     "text": [
      "\n",
      " 80%|████████  | 8/10 [12:04<02:19, 69.52s/it]\u001b[A"
     ]
    },
    {
     "name": "stdout",
     "output_type": "stream",
     "text": [
      "Accuracy of the network on the 10000 test images: 44 %\n"
     ]
    },
    {
     "name": "stderr",
     "output_type": "stream",
     "text": [
      "\n",
      " 90%|█████████ | 9/10 [12:42<00:59, 59.96s/it]\u001b[A"
     ]
    },
    {
     "name": "stdout",
     "output_type": "stream",
     "text": [
      "Accuracy of the network on the 10000 test images: 41 %\n"
     ]
    },
    {
     "name": "stderr",
     "output_type": "stream",
     "text": [
      "\n",
      "100%|██████████| 10/10 [13:17<00:00, 79.76s/it]\u001b[A\n",
      "13000it [1:10:13, 262.89s/it]"
     ]
    },
    {
     "name": "stdout",
     "output_type": "stream",
     "text": [
      "Accuracy of the network on the 10000 test images: 36 %\n"
     ]
    },
    {
     "name": "stderr",
     "output_type": "stream",
     "text": [
      "13438it [1:11:35,  3.13it/s] \n",
      "  0%|          | 0/10 [00:00<?, ?it/s]"
     ]
    },
    {
     "name": "stdout",
     "output_type": "stream",
     "text": [
      "epoch: 1 44  batch\n",
      "Accuracy of     0 : 88 %\n",
      "Accuracy of     1 : 41 %\n",
      "Accuracy of     2 :  9 %\n",
      "Accuracy of     3 : 26 %\n",
      "Accuracy of     4 :  0 %\n",
      "Accuracy of     5 :  4 %\n",
      "Accuracy of     6 : 24 %\n",
      "Accuracy of     7 : 13 %\n",
      "Accuracy of     8 :  7 %\n",
      "Accuracy of     9 :  7 %\n",
      "Accuracy of    10 :  0 %\n",
      "Accuracy of    11 : 48 %\n",
      "Accuracy of    12 : 41 %\n",
      "Accuracy of    13 : 60 %\n",
      "Accuracy of    14 : 28 %\n",
      "Accuracy of    15 : 77 %\n",
      "Accuracy of    16 : 68 %\n",
      "Accuracy of    17 :  0 %\n",
      "Accuracy of    18 :  6 %\n",
      "Accuracy of    19 : 49 %\n",
      "Accuracy of    20 :  0 %\n",
      "Accuracy of    21 : 11 %\n",
      "Accuracy of    22 :  9 %\n",
      "Accuracy of    23 :  1 %\n",
      "Accuracy of    24 : 12 %\n",
      "Accuracy of    25 :  0 %\n",
      "Accuracy of    26 : 15 %\n",
      "Accuracy of    27 : 36 %\n",
      "Accuracy of    28 :  0 %\n",
      "Accuracy of    29 : 31 %\n",
      "Accuracy of    30 :  7 %\n",
      "Accuracy of    31 : 17 %\n",
      "Accuracy of    32 : 11 %\n",
      "Accuracy of    33 :  6 %\n",
      "Accuracy of    34 : 14 %\n",
      "Accuracy of    35 :  8 %\n",
      "Accuracy of    36 : 17 %\n",
      "Accuracy of    37 :  1 %\n",
      "Accuracy of    38 :  6 %\n",
      "Accuracy of    39 : 47 %\n",
      "Accuracy of    40 :  0 %\n",
      "Accuracy of    41 :  6 %\n",
      "Accuracy of    42 : 25 %\n",
      "Accuracy of    43 : 17 %\n",
      "Accuracy of    44 : 23 %\n",
      "Accuracy of    45 : 27 %\n",
      "Accuracy of    46 : 68 %\n",
      "Accuracy of    47 : 37 %\n",
      "Accuracy of    48 : 16 %\n",
      "Accuracy of    49 : 42 %\n",
      "Accuracy of    50 :  7 %\n",
      "Accuracy of    51 : 39 %\n",
      "Accuracy of    52 : 10 %\n",
      "Accuracy of    53 : 14 %\n",
      "Accuracy of    54 :  3 %\n",
      "Accuracy of    55 : 19 %\n",
      "Accuracy of    56 :  5 %\n",
      "Accuracy of    57 :  4 %\n",
      "Accuracy of    58 : 28 %\n",
      "Accuracy of    59 : 42 %\n",
      "Accuracy of    60 : 12 %\n",
      "Accuracy of    61 :  9 %\n",
      "Accuracy of    62 :  7 %\n",
      "Accuracy of    63 :  1 %\n",
      "Accuracy of    64 : 20 %\n",
      "Accuracy of    65 :  1 %\n",
      "Accuracy of    66 :  9 %\n",
      "Accuracy of    67 : 15 %\n",
      "Accuracy of    68 :  5 %\n",
      "Accuracy of    69 :  0 %\n",
      "Accuracy of    70 : 29 %\n",
      "Accuracy of    71 : 19 %\n",
      "Accuracy of    72 : 54 %\n",
      "Accuracy of    73 : 42 %\n",
      "Accuracy of    74 :  5 %\n",
      "Accuracy of    75 :  0 %\n",
      "Accuracy of    76 : 14 %\n",
      "Accuracy of    77 :  0 %\n",
      "Accuracy of    78 : 33 %\n",
      "Accuracy of    79 :  1 %\n",
      "epoch: 2/20 | step: 80/13438 | trn loss: 0.0675 | val loss: 2.1729\n",
      "Accuracy of the network on the 10000 test images: 42 %\n"
     ]
    },
    {
     "name": "stderr",
     "output_type": "stream",
     "text": [
      "\r",
      " 10%|█         | 1/10 [02:08<19:14, 128.33s/it]"
     ]
    },
    {
     "name": "stdout",
     "output_type": "stream",
     "text": [
      "Accuracy of the network on the 10000 test images: 36 %\n"
     ]
    },
    {
     "name": "stderr",
     "output_type": "stream",
     "text": [
      "\r",
      " 20%|██        | 2/10 [04:11<16:53, 126.65s/it]"
     ]
    },
    {
     "name": "stdout",
     "output_type": "stream",
     "text": [
      "Accuracy of the network on the 10000 test images: 37 %\n"
     ]
    },
    {
     "name": "stderr",
     "output_type": "stream",
     "text": [
      "\r",
      " 30%|███       | 3/10 [06:07<14:25, 123.61s/it]"
     ]
    },
    {
     "name": "stdout",
     "output_type": "stream",
     "text": [
      "Accuracy of the network on the 10000 test images: 37 %\n"
     ]
    },
    {
     "name": "stderr",
     "output_type": "stream",
     "text": [
      "\r",
      " 40%|████      | 4/10 [07:48<11:40, 116.78s/it]"
     ]
    },
    {
     "name": "stdout",
     "output_type": "stream",
     "text": [
      "Accuracy of the network on the 10000 test images: 39 %\n"
     ]
    },
    {
     "name": "stderr",
     "output_type": "stream",
     "text": [
      "\r",
      " 50%|█████     | 5/10 [09:01<08:38, 103.65s/it]"
     ]
    },
    {
     "name": "stdout",
     "output_type": "stream",
     "text": [
      "Accuracy of the network on the 10000 test images: 42 %\n"
     ]
    },
    {
     "name": "stderr",
     "output_type": "stream",
     "text": [
      "\r",
      " 60%|██████    | 6/10 [09:58<05:58, 89.69s/it] "
     ]
    },
    {
     "name": "stdout",
     "output_type": "stream",
     "text": [
      "Accuracy of the network on the 10000 test images: 44 %\n"
     ]
    },
    {
     "name": "stderr",
     "output_type": "stream",
     "text": [
      "\r",
      " 70%|███████   | 7/10 [10:43<03:48, 76.31s/it]"
     ]
    },
    {
     "name": "stdout",
     "output_type": "stream",
     "text": [
      "Accuracy of the network on the 10000 test images: 45 %\n"
     ]
    },
    {
     "name": "stderr",
     "output_type": "stream",
     "text": [
      "\r",
      " 80%|████████  | 8/10 [11:22<02:10, 65.21s/it]"
     ]
    },
    {
     "name": "stdout",
     "output_type": "stream",
     "text": [
      "Accuracy of the network on the 10000 test images: 44 %\n"
     ]
    },
    {
     "name": "stderr",
     "output_type": "stream",
     "text": [
      "\r",
      " 90%|█████████ | 9/10 [11:58<00:56, 56.34s/it]"
     ]
    },
    {
     "name": "stdout",
     "output_type": "stream",
     "text": [
      "Accuracy of the network on the 10000 test images: 40 %\n"
     ]
    },
    {
     "name": "stderr",
     "output_type": "stream",
     "text": [
      "100%|██████████| 10/10 [12:33<00:00, 75.36s/it]"
     ]
    },
    {
     "name": "stdout",
     "output_type": "stream",
     "text": [
      "Accuracy of the network on the 10000 test images: 35 %\n"
     ]
    },
    {
     "name": "stderr",
     "output_type": "stream",
     "text": [
      "\n",
      "6499it [20:43,  5.15it/s]\n",
      "  0%|          | 0/10 [00:00<?, ?it/s]\u001b[A"
     ]
    },
    {
     "name": "stdout",
     "output_type": "stream",
     "text": [
      "epoch: 2 44  batch\n",
      "Accuracy of     0 : 79 %\n",
      "Accuracy of     1 : 24 %\n",
      "Accuracy of     2 :  3 %\n",
      "Accuracy of     3 : 42 %\n",
      "Accuracy of     4 :  5 %\n",
      "Accuracy of     5 :  7 %\n",
      "Accuracy of     6 : 34 %\n",
      "Accuracy of     7 : 12 %\n",
      "Accuracy of     8 : 12 %\n",
      "Accuracy of     9 : 19 %\n",
      "Accuracy of    10 : 14 %\n",
      "Accuracy of    11 : 59 %\n",
      "Accuracy of    12 : 28 %\n",
      "Accuracy of    13 : 56 %\n",
      "Accuracy of    14 : 35 %\n",
      "Accuracy of    15 : 84 %\n",
      "Accuracy of    16 : 81 %\n",
      "Accuracy of    17 :  0 %\n",
      "Accuracy of    18 : 16 %\n",
      "Accuracy of    19 : 62 %\n",
      "Accuracy of    20 :  0 %\n",
      "Accuracy of    21 : 31 %\n",
      "Accuracy of    22 :  8 %\n",
      "Accuracy of    23 :  8 %\n",
      "Accuracy of    24 : 26 %\n",
      "Accuracy of    25 :  2 %\n",
      "Accuracy of    26 : 19 %\n",
      "Accuracy of    27 : 54 %\n",
      "Accuracy of    28 :  4 %\n",
      "Accuracy of    29 : 25 %\n",
      "Accuracy of    30 :  1 %\n",
      "Accuracy of    31 : 37 %\n",
      "Accuracy of    32 : 10 %\n",
      "Accuracy of    33 : 22 %\n",
      "Accuracy of    34 : 11 %\n",
      "Accuracy of    35 :  3 %\n",
      "Accuracy of    36 : 14 %\n",
      "Accuracy of    37 :  8 %\n",
      "Accuracy of    38 :  2 %\n",
      "Accuracy of    39 : 60 %\n",
      "Accuracy of    40 :  6 %\n",
      "Accuracy of    41 : 21 %\n",
      "Accuracy of    42 : 43 %\n",
      "Accuracy of    43 : 20 %\n",
      "Accuracy of    44 : 14 %\n",
      "Accuracy of    45 : 29 %\n",
      "Accuracy of    46 : 75 %\n",
      "Accuracy of    47 : 53 %\n",
      "Accuracy of    48 : 22 %\n",
      "Accuracy of    49 : 32 %\n",
      "Accuracy of    50 : 10 %\n",
      "Accuracy of    51 : 28 %\n",
      "Accuracy of    52 :  7 %\n",
      "Accuracy of    53 : 26 %\n",
      "Accuracy of    54 :  1 %\n",
      "Accuracy of    55 :  8 %\n",
      "Accuracy of    56 :  3 %\n",
      "Accuracy of    57 :  6 %\n",
      "Accuracy of    58 : 28 %\n",
      "Accuracy of    59 : 48 %\n",
      "Accuracy of    60 : 18 %\n",
      "Accuracy of    61 :  9 %\n",
      "Accuracy of    62 : 37 %\n",
      "Accuracy of    63 :  3 %\n",
      "Accuracy of    64 : 20 %\n",
      "Accuracy of    65 : 13 %\n",
      "Accuracy of    66 :  7 %\n",
      "Accuracy of    67 : 14 %\n",
      "Accuracy of    68 :  6 %\n",
      "Accuracy of    69 :  0 %\n",
      "Accuracy of    70 : 23 %\n",
      "Accuracy of    71 : 17 %\n",
      "Accuracy of    72 : 54 %\n",
      "Accuracy of    73 : 42 %\n",
      "Accuracy of    74 :  5 %\n",
      "Accuracy of    75 :  0 %\n",
      "Accuracy of    76 : 17 %\n",
      "Accuracy of    77 :  0 %\n",
      "Accuracy of    78 : 44 %\n",
      "Accuracy of    79 :  0 %\n",
      "epoch: 3/20 | step: 80/13438 | trn loss: 0.9583 | val loss: 2.1442\n",
      "Accuracy of the network on the 10000 test images: 42 %\n"
     ]
    },
    {
     "name": "stderr",
     "output_type": "stream",
     "text": [
      "\n",
      " 10%|█         | 1/10 [02:09<19:27, 129.67s/it]\u001b[A"
     ]
    },
    {
     "name": "stdout",
     "output_type": "stream",
     "text": [
      "Accuracy of the network on the 10000 test images: 36 %\n"
     ]
    },
    {
     "name": "stderr",
     "output_type": "stream",
     "text": [
      "\n",
      " 20%|██        | 2/10 [04:21<17:21, 130.19s/it]\u001b[A"
     ]
    },
    {
     "name": "stdout",
     "output_type": "stream",
     "text": [
      "Accuracy of the network on the 10000 test images: 36 %\n"
     ]
    },
    {
     "name": "stderr",
     "output_type": "stream",
     "text": [
      "\n",
      " 30%|███       | 3/10 [06:27<15:03, 129.03s/it]\u001b[A"
     ]
    },
    {
     "name": "stdout",
     "output_type": "stream",
     "text": [
      "Accuracy of the network on the 10000 test images: 37 %\n"
     ]
    },
    {
     "name": "stderr",
     "output_type": "stream",
     "text": [
      "\n",
      " 40%|████      | 4/10 [08:13<12:12, 122.14s/it]\u001b[A"
     ]
    },
    {
     "name": "stdout",
     "output_type": "stream",
     "text": [
      "Accuracy of the network on the 10000 test images: 39 %\n"
     ]
    },
    {
     "name": "stderr",
     "output_type": "stream",
     "text": [
      "\n",
      " 50%|█████     | 5/10 [09:28<08:59, 107.97s/it]\u001b[A"
     ]
    },
    {
     "name": "stdout",
     "output_type": "stream",
     "text": [
      "Accuracy of the network on the 10000 test images: 42 %\n"
     ]
    },
    {
     "name": "stderr",
     "output_type": "stream",
     "text": [
      "\n",
      " 60%|██████    | 6/10 [10:28<06:14, 93.64s/it] \u001b[A"
     ]
    },
    {
     "name": "stdout",
     "output_type": "stream",
     "text": [
      "Accuracy of the network on the 10000 test images: 45 %\n"
     ]
    },
    {
     "name": "stderr",
     "output_type": "stream",
     "text": [
      "\n",
      " 70%|███████   | 7/10 [11:15<03:58, 79.61s/it]\u001b[A"
     ]
    },
    {
     "name": "stdout",
     "output_type": "stream",
     "text": [
      "Accuracy of the network on the 10000 test images: 46 %\n"
     ]
    },
    {
     "name": "stderr",
     "output_type": "stream",
     "text": [
      "\n",
      " 80%|████████  | 8/10 [11:56<02:16, 68.14s/it]\u001b[A"
     ]
    },
    {
     "name": "stdout",
     "output_type": "stream",
     "text": [
      "Accuracy of the network on the 10000 test images: 44 %\n"
     ]
    },
    {
     "name": "stderr",
     "output_type": "stream",
     "text": [
      "\n",
      " 90%|█████████ | 9/10 [12:33<00:58, 58.74s/it]\u001b[A"
     ]
    },
    {
     "name": "stdout",
     "output_type": "stream",
     "text": [
      "Accuracy of the network on the 10000 test images: 40 %\n"
     ]
    },
    {
     "name": "stderr",
     "output_type": "stream",
     "text": [
      "\n",
      "100%|██████████| 10/10 [13:09<00:00, 78.97s/it]\u001b[A\n",
      "6500it [35:14, 261.38s/it]"
     ]
    },
    {
     "name": "stdout",
     "output_type": "stream",
     "text": [
      "Accuracy of the network on the 10000 test images: 35 %\n"
     ]
    },
    {
     "name": "stderr",
     "output_type": "stream",
     "text": [
      "12999it [55:52,  5.46it/s]\n",
      "  0%|          | 0/10 [00:00<?, ?it/s]\u001b[A"
     ]
    },
    {
     "name": "stdout",
     "output_type": "stream",
     "text": [
      "epoch: 2 44  batch\n",
      "Accuracy of     0 : 84 %\n",
      "Accuracy of     1 : 45 %\n",
      "Accuracy of     2 : 12 %\n",
      "Accuracy of     3 : 42 %\n",
      "Accuracy of     4 :  3 %\n",
      "Accuracy of     5 :  5 %\n",
      "Accuracy of     6 : 33 %\n",
      "Accuracy of     7 : 11 %\n",
      "Accuracy of     8 : 12 %\n",
      "Accuracy of     9 : 18 %\n",
      "Accuracy of    10 : 12 %\n",
      "Accuracy of    11 : 66 %\n",
      "Accuracy of    12 : 50 %\n",
      "Accuracy of    13 : 49 %\n",
      "Accuracy of    14 : 42 %\n",
      "Accuracy of    15 : 82 %\n",
      "Accuracy of    16 : 74 %\n",
      "Accuracy of    17 :  0 %\n",
      "Accuracy of    18 : 23 %\n",
      "Accuracy of    19 : 58 %\n",
      "Accuracy of    20 :  0 %\n",
      "Accuracy of    21 : 12 %\n",
      "Accuracy of    22 : 21 %\n",
      "Accuracy of    23 : 14 %\n",
      "Accuracy of    24 : 15 %\n",
      "Accuracy of    25 :  2 %\n",
      "Accuracy of    26 : 17 %\n",
      "Accuracy of    27 : 31 %\n",
      "Accuracy of    28 :  0 %\n",
      "Accuracy of    29 : 22 %\n",
      "Accuracy of    30 :  3 %\n",
      "Accuracy of    31 : 15 %\n",
      "Accuracy of    32 : 14 %\n",
      "Accuracy of    33 :  6 %\n",
      "Accuracy of    34 : 39 %\n",
      "Accuracy of    35 :  1 %\n",
      "Accuracy of    36 : 17 %\n",
      "Accuracy of    37 :  9 %\n",
      "Accuracy of    38 :  7 %\n",
      "Accuracy of    39 : 39 %\n",
      "Accuracy of    40 :  1 %\n",
      "Accuracy of    41 : 16 %\n",
      "Accuracy of    42 : 36 %\n",
      "Accuracy of    43 : 16 %\n",
      "Accuracy of    44 :  8 %\n",
      "Accuracy of    45 : 20 %\n",
      "Accuracy of    46 : 77 %\n",
      "Accuracy of    47 : 49 %\n",
      "Accuracy of    48 : 13 %\n",
      "Accuracy of    49 : 24 %\n",
      "Accuracy of    50 : 12 %\n",
      "Accuracy of    51 : 35 %\n",
      "Accuracy of    52 :  7 %\n",
      "Accuracy of    53 : 23 %\n",
      "Accuracy of    54 :  0 %\n",
      "Accuracy of    55 : 24 %\n",
      "Accuracy of    56 :  3 %\n",
      "Accuracy of    57 : 14 %\n",
      "Accuracy of    58 : 24 %\n",
      "Accuracy of    59 : 54 %\n",
      "Accuracy of    60 : 13 %\n",
      "Accuracy of    61 :  7 %\n",
      "Accuracy of    62 : 10 %\n",
      "Accuracy of    63 : 12 %\n",
      "Accuracy of    64 :  9 %\n",
      "Accuracy of    65 :  2 %\n",
      "Accuracy of    66 :  9 %\n",
      "Accuracy of    67 : 13 %\n",
      "Accuracy of    68 :  9 %\n",
      "Accuracy of    69 :  0 %\n",
      "Accuracy of    70 : 23 %\n",
      "Accuracy of    71 : 19 %\n",
      "Accuracy of    72 : 46 %\n",
      "Accuracy of    73 : 39 %\n",
      "Accuracy of    74 : 12 %\n",
      "Accuracy of    75 :  0 %\n",
      "Accuracy of    76 : 22 %\n",
      "Accuracy of    77 :  0 %\n",
      "Accuracy of    78 : 39 %\n",
      "Accuracy of    79 :  0 %\n",
      "epoch: 3/20 | step: 80/13438 | trn loss: 0.9254 | val loss: 2.0949\n",
      "Accuracy of the network on the 10000 test images: 44 %\n"
     ]
    },
    {
     "name": "stderr",
     "output_type": "stream",
     "text": [
      "\n",
      " 10%|█         | 1/10 [02:14<20:14, 134.97s/it]\u001b[A"
     ]
    },
    {
     "name": "stdout",
     "output_type": "stream",
     "text": [
      "Accuracy of the network on the 10000 test images: 37 %\n"
     ]
    },
    {
     "name": "stderr",
     "output_type": "stream",
     "text": [
      "\n",
      " 20%|██        | 2/10 [04:26<17:51, 133.94s/it]\u001b[A"
     ]
    },
    {
     "name": "stdout",
     "output_type": "stream",
     "text": [
      "Accuracy of the network on the 10000 test images: 37 %\n"
     ]
    },
    {
     "name": "stderr",
     "output_type": "stream",
     "text": [
      "\n",
      " 30%|███       | 3/10 [06:33<15:23, 131.86s/it]\u001b[A"
     ]
    },
    {
     "name": "stdout",
     "output_type": "stream",
     "text": [
      "Accuracy of the network on the 10000 test images: 38 %\n"
     ]
    },
    {
     "name": "stderr",
     "output_type": "stream",
     "text": [
      "\n",
      " 40%|████      | 4/10 [08:19<12:24, 124.16s/it]\u001b[A"
     ]
    },
    {
     "name": "stdout",
     "output_type": "stream",
     "text": [
      "Accuracy of the network on the 10000 test images: 40 %\n"
     ]
    },
    {
     "name": "stderr",
     "output_type": "stream",
     "text": [
      "\n",
      " 50%|█████     | 5/10 [09:35<09:07, 109.56s/it]\u001b[A"
     ]
    },
    {
     "name": "stdout",
     "output_type": "stream",
     "text": [
      "Accuracy of the network on the 10000 test images: 44 %\n"
     ]
    },
    {
     "name": "stderr",
     "output_type": "stream",
     "text": [
      "\n",
      " 60%|██████    | 6/10 [10:36<06:20, 95.23s/it] \u001b[A"
     ]
    },
    {
     "name": "stdout",
     "output_type": "stream",
     "text": [
      "Accuracy of the network on the 10000 test images: 47 %\n"
     ]
    },
    {
     "name": "stderr",
     "output_type": "stream",
     "text": [
      "\n",
      " 70%|███████   | 7/10 [11:26<04:04, 81.39s/it]\u001b[A"
     ]
    },
    {
     "name": "stdout",
     "output_type": "stream",
     "text": [
      "Accuracy of the network on the 10000 test images: 48 %\n"
     ]
    },
    {
     "name": "stderr",
     "output_type": "stream",
     "text": [
      "\n",
      " 80%|████████  | 8/10 [12:08<02:19, 69.77s/it]\u001b[A"
     ]
    },
    {
     "name": "stdout",
     "output_type": "stream",
     "text": [
      "Accuracy of the network on the 10000 test images: 47 %\n"
     ]
    },
    {
     "name": "stderr",
     "output_type": "stream",
     "text": [
      "\n",
      " 90%|█████████ | 9/10 [12:46<01:00, 60.30s/it]\u001b[A"
     ]
    },
    {
     "name": "stdout",
     "output_type": "stream",
     "text": [
      "Accuracy of the network on the 10000 test images: 42 %\n"
     ]
    },
    {
     "name": "stderr",
     "output_type": "stream",
     "text": [
      "\n",
      "100%|██████████| 10/10 [13:23<00:00, 80.31s/it]\u001b[A\n",
      "13000it [1:10:33, 264.40s/it]"
     ]
    },
    {
     "name": "stdout",
     "output_type": "stream",
     "text": [
      "Accuracy of the network on the 10000 test images: 35 %\n"
     ]
    },
    {
     "name": "stderr",
     "output_type": "stream",
     "text": [
      "13438it [1:11:54,  3.11it/s] \n",
      "  0%|          | 0/10 [00:00<?, ?it/s]"
     ]
    },
    {
     "name": "stdout",
     "output_type": "stream",
     "text": [
      "epoch: 2 44  batch\n",
      "Accuracy of     0 : 81 %\n",
      "Accuracy of     1 : 44 %\n",
      "Accuracy of     2 : 16 %\n",
      "Accuracy of     3 : 49 %\n",
      "Accuracy of     4 : 13 %\n",
      "Accuracy of     5 :  5 %\n",
      "Accuracy of     6 : 42 %\n",
      "Accuracy of     7 : 34 %\n",
      "Accuracy of     8 : 10 %\n",
      "Accuracy of     9 : 15 %\n",
      "Accuracy of    10 :  4 %\n",
      "Accuracy of    11 : 63 %\n",
      "Accuracy of    12 : 52 %\n",
      "Accuracy of    13 : 57 %\n",
      "Accuracy of    14 : 53 %\n",
      "Accuracy of    15 : 86 %\n",
      "Accuracy of    16 : 69 %\n",
      "Accuracy of    17 :  0 %\n",
      "Accuracy of    18 : 10 %\n",
      "Accuracy of    19 : 45 %\n",
      "Accuracy of    20 :  0 %\n",
      "Accuracy of    21 : 22 %\n",
      "Accuracy of    22 : 22 %\n",
      "Accuracy of    23 : 17 %\n",
      "Accuracy of    24 : 30 %\n",
      "Accuracy of    25 :  7 %\n",
      "Accuracy of    26 : 25 %\n",
      "Accuracy of    27 : 47 %\n",
      "Accuracy of    28 :  6 %\n",
      "Accuracy of    29 : 21 %\n",
      "Accuracy of    30 :  4 %\n",
      "Accuracy of    31 : 20 %\n",
      "Accuracy of    32 : 29 %\n",
      "Accuracy of    33 : 30 %\n",
      "Accuracy of    34 : 31 %\n",
      "Accuracy of    35 :  4 %\n",
      "Accuracy of    36 : 26 %\n",
      "Accuracy of    37 :  1 %\n",
      "Accuracy of    38 : 11 %\n",
      "Accuracy of    39 : 47 %\n",
      "Accuracy of    40 :  0 %\n",
      "Accuracy of    41 : 15 %\n",
      "Accuracy of    42 : 60 %\n",
      "Accuracy of    43 : 15 %\n",
      "Accuracy of    44 : 13 %\n",
      "Accuracy of    45 : 37 %\n",
      "Accuracy of    46 : 78 %\n",
      "Accuracy of    47 : 46 %\n",
      "Accuracy of    48 : 14 %\n",
      "Accuracy of    49 : 19 %\n",
      "Accuracy of    50 : 12 %\n",
      "Accuracy of    51 : 38 %\n",
      "Accuracy of    52 : 29 %\n",
      "Accuracy of    53 : 22 %\n",
      "Accuracy of    54 :  8 %\n",
      "Accuracy of    55 : 30 %\n",
      "Accuracy of    56 : 12 %\n",
      "Accuracy of    57 : 11 %\n",
      "Accuracy of    58 : 35 %\n",
      "Accuracy of    59 : 39 %\n",
      "Accuracy of    60 : 23 %\n",
      "Accuracy of    61 :  5 %\n",
      "Accuracy of    62 :  2 %\n",
      "Accuracy of    63 : 13 %\n",
      "Accuracy of    64 : 16 %\n",
      "Accuracy of    65 :  6 %\n",
      "Accuracy of    66 : 10 %\n",
      "Accuracy of    67 :  9 %\n",
      "Accuracy of    68 : 13 %\n",
      "Accuracy of    69 :  0 %\n",
      "Accuracy of    70 : 42 %\n",
      "Accuracy of    71 : 18 %\n",
      "Accuracy of    72 : 51 %\n",
      "Accuracy of    73 : 45 %\n",
      "Accuracy of    74 : 21 %\n",
      "Accuracy of    75 :  0 %\n",
      "Accuracy of    76 : 30 %\n",
      "Accuracy of    77 :  0 %\n",
      "Accuracy of    78 : 44 %\n",
      "Accuracy of    79 :  7 %\n",
      "epoch: 3/20 | step: 80/13438 | trn loss: 0.0607 | val loss: 2.0426\n",
      "Accuracy of the network on the 10000 test images: 44 %\n"
     ]
    },
    {
     "name": "stderr",
     "output_type": "stream",
     "text": [
      "\r",
      " 10%|█         | 1/10 [02:04<18:42, 124.75s/it]"
     ]
    },
    {
     "name": "stdout",
     "output_type": "stream",
     "text": [
      "Accuracy of the network on the 10000 test images: 37 %\n"
     ]
    },
    {
     "name": "stderr",
     "output_type": "stream",
     "text": [
      "\r",
      " 20%|██        | 2/10 [04:06<16:31, 123.98s/it]"
     ]
    },
    {
     "name": "stdout",
     "output_type": "stream",
     "text": [
      "Accuracy of the network on the 10000 test images: 37 %\n"
     ]
    },
    {
     "name": "stderr",
     "output_type": "stream",
     "text": [
      "\r",
      " 30%|███       | 3/10 [06:04<14:13, 121.94s/it]"
     ]
    },
    {
     "name": "stdout",
     "output_type": "stream",
     "text": [
      "Accuracy of the network on the 10000 test images: 37 %\n"
     ]
    },
    {
     "name": "stderr",
     "output_type": "stream",
     "text": [
      "\r",
      " 40%|████      | 4/10 [07:44<11:32, 115.36s/it]"
     ]
    },
    {
     "name": "stdout",
     "output_type": "stream",
     "text": [
      "Accuracy of the network on the 10000 test images: 41 %\n"
     ]
    },
    {
     "name": "stderr",
     "output_type": "stream",
     "text": [
      "\r",
      " 50%|█████     | 5/10 [08:59<08:36, 103.30s/it]"
     ]
    },
    {
     "name": "stdout",
     "output_type": "stream",
     "text": [
      "Accuracy of the network on the 10000 test images: 44 %\n"
     ]
    },
    {
     "name": "stderr",
     "output_type": "stream",
     "text": [
      "\r",
      " 60%|██████    | 6/10 [09:55<05:56, 89.08s/it] "
     ]
    },
    {
     "name": "stdout",
     "output_type": "stream",
     "text": [
      "Accuracy of the network on the 10000 test images: 47 %\n"
     ]
    },
    {
     "name": "stderr",
     "output_type": "stream",
     "text": [
      "\r",
      " 70%|███████   | 7/10 [10:40<03:47, 75.81s/it]"
     ]
    },
    {
     "name": "stdout",
     "output_type": "stream",
     "text": [
      "Accuracy of the network on the 10000 test images: 48 %\n"
     ]
    },
    {
     "name": "stderr",
     "output_type": "stream",
     "text": [
      "\r",
      " 80%|████████  | 8/10 [11:18<02:09, 64.67s/it]"
     ]
    },
    {
     "name": "stdout",
     "output_type": "stream",
     "text": [
      "Accuracy of the network on the 10000 test images: 46 %\n"
     ]
    },
    {
     "name": "stderr",
     "output_type": "stream",
     "text": [
      "\r",
      " 90%|█████████ | 9/10 [11:55<00:56, 56.29s/it]"
     ]
    },
    {
     "name": "stdout",
     "output_type": "stream",
     "text": [
      "Accuracy of the network on the 10000 test images: 42 %\n"
     ]
    },
    {
     "name": "stderr",
     "output_type": "stream",
     "text": [
      "100%|██████████| 10/10 [12:31<00:00, 75.13s/it]"
     ]
    },
    {
     "name": "stdout",
     "output_type": "stream",
     "text": [
      "Accuracy of the network on the 10000 test images: 34 %\n"
     ]
    },
    {
     "name": "stderr",
     "output_type": "stream",
     "text": [
      "\n",
      "6499it [20:00,  5.41it/s]\n",
      "  0%|          | 0/10 [00:00<?, ?it/s]\u001b[A"
     ]
    },
    {
     "name": "stdout",
     "output_type": "stream",
     "text": [
      "epoch: 3 44  batch\n",
      "Accuracy of     0 : 81 %\n",
      "Accuracy of     1 : 36 %\n",
      "Accuracy of     2 : 25 %\n",
      "Accuracy of     3 : 41 %\n",
      "Accuracy of     4 : 13 %\n",
      "Accuracy of     5 : 10 %\n",
      "Accuracy of     6 : 40 %\n",
      "Accuracy of     7 : 34 %\n",
      "Accuracy of     8 : 16 %\n",
      "Accuracy of     9 : 17 %\n",
      "Accuracy of    10 :  5 %\n",
      "Accuracy of    11 : 70 %\n",
      "Accuracy of    12 : 49 %\n",
      "Accuracy of    13 : 71 %\n",
      "Accuracy of    14 : 43 %\n",
      "Accuracy of    15 : 82 %\n",
      "Accuracy of    16 : 84 %\n",
      "Accuracy of    17 :  0 %\n",
      "Accuracy of    18 : 13 %\n",
      "Accuracy of    19 : 45 %\n",
      "Accuracy of    20 :  1 %\n",
      "Accuracy of    21 : 23 %\n",
      "Accuracy of    22 : 14 %\n",
      "Accuracy of    23 : 21 %\n",
      "Accuracy of    24 : 20 %\n",
      "Accuracy of    25 :  8 %\n",
      "Accuracy of    26 : 33 %\n",
      "Accuracy of    27 : 47 %\n",
      "Accuracy of    28 :  5 %\n",
      "Accuracy of    29 : 35 %\n",
      "Accuracy of    30 : 11 %\n",
      "Accuracy of    31 : 29 %\n",
      "Accuracy of    32 : 24 %\n",
      "Accuracy of    33 : 17 %\n",
      "Accuracy of    34 : 21 %\n",
      "Accuracy of    35 :  0 %\n",
      "Accuracy of    36 : 26 %\n",
      "Accuracy of    37 :  3 %\n",
      "Accuracy of    38 :  9 %\n",
      "Accuracy of    39 : 40 %\n",
      "Accuracy of    40 :  0 %\n",
      "Accuracy of    41 : 14 %\n",
      "Accuracy of    42 : 52 %\n",
      "Accuracy of    43 : 17 %\n",
      "Accuracy of    44 : 18 %\n",
      "Accuracy of    45 : 40 %\n",
      "Accuracy of    46 : 75 %\n",
      "Accuracy of    47 : 43 %\n",
      "Accuracy of    48 : 23 %\n",
      "Accuracy of    49 : 30 %\n",
      "Accuracy of    50 : 11 %\n",
      "Accuracy of    51 : 61 %\n",
      "Accuracy of    52 : 21 %\n",
      "Accuracy of    53 : 20 %\n",
      "Accuracy of    54 : 12 %\n",
      "Accuracy of    55 : 16 %\n",
      "Accuracy of    56 : 31 %\n",
      "Accuracy of    57 : 12 %\n",
      "Accuracy of    58 : 42 %\n",
      "Accuracy of    59 : 46 %\n",
      "Accuracy of    60 : 14 %\n",
      "Accuracy of    61 :  7 %\n",
      "Accuracy of    62 : 30 %\n",
      "Accuracy of    63 : 11 %\n",
      "Accuracy of    64 :  9 %\n",
      "Accuracy of    65 :  3 %\n",
      "Accuracy of    66 :  7 %\n",
      "Accuracy of    67 : 17 %\n",
      "Accuracy of    68 :  6 %\n",
      "Accuracy of    69 :  0 %\n",
      "Accuracy of    70 : 38 %\n",
      "Accuracy of    71 : 23 %\n",
      "Accuracy of    72 : 63 %\n",
      "Accuracy of    73 : 55 %\n",
      "Accuracy of    74 : 19 %\n",
      "Accuracy of    75 :  0 %\n",
      "Accuracy of    76 : 27 %\n",
      "Accuracy of    77 :  0 %\n",
      "Accuracy of    78 : 43 %\n",
      "Accuracy of    79 :  0 %\n",
      "epoch: 4/20 | step: 80/13438 | trn loss: 0.8829 | val loss: 2.0625\n",
      "Accuracy of the network on the 10000 test images: 44 %\n"
     ]
    },
    {
     "name": "stderr",
     "output_type": "stream",
     "text": [
      "\n",
      " 10%|█         | 1/10 [02:13<20:05, 133.97s/it]\u001b[A"
     ]
    },
    {
     "name": "stdout",
     "output_type": "stream",
     "text": [
      "Accuracy of the network on the 10000 test images: 36 %\n"
     ]
    },
    {
     "name": "stderr",
     "output_type": "stream",
     "text": [
      "\n",
      " 20%|██        | 2/10 [04:24<17:42, 132.87s/it]\u001b[A"
     ]
    },
    {
     "name": "stdout",
     "output_type": "stream",
     "text": [
      "Accuracy of the network on the 10000 test images: 36 %\n"
     ]
    },
    {
     "name": "stderr",
     "output_type": "stream",
     "text": [
      "\n",
      " 30%|███       | 3/10 [06:31<15:18, 131.17s/it]\u001b[A"
     ]
    },
    {
     "name": "stdout",
     "output_type": "stream",
     "text": [
      "Accuracy of the network on the 10000 test images: 37 %\n"
     ]
    },
    {
     "name": "stderr",
     "output_type": "stream",
     "text": [
      "\n",
      " 40%|████      | 4/10 [08:17<12:21, 123.55s/it]\u001b[A"
     ]
    },
    {
     "name": "stdout",
     "output_type": "stream",
     "text": [
      "Accuracy of the network on the 10000 test images: 40 %\n"
     ]
    },
    {
     "name": "stderr",
     "output_type": "stream",
     "text": [
      "\n",
      " 50%|█████     | 5/10 [09:31<09:03, 108.74s/it]\u001b[A"
     ]
    },
    {
     "name": "stdout",
     "output_type": "stream",
     "text": [
      "Accuracy of the network on the 10000 test images: 44 %\n"
     ]
    },
    {
     "name": "stderr",
     "output_type": "stream",
     "text": [
      "\n",
      " 60%|██████    | 6/10 [10:33<06:18, 94.72s/it] \u001b[A"
     ]
    },
    {
     "name": "stdout",
     "output_type": "stream",
     "text": [
      "Accuracy of the network on the 10000 test images: 47 %\n"
     ]
    },
    {
     "name": "stderr",
     "output_type": "stream",
     "text": [
      "\n",
      " 70%|███████   | 7/10 [11:21<04:02, 80.84s/it]\u001b[A"
     ]
    },
    {
     "name": "stdout",
     "output_type": "stream",
     "text": [
      "Accuracy of the network on the 10000 test images: 48 %\n"
     ]
    },
    {
     "name": "stderr",
     "output_type": "stream",
     "text": [
      "\n",
      " 80%|████████  | 8/10 [12:03<02:18, 69.16s/it]\u001b[A"
     ]
    },
    {
     "name": "stdout",
     "output_type": "stream",
     "text": [
      "Accuracy of the network on the 10000 test images: 47 %\n"
     ]
    },
    {
     "name": "stderr",
     "output_type": "stream",
     "text": [
      "\n",
      " 90%|█████████ | 9/10 [12:42<00:59, 59.92s/it]\u001b[A"
     ]
    },
    {
     "name": "stdout",
     "output_type": "stream",
     "text": [
      "Accuracy of the network on the 10000 test images: 42 %\n"
     ]
    },
    {
     "name": "stderr",
     "output_type": "stream",
     "text": [
      "\n",
      "100%|██████████| 10/10 [13:18<00:00, 79.84s/it]\u001b[A\n",
      "6500it [34:40, 264.21s/it]"
     ]
    },
    {
     "name": "stdout",
     "output_type": "stream",
     "text": [
      "Accuracy of the network on the 10000 test images: 33 %\n"
     ]
    },
    {
     "name": "stderr",
     "output_type": "stream",
     "text": [
      "12999it [55:20,  4.93it/s]\n",
      "  0%|          | 0/10 [00:00<?, ?it/s]\u001b[A"
     ]
    },
    {
     "name": "stdout",
     "output_type": "stream",
     "text": [
      "epoch: 3 44  batch\n",
      "Accuracy of     0 : 83 %\n",
      "Accuracy of     1 : 46 %\n",
      "Accuracy of     2 : 21 %\n",
      "Accuracy of     3 : 45 %\n",
      "Accuracy of     4 : 10 %\n",
      "Accuracy of     5 :  9 %\n",
      "Accuracy of     6 : 43 %\n",
      "Accuracy of     7 : 29 %\n",
      "Accuracy of     8 : 24 %\n",
      "Accuracy of     9 : 21 %\n",
      "Accuracy of    10 :  9 %\n",
      "Accuracy of    11 : 57 %\n",
      "Accuracy of    12 : 60 %\n",
      "Accuracy of    13 : 69 %\n",
      "Accuracy of    14 : 40 %\n",
      "Accuracy of    15 : 83 %\n",
      "Accuracy of    16 : 80 %\n",
      "Accuracy of    17 :  0 %\n",
      "Accuracy of    18 : 14 %\n",
      "Accuracy of    19 : 49 %\n",
      "Accuracy of    20 :  1 %\n",
      "Accuracy of    21 : 18 %\n",
      "Accuracy of    22 : 24 %\n",
      "Accuracy of    23 : 24 %\n",
      "Accuracy of    24 : 31 %\n",
      "Accuracy of    25 :  8 %\n",
      "Accuracy of    26 : 24 %\n",
      "Accuracy of    27 : 50 %\n",
      "Accuracy of    28 :  6 %\n",
      "Accuracy of    29 : 24 %\n",
      "Accuracy of    30 :  6 %\n",
      "Accuracy of    31 : 30 %\n",
      "Accuracy of    32 : 23 %\n",
      "Accuracy of    33 : 25 %\n",
      "Accuracy of    34 : 25 %\n",
      "Accuracy of    35 :  6 %\n",
      "Accuracy of    36 : 21 %\n",
      "Accuracy of    37 :  9 %\n",
      "Accuracy of    38 :  7 %\n",
      "Accuracy of    39 : 60 %\n",
      "Accuracy of    40 :  6 %\n",
      "Accuracy of    41 : 22 %\n",
      "Accuracy of    42 : 59 %\n",
      "Accuracy of    43 : 12 %\n",
      "Accuracy of    44 : 19 %\n",
      "Accuracy of    45 : 29 %\n",
      "Accuracy of    46 : 71 %\n",
      "Accuracy of    47 : 55 %\n",
      "Accuracy of    48 : 12 %\n",
      "Accuracy of    49 : 34 %\n",
      "Accuracy of    50 : 19 %\n",
      "Accuracy of    51 : 37 %\n",
      "Accuracy of    52 : 10 %\n",
      "Accuracy of    53 : 23 %\n",
      "Accuracy of    54 :  8 %\n",
      "Accuracy of    55 : 18 %\n",
      "Accuracy of    56 : 28 %\n",
      "Accuracy of    57 : 11 %\n",
      "Accuracy of    58 : 42 %\n",
      "Accuracy of    59 : 53 %\n",
      "Accuracy of    60 : 15 %\n",
      "Accuracy of    61 :  1 %\n",
      "Accuracy of    62 : 15 %\n",
      "Accuracy of    63 :  9 %\n",
      "Accuracy of    64 : 37 %\n",
      "Accuracy of    65 :  6 %\n",
      "Accuracy of    66 : 12 %\n",
      "Accuracy of    67 : 16 %\n",
      "Accuracy of    68 :  7 %\n",
      "Accuracy of    69 :  0 %\n",
      "Accuracy of    70 : 28 %\n",
      "Accuracy of    71 : 19 %\n",
      "Accuracy of    72 : 63 %\n",
      "Accuracy of    73 : 49 %\n",
      "Accuracy of    74 : 23 %\n",
      "Accuracy of    75 :  0 %\n",
      "Accuracy of    76 : 29 %\n",
      "Accuracy of    77 :  0 %\n",
      "Accuracy of    78 : 40 %\n",
      "Accuracy of    79 :  3 %\n",
      "epoch: 4/20 | step: 80/13438 | trn loss: 0.8662 | val loss: 1.9764\n",
      "Accuracy of the network on the 10000 test images: 46 %\n"
     ]
    },
    {
     "name": "stderr",
     "output_type": "stream",
     "text": [
      "\n",
      " 10%|█         | 1/10 [02:10<19:38, 130.96s/it]\u001b[A"
     ]
    },
    {
     "name": "stdout",
     "output_type": "stream",
     "text": [
      "Accuracy of the network on the 10000 test images: 37 %\n"
     ]
    },
    {
     "name": "stderr",
     "output_type": "stream",
     "text": [
      "\n",
      " 20%|██        | 2/10 [04:20<17:24, 130.58s/it]\u001b[A"
     ]
    },
    {
     "name": "stdout",
     "output_type": "stream",
     "text": [
      "Accuracy of the network on the 10000 test images: 37 %\n"
     ]
    },
    {
     "name": "stderr",
     "output_type": "stream",
     "text": [
      "\n",
      " 30%|███       | 3/10 [06:26<15:04, 129.25s/it]\u001b[A"
     ]
    },
    {
     "name": "stdout",
     "output_type": "stream",
     "text": [
      "Accuracy of the network on the 10000 test images: 38 %\n"
     ]
    },
    {
     "name": "stderr",
     "output_type": "stream",
     "text": [
      "\n",
      " 40%|████      | 4/10 [08:12<12:12, 122.11s/it]\u001b[A"
     ]
    },
    {
     "name": "stdout",
     "output_type": "stream",
     "text": [
      "Accuracy of the network on the 10000 test images: 41 %\n"
     ]
    },
    {
     "name": "stderr",
     "output_type": "stream",
     "text": [
      "\n",
      " 50%|█████     | 5/10 [09:26<08:59, 107.88s/it]\u001b[A"
     ]
    },
    {
     "name": "stdout",
     "output_type": "stream",
     "text": [
      "Accuracy of the network on the 10000 test images: 46 %\n"
     ]
    },
    {
     "name": "stderr",
     "output_type": "stream",
     "text": [
      "\n",
      " 60%|██████    | 6/10 [10:28<06:16, 94.09s/it] \u001b[A"
     ]
    },
    {
     "name": "stdout",
     "output_type": "stream",
     "text": [
      "Accuracy of the network on the 10000 test images: 49 %\n"
     ]
    },
    {
     "name": "stderr",
     "output_type": "stream",
     "text": [
      "\n",
      " 70%|███████   | 7/10 [11:16<04:00, 80.30s/it]\u001b[A"
     ]
    },
    {
     "name": "stdout",
     "output_type": "stream",
     "text": [
      "Accuracy of the network on the 10000 test images: 50 %\n"
     ]
    },
    {
     "name": "stderr",
     "output_type": "stream",
     "text": [
      "\n",
      " 80%|████████  | 8/10 [11:58<02:17, 68.76s/it]\u001b[A"
     ]
    },
    {
     "name": "stdout",
     "output_type": "stream",
     "text": [
      "Accuracy of the network on the 10000 test images: 49 %\n"
     ]
    },
    {
     "name": "stderr",
     "output_type": "stream",
     "text": [
      "\n",
      " 90%|█████████ | 9/10 [12:36<00:59, 59.44s/it]\u001b[A"
     ]
    },
    {
     "name": "stdout",
     "output_type": "stream",
     "text": [
      "Accuracy of the network on the 10000 test images: 45 %\n"
     ]
    },
    {
     "name": "stderr",
     "output_type": "stream",
     "text": [
      "\n",
      "100%|██████████| 10/10 [13:12<00:00, 79.23s/it]\u001b[A\n",
      "13000it [1:09:49, 260.81s/it]"
     ]
    },
    {
     "name": "stdout",
     "output_type": "stream",
     "text": [
      "Accuracy of the network on the 10000 test images: 38 %\n"
     ]
    },
    {
     "name": "stderr",
     "output_type": "stream",
     "text": [
      "13438it [1:11:13,  3.14it/s] \n",
      "  0%|          | 0/10 [00:00<?, ?it/s]"
     ]
    },
    {
     "name": "stdout",
     "output_type": "stream",
     "text": [
      "epoch: 3 44  batch\n",
      "Accuracy of     0 : 77 %\n",
      "Accuracy of     1 : 33 %\n",
      "Accuracy of     2 : 23 %\n",
      "Accuracy of     3 : 30 %\n",
      "Accuracy of     4 :  3 %\n",
      "Accuracy of     5 : 16 %\n",
      "Accuracy of     6 : 40 %\n",
      "Accuracy of     7 : 36 %\n",
      "Accuracy of     8 : 18 %\n",
      "Accuracy of     9 : 26 %\n",
      "Accuracy of    10 : 13 %\n",
      "Accuracy of    11 : 68 %\n",
      "Accuracy of    12 : 67 %\n",
      "Accuracy of    13 : 63 %\n",
      "Accuracy of    14 : 46 %\n",
      "Accuracy of    15 : 92 %\n",
      "Accuracy of    16 : 81 %\n",
      "Accuracy of    17 :  3 %\n",
      "Accuracy of    18 : 15 %\n",
      "Accuracy of    19 : 46 %\n",
      "Accuracy of    20 :  1 %\n",
      "Accuracy of    21 : 36 %\n",
      "Accuracy of    22 : 23 %\n",
      "Accuracy of    23 : 17 %\n",
      "Accuracy of    24 : 19 %\n",
      "Accuracy of    25 :  4 %\n",
      "Accuracy of    26 : 29 %\n",
      "Accuracy of    27 : 57 %\n",
      "Accuracy of    28 :  8 %\n",
      "Accuracy of    29 : 26 %\n",
      "Accuracy of    30 : 15 %\n",
      "Accuracy of    31 : 27 %\n",
      "Accuracy of    32 : 41 %\n",
      "Accuracy of    33 : 37 %\n",
      "Accuracy of    34 : 39 %\n",
      "Accuracy of    35 :  5 %\n",
      "Accuracy of    36 : 19 %\n",
      "Accuracy of    37 :  4 %\n",
      "Accuracy of    38 :  8 %\n",
      "Accuracy of    39 : 47 %\n",
      "Accuracy of    40 :  0 %\n",
      "Accuracy of    41 : 12 %\n",
      "Accuracy of    42 : 56 %\n",
      "Accuracy of    43 : 17 %\n",
      "Accuracy of    44 : 10 %\n",
      "Accuracy of    45 : 47 %\n",
      "Accuracy of    46 : 81 %\n",
      "Accuracy of    47 : 50 %\n",
      "Accuracy of    48 : 14 %\n",
      "Accuracy of    49 : 50 %\n",
      "Accuracy of    50 : 22 %\n",
      "Accuracy of    51 : 40 %\n",
      "Accuracy of    52 : 25 %\n",
      "Accuracy of    53 : 29 %\n",
      "Accuracy of    54 : 11 %\n",
      "Accuracy of    55 : 24 %\n",
      "Accuracy of    56 : 30 %\n",
      "Accuracy of    57 :  8 %\n",
      "Accuracy of    58 : 62 %\n",
      "Accuracy of    59 : 38 %\n",
      "Accuracy of    60 : 27 %\n",
      "Accuracy of    61 :  3 %\n",
      "Accuracy of    62 : 20 %\n",
      "Accuracy of    63 : 14 %\n",
      "Accuracy of    64 : 28 %\n",
      "Accuracy of    65 :  7 %\n",
      "Accuracy of    66 :  9 %\n",
      "Accuracy of    67 : 16 %\n",
      "Accuracy of    68 :  8 %\n",
      "Accuracy of    69 :  0 %\n",
      "Accuracy of    70 : 35 %\n",
      "Accuracy of    71 : 30 %\n",
      "Accuracy of    72 : 62 %\n",
      "Accuracy of    73 : 49 %\n",
      "Accuracy of    74 : 22 %\n",
      "Accuracy of    75 :  2 %\n",
      "Accuracy of    76 : 30 %\n",
      "Accuracy of    77 :  0 %\n",
      "Accuracy of    78 : 46 %\n",
      "Accuracy of    79 :  5 %\n",
      "epoch: 4/20 | step: 80/13438 | trn loss: 0.0570 | val loss: 1.9799\n",
      "Accuracy of the network on the 10000 test images: 45 %\n"
     ]
    },
    {
     "name": "stderr",
     "output_type": "stream",
     "text": [
      "\r",
      " 10%|█         | 1/10 [02:03<18:31, 123.55s/it]"
     ]
    },
    {
     "name": "stdout",
     "output_type": "stream",
     "text": [
      "Accuracy of the network on the 10000 test images: 36 %\n"
     ]
    },
    {
     "name": "stderr",
     "output_type": "stream",
     "text": [
      "\r",
      " 20%|██        | 2/10 [04:02<16:17, 122.15s/it]"
     ]
    },
    {
     "name": "stdout",
     "output_type": "stream",
     "text": [
      "Accuracy of the network on the 10000 test images: 36 %\n"
     ]
    },
    {
     "name": "stderr",
     "output_type": "stream",
     "text": [
      "\r",
      " 30%|███       | 3/10 [05:57<13:59, 119.96s/it]"
     ]
    },
    {
     "name": "stdout",
     "output_type": "stream",
     "text": [
      "Accuracy of the network on the 10000 test images: 37 %\n"
     ]
    },
    {
     "name": "stderr",
     "output_type": "stream",
     "text": [
      "\r",
      " 40%|████      | 4/10 [07:37<11:23, 113.94s/it]"
     ]
    },
    {
     "name": "stdout",
     "output_type": "stream",
     "text": [
      "Accuracy of the network on the 10000 test images: 41 %\n"
     ]
    },
    {
     "name": "stderr",
     "output_type": "stream",
     "text": [
      "\r",
      " 50%|█████     | 5/10 [08:51<08:29, 102.00s/it]"
     ]
    },
    {
     "name": "stdout",
     "output_type": "stream",
     "text": [
      "Accuracy of the network on the 10000 test images: 45 %\n"
     ]
    },
    {
     "name": "stderr",
     "output_type": "stream",
     "text": [
      "\r",
      " 60%|██████    | 6/10 [09:47<05:52, 88.11s/it] "
     ]
    },
    {
     "name": "stdout",
     "output_type": "stream",
     "text": [
      "Accuracy of the network on the 10000 test images: 49 %\n"
     ]
    },
    {
     "name": "stderr",
     "output_type": "stream",
     "text": [
      "\r",
      " 70%|███████   | 7/10 [10:31<03:44, 74.92s/it]"
     ]
    },
    {
     "name": "stdout",
     "output_type": "stream",
     "text": [
      "Accuracy of the network on the 10000 test images: 49 %\n"
     ]
    },
    {
     "name": "stderr",
     "output_type": "stream",
     "text": [
      "\r",
      " 80%|████████  | 8/10 [11:09<02:08, 64.08s/it]"
     ]
    },
    {
     "name": "stdout",
     "output_type": "stream",
     "text": [
      "Accuracy of the network on the 10000 test images: 48 %\n"
     ]
    },
    {
     "name": "stderr",
     "output_type": "stream",
     "text": [
      "\r",
      " 90%|█████████ | 9/10 [11:46<00:55, 55.96s/it]"
     ]
    },
    {
     "name": "stdout",
     "output_type": "stream",
     "text": [
      "Accuracy of the network on the 10000 test images: 43 %\n"
     ]
    },
    {
     "name": "stderr",
     "output_type": "stream",
     "text": [
      "100%|██████████| 10/10 [12:22<00:00, 74.29s/it]"
     ]
    },
    {
     "name": "stdout",
     "output_type": "stream",
     "text": [
      "Accuracy of the network on the 10000 test images: 33 %\n"
     ]
    },
    {
     "name": "stderr",
     "output_type": "stream",
     "text": [
      "\n",
      "6499it [21:01,  5.51it/s]\n",
      "  0%|          | 0/10 [00:00<?, ?it/s]\u001b[A"
     ]
    },
    {
     "name": "stdout",
     "output_type": "stream",
     "text": [
      "epoch: 4 44  batch\n",
      "Accuracy of     0 : 82 %\n",
      "Accuracy of     1 : 31 %\n",
      "Accuracy of     2 :  5 %\n",
      "Accuracy of     3 : 48 %\n",
      "Accuracy of     4 : 10 %\n",
      "Accuracy of     5 :  3 %\n",
      "Accuracy of     6 : 30 %\n",
      "Accuracy of     7 : 12 %\n",
      "Accuracy of     8 : 13 %\n",
      "Accuracy of     9 : 30 %\n",
      "Accuracy of    10 :  4 %\n",
      "Accuracy of    11 : 37 %\n",
      "Accuracy of    12 : 28 %\n",
      "Accuracy of    13 : 49 %\n",
      "Accuracy of    14 : 14 %\n",
      "Accuracy of    15 : 77 %\n",
      "Accuracy of    16 : 53 %\n",
      "Accuracy of    17 :  2 %\n",
      "Accuracy of    18 : 11 %\n",
      "Accuracy of    19 : 36 %\n",
      "Accuracy of    20 :  0 %\n",
      "Accuracy of    21 : 22 %\n",
      "Accuracy of    22 : 18 %\n",
      "Accuracy of    23 :  9 %\n",
      "Accuracy of    24 : 32 %\n",
      "Accuracy of    25 :  8 %\n",
      "Accuracy of    26 : 31 %\n",
      "Accuracy of    27 : 41 %\n",
      "Accuracy of    28 :  3 %\n",
      "Accuracy of    29 : 28 %\n",
      "Accuracy of    30 : 10 %\n",
      "Accuracy of    31 : 21 %\n",
      "Accuracy of    32 : 15 %\n",
      "Accuracy of    33 : 21 %\n",
      "Accuracy of    34 : 25 %\n",
      "Accuracy of    35 :  4 %\n",
      "Accuracy of    36 :  5 %\n",
      "Accuracy of    37 :  7 %\n",
      "Accuracy of    38 :  8 %\n",
      "Accuracy of    39 : 58 %\n",
      "Accuracy of    40 :  0 %\n",
      "Accuracy of    41 : 13 %\n",
      "Accuracy of    42 : 65 %\n",
      "Accuracy of    43 : 28 %\n",
      "Accuracy of    44 : 10 %\n",
      "Accuracy of    45 : 45 %\n",
      "Accuracy of    46 : 32 %\n",
      "Accuracy of    47 : 55 %\n",
      "Accuracy of    48 : 23 %\n",
      "Accuracy of    49 : 37 %\n",
      "Accuracy of    50 : 20 %\n",
      "Accuracy of    51 : 26 %\n",
      "Accuracy of    52 : 23 %\n",
      "Accuracy of    53 : 29 %\n",
      "Accuracy of    54 : 14 %\n",
      "Accuracy of    55 : 14 %\n",
      "Accuracy of    56 : 34 %\n",
      "Accuracy of    57 : 18 %\n",
      "Accuracy of    58 : 56 %\n",
      "Accuracy of    59 : 43 %\n",
      "Accuracy of    60 : 19 %\n",
      "Accuracy of    61 : 18 %\n",
      "Accuracy of    62 : 18 %\n",
      "Accuracy of    63 : 12 %\n",
      "Accuracy of    64 : 22 %\n",
      "Accuracy of    65 :  4 %\n",
      "Accuracy of    66 : 10 %\n",
      "Accuracy of    67 : 16 %\n",
      "Accuracy of    68 :  9 %\n",
      "Accuracy of    69 :  0 %\n",
      "Accuracy of    70 : 29 %\n",
      "Accuracy of    71 : 27 %\n",
      "Accuracy of    72 : 52 %\n",
      "Accuracy of    73 : 54 %\n",
      "Accuracy of    74 : 16 %\n",
      "Accuracy of    75 : 11 %\n",
      "Accuracy of    76 : 14 %\n",
      "Accuracy of    77 :  0 %\n",
      "Accuracy of    78 : 43 %\n",
      "Accuracy of    79 :  3 %\n",
      "epoch: 5/20 | step: 80/13438 | trn loss: 0.8006 | val loss: 2.2194\n",
      "Accuracy of the network on the 10000 test images: 43 %\n"
     ]
    },
    {
     "name": "stderr",
     "output_type": "stream",
     "text": [
      "\n",
      " 10%|█         | 1/10 [02:11<19:40, 131.19s/it]\u001b[A"
     ]
    },
    {
     "name": "stdout",
     "output_type": "stream",
     "text": [
      "Accuracy of the network on the 10000 test images: 33 %\n"
     ]
    },
    {
     "name": "stderr",
     "output_type": "stream",
     "text": [
      "\n",
      " 20%|██        | 2/10 [04:18<17:19, 129.97s/it]\u001b[A"
     ]
    },
    {
     "name": "stdout",
     "output_type": "stream",
     "text": [
      "Accuracy of the network on the 10000 test images: 33 %\n"
     ]
    },
    {
     "name": "stderr",
     "output_type": "stream",
     "text": [
      "\n",
      " 30%|███       | 3/10 [06:20<14:53, 127.63s/it]\u001b[A"
     ]
    },
    {
     "name": "stdout",
     "output_type": "stream",
     "text": [
      "Accuracy of the network on the 10000 test images: 34 %\n"
     ]
    },
    {
     "name": "stderr",
     "output_type": "stream",
     "text": [
      "\n",
      " 40%|████      | 4/10 [08:03<12:00, 120.11s/it]\u001b[A"
     ]
    },
    {
     "name": "stdout",
     "output_type": "stream",
     "text": [
      "Accuracy of the network on the 10000 test images: 38 %\n"
     ]
    },
    {
     "name": "stderr",
     "output_type": "stream",
     "text": [
      "\n",
      " 50%|█████     | 5/10 [09:15<08:49, 105.87s/it]\u001b[A"
     ]
    },
    {
     "name": "stdout",
     "output_type": "stream",
     "text": [
      "Accuracy of the network on the 10000 test images: 43 %\n"
     ]
    },
    {
     "name": "stderr",
     "output_type": "stream",
     "text": [
      "\n",
      " 60%|██████    | 6/10 [10:17<06:10, 92.71s/it] \u001b[A"
     ]
    },
    {
     "name": "stdout",
     "output_type": "stream",
     "text": [
      "Accuracy of the network on the 10000 test images: 46 %\n"
     ]
    },
    {
     "name": "stderr",
     "output_type": "stream",
     "text": [
      "\n",
      " 70%|███████   | 7/10 [11:08<04:00, 80.03s/it]\u001b[A"
     ]
    },
    {
     "name": "stdout",
     "output_type": "stream",
     "text": [
      "Accuracy of the network on the 10000 test images: 46 %\n"
     ]
    },
    {
     "name": "stderr",
     "output_type": "stream",
     "text": [
      "\n",
      " 80%|████████  | 8/10 [11:50<02:17, 68.63s/it]\u001b[A"
     ]
    },
    {
     "name": "stdout",
     "output_type": "stream",
     "text": [
      "Accuracy of the network on the 10000 test images: 44 %\n"
     ]
    },
    {
     "name": "stderr",
     "output_type": "stream",
     "text": [
      "\n",
      " 90%|█████████ | 9/10 [12:27<00:59, 59.29s/it]\u001b[A"
     ]
    },
    {
     "name": "stdout",
     "output_type": "stream",
     "text": [
      "Accuracy of the network on the 10000 test images: 40 %\n"
     ]
    },
    {
     "name": "stderr",
     "output_type": "stream",
     "text": [
      "\n",
      "100%|██████████| 10/10 [13:02<00:00, 78.28s/it]\u001b[A\n",
      "6500it [35:25, 259.32s/it]"
     ]
    },
    {
     "name": "stdout",
     "output_type": "stream",
     "text": [
      "Accuracy of the network on the 10000 test images: 35 %\n"
     ]
    },
    {
     "name": "stderr",
     "output_type": "stream",
     "text": [
      "12999it [55:52,  5.43it/s]\n",
      "  0%|          | 0/10 [00:00<?, ?it/s]\u001b[A"
     ]
    },
    {
     "name": "stdout",
     "output_type": "stream",
     "text": [
      "epoch: 4 44  batch\n",
      "Accuracy of     0 : 79 %\n",
      "Accuracy of     1 : 34 %\n",
      "Accuracy of     2 : 18 %\n",
      "Accuracy of     3 : 45 %\n",
      "Accuracy of     4 : 16 %\n",
      "Accuracy of     5 :  6 %\n",
      "Accuracy of     6 : 51 %\n",
      "Accuracy of     7 : 45 %\n",
      "Accuracy of     8 : 13 %\n",
      "Accuracy of     9 : 19 %\n",
      "Accuracy of    10 : 12 %\n",
      "Accuracy of    11 : 73 %\n",
      "Accuracy of    12 : 42 %\n",
      "Accuracy of    13 : 51 %\n",
      "Accuracy of    14 : 35 %\n",
      "Accuracy of    15 : 86 %\n",
      "Accuracy of    16 : 72 %\n",
      "Accuracy of    17 :  4 %\n",
      "Accuracy of    18 :  6 %\n",
      "Accuracy of    19 : 62 %\n",
      "Accuracy of    20 :  1 %\n",
      "Accuracy of    21 : 36 %\n",
      "Accuracy of    22 : 15 %\n",
      "Accuracy of    23 : 19 %\n",
      "Accuracy of    24 : 34 %\n",
      "Accuracy of    25 : 11 %\n",
      "Accuracy of    26 : 34 %\n",
      "Accuracy of    27 : 52 %\n",
      "Accuracy of    28 :  4 %\n",
      "Accuracy of    29 : 32 %\n",
      "Accuracy of    30 : 24 %\n",
      "Accuracy of    31 : 37 %\n",
      "Accuracy of    32 : 19 %\n",
      "Accuracy of    33 : 15 %\n",
      "Accuracy of    34 : 24 %\n",
      "Accuracy of    35 : 15 %\n",
      "Accuracy of    36 : 19 %\n",
      "Accuracy of    37 :  9 %\n",
      "Accuracy of    38 : 14 %\n",
      "Accuracy of    39 : 27 %\n",
      "Accuracy of    40 :  0 %\n",
      "Accuracy of    41 :  7 %\n",
      "Accuracy of    42 : 54 %\n",
      "Accuracy of    43 : 10 %\n",
      "Accuracy of    44 : 27 %\n",
      "Accuracy of    45 : 50 %\n",
      "Accuracy of    46 : 70 %\n",
      "Accuracy of    47 : 59 %\n",
      "Accuracy of    48 : 23 %\n",
      "Accuracy of    49 : 38 %\n",
      "Accuracy of    50 : 12 %\n",
      "Accuracy of    51 : 47 %\n",
      "Accuracy of    52 : 25 %\n",
      "Accuracy of    53 : 24 %\n",
      "Accuracy of    54 :  6 %\n",
      "Accuracy of    55 : 23 %\n",
      "Accuracy of    56 : 23 %\n",
      "Accuracy of    57 :  9 %\n",
      "Accuracy of    58 : 51 %\n",
      "Accuracy of    59 : 45 %\n",
      "Accuracy of    60 : 20 %\n",
      "Accuracy of    61 : 21 %\n",
      "Accuracy of    62 : 24 %\n",
      "Accuracy of    63 : 10 %\n",
      "Accuracy of    64 : 16 %\n",
      "Accuracy of    65 : 11 %\n",
      "Accuracy of    66 : 12 %\n",
      "Accuracy of    67 : 18 %\n",
      "Accuracy of    68 :  9 %\n",
      "Accuracy of    69 :  0 %\n",
      "Accuracy of    70 : 21 %\n",
      "Accuracy of    71 : 13 %\n",
      "Accuracy of    72 : 70 %\n",
      "Accuracy of    73 : 50 %\n",
      "Accuracy of    74 : 18 %\n",
      "Accuracy of    75 :  5 %\n",
      "Accuracy of    76 : 28 %\n",
      "Accuracy of    77 :  0 %\n",
      "Accuracy of    78 : 40 %\n",
      "Accuracy of    79 :  3 %\n",
      "epoch: 5/20 | step: 80/13438 | trn loss: 0.7932 | val loss: 2.0322\n",
      "Accuracy of the network on the 10000 test images: 45 %\n"
     ]
    },
    {
     "name": "stderr",
     "output_type": "stream",
     "text": [
      "\n",
      " 10%|█         | 1/10 [02:10<19:31, 130.20s/it]\u001b[A"
     ]
    },
    {
     "name": "stdout",
     "output_type": "stream",
     "text": [
      "Accuracy of the network on the 10000 test images: 36 %\n"
     ]
    },
    {
     "name": "stderr",
     "output_type": "stream",
     "text": [
      "\n",
      " 20%|██        | 2/10 [04:19<17:20, 130.07s/it]\u001b[A"
     ]
    },
    {
     "name": "stdout",
     "output_type": "stream",
     "text": [
      "Accuracy of the network on the 10000 test images: 37 %\n"
     ]
    },
    {
     "name": "stderr",
     "output_type": "stream",
     "text": [
      "\n",
      " 30%|███       | 3/10 [06:26<15:03, 129.11s/it]\u001b[A"
     ]
    },
    {
     "name": "stdout",
     "output_type": "stream",
     "text": [
      "Accuracy of the network on the 10000 test images: 37 %\n"
     ]
    },
    {
     "name": "stderr",
     "output_type": "stream",
     "text": [
      "\n",
      " 40%|████      | 4/10 [08:12<12:12, 122.00s/it]\u001b[A"
     ]
    },
    {
     "name": "stdout",
     "output_type": "stream",
     "text": [
      "Accuracy of the network on the 10000 test images: 41 %\n"
     ]
    },
    {
     "name": "stderr",
     "output_type": "stream",
     "text": [
      "\n",
      " 50%|█████     | 5/10 [09:27<08:59, 107.97s/it]\u001b[A"
     ]
    },
    {
     "name": "stdout",
     "output_type": "stream",
     "text": [
      "Accuracy of the network on the 10000 test images: 45 %\n"
     ]
    },
    {
     "name": "stderr",
     "output_type": "stream",
     "text": [
      "\n",
      " 60%|██████    | 6/10 [10:27<06:14, 93.56s/it] \u001b[A"
     ]
    },
    {
     "name": "stdout",
     "output_type": "stream",
     "text": [
      "Accuracy of the network on the 10000 test images: 49 %\n"
     ]
    },
    {
     "name": "stderr",
     "output_type": "stream",
     "text": [
      "\n",
      " 70%|███████   | 7/10 [11:16<04:00, 80.28s/it]\u001b[A"
     ]
    },
    {
     "name": "stdout",
     "output_type": "stream",
     "text": [
      "Accuracy of the network on the 10000 test images: 49 %\n"
     ]
    },
    {
     "name": "stderr",
     "output_type": "stream",
     "text": [
      "\n",
      " 80%|████████  | 8/10 [11:58<02:17, 68.84s/it]\u001b[A"
     ]
    },
    {
     "name": "stdout",
     "output_type": "stream",
     "text": [
      "Accuracy of the network on the 10000 test images: 48 %\n"
     ]
    },
    {
     "name": "stderr",
     "output_type": "stream",
     "text": [
      "\n",
      " 90%|█████████ | 9/10 [12:37<00:59, 59.79s/it]\u001b[A"
     ]
    },
    {
     "name": "stdout",
     "output_type": "stream",
     "text": [
      "Accuracy of the network on the 10000 test images: 44 %\n"
     ]
    },
    {
     "name": "stderr",
     "output_type": "stream",
     "text": [
      "\n",
      "100%|██████████| 10/10 [13:13<00:00, 79.39s/it]\u001b[A\n",
      "13000it [1:10:25, 262.03s/it]"
     ]
    },
    {
     "name": "stdout",
     "output_type": "stream",
     "text": [
      "Accuracy of the network on the 10000 test images: 35 %\n"
     ]
    },
    {
     "name": "stderr",
     "output_type": "stream",
     "text": [
      "13438it [1:11:46,  3.12it/s] \n",
      "  0%|          | 0/10 [00:00<?, ?it/s]"
     ]
    },
    {
     "name": "stdout",
     "output_type": "stream",
     "text": [
      "epoch: 4 44  batch\n",
      "Accuracy of     0 : 84 %\n",
      "Accuracy of     1 : 47 %\n",
      "Accuracy of     2 : 25 %\n",
      "Accuracy of     3 : 45 %\n",
      "Accuracy of     4 : 11 %\n",
      "Accuracy of     5 : 10 %\n",
      "Accuracy of     6 : 39 %\n",
      "Accuracy of     7 : 40 %\n",
      "Accuracy of     8 : 10 %\n",
      "Accuracy of     9 : 13 %\n",
      "Accuracy of    10 :  7 %\n",
      "Accuracy of    11 : 64 %\n",
      "Accuracy of    12 : 61 %\n",
      "Accuracy of    13 : 68 %\n",
      "Accuracy of    14 : 49 %\n",
      "Accuracy of    15 : 79 %\n",
      "Accuracy of    16 : 76 %\n",
      "Accuracy of    17 :  2 %\n",
      "Accuracy of    18 : 17 %\n",
      "Accuracy of    19 : 49 %\n",
      "Accuracy of    20 :  0 %\n",
      "Accuracy of    21 : 20 %\n",
      "Accuracy of    22 : 22 %\n",
      "Accuracy of    23 : 26 %\n",
      "Accuracy of    24 : 20 %\n",
      "Accuracy of    25 :  2 %\n",
      "Accuracy of    26 : 30 %\n",
      "Accuracy of    27 : 52 %\n",
      "Accuracy of    28 :  4 %\n",
      "Accuracy of    29 : 22 %\n",
      "Accuracy of    30 :  5 %\n",
      "Accuracy of    31 : 32 %\n",
      "Accuracy of    32 : 23 %\n",
      "Accuracy of    33 : 33 %\n",
      "Accuracy of    34 : 31 %\n",
      "Accuracy of    35 :  4 %\n",
      "Accuracy of    36 : 18 %\n",
      "Accuracy of    37 :  4 %\n",
      "Accuracy of    38 : 15 %\n",
      "Accuracy of    39 : 39 %\n",
      "Accuracy of    40 :  5 %\n",
      "Accuracy of    41 : 14 %\n",
      "Accuracy of    42 : 50 %\n",
      "Accuracy of    43 : 27 %\n",
      "Accuracy of    44 : 28 %\n",
      "Accuracy of    45 : 29 %\n",
      "Accuracy of    46 : 63 %\n",
      "Accuracy of    47 : 54 %\n",
      "Accuracy of    48 : 24 %\n",
      "Accuracy of    49 : 50 %\n",
      "Accuracy of    50 :  3 %\n",
      "Accuracy of    51 : 45 %\n",
      "Accuracy of    52 : 16 %\n",
      "Accuracy of    53 : 19 %\n",
      "Accuracy of    54 :  8 %\n",
      "Accuracy of    55 : 37 %\n",
      "Accuracy of    56 : 20 %\n",
      "Accuracy of    57 :  6 %\n",
      "Accuracy of    58 : 48 %\n",
      "Accuracy of    59 : 38 %\n",
      "Accuracy of    60 : 20 %\n",
      "Accuracy of    61 : 11 %\n",
      "Accuracy of    62 : 35 %\n",
      "Accuracy of    63 : 10 %\n",
      "Accuracy of    64 : 18 %\n",
      "Accuracy of    65 :  8 %\n",
      "Accuracy of    66 : 18 %\n",
      "Accuracy of    67 : 17 %\n",
      "Accuracy of    68 : 11 %\n",
      "Accuracy of    69 :  0 %\n",
      "Accuracy of    70 : 30 %\n",
      "Accuracy of    71 : 26 %\n",
      "Accuracy of    72 : 60 %\n",
      "Accuracy of    73 : 50 %\n",
      "Accuracy of    74 : 20 %\n",
      "Accuracy of    75 :  0 %\n",
      "Accuracy of    76 : 35 %\n",
      "Accuracy of    77 :  0 %\n",
      "Accuracy of    78 : 43 %\n",
      "Accuracy of    79 :  1 %\n",
      "epoch: 5/20 | step: 80/13438 | trn loss: 0.0531 | val loss: 2.0071\n",
      "Accuracy of the network on the 10000 test images: 46 %\n"
     ]
    },
    {
     "name": "stderr",
     "output_type": "stream",
     "text": [
      "\r",
      " 10%|█         | 1/10 [02:02<18:25, 122.86s/it]"
     ]
    },
    {
     "name": "stdout",
     "output_type": "stream",
     "text": [
      "Accuracy of the network on the 10000 test images: 38 %\n"
     ]
    },
    {
     "name": "stderr",
     "output_type": "stream",
     "text": [
      "\r",
      " 20%|██        | 2/10 [04:03<16:17, 122.18s/it]"
     ]
    },
    {
     "name": "stdout",
     "output_type": "stream",
     "text": [
      "Accuracy of the network on the 10000 test images: 38 %\n"
     ]
    },
    {
     "name": "stderr",
     "output_type": "stream",
     "text": [
      "\r",
      " 30%|███       | 3/10 [05:58<14:00, 120.00s/it]"
     ]
    },
    {
     "name": "stdout",
     "output_type": "stream",
     "text": [
      "Accuracy of the network on the 10000 test images: 39 %\n"
     ]
    },
    {
     "name": "stderr",
     "output_type": "stream",
     "text": [
      "\r",
      " 40%|████      | 4/10 [07:37<11:23, 113.87s/it]"
     ]
    },
    {
     "name": "stdout",
     "output_type": "stream",
     "text": [
      "Accuracy of the network on the 10000 test images: 41 %\n"
     ]
    },
    {
     "name": "stderr",
     "output_type": "stream",
     "text": [
      "\r",
      " 50%|█████     | 5/10 [08:52<08:30, 102.12s/it]"
     ]
    },
    {
     "name": "stdout",
     "output_type": "stream",
     "text": [
      "Accuracy of the network on the 10000 test images: 46 %\n"
     ]
    },
    {
     "name": "stderr",
     "output_type": "stream",
     "text": [
      "\r",
      " 60%|██████    | 6/10 [09:48<05:52, 88.17s/it] "
     ]
    },
    {
     "name": "stdout",
     "output_type": "stream",
     "text": [
      "Accuracy of the network on the 10000 test images: 50 %\n"
     ]
    },
    {
     "name": "stderr",
     "output_type": "stream",
     "text": [
      "\r",
      " 70%|███████   | 7/10 [10:33<03:45, 75.24s/it]"
     ]
    },
    {
     "name": "stdout",
     "output_type": "stream",
     "text": [
      "Accuracy of the network on the 10000 test images: 51 %\n"
     ]
    },
    {
     "name": "stderr",
     "output_type": "stream",
     "text": [
      "\r",
      " 80%|████████  | 8/10 [11:12<02:08, 64.32s/it]"
     ]
    },
    {
     "name": "stdout",
     "output_type": "stream",
     "text": [
      "Accuracy of the network on the 10000 test images: 50 %\n"
     ]
    },
    {
     "name": "stderr",
     "output_type": "stream",
     "text": [
      "\r",
      " 90%|█████████ | 9/10 [11:48<00:55, 55.92s/it]"
     ]
    },
    {
     "name": "stdout",
     "output_type": "stream",
     "text": [
      "Accuracy of the network on the 10000 test images: 46 %\n"
     ]
    },
    {
     "name": "stderr",
     "output_type": "stream",
     "text": [
      "100%|██████████| 10/10 [12:23<00:00, 74.36s/it]"
     ]
    },
    {
     "name": "stdout",
     "output_type": "stream",
     "text": [
      "Accuracy of the network on the 10000 test images: 38 %\n"
     ]
    },
    {
     "name": "stderr",
     "output_type": "stream",
     "text": [
      "\n",
      "4644it [15:03,  5.58it/s]"
     ]
    }
   ],
   "source": [
    "import torch.optim as optim\n",
    "import sys\n",
    "\n",
    "trn_loss_list = []\n",
    "val_loss_list = []\n",
    "acc_list = []\n",
    "acc_list_aug = []\n",
    "num_batches = len(trainloader)\n",
    "for epoch in range(20):\n",
    "    running_loss = 0.0\n",
    "    model1.train()\n",
    "    #device = 'cuda:0'\n",
    "    for i,images in tqdm(enumerate(trainloader)):\n",
    "        optimizer.zero_grad()\n",
    "        c1 = images[0].to(device)\n",
    "        c6 = images[1].to(device)\n",
    "        output = model1(c1)\n",
    "        loss = criterion(output, c6)\n",
    "        loss.backward()    # calc gradients\n",
    "        optimizer.step()   # update gradients\n",
    "        running_loss += loss.item()\n",
    "    \n",
    "        if (i+1) % 6500 == 0:\n",
    "            model1.eval()\n",
    "            with torch.no_grad(): # very very very very important!!!\n",
    "                val_loss = 0.0\n",
    "                class_correct = list(0. for i in range(80))\n",
    "                class_total = list(0. for i in range(80))\n",
    "                correct = 0\n",
    "                total = 0\n",
    "                for j,val in enumerate(testloader):\n",
    "                    v1 = val[0].to(device)\n",
    "                    val_labels = val[1].to(device)\n",
    "                    val_output = model1(v1)\n",
    "                    v_loss = criterion(val_output, val_labels)\n",
    "                    val_loss += v_loss\n",
    "                    _, predicted = torch.max(val_output, 1)\n",
    "                    c = (predicted == val_labels).squeeze()\n",
    "                    total += val_labels.size(0)\n",
    "                    correct += (predicted == val_labels).sum().item()\n",
    "                    for i in range(len(val_labels)):\n",
    "                        val_label = val_labels[i]\n",
    "                        class_correct[val_label] += c[i].item()\n",
    "                        class_total[val_label] += 1\n",
    "\n",
    "                print(\"epoch:\",str(epoch),str(i),\" batch\")\n",
    "                for i in range(80):\n",
    "                    if class_total[i]==0:\n",
    "                        print('class_total = 0',class_correct,class_total)\n",
    "                    else:\n",
    "                        print('Accuracy of %5s : %2d %%' % (i, 100 * class_correct[i] / class_total[i]))\n",
    "\n",
    "            print(\"epoch: {}/{} | step: {}/{} | trn loss: {:.4f} | val loss: {:.4f}\".format(\n",
    "                epoch+1, 20, i+1, num_batches, running_loss / len(trainloader), val_loss / len(testloader)\n",
    "            ))        \n",
    "            print('Accuracy of the network on the 10000 test images: %d %%' % (100 * correct / total))\n",
    "\n",
    "            trn_loss_list.append(running_loss/1875)\n",
    "            val_loss_list.append(val_loss/len(testloader))\n",
    "            running_loss = 0.0\n",
    "\n",
    "            temp_acc = []\n",
    "            for testloader_val in tqdm(val_gen_arr):\n",
    "                correct = 0\n",
    "                total = 0\n",
    "                class_correct = list(0. for i in range(80))\n",
    "                class_total = list(0. for i in range(80))\n",
    "                with torch.no_grad():\n",
    "                    for images in testloader_val:\n",
    "                        c1 = images[0].to(device)\n",
    "                        val_labels = images[1].to(device)\n",
    "                        outputs = model1(c1)\n",
    "                        _, predicted = torch.max(outputs.data, 1)\n",
    "                        c = (predicted == val_labels).squeeze()\n",
    "                        total += val_labels.size(0)\n",
    "                        correct += (predicted == val_labels).sum().item()\n",
    "                #print(total,correct,end='')\n",
    "\n",
    "                print('Accuracy of the network on the 10000 test images: %d %%' % (100 * correct / total))\n",
    "                temp_acc.append(100 * correct / total)\n",
    "                #print(temp_acc)\n",
    "            acc_list.append(temp_acc)\n",
    "\n",
    "            import csv\n",
    "\n",
    "            csvfile = open(TEST_RESULT_PATH+'testresult_'+TASK_NAME+'_'+DATE+'.csv','w',newline=\"\")\n",
    "\n",
    "            csvwriter = csv.writer(csvfile)\n",
    "            for row in acc_list:\n",
    "                csvwriter.writerow(row)\n",
    "\n",
    "            csvfile.close()\n",
    "\n",
    "            torch.save(model1.state_dict(),WEIGHTS_PATH+TASK_NAME+'_'+DATE+'.pt')\n",
    "\n",
    "            model1.train()\n",
    "            \n",
    "    model1.eval()\n",
    "    with torch.no_grad(): # very very very very important!!!\n",
    "        val_loss = 0.0\n",
    "        class_correct = list(0. for i in range(80))\n",
    "        class_total = list(0. for i in range(80))\n",
    "        correct = 0\n",
    "        total = 0\n",
    "        for j,val in enumerate(testloader):\n",
    "            v1 = val[0].to(device)\n",
    "            val_labels = val[1].to(device)\n",
    "            val_output = model1(v1)\n",
    "            v_loss = criterion(val_output, val_labels)\n",
    "            val_loss += v_loss\n",
    "            _, predicted = torch.max(val_output, 1)\n",
    "            c = (predicted == val_labels).squeeze()\n",
    "            total += val_labels.size(0)\n",
    "            correct += (predicted == val_labels).sum().item()\n",
    "            for i in range(len(val_labels)):\n",
    "                val_label = val_labels[i]\n",
    "                class_correct[val_label] += c[i].item()\n",
    "                class_total[val_label] += 1\n",
    "\n",
    "        print(\"epoch:\",str(epoch),str(i),\" batch\")\n",
    "        for i in range(80):\n",
    "            if class_total[i]==0:\n",
    "                print('class_total = 0',class_correct,class_total)\n",
    "            else:\n",
    "                print('Accuracy of %5s : %2d %%' % (i, 100 * class_correct[i] / class_total[i]))\n",
    "\n",
    "    print(\"epoch: {}/{} | step: {}/{} | trn loss: {:.4f} | val loss: {:.4f}\".format(\n",
    "        epoch+1, 20, i+1, num_batches, running_loss / len(trainloader), val_loss / len(testloader)\n",
    "    ))        \n",
    "    print('Accuracy of the network on the 10000 test images: %d %%' % (100 * correct / total))\n",
    "\n",
    "    trn_loss_list.append(running_loss/1875)\n",
    "    val_loss_list.append(val_loss/len(testloader))\n",
    "    running_loss = 0.0\n",
    "\n",
    "    temp_acc = []\n",
    "    for testloader_val in tqdm(val_gen_arr):\n",
    "        correct = 0\n",
    "        total = 0\n",
    "        class_correct = list(0. for i in range(80))\n",
    "        class_total = list(0. for i in range(80))\n",
    "        with torch.no_grad():\n",
    "            for images in testloader_val:\n",
    "                c1 = images[0].to(device)\n",
    "                val_labels = images[1].to(device)\n",
    "                outputs = model1(c1)\n",
    "                _, predicted = torch.max(outputs.data, 1)\n",
    "                c = (predicted == val_labels).squeeze()\n",
    "                total += val_labels.size(0)\n",
    "                correct += (predicted == val_labels).sum().item()\n",
    "        #print(total,correct,end='')\n",
    "\n",
    "        print('Accuracy of the network on the 10000 test images: %d %%' % (100 * correct / total))\n",
    "        temp_acc.append(100 * correct / total)\n",
    "        #print(temp_acc)\n",
    "    acc_list.append(temp_acc)\n",
    "\n",
    "    import csv\n",
    "\n",
    "    csvfile = open(TEST_RESULT_PATH+'testresult_'+TASK_NAME+'_'+DATE+'.csv','w',newline=\"\")\n",
    "\n",
    "    csvwriter = csv.writer(csvfile)\n",
    "    for row in acc_list:\n",
    "        csvwriter.writerow(row)\n",
    "\n",
    "    csvfile.close()\n",
    "\n",
    "    torch.save(model1.state_dict(),WEIGHTS_PATH+TASK_NAME+'_'+DATE+'.pt')\n",
    "\n",
    "    model1.train()\n",
    "    '''if epoch == 9:\n",
    "        optimizer = optim.Adam(model1.parameters(), lr=0.0001)\n",
    "        print('lr is changed to 0.0001')'''\n",
    "        \n",
    "    #optimizer = optim.SGD(model.parameters(), lr=0.001, momentum=0.9)'''\n",
    "    "
   ]
  },
  {
   "cell_type": "code",
   "execution_count": null,
   "metadata": {},
   "outputs": [],
   "source": [
    "images[1]"
   ]
  },
  {
   "cell_type": "code",
   "execution_count": null,
   "metadata": {},
   "outputs": [],
   "source": [
    "for i,images in tqdm(enumerate(trainloader)):\n",
    "    print(images[1].shape)\n",
    "    break"
   ]
  },
  {
   "cell_type": "markdown",
   "metadata": {},
   "source": [
    "# TRAIN AND TEST ENDS\n",
    "code below won't work"
   ]
  },
  {
   "cell_type": "code",
   "execution_count": null,
   "metadata": {},
   "outputs": [],
   "source": [
    "import torch.nn as nn\n",
    "import torch.nn.functional as F\n",
    "\n",
    "class Net(nn.Module):\n",
    "    def __init__(self):\n",
    "        super(Net, self).__init__()\n",
    "        \n",
    "        self.conv1 = nn.Conv2d(3,64,kernel_size=7,stride=2,padding=3,bias=False)\n",
    "        self.bn1 = nn.BatchNorm2d(64)\n",
    "        self.relu = nn.ReLU(inplace = True)\n",
    "        self.maxpool = nn.MaxPool2d(kernel_size=3,stride=2,padding=1)\n",
    "        \n",
    "        self.prepool1 = nn.Upsample(scale_factor=2, mode='bilinear')\n",
    "        self.prepool2 = nn.AvgPool2d(2,2)\n",
    "        \n",
    "        #self.sc1 = SCModule1(3,64)\n",
    "        self.rp1 = ResPoolModule(256)\n",
    "        self.rp2 = ResPoolModule(512)\n",
    "        self.rp3 = ResPoolModule(1024)\n",
    "        self.rp4 = ResPoolModule(2048)\n",
    "        \n",
    "        #self.relu = nn.ReLU(inplace = True)\n",
    "        \n",
    "        self.conv2_1 = SCBottleneck(64,256,downsample=True)\n",
    "        self.conv2_2 = SCBottleneck(256,256)\n",
    "        self.conv2_3 = SCBottleneck(256,256)\n",
    "        \n",
    "        self.conv3_1 = SCBottleneck(256,512,downsample=True)\n",
    "        self.conv3_2 = SCBottleneck(512,512)\n",
    "        self.conv3_3 = SCBottleneck(512,512)\n",
    "        self.conv3_4 = SCBottleneck(512,512)\n",
    "        \n",
    "        self.conv4_1 = SCBottleneck(512,1024,downsample=True)\n",
    "        self.conv4_2 = SCBottleneck(1024,1024)\n",
    "        self.conv4_3 = SCBottleneck(1024,1024)\n",
    "        self.conv4_4 = SCBottleneck(1024,1024)\n",
    "        self.conv4_5 = SCBottleneck(1024,1024)\n",
    "        self.conv4_6 = SCBottleneck(1024,1024)\n",
    "        \n",
    "        self.conv5_1 = SCBottleneck(1024,2048,downsample=True)\n",
    "        self.conv5_2 = SCBottleneck(2048,2048)\n",
    "        self.conv5_3 = SCBottleneck(2048,2048)\n",
    "        \n",
    "        self.avgpool = nn.AdaptiveAvgPool2d((1,1))\n",
    "        self.fc = nn.Linear(2048,10)\n",
    "\n",
    "    def forward(self, x):\n",
    "        save = []\n",
    "        \n",
    "        x = self.conv1(x)\n",
    "        x = self.bn1(x)\n",
    "        x = self.relu(x)\n",
    "        save.append(x)\n",
    "        \n",
    "        #print(x.size())\n",
    "            \n",
    "        x = self.conv2_1([self.prepool1(x),x,self.prepool2(x)])\n",
    "        save.append(x[0])\n",
    "        save.append(x[1])\n",
    "        save.append(x[2])\n",
    "        x = self.conv2_2(x)\n",
    "        save.append(x[0])\n",
    "        save.append(x[1])\n",
    "        save.append(x[2])\n",
    "        x = self.conv2_3(x)\n",
    "        save.append(x[0])\n",
    "        save.append(x[1])\n",
    "        save.append(x[2])\n",
    "        \n",
    "        x = self.rp1(x)\n",
    "        save.append(x)\n",
    "        \n",
    "        #print(x.size())\n",
    "        \n",
    "        x = self.conv3_1([self.prepool1(x),x,self.prepool2(x)])\n",
    "        save.append(x[0])\n",
    "        save.append(x[1])\n",
    "        save.append(x[2])\n",
    "        x = self.conv3_2(x)\n",
    "        save.append(x[0])\n",
    "        save.append(x[1])\n",
    "        save.append(x[2])\n",
    "        x = self.conv3_3(x)\n",
    "        save.append(x[0])\n",
    "        save.append(x[1])\n",
    "        save.append(x[2])\n",
    "        x = self.conv3_4(x)\n",
    "        save.append(x[0])\n",
    "        save.append(x[1])\n",
    "        save.append(x[2])\n",
    "        \n",
    "        x = self.rp2(x)\n",
    "        save.append(x)\n",
    "        \n",
    "        x = self.conv4_1([self.prepool1(x),x,self.prepool2(x)])\n",
    "        save.append(x[0])\n",
    "        save.append(x[1])\n",
    "        save.append(x[2])\n",
    "        x = self.conv4_2(x)\n",
    "        save.append(x[0])\n",
    "        save.append(x[1])\n",
    "        save.append(x[2])\n",
    "        x = self.conv4_3(x)\n",
    "        save.append(x[0])\n",
    "        save.append(x[1])\n",
    "        save.append(x[2])\n",
    "        x = self.conv4_4(x)\n",
    "        save.append(x[0])\n",
    "        save.append(x[1])\n",
    "        save.append(x[2])\n",
    "        x = self.conv4_5(x)\n",
    "        save.append(x[0])\n",
    "        save.append(x[1])\n",
    "        save.append(x[2])\n",
    "        x = self.conv4_6(x)\n",
    "        save.append(x[0])\n",
    "        save.append(x[1])\n",
    "        save.append(x[2])\n",
    "        \n",
    "        x = self.rp3(x)\n",
    "        save.append(x)\n",
    "        \n",
    "        x = self.conv5_1([self.prepool1(x),x,self.prepool2(x)])\n",
    "        save.append(x[0])\n",
    "        save.append(x[1])\n",
    "        save.append(x[2])\n",
    "        x = self.conv5_2(x)\n",
    "        save.append(x[0])\n",
    "        save.append(x[1])\n",
    "        save.append(x[2])\n",
    "        x = self.conv5_3(x)\n",
    "        save.append(x[0])\n",
    "        save.append(x[1])\n",
    "        save.append(x[2])\n",
    "        \n",
    "        x = self.rp4(x)\n",
    "        save.append(x)\n",
    "        \n",
    "        x = self.avgpool(x)\n",
    "        x = torch.flatten(x,1)\n",
    "        x = self.fc(x)\n",
    "        \n",
    "        return x,save\n",
    "        \n",
    "        "
   ]
  },
  {
   "cell_type": "code",
   "execution_count": null,
   "metadata": {},
   "outputs": [],
   "source": [
    "model1 = Net().to('cuda:0')\n",
    "if torch.cuda.device_count() > 1:\n",
    "    model1 = DDP(model1,device_ids = [0])\n",
    "'''    \n",
    "model2 = Net().to('cuda:0')\n",
    "if torch.cuda.device_count() > 1:\n",
    "    model2 = DDP(model2,device_ids = [2])'''"
   ]
  },
  {
   "cell_type": "code",
   "execution_count": null,
   "metadata": {},
   "outputs": [],
   "source": [
    "model1.load_state_dict(torch.load('ResNet50_allsc_half_mar11.pt'))\n",
    "#model2.load_state_dict(torch.load('ResNet50_scrp2_feb19.pt'))"
   ]
  },
  {
   "cell_type": "code",
   "execution_count": null,
   "metadata": {},
   "outputs": [],
   "source": [
    "model1.eval()\n",
    "#model2.eval()"
   ]
  },
  {
   "cell_type": "code",
   "execution_count": null,
   "metadata": {},
   "outputs": [],
   "source": [
    "from PIL import Image\n",
    "\n",
    "transform = transforms.Compose([\n",
    "    transforms.ToTensor(),\n",
    "    transforms.Normalize((0.1307, 0.1307, 0.1307), (0.3081, 0.3081, 0.3081))])\n",
    "\n",
    "SIZED_VAL_PATH = 'mnist_sized'\n",
    "l2_img_test_arr = []\n",
    "for i in range(1,113):\n",
    "    img_path = os.path.join(SIZED_VAL_PATH,str(i),'9','1622.png')\n",
    "    img = Image.open(img_path)\n",
    "    img = transform(img)\n",
    "    img = torch.unsqueeze(img,0)\n",
    "    img.to(device)\n",
    "    l2_img_test_arr.append(img)"
   ]
  },
  {
   "cell_type": "code",
   "execution_count": null,
   "metadata": {},
   "outputs": [],
   "source": [
    "!mkdir res50_allsc_l2"
   ]
  },
  {
   "cell_type": "code",
   "execution_count": null,
   "metadata": {
    "scrolled": true
   },
   "outputs": [],
   "source": [
    "name = ['1st conv',\\\n",
    "        'sc2_1_1(256)','sc2_1_2(256)','sc2_1_3(256)',\\\n",
    "        'sc2_2_1(256)','sc2_2_2(256)','sc2_2_3(256)',\\\n",
    "        'sc2_3_1(256)','sc2_3_2(256)','sc2_3_3(256)',\\\n",
    "        'rp2',\\\n",
    "        'sc3_1_1(512)','sc3_1_2(512)','sc3_1_3(512)',\\\n",
    "        'sc3_2_1(512)','sc3_2_2(512)','sc3_2_3(512)',\\\n",
    "        'sc3_3_1(512)','sc3_3_2(512)','sc3_3_3(512)',\\\n",
    "        'sc3_4_1(512)','sc3_4_2(512)','sc3_4_3(512)',\\\n",
    "        'rp3',\\\n",
    "        'sc4_1_1(1024)','sc4_1_2(1024)','sc4_1_3(1024)',\\\n",
    "        'sc4_2_1(1024)','sc4_2_2(1024)','sc4_2_3(1024)',\\\n",
    "        'sc4_3_1(1024)','sc4_3_2(1024)','sc4_3_3(1024)',\\\n",
    "        'sc4_4_1(1024)','sc4_4_2(1024)','sc4_4_3(1024)',\\\n",
    "        'sc4_5_1(1024)','sc4_5_2(1024)','sc4_5_3(1024)',\\\n",
    "        'sc4_6_1(1024)','sc4_6_2(1024)','sc4_6_3(1024)',\\\n",
    "        'rp4',\\\n",
    "        'sc5_1_1(2048)','sc5_1_2(2048)','sc5_1_3(2048)',\\\n",
    "        'sc5_2_1(2048)','sc5_2_2(2048)','sc5_2_3(2048)',\\\n",
    "        'sc5_3_1(2048)','sc5_3_2(2048)','sc5_3_3(2048)',\\\n",
    "        'rp5']\n",
    "\n",
    "size = 1\n",
    "for img in tqdm(l2_img_test_arr):\n",
    "    with torch.no_grad():\n",
    "        outputs,save = model1(img)\n",
    "        _, predicted = torch.max(outputs.data, 1)\n",
    "    print(predicted)\n",
    "    \n",
    "    j = 0\n",
    "    plt.figure(figsize=(24,12))\n",
    "    plt.suptitle('resnet L2ALL SC half image size:'+str(size)+'\\n'+'predicted :'+str(predicted.cpu().numpy()[0])+' ground truth:9')\n",
    "    #plt.suptitle('resnet L2 ALL layer SC half')\n",
    "    for act in save:\n",
    "        dist = []\n",
    "        index = np.arange(act[0].size()[0])\n",
    "        for i in range(act[0].size()[0]):\n",
    "            dist.append(torch.norm(act[0][i],p=2).cpu().detach().numpy())\n",
    "        plt.subplot(6,9,j+1)\n",
    "        plt.title(name[j])\n",
    "        plt.bar(index,dist)\n",
    "        j = j+1\n",
    "        plt.gca().axes.get_xaxis().set_visible(False)\n",
    "    plt.savefig('res50_allsc_l2/l2_'+str(size)+'.png')\n",
    "    plt.show()\n",
    "    size = size+1"
   ]
  },
  {
   "cell_type": "code",
   "execution_count": null,
   "metadata": {},
   "outputs": [],
   "source": [
    "import cv2\n",
    "\n",
    "frame_array = []\n",
    "for i in range(1,113):\n",
    "    filename='res50_allsc_l2/l2_'+str(i)+'.png'\n",
    "    img = cv2.imread(filename)\n",
    "    height, width, layers = img.shape\n",
    "    size = (width,height)\n",
    "    \n",
    "    #inserting the frames into an image array\n",
    "    frame_array.append(img)\n",
    "    \n",
    "out = cv2.VideoWriter('res50_allsc_l2/allsc_half_l2_mar15.mp4',cv2.VideoWriter_fourcc(*'MP4V'), 5, size)\n",
    "for i in range(len(frame_array)):\n",
    "    # writing to a image array\n",
    "    out.write(frame_array[i])\n",
    "out.release()"
   ]
  },
  {
   "cell_type": "code",
   "execution_count": null,
   "metadata": {},
   "outputs": [],
   "source": [
    "def imshow(img):\n",
    "    img = img / 2 + 0.5     # unnormalize\n",
    "    npimg = img.detach().numpy()\n",
    "    #plt.imshow(np.transpose(npimg, (1, 2, 0)))\n",
    "    return np.transpose(npimg, (1, 2, 0))"
   ]
  },
  {
   "cell_type": "code",
   "execution_count": null,
   "metadata": {},
   "outputs": [],
   "source": [
    "import matplotlib.cm as cm\n",
    "\n",
    "def show_gradient(gradient):\n",
    "    #gradient = gradient.cpu().numpy().transpose(1, 2, 0)\n",
    "    gradient = gradient.cpu().numpy().transpose(1,2,0)\n",
    "    gradient -= gradient.min()\n",
    "    gradient /= gradient.max()\n",
    "    gradient *= 255.0\n",
    "    plt.imshow(np.squeeze(np.uint8(gradient),axis=2))\n",
    "    plt.show()\n",
    "\n",
    "def show_gradcam(gcam, raw_image, paper_cmap=False,show = True):\n",
    "    gcam = gcam.cpu().numpy()\n",
    "    cmap = cm.jet(gcam)[..., :3]*255.0#\n",
    "    if paper_cmap:\n",
    "        alpha = gcam[..., None]\n",
    "        gcam = alpha * cmap + (1 - alpha) * raw_image\n",
    "    else:\n",
    "        gcam = (cmap.astype(np.float) + raw_image.astype(np.float)) / 2\n",
    "        #gcam = (cmap.astype(np.float)*raw_image.astype(np.float))\n",
    "    if show:\n",
    "        plt.imshow(gcam.astype(np.uint8))\n",
    "        plt.show()\n",
    "        return 0\n",
    "    else:\n",
    "        return gcam.astype(np.uint8)"
   ]
  },
  {
   "cell_type": "code",
   "execution_count": null,
   "metadata": {},
   "outputs": [],
   "source": [
    "!mkdir 'gradcam_2x_respool_soloconv'"
   ]
  },
  {
   "cell_type": "code",
   "execution_count": null,
   "metadata": {
    "scrolled": true
   },
   "outputs": [],
   "source": [
    "from sklearn.metrics import confusion_matrix\n",
    "\n",
    "confusion = []\n",
    "\n",
    "temp_acc = []\n",
    "device = 'cuda:0'\n",
    "for testloader in tqdm(val_gen_arr):\n",
    "    correct = 0\n",
    "    total = 0\n",
    "    class_correct = list(0. for i in range(10))\n",
    "    class_total = list(0. for i in range(10))\n",
    "    confusion.append([])\n",
    "    with torch.no_grad():\n",
    "        for images in testloader:\n",
    "            c1 = images[0].to(device)\n",
    "            val_labels = images[1].to(device)\n",
    "            outputs = model1(c1)\n",
    "            _, predicted = torch.max(outputs.data, 1)\n",
    "            #print(predicted)\n",
    "            c = (predicted == val_labels).squeeze()\n",
    "            total += val_labels.size(0)\n",
    "            correct += (predicted == val_labels).sum().item()\n",
    "            \n",
    "            confusion[-1].append(confusion_matrix(val_labels.cpu().numpy(),predicted.cpu().numpy(),labels=[0,1,2,3,4,5,6,7,8,9]))\n",
    "    #print(total,correct,end='')\n",
    "\n",
    "    print('Accuracy of the network on the 10000 test images: %d %%' % (100 * correct / total))\n",
    "    temp_acc.append(100 * correct / total)\n",
    "    \n",
    "#print(confusion)\n"
   ]
  },
  {
   "cell_type": "code",
   "execution_count": null,
   "metadata": {},
   "outputs": [],
   "source": [
    "confusion_sum = []\n",
    "\n",
    "for i in range(len(confusion)):\n",
    "    confusion_sum.append(confusion[i][0])\n",
    "    for j in range(1,len(confusion[i])):\n",
    "        confusion_sum[i] += confusion[i][j]\n",
    "        \n",
    "print(confusion_sum[0])"
   ]
  },
  {
   "cell_type": "code",
   "execution_count": null,
   "metadata": {},
   "outputs": [],
   "source": [
    "!mkdir confusion_2x_respool_soloconv"
   ]
  },
  {
   "cell_type": "code",
   "execution_count": null,
   "metadata": {},
   "outputs": [],
   "source": [
    "for size in range(0,112):\n",
    "    fig = plt.figure(figsize=(12,12))\n",
    "    pred_name = ['pred '+str(x) for x in range(0,10)]\n",
    "    actual_name = ['true '+str(x) for x in range(0,10)]\n",
    "    ax = fig.add_subplot(111)\n",
    "    cax = ax.matshow(confusion_sum[size],cmap = plt.cm.Greens)\n",
    "    fig.colorbar(cax)\n",
    "    ticks = np.arange(0,10,1)\n",
    "\n",
    "    ind_array = np.arange(0, 10, 1)\n",
    "    x, y = np.meshgrid(ind_array, ind_array)\n",
    "\n",
    "    for x_val, y_val in zip(x.flatten(), y.flatten()):\n",
    "        c = str(confusion_sum[size][y_val][x_val])\n",
    "        ax.text(x_val, y_val, c, va='center', ha='center')\n",
    "\n",
    "    ax.set_xticks(ticks)\n",
    "    ax.set_yticks(ticks)\n",
    "    ax.set_xticklabels(pred_name)\n",
    "    ax.set_yticklabels(actual_name)\n",
    "    ax.set_title('size : '+str(size+1)+' acc : '+str(temp_acc[size]))\n",
    "    #plt.matshow(confusion_sum[0])\n",
    "    plt.savefig('confusion_2x_respool_soloconv/confusion'+str(size)+'.png')\n",
    "    plt.show()"
   ]
  },
  {
   "cell_type": "code",
   "execution_count": null,
   "metadata": {},
   "outputs": [],
   "source": [
    "import cv2\n",
    "\n",
    "frame_array = []\n",
    "for i in range(0,112):\n",
    "    filename='confusion_2x_respool_soloconv/confusion' + str(i)+'.png'\n",
    "    img = cv2.imread(filename)\n",
    "    height, width, layers = img.shape\n",
    "    size = (width,height)\n",
    "    \n",
    "    #inserting the frames into an image array\n",
    "    frame_array.append(img)\n",
    "    \n",
    "out = cv2.VideoWriter('confusion_2x_respool_soloconv/confusion_feb13.mp4',cv2.VideoWriter_fourcc(*'MP4V'), 5, size)\n",
    "for i in range(len(frame_array)):\n",
    "    # writing to a image array\n",
    "    out.write(frame_array[i])\n",
    "out.release()"
   ]
  },
  {
   "cell_type": "code",
   "execution_count": null,
   "metadata": {},
   "outputs": [],
   "source": [
    "import os\n",
    "\n",
    "\n",
    "SIZED_VAL_PATH = 'mnist_sized'\n",
    "new_path = []\n",
    "for i in range(1,113):\n",
    "    new_path.append([os.path.join(SIZED_VAL_PATH,str(i))])\n",
    "\n",
    "#new_path.sort(key=lambda x:int(x[0].split('/')[1]))\n",
    "\n",
    "gradcam_gen_arr = []\n",
    "for i in tqdm(range(0,len(new_path))):\n",
    "    transform = transforms.Compose(\n",
    "        [\n",
    "        transforms.ToTensor(),\n",
    "        transforms.Normalize((0.1307, 0.1307, 0.1307), (0.3081, 0.3081, 0.3081))])\n",
    "\n",
    "    testMnistDataset = SizedMnistDataset(new_path[i],transform)\n",
    "\n",
    "    testloader = torch.utils.data.DataLoader(testMnistDataset,\n",
    "                                              batch_size = batch_size, \n",
    "                                              shuffle=False,\n",
    "                                            num_workers=8)\n",
    "    gradcam_gen_arr.append(testloader)\n",
    "#\n",
    "#val_gen_arr\n",
    "accuracy = []"
   ]
  },
  {
   "cell_type": "code",
   "execution_count": null,
   "metadata": {},
   "outputs": [],
   "source": [
    "from gradcam import GradCAM\n",
    "from gradcam import GuidedBackPropagation\n",
    "\n",
    "#model1.eval()\n",
    "#model2.eval()\n",
    "gcam = GradCAM(model=model1)\n",
    "gbp = GuidedBackPropagation(model=model2)"
   ]
  },
  {
   "cell_type": "code",
   "execution_count": null,
   "metadata": {},
   "outputs": [],
   "source": [
    "for name, module in model1.named_modules():\n",
    "    print(name)"
   ]
  },
  {
   "cell_type": "code",
   "execution_count": null,
   "metadata": {},
   "outputs": [],
   "source": [
    "for i in gcam.fmap_pool.keys():\n",
    "    print(i)"
   ]
  },
  {
   "cell_type": "code",
   "execution_count": null,
   "metadata": {},
   "outputs": [],
   "source": [
    "from matplotlib import gridspec\n",
    "\n",
    "gridspec.GridSpec(3,6)\n",
    "\n",
    "imsize = 1\n",
    "for testloader in tqdm(gradcam_gen_arr):\n",
    "    for images in testloader:\n",
    "        v1 = images[0].to(device)\n",
    "        val_labels = images[1].to(device)\n",
    "        break\n",
    "\n",
    "    _ = gcam.forward(v1)\n",
    "    probs,ids = gbp.forward(v1)\n",
    "\n",
    "    gcam.backward(ids=ids[:,[0]])\n",
    "    gbp.backward(ids=ids[:,[0]])\n",
    "\n",
    "    grad_img = []\n",
    "\n",
    "    for j in range(len(v1)):\n",
    "        grad_img.append([])\n",
    "        for name, module in model1.named_modules():\n",
    "            #print(name)\n",
    "            if name == '' or name == 'module' or name == 'module.fc1' or name == 'module.fc2' or name == 'module.fc3' or name == 'module.prepool1' or name == 'module.prepool2':\n",
    "                continue\n",
    "            regions = gcam.generate(target_layer=name)\n",
    "            gradients = gbp.generate()\n",
    "            #print(\"\\t#{}: {} ({:.5f})\".format(j, ids[j, 0], probs[j, 0]))\n",
    "            #print(regions[j,0])\n",
    "            if name == 'module.sc1' or name == 'module.sc2' or name == 'module.sc3':\n",
    "                grad_img[j].append(show_gradcam(gcam=regions[0][j,0],raw_image=imshow(v1[j].cpu()),show=False))\n",
    "                grad_img[j].append(show_gradcam(gcam=regions[1][j,0],raw_image=imshow(v1[j].cpu()),show=False))\n",
    "                grad_img[j].append(show_gradcam(gcam=regions[2][j,0],raw_image=imshow(v1[j].cpu()),show=False))\n",
    "            if name == 'module.rp1':\n",
    "                grad_img[j].append(show_gradcam(gcam=regions[j,0],raw_image=imshow(v1[j].cpu()),show=False))\n",
    "\n",
    "    img_num = [0,1,2,3,4,5,15,16,17,18,19,20,31,32,33,34]\n",
    "    col_num = [3,3,3,1]\n",
    "    title = ['sc1 (L1,L2,L3)','sc2(L1,L2,L3)','sc3(L1,L2,L3)','rp1']\n",
    "    size = 112\n",
    "    \n",
    "    scale = 3./size\n",
    "    plt.figure(figsize=(18,9))\n",
    "    plt.suptitle('SC_CNN_2x_respool_gradcam'+'_size:'+str(imsize)+'_acc:'+str(temp_acc[imsize-1])+'\\n predicted:{} ({:.5f})'.format(ids[0, 0], probs[0, 0]))\n",
    "    num = 0\n",
    "    for i in range(len(col_num)):\n",
    "        display_grid = np.zeros((112,112*col_num[i],3)).astype(np.uint8)\n",
    "        for row in range(col_num[i]):\n",
    "            display_grid[:size,row*size : (row+1)*size,:3] = grad_img[0][num]\n",
    "            num = num+1\n",
    "        if i == 3:\n",
    "            plt.subplot2grid((3,6), (i//2,(i%2)*3),colspan = 1,rowspan=1)\n",
    "        else:\n",
    "            plt.subplot2grid((3,6), (i//2,(i%2)*3),colspan = 3,rowspan=1)\n",
    "        plt.axis('off')\n",
    "        plt.title(title[i])\n",
    "        plt.grid(False)\n",
    "        plt.imshow(display_grid,aspect='auto')\n",
    "    plt.savefig('gradcam_2x_respool/pltgrad'+str(imsize)+'.png')\n",
    "    plt.show()\n",
    "    imsize = imsize+1"
   ]
  },
  {
   "cell_type": "code",
   "execution_count": null,
   "metadata": {},
   "outputs": [],
   "source": [
    "v1.size()"
   ]
  },
  {
   "cell_type": "code",
   "execution_count": null,
   "metadata": {},
   "outputs": [],
   "source": [
    "frame_array = []\n",
    "for i in range(1,113):\n",
    "    filename='gradcam_2x/pltgrad' + str(i)+'.png'\n",
    "    img = cv2.imread(filename)\n",
    "    height, width, layers = img.shape\n",
    "    size = (width,height)\n",
    "    \n",
    "    #inserting the frames into an image array\n",
    "    frame_array.append(img)\n",
    "    \n",
    "out = cv2.VideoWriter('gradcam_2x_respool/gradcam_ordered_feb13.mp4',cv2.VideoWriter_fourcc(*'MP4V'), 5, size)\n",
    "for i in range(len(frame_array)):\n",
    "    # writing to a image array\n",
    "    out.write(frame_array[i])\n",
    "out.release()"
   ]
  },
  {
   "cell_type": "code",
   "execution_count": null,
   "metadata": {},
   "outputs": [],
   "source": [
    "for i in gcam.fmap_pool.keys():\n",
    "    print(i)"
   ]
  },
  {
   "cell_type": "code",
   "execution_count": null,
   "metadata": {},
   "outputs": [],
   "source": [
    "num=0\n",
    "\n",
    "#plt.figure(figsize=(12,5))\n",
    "plt.matshow([gcam.fmap_pool['module.fc1'].cpu().numpy()[num]])\n",
    "plt.matshow([gcam.fmap_pool['module.fc2'].cpu().numpy()[num]])\n",
    "plt.matshow([gcam.fmap_pool['module.fc3'].cpu().numpy()[num]])\n",
    "\n",
    "plt.show()"
   ]
  },
  {
   "cell_type": "code",
   "execution_count": null,
   "metadata": {},
   "outputs": [],
   "source": [
    "i=0\n",
    "print(gcam.fmap_pool['module.prepool1'].cpu().numpy()[0][i].var())\n",
    "plt.imshow(gcam.fmap_pool['module.prepool2'].cpu().numpy()[0][i])\n",
    "plt.show()"
   ]
  },
  {
   "cell_type": "code",
   "execution_count": null,
   "metadata": {},
   "outputs": [],
   "source": [
    "gcam.fmap_pool['module.sc1_1'].cpu().numpy()[0][0]"
   ]
  },
  {
   "cell_type": "code",
   "execution_count": null,
   "metadata": {},
   "outputs": [],
   "source": [
    "num = 1\n",
    "#print(gcam.fmap_pool['module.sc1_1'].cpu().numpy()[0][num])\n",
    "plt.figure(figsize=(16,12))\n",
    "for i in range(6):\n",
    "    plt.subplot(3,6,i+1)\n",
    "    plt.imshow(gcam.fmap_pool['module.sc1_1'].cpu().numpy()[0][i])\n",
    "for i in range(6):\n",
    "    plt.subplot(3,6,i+1+6)\n",
    "    plt.imshow(gcam.fmap_pool['module.sc1_2'].cpu().numpy()[0][i])\n",
    "for i in range(6):\n",
    "    plt.subplot(3,6,i+1+12)\n",
    "    plt.imshow(gcam.fmap_pool['module.sc1_3'].cpu().numpy()[0][i])\n",
    "plt.show()"
   ]
  },
  {
   "cell_type": "code",
   "execution_count": null,
   "metadata": {},
   "outputs": [],
   "source": [
    "num = 1\n",
    "#print(gcam.fmap_pool['module.sc1_1'].cpu().numpy()[0][num])\n",
    "plt.figure(figsize=(16,5))\n",
    "for i in range(18):\n",
    "    plt.subplot(3,18,i+1)\n",
    "    plt.imshow(gcam.fmap_pool['module.sc2_1'].cpu().numpy()[0][i])\n",
    "for i in range(18):\n",
    "    plt.subplot(3,18,i+1+18)\n",
    "    plt.imshow(gcam.fmap_pool['module.sc2_2'].cpu().numpy()[0][i])\n",
    "for i in range(18):\n",
    "    plt.subplot(3,18,i+1+36)\n",
    "    plt.imshow(gcam.fmap_pool['module.sc2_3'].cpu().numpy()[0][i])\n",
    "plt.show()"
   ]
  },
  {
   "cell_type": "code",
   "execution_count": null,
   "metadata": {},
   "outputs": [],
   "source": [
    "num = 1\n",
    "#print(gcam.fmap_pool['module.sc1_1'].cpu().numpy()[0][num])\n",
    "plt.figure(figsize=(16,5))\n",
    "for i in range(30):\n",
    "    plt.subplot(3,30,i+1)\n",
    "    plt.imshow(gcam.fmap_pool['module.sc3_1'].cpu().numpy()[0][i])\n",
    "for i in range(30):\n",
    "    plt.subplot(3,30,i+1+30)\n",
    "    plt.imshow(gcam.fmap_pool['module.sc3_2'].cpu().numpy()[0][i])\n",
    "for i in range(30):\n",
    "    plt.subplot(3,30,i+1+60)\n",
    "    plt.imshow(gcam.fmap_pool['module.sc3_3'].cpu().numpy()[0][i])\n",
    "plt.show()"
   ]
  },
  {
   "cell_type": "code",
   "execution_count": null,
   "metadata": {},
   "outputs": [],
   "source": [
    "num = 1\n",
    "#print(gcam.fmap_pool['module.sc1_1'].cpu().numpy()[0][num])\n",
    "plt.figure(figsize=(16,5))\n",
    "for i in range(30):\n",
    "    plt.subplot(3,10,i+1)\n",
    "    plt.imshow(gcam.fmap_pool['module.rp1'].cpu().numpy()[0][i])\n",
    "plt.show()"
   ]
  },
  {
   "cell_type": "code",
   "execution_count": null,
   "metadata": {},
   "outputs": [],
   "source": [
    "gcam.fmap_pool['module.sc1_1'].cpu().numpy().shape"
   ]
  },
  {
   "cell_type": "code",
   "execution_count": null,
   "metadata": {},
   "outputs": [],
   "source": [
    "num = 1\n",
    "conv_list = ['module.sc1.conv1','module.sc1.conv2','module.sc1.conv3']\n",
    "conv_num = 0\n",
    "#print(gcam.fmap_pool[conv_list[conv_num]].cpu().numpy()[0][num])\n",
    "for i in range(2):\n",
    "    plt.subplot(1,2,i+1)\n",
    "    plt.imshow(gcam.fmap_pool[conv_list[conv_num]].cpu().numpy()[0][i])\n",
    "plt.show()"
   ]
  },
  {
   "cell_type": "code",
   "execution_count": null,
   "metadata": {},
   "outputs": [],
   "source": [
    "num = 1\n",
    "conv_list = ['module.sc1.conv1','module.sc1.conv2','module.sc1.conv3']\n",
    "conv_num = 1\n",
    "#print(gcam.fmap_pool[conv_list[conv_num]].cpu().numpy()[0][num])\n",
    "for i in range(2):\n",
    "    plt.subplot(1,2,i+1)\n",
    "    plt.imshow(gcam.fmap_pool[conv_list[conv_num]].cpu().numpy()[0][i])\n",
    "plt.show()"
   ]
  },
  {
   "cell_type": "code",
   "execution_count": null,
   "metadata": {},
   "outputs": [],
   "source": [
    "num = 1\n",
    "conv_list = ['module.sc1.conv1','module.sc1.conv2','module.sc1.conv3']\n",
    "conv_num = 2\n",
    "#print(gcam.fmap_pool[conv_list[conv_num]].cpu().numpy()[0][num])\n",
    "for i in range(2):\n",
    "    plt.subplot(1,2,i+1)\n",
    "    plt.imshow(gcam.fmap_pool[conv_list[conv_num]].cpu().numpy()[0][i])\n",
    "plt.show()"
   ]
  },
  {
   "cell_type": "code",
   "execution_count": null,
   "metadata": {},
   "outputs": [],
   "source": [
    "model1.module.sc1.conv1.weight.shape"
   ]
  },
  {
   "cell_type": "code",
   "execution_count": null,
   "metadata": {},
   "outputs": [],
   "source": [
    "for i in range(3):\n",
    "    print(model1.module.sc1.conv1.weight[0][i].cpu().detach().numpy())\n",
    "    plt.imshow(model1.module.sc1.conv1.weight[0][i].cpu().detach().numpy())#.shape\n",
    "    plt.show()"
   ]
  },
  {
   "cell_type": "code",
   "execution_count": null,
   "metadata": {},
   "outputs": [],
   "source": [
    "for i in range(3):\n",
    "    print(model1.module.sc1.conv2.weight[0][i].cpu().detach().numpy())\n",
    "    plt.imshow(model1.module.sc1.conv2.weight[0][i].cpu().detach().numpy())#.shape\n",
    "    plt.show()"
   ]
  },
  {
   "cell_type": "code",
   "execution_count": null,
   "metadata": {},
   "outputs": [],
   "source": [
    "for i in range(3):\n",
    "    print(model1.module.sc1.conv3.weight[0][i].cpu().detach().numpy())\n",
    "    plt.imshow(model1.module.sc1.conv3.weight[0][i].cpu().detach().numpy())#.shape\n",
    "    plt.show()"
   ]
  },
  {
   "cell_type": "code",
   "execution_count": null,
   "metadata": {},
   "outputs": [],
   "source": []
  }
 ],
 "metadata": {
  "accelerator": "GPU",
  "colab": {
   "collapsed_sections": [],
   "name": "SC_CNN_v0.ipynb",
   "provenance": []
  },
  "kernelspec": {
   "display_name": "Python 3",
   "language": "python",
   "name": "python3"
  },
  "language_info": {
   "codemirror_mode": {
    "name": "ipython",
    "version": 3
   },
   "file_extension": ".py",
   "mimetype": "text/x-python",
   "name": "python",
   "nbconvert_exporter": "python",
   "pygments_lexer": "ipython3",
   "version": "3.6.9"
  }
 },
 "nbformat": 4,
 "nbformat_minor": 1
}
