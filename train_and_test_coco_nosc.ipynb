{
 "cells": [
  {
   "cell_type": "code",
   "execution_count": 1,
   "metadata": {
    "colab": {
     "base_uri": "https://localhost:8080/",
     "height": 318
    },
    "colab_type": "code",
    "id": "SD8EvIMWEBPH",
    "outputId": "f582d519-eb7a-457f-9705-0d961fc032a2"
   },
   "outputs": [
    {
     "name": "stdout",
     "output_type": "stream",
     "text": [
      "Sun Apr 19 07:48:12 2020       \n",
      "+-----------------------------------------------------------------------------+\n",
      "| NVIDIA-SMI 440.33.01    Driver Version: 440.33.01    CUDA Version: 10.2     |\n",
      "|-------------------------------+----------------------+----------------------+\n",
      "| GPU  Name        Persistence-M| Bus-Id        Disp.A | Volatile Uncorr. ECC |\n",
      "| Fan  Temp  Perf  Pwr:Usage/Cap|         Memory-Usage | GPU-Util  Compute M. |\n",
      "|===============================+======================+======================|\n",
      "|   0  GeForce RTX 208...  Off  | 00000000:3B:00.0 Off |                  N/A |\n",
      "| 46%   59C    P0    55W / 250W |      0MiB / 11019MiB |      0%      Default |\n",
      "+-------------------------------+----------------------+----------------------+\n",
      "|   1  GeForce RTX 208...  Off  | 00000000:5E:00.0 Off |                  N/A |\n",
      "| 41%   57C    P0    68W / 250W |      0MiB / 11019MiB |      1%      Default |\n",
      "+-------------------------------+----------------------+----------------------+\n",
      "|   2  GeForce RTX 208...  Off  | 00000000:86:00.0 Off |                  N/A |\n",
      "| 31%   46C    P0    57W / 250W |      0MiB / 11019MiB |      0%      Default |\n",
      "+-------------------------------+----------------------+----------------------+\n",
      "|   3  GeForce RTX 208...  Off  | 00000000:AF:00.0 Off |                  N/A |\n",
      "| 44%   57C    P0    29W / 250W |      0MiB / 11016MiB |      0%      Default |\n",
      "+-------------------------------+----------------------+----------------------+\n",
      "                                                                               \n",
      "+-----------------------------------------------------------------------------+\n",
      "| Processes:                                                       GPU Memory |\n",
      "|  GPU       PID   Type   Process name                             Usage      |\n",
      "|=============================================================================|\n",
      "|  No running processes found                                                 |\n",
      "+-----------------------------------------------------------------------------+\n"
     ]
    }
   ],
   "source": [
    "!nvidia-smi "
   ]
  },
  {
   "cell_type": "code",
   "execution_count": 2,
   "metadata": {
    "colab": {},
    "colab_type": "code",
    "id": "QuCAgoS1Hn4L"
   },
   "outputs": [
    {
     "data": {
      "text/plain": [
       "'# For clean\\n\\nimport os\\nimport fnmatch\\n \\nINTERNAL_DATA_PATH = \\'cropped_coco/\\'\\n# Get a list of all files in directory\\nfor rootDir, subdirs, filenames in os.walk(INTERNAL_DATA_PATH):\\n    # Find the files that matches the given patterm\\n    for filename in fnmatch.filter(filenames, \\'.*\\'):\\n        try:\\n            #print(filename)\\n            os.remove(os.path.join(rootDir, filename))\\n        except OSError:\\n            print(\"Error while deleting file\")\\n    for subdir in fnmatch.filter(subdirs, \\'.*\\'):\\n        try:\\n            #print(filename)\\n            os.remove(os.path.join(rootDir, subdir))\\n        except OSError:\\n            print(\"Error while deleting file\")'"
      ]
     },
     "execution_count": 2,
     "metadata": {},
     "output_type": "execute_result"
    }
   ],
   "source": [
    "'''# For clean\n",
    "\n",
    "import os\n",
    "import fnmatch\n",
    " \n",
    "INTERNAL_DATA_PATH = 'cropped_coco/'\n",
    "# Get a list of all files in directory\n",
    "for rootDir, subdirs, filenames in os.walk(INTERNAL_DATA_PATH):\n",
    "    # Find the files that matches the given patterm\n",
    "    for filename in fnmatch.filter(filenames, '.*'):\n",
    "        try:\n",
    "            #print(filename)\n",
    "            os.remove(os.path.join(rootDir, filename))\n",
    "        except OSError:\n",
    "            print(\"Error while deleting file\")\n",
    "    for subdir in fnmatch.filter(subdirs, '.*'):\n",
    "        try:\n",
    "            #print(filename)\n",
    "            os.remove(os.path.join(rootDir, subdir))\n",
    "        except OSError:\n",
    "            print(\"Error while deleting file\")'''"
   ]
  },
  {
   "cell_type": "code",
   "execution_count": 3,
   "metadata": {
    "colab": {},
    "colab_type": "code",
    "id": "q-52A9hHEf9y"
   },
   "outputs": [],
   "source": [
    "import torchvision.datasets as datasets\n",
    "import torchvision.transforms as transforms\n",
    "import torchvision\n",
    "import torch\n",
    "from torch.utils.data import Dataset, DataLoader\n",
    "import os\n",
    "import matplotlib.pyplot as plt\n",
    "import numpy as np\n",
    "from tqdm import tqdm\n",
    "\n",
    "\n",
    "########################################################################\n",
    "batch_size = 128\n",
    "########################################################################\n"
   ]
  },
  {
   "cell_type": "code",
   "execution_count": 4,
   "metadata": {},
   "outputs": [],
   "source": [
    "DATASET_PATH = 'sampled_cropped_coco'\n",
    "TRAIN_PATH = DATASET_PATH + '/train/100'\n",
    "TEST_PATH = DATASET_PATH + '/val/100'"
   ]
  },
  {
   "cell_type": "code",
   "execution_count": 5,
   "metadata": {},
   "outputs": [],
   "source": [
    "#img_size = [729,243,81,27,9]  \n",
    "\n",
    "default_transform = transforms.Compose(\n",
    "    [transforms.Resize((224,224)),\n",
    "    transforms.ToTensor()])\n",
    "\n",
    "trainCocoDataset = datasets.ImageFolder(root=TRAIN_PATH,transform = default_transform)\n",
    "testCocoDataset = datasets.ImageFolder(root=TEST_PATH,transform = default_transform)\n",
    "\n",
    "trainloader = torch.utils.data.DataLoader(trainCocoDataset,\n",
    "                                          batch_size = batch_size, \n",
    "                                          shuffle=True,\n",
    "                                         num_workers=4)\n",
    "\n",
    "testloader = torch.utils.data.DataLoader(testCocoDataset,\n",
    "                                          batch_size = batch_size, \n",
    "                                          shuffle=False,\n",
    "                                        num_workers=4)\n"
   ]
  },
  {
   "cell_type": "code",
   "execution_count": 6,
   "metadata": {
    "scrolled": true
   },
   "outputs": [
    {
     "data": {
      "text/plain": [
       "'trainCocoDataset.class_to_idx'"
      ]
     },
     "execution_count": 6,
     "metadata": {},
     "output_type": "execute_result"
    }
   ],
   "source": [
    "'''trainCocoDataset.class_to_idx'''"
   ]
  },
  {
   "cell_type": "code",
   "execution_count": 7,
   "metadata": {},
   "outputs": [],
   "source": [
    "from SCResnet import SCResNet50,ResNet50\n",
    "from torchvision.models import resnet50\n",
    "#torchvision.models.resnet50(pretrained=False, progress=True, **kwargs)\n"
   ]
  },
  {
   "cell_type": "code",
   "execution_count": 8,
   "metadata": {},
   "outputs": [],
   "source": [
    "from torch.nn.parallel.data_parallel import DataParallel\n",
    "from torch.nn.parallel import DistributedDataParallel as DDP\n",
    "import torch.distributed as dist\n",
    "\n",
    "os.environ['MASTER_ADDR'] = '127.0.0.1'\n",
    "os.environ['MASTER_PORT'] = '29500'\n",
    "dist.init_process_group(backend='nccl',rank=0,world_size=1)"
   ]
  },
  {
   "cell_type": "code",
   "execution_count": 9,
   "metadata": {
    "colab": {
     "base_uri": "https://localhost:8080/",
     "height": 214
    },
    "colab_type": "code",
    "id": "xdajs104otKK",
    "outputId": "294463e8-ed55-49c4-939e-6bdda6c87d72"
   },
   "outputs": [],
   "source": [
    "device = 'cuda:0'\n",
    "num_classes = 58\n",
    "\n",
    "model1 = resnet50(num_classes=num_classes).to(device)\n",
    "if torch.cuda.device_count() > 1:\n",
    "    model1 = DDP(model1,device_ids = [0,1])"
   ]
  },
  {
   "cell_type": "code",
   "execution_count": 10,
   "metadata": {},
   "outputs": [
    {
     "name": "stderr",
     "output_type": "stream",
     "text": [
      "100%|██████████| 10/10 [00:00<00:00, 11.03it/s]\n"
     ]
    }
   ],
   "source": [
    "import os\n",
    "from torchvision import transforms\n",
    "\n",
    "SIZED_VAL_PATH = 'sampled_cropped_coco/val'\n",
    "\n",
    "val_gen_arr = []\n",
    "for i in tqdm(range(10,110,10)):\n",
    "    transform = transforms.Compose(\n",
    "        [\n",
    "        transforms.Resize((224,224)),\n",
    "        transforms.ToTensor()])\n",
    "\n",
    "    testCocoDataset_val = datasets.ImageFolder(root=os.path.join(SIZED_VAL_PATH,str(i)),transform = transform)\n",
    "\n",
    "    testloader_val = torch.utils.data.DataLoader(testCocoDataset_val,\n",
    "                                              batch_size = batch_size, \n",
    "                                              shuffle=False,\n",
    "                                            num_workers=4)\n",
    "    val_gen_arr.append(testloader_val)\n"
   ]
  },
  {
   "cell_type": "code",
   "execution_count": 11,
   "metadata": {
    "colab": {},
    "colab_type": "code",
    "id": "74xBqeGcpub_"
   },
   "outputs": [],
   "source": [
    "import torch.optim as optim\n",
    "import torch.nn as nn\n",
    "import torch.nn.functional as F\n",
    "\n",
    "learning_rate = 0.001\n",
    "criterion = nn.CrossEntropyLoss()\n",
    "optimizer = optim.Adam(model1.parameters(), lr=learning_rate)"
   ]
  },
  {
   "cell_type": "code",
   "execution_count": 12,
   "metadata": {},
   "outputs": [],
   "source": [
    "TEST_RESULT_PATH = 'testresults/'\n",
    "WEIGHTS_PATH = 'weights/'\n",
    "\n",
    "TASK_NAME = 'COCO_Resnet_50_sample'\n",
    "DATE = 'apr19'"
   ]
  },
  {
   "cell_type": "code",
   "execution_count": 13,
   "metadata": {
    "colab": {
     "base_uri": "https://localhost:8080/",
     "height": 1000
    },
    "colab_type": "code",
    "id": "Pd0stQ4Jolv7",
    "outputId": "3e1b592d-71a2-41cf-9936-8dd874e59431",
    "scrolled": true
   },
   "outputs": [
    {
     "name": "stderr",
     "output_type": "stream",
     "text": [
      "1360it [07:39,  2.96it/s]\n",
      "  0%|          | 0/10 [00:00<?, ?it/s]"
     ]
    },
    {
     "name": "stdout",
     "output_type": "stream",
     "text": [
      "epoch: 0 67  batch\n",
      "Accuracy of     0 :  1 %\n",
      "Accuracy of     1 : 10 %\n",
      "Accuracy of     2 : 11 %\n",
      "Accuracy of     3 :  0 %\n",
      "Accuracy of     4 :  4 %\n",
      "Accuracy of     5 : 19 %\n",
      "Accuracy of     6 : 26 %\n",
      "Accuracy of     7 :  9 %\n",
      "Accuracy of     8 : 12 %\n",
      "Accuracy of     9 :  7 %\n",
      "Accuracy of    10 : 69 %\n",
      "Accuracy of    11 : 21 %\n",
      "Accuracy of    12 : 33 %\n",
      "Accuracy of    13 : 11 %\n",
      "Accuracy of    14 : 27 %\n",
      "Accuracy of    15 : 13 %\n",
      "Accuracy of    16 : 37 %\n",
      "Accuracy of    17 :  2 %\n",
      "Accuracy of    18 : 49 %\n",
      "Accuracy of    19 : 68 %\n",
      "Accuracy of    20 : 12 %\n",
      "Accuracy of    21 : 27 %\n",
      "Accuracy of    22 : 33 %\n",
      "Accuracy of    23 : 16 %\n",
      "Accuracy of    24 : 14 %\n",
      "Accuracy of    25 :  3 %\n",
      "Accuracy of    26 :  5 %\n",
      "Accuracy of    27 : 51 %\n",
      "Accuracy of    28 :  0 %\n",
      "Accuracy of    29 : 41 %\n",
      "Accuracy of    30 :  1 %\n",
      "Accuracy of    31 : 12 %\n",
      "Accuracy of    32 : 24 %\n",
      "Accuracy of    33 : 25 %\n",
      "Accuracy of    34 :  1 %\n",
      "Accuracy of    35 : 47 %\n",
      "Accuracy of    36 : 56 %\n",
      "Accuracy of    37 : 49 %\n",
      "Accuracy of    38 : 27 %\n",
      "Accuracy of    39 : 18 %\n",
      "Accuracy of    40 : 10 %\n",
      "Accuracy of    41 : 10 %\n",
      "Accuracy of    42 :  1 %\n",
      "Accuracy of    43 :  9 %\n",
      "Accuracy of    44 : 23 %\n",
      "Accuracy of    45 :  6 %\n",
      "Accuracy of    46 :  5 %\n",
      "Accuracy of    47 : 18 %\n",
      "Accuracy of    48 : 62 %\n",
      "Accuracy of    49 : 39 %\n",
      "Accuracy of    50 : 28 %\n",
      "Accuracy of    51 : 27 %\n",
      "Accuracy of    52 :  7 %\n",
      "Accuracy of    53 : 27 %\n",
      "Accuracy of    54 :  3 %\n",
      "Accuracy of    55 :  1 %\n",
      "Accuracy of    56 :  5 %\n",
      "Accuracy of    57 : 14 %\n",
      "epoch: 1/20 | step: 58/1360 | trn loss: 3.0251 | val loss: 4.0915\n",
      "Accuracy of the network on the 10000 test images: 12 %\n"
     ]
    },
    {
     "name": "stderr",
     "output_type": "stream",
     "text": [
      "\r",
      " 10%|█         | 1/10 [00:28<04:12, 28.11s/it]"
     ]
    },
    {
     "name": "stdout",
     "output_type": "stream",
     "text": [
      "Accuracy of the network on the 10000 test images: 5 %\n"
     ]
    },
    {
     "name": "stderr",
     "output_type": "stream",
     "text": [
      "\r",
      " 20%|██        | 2/10 [00:56<03:45, 28.16s/it]"
     ]
    },
    {
     "name": "stdout",
     "output_type": "stream",
     "text": [
      "Accuracy of the network on the 10000 test images: 5 %\n"
     ]
    },
    {
     "name": "stderr",
     "output_type": "stream",
     "text": [
      "\r",
      " 30%|███       | 3/10 [01:24<03:17, 28.21s/it]"
     ]
    },
    {
     "name": "stdout",
     "output_type": "stream",
     "text": [
      "Accuracy of the network on the 10000 test images: 5 %\n"
     ]
    },
    {
     "name": "stderr",
     "output_type": "stream",
     "text": [
      "\r",
      " 40%|████      | 4/10 [01:52<02:49, 28.19s/it]"
     ]
    },
    {
     "name": "stdout",
     "output_type": "stream",
     "text": [
      "Accuracy of the network on the 10000 test images: 5 %\n"
     ]
    },
    {
     "name": "stderr",
     "output_type": "stream",
     "text": [
      "\r",
      " 50%|█████     | 5/10 [02:20<02:20, 28.17s/it]"
     ]
    },
    {
     "name": "stdout",
     "output_type": "stream",
     "text": [
      "Accuracy of the network on the 10000 test images: 6 %\n"
     ]
    },
    {
     "name": "stderr",
     "output_type": "stream",
     "text": [
      "\r",
      " 60%|██████    | 6/10 [02:49<01:53, 28.30s/it]"
     ]
    },
    {
     "name": "stdout",
     "output_type": "stream",
     "text": [
      "Accuracy of the network on the 10000 test images: 7 %\n"
     ]
    },
    {
     "name": "stderr",
     "output_type": "stream",
     "text": [
      "\r",
      " 70%|███████   | 7/10 [03:17<01:24, 28.30s/it]"
     ]
    },
    {
     "name": "stdout",
     "output_type": "stream",
     "text": [
      "Accuracy of the network on the 10000 test images: 8 %\n"
     ]
    },
    {
     "name": "stderr",
     "output_type": "stream",
     "text": [
      "\r",
      " 80%|████████  | 8/10 [03:46<00:56, 28.29s/it]"
     ]
    },
    {
     "name": "stdout",
     "output_type": "stream",
     "text": [
      "Accuracy of the network on the 10000 test images: 9 %\n"
     ]
    },
    {
     "name": "stderr",
     "output_type": "stream",
     "text": [
      "\r",
      " 90%|█████████ | 9/10 [04:13<00:28, 28.15s/it]"
     ]
    },
    {
     "name": "stdout",
     "output_type": "stream",
     "text": [
      "Accuracy of the network on the 10000 test images: 11 %\n"
     ]
    },
    {
     "name": "stderr",
     "output_type": "stream",
     "text": [
      "100%|██████████| 10/10 [04:42<00:00, 28.21s/it]"
     ]
    },
    {
     "name": "stdout",
     "output_type": "stream",
     "text": [
      "Accuracy of the network on the 10000 test images: 12 %\n"
     ]
    },
    {
     "name": "stderr",
     "output_type": "stream",
     "text": [
      "\n",
      "1360it [07:35,  2.98it/s]\n",
      "  0%|          | 0/10 [00:00<?, ?it/s]"
     ]
    },
    {
     "name": "stdout",
     "output_type": "stream",
     "text": [
      "epoch: 1 67  batch\n",
      "Accuracy of     0 : 23 %\n",
      "Accuracy of     1 : 28 %\n",
      "Accuracy of     2 : 21 %\n",
      "Accuracy of     3 : 27 %\n",
      "Accuracy of     4 : 11 %\n",
      "Accuracy of     5 : 36 %\n",
      "Accuracy of     6 : 37 %\n",
      "Accuracy of     7 : 46 %\n",
      "Accuracy of     8 : 40 %\n",
      "Accuracy of     9 : 76 %\n",
      "Accuracy of    10 : 84 %\n",
      "Accuracy of    11 : 71 %\n",
      "Accuracy of    12 : 13 %\n",
      "Accuracy of    13 : 41 %\n",
      "Accuracy of    14 : 50 %\n",
      "Accuracy of    15 : 18 %\n",
      "Accuracy of    16 : 33 %\n",
      "Accuracy of    17 : 50 %\n",
      "Accuracy of    18 : 49 %\n",
      "Accuracy of    19 : 44 %\n",
      "Accuracy of    20 : 46 %\n",
      "Accuracy of    21 : 21 %\n",
      "Accuracy of    22 : 28 %\n",
      "Accuracy of    23 : 34 %\n",
      "Accuracy of    24 : 45 %\n",
      "Accuracy of    25 : 33 %\n",
      "Accuracy of    26 : 17 %\n",
      "Accuracy of    27 : 16 %\n",
      "Accuracy of    28 : 13 %\n",
      "Accuracy of    29 : 42 %\n",
      "Accuracy of    30 :  3 %\n",
      "Accuracy of    31 : 21 %\n",
      "Accuracy of    32 : 35 %\n",
      "Accuracy of    33 : 47 %\n",
      "Accuracy of    34 : 37 %\n",
      "Accuracy of    35 : 55 %\n",
      "Accuracy of    36 : 79 %\n",
      "Accuracy of    37 : 64 %\n",
      "Accuracy of    38 : 44 %\n",
      "Accuracy of    39 : 45 %\n",
      "Accuracy of    40 : 19 %\n",
      "Accuracy of    41 : 14 %\n",
      "Accuracy of    42 : 10 %\n",
      "Accuracy of    43 : 46 %\n",
      "Accuracy of    44 : 55 %\n",
      "Accuracy of    45 : 47 %\n",
      "Accuracy of    46 : 22 %\n",
      "Accuracy of    47 : 63 %\n",
      "Accuracy of    48 : 49 %\n",
      "Accuracy of    49 : 59 %\n",
      "Accuracy of    50 : 16 %\n",
      "Accuracy of    51 : 32 %\n",
      "Accuracy of    52 :  8 %\n",
      "Accuracy of    53 : 43 %\n",
      "Accuracy of    54 : 36 %\n",
      "Accuracy of    55 : 24 %\n",
      "Accuracy of    56 : 37 %\n",
      "Accuracy of    57 : 35 %\n",
      "epoch: 2/20 | step: 58/1360 | trn loss: 2.1558 | val loss: 5.5796\n",
      "Accuracy of the network on the 10000 test images: 31 %\n"
     ]
    },
    {
     "name": "stderr",
     "output_type": "stream",
     "text": [
      "\r",
      " 10%|█         | 1/10 [00:28<04:13, 28.14s/it]"
     ]
    },
    {
     "name": "stdout",
     "output_type": "stream",
     "text": [
      "Accuracy of the network on the 10000 test images: 8 %\n"
     ]
    },
    {
     "name": "stderr",
     "output_type": "stream",
     "text": [
      "\r",
      " 20%|██        | 2/10 [00:56<03:45, 28.18s/it]"
     ]
    },
    {
     "name": "stdout",
     "output_type": "stream",
     "text": [
      "Accuracy of the network on the 10000 test images: 9 %\n"
     ]
    },
    {
     "name": "stderr",
     "output_type": "stream",
     "text": [
      "\r",
      " 30%|███       | 3/10 [01:24<03:17, 28.24s/it]"
     ]
    },
    {
     "name": "stdout",
     "output_type": "stream",
     "text": [
      "Accuracy of the network on the 10000 test images: 9 %\n"
     ]
    },
    {
     "name": "stderr",
     "output_type": "stream",
     "text": [
      "\r",
      " 40%|████      | 4/10 [01:53<02:49, 28.28s/it]"
     ]
    },
    {
     "name": "stdout",
     "output_type": "stream",
     "text": [
      "Accuracy of the network on the 10000 test images: 10 %\n"
     ]
    },
    {
     "name": "stderr",
     "output_type": "stream",
     "text": [
      "\r",
      " 50%|█████     | 5/10 [02:21<02:21, 28.30s/it]"
     ]
    },
    {
     "name": "stdout",
     "output_type": "stream",
     "text": [
      "Accuracy of the network on the 10000 test images: 11 %\n"
     ]
    },
    {
     "name": "stderr",
     "output_type": "stream",
     "text": [
      "\r",
      " 60%|██████    | 6/10 [02:48<01:52, 28.01s/it]"
     ]
    },
    {
     "name": "stdout",
     "output_type": "stream",
     "text": [
      "Accuracy of the network on the 10000 test images: 14 %\n"
     ]
    },
    {
     "name": "stderr",
     "output_type": "stream",
     "text": [
      "\r",
      " 70%|███████   | 7/10 [03:16<01:23, 27.90s/it]"
     ]
    },
    {
     "name": "stdout",
     "output_type": "stream",
     "text": [
      "Accuracy of the network on the 10000 test images: 17 %\n"
     ]
    },
    {
     "name": "stderr",
     "output_type": "stream",
     "text": [
      "\r",
      " 80%|████████  | 8/10 [03:44<00:56, 28.06s/it]"
     ]
    },
    {
     "name": "stdout",
     "output_type": "stream",
     "text": [
      "Accuracy of the network on the 10000 test images: 21 %\n"
     ]
    },
    {
     "name": "stderr",
     "output_type": "stream",
     "text": [
      "\r",
      " 90%|█████████ | 9/10 [04:13<00:28, 28.17s/it]"
     ]
    },
    {
     "name": "stdout",
     "output_type": "stream",
     "text": [
      "Accuracy of the network on the 10000 test images: 27 %\n"
     ]
    },
    {
     "name": "stderr",
     "output_type": "stream",
     "text": [
      "100%|██████████| 10/10 [04:41<00:00, 28.15s/it]"
     ]
    },
    {
     "name": "stdout",
     "output_type": "stream",
     "text": [
      "Accuracy of the network on the 10000 test images: 31 %\n"
     ]
    },
    {
     "name": "stderr",
     "output_type": "stream",
     "text": [
      "\n",
      "1360it [07:39,  2.96it/s]\n",
      "  0%|          | 0/10 [00:00<?, ?it/s]"
     ]
    },
    {
     "name": "stdout",
     "output_type": "stream",
     "text": [
      "epoch: 2 67  batch\n",
      "Accuracy of     0 : 39 %\n",
      "Accuracy of     1 : 30 %\n",
      "Accuracy of     2 : 37 %\n",
      "Accuracy of     3 : 44 %\n",
      "Accuracy of     4 : 27 %\n",
      "Accuracy of     5 : 42 %\n",
      "Accuracy of     6 : 54 %\n",
      "Accuracy of     7 : 70 %\n",
      "Accuracy of     8 : 33 %\n",
      "Accuracy of     9 : 71 %\n",
      "Accuracy of    10 : 90 %\n",
      "Accuracy of    11 : 78 %\n",
      "Accuracy of    12 : 50 %\n",
      "Accuracy of    13 : 55 %\n",
      "Accuracy of    14 : 68 %\n",
      "Accuracy of    15 :  9 %\n",
      "Accuracy of    16 : 30 %\n",
      "Accuracy of    17 : 34 %\n",
      "Accuracy of    18 : 44 %\n",
      "Accuracy of    19 : 35 %\n",
      "Accuracy of    20 : 54 %\n",
      "Accuracy of    21 : 46 %\n",
      "Accuracy of    22 : 54 %\n",
      "Accuracy of    23 : 57 %\n",
      "Accuracy of    24 : 42 %\n",
      "Accuracy of    25 : 33 %\n",
      "Accuracy of    26 : 29 %\n",
      "Accuracy of    27 : 33 %\n",
      "Accuracy of    28 :  1 %\n",
      "Accuracy of    29 : 51 %\n",
      "Accuracy of    30 : 14 %\n",
      "Accuracy of    31 : 24 %\n",
      "Accuracy of    32 : 39 %\n",
      "Accuracy of    33 : 31 %\n",
      "Accuracy of    34 : 40 %\n",
      "Accuracy of    35 : 47 %\n",
      "Accuracy of    36 : 74 %\n",
      "Accuracy of    37 : 58 %\n",
      "Accuracy of    38 : 65 %\n",
      "Accuracy of    39 : 42 %\n",
      "Accuracy of    40 : 42 %\n",
      "Accuracy of    41 : 18 %\n",
      "Accuracy of    42 :  9 %\n",
      "Accuracy of    43 : 29 %\n",
      "Accuracy of    44 : 46 %\n",
      "Accuracy of    45 : 44 %\n",
      "Accuracy of    46 : 15 %\n",
      "Accuracy of    47 : 61 %\n",
      "Accuracy of    48 : 69 %\n",
      "Accuracy of    49 : 47 %\n",
      "Accuracy of    50 : 54 %\n",
      "Accuracy of    51 : 41 %\n",
      "Accuracy of    52 : 16 %\n",
      "Accuracy of    53 : 28 %\n",
      "Accuracy of    54 : 42 %\n",
      "Accuracy of    55 : 19 %\n",
      "Accuracy of    56 : 74 %\n",
      "Accuracy of    57 : 31 %\n",
      "epoch: 3/20 | step: 58/1360 | trn loss: 1.7621 | val loss: 2.8824\n",
      "Accuracy of the network on the 10000 test images: 40 %\n"
     ]
    },
    {
     "name": "stderr",
     "output_type": "stream",
     "text": [
      "\r",
      " 10%|█         | 1/10 [00:28<04:12, 28.03s/it]"
     ]
    },
    {
     "name": "stdout",
     "output_type": "stream",
     "text": [
      "Accuracy of the network on the 10000 test images: 15 %\n"
     ]
    },
    {
     "name": "stderr",
     "output_type": "stream",
     "text": [
      "\r",
      " 20%|██        | 2/10 [00:56<03:45, 28.21s/it]"
     ]
    },
    {
     "name": "stdout",
     "output_type": "stream",
     "text": [
      "Accuracy of the network on the 10000 test images: 15 %\n"
     ]
    },
    {
     "name": "stderr",
     "output_type": "stream",
     "text": [
      "\r",
      " 30%|███       | 3/10 [01:25<03:18, 28.34s/it]"
     ]
    },
    {
     "name": "stdout",
     "output_type": "stream",
     "text": [
      "Accuracy of the network on the 10000 test images: 15 %\n"
     ]
    },
    {
     "name": "stderr",
     "output_type": "stream",
     "text": [
      "\r",
      " 40%|████      | 4/10 [01:53<02:49, 28.27s/it]"
     ]
    },
    {
     "name": "stdout",
     "output_type": "stream",
     "text": [
      "Accuracy of the network on the 10000 test images: 16 %\n"
     ]
    },
    {
     "name": "stderr",
     "output_type": "stream",
     "text": [
      "\r",
      " 50%|█████     | 5/10 [02:21<02:21, 28.21s/it]"
     ]
    },
    {
     "name": "stdout",
     "output_type": "stream",
     "text": [
      "Accuracy of the network on the 10000 test images: 18 %\n"
     ]
    },
    {
     "name": "stderr",
     "output_type": "stream",
     "text": [
      "\r",
      " 60%|██████    | 6/10 [02:49<01:52, 28.15s/it]"
     ]
    },
    {
     "name": "stdout",
     "output_type": "stream",
     "text": [
      "Accuracy of the network on the 10000 test images: 21 %\n"
     ]
    },
    {
     "name": "stderr",
     "output_type": "stream",
     "text": [
      "\r",
      " 70%|███████   | 7/10 [03:18<01:25, 28.35s/it]"
     ]
    },
    {
     "name": "stdout",
     "output_type": "stream",
     "text": [
      "Accuracy of the network on the 10000 test images: 24 %\n"
     ]
    },
    {
     "name": "stderr",
     "output_type": "stream",
     "text": [
      "\r",
      " 80%|████████  | 8/10 [03:46<00:56, 28.23s/it]"
     ]
    },
    {
     "name": "stdout",
     "output_type": "stream",
     "text": [
      "Accuracy of the network on the 10000 test images: 29 %\n"
     ]
    },
    {
     "name": "stderr",
     "output_type": "stream",
     "text": [
      "\r",
      " 90%|█████████ | 9/10 [04:14<00:28, 28.10s/it]"
     ]
    },
    {
     "name": "stdout",
     "output_type": "stream",
     "text": [
      "Accuracy of the network on the 10000 test images: 35 %\n"
     ]
    },
    {
     "name": "stderr",
     "output_type": "stream",
     "text": [
      "100%|██████████| 10/10 [04:41<00:00, 28.19s/it]"
     ]
    },
    {
     "name": "stdout",
     "output_type": "stream",
     "text": [
      "Accuracy of the network on the 10000 test images: 40 %\n"
     ]
    },
    {
     "name": "stderr",
     "output_type": "stream",
     "text": [
      "\n",
      "1360it [07:40,  2.95it/s]\n",
      "  0%|          | 0/10 [00:00<?, ?it/s]"
     ]
    },
    {
     "name": "stdout",
     "output_type": "stream",
     "text": [
      "epoch: 3 67  batch\n",
      "Accuracy of     0 : 19 %\n",
      "Accuracy of     1 : 15 %\n",
      "Accuracy of     2 : 33 %\n",
      "Accuracy of     3 : 63 %\n",
      "Accuracy of     4 : 18 %\n",
      "Accuracy of     5 : 68 %\n",
      "Accuracy of     6 : 50 %\n",
      "Accuracy of     7 : 57 %\n",
      "Accuracy of     8 : 26 %\n",
      "Accuracy of     9 : 34 %\n",
      "Accuracy of    10 : 84 %\n",
      "Accuracy of    11 : 80 %\n",
      "Accuracy of    12 : 47 %\n",
      "Accuracy of    13 : 47 %\n",
      "Accuracy of    14 : 51 %\n",
      "Accuracy of    15 : 10 %\n",
      "Accuracy of    16 : 42 %\n",
      "Accuracy of    17 : 12 %\n",
      "Accuracy of    18 : 43 %\n",
      "Accuracy of    19 : 35 %\n",
      "Accuracy of    20 : 55 %\n",
      "Accuracy of    21 : 41 %\n",
      "Accuracy of    22 : 37 %\n",
      "Accuracy of    23 : 51 %\n",
      "Accuracy of    24 : 35 %\n",
      "Accuracy of    25 : 70 %\n",
      "Accuracy of    26 : 27 %\n",
      "Accuracy of    27 : 59 %\n",
      "Accuracy of    28 :  7 %\n",
      "Accuracy of    29 : 67 %\n",
      "Accuracy of    30 : 15 %\n",
      "Accuracy of    31 : 34 %\n",
      "Accuracy of    32 : 58 %\n",
      "Accuracy of    33 : 33 %\n",
      "Accuracy of    34 : 28 %\n",
      "Accuracy of    35 : 59 %\n",
      "Accuracy of    36 : 89 %\n",
      "Accuracy of    37 : 34 %\n",
      "Accuracy of    38 : 43 %\n",
      "Accuracy of    39 : 61 %\n",
      "Accuracy of    40 : 64 %\n",
      "Accuracy of    41 : 29 %\n",
      "Accuracy of    42 : 10 %\n",
      "Accuracy of    43 : 33 %\n",
      "Accuracy of    44 : 52 %\n",
      "Accuracy of    45 : 38 %\n",
      "Accuracy of    46 : 34 %\n",
      "Accuracy of    47 : 56 %\n",
      "Accuracy of    48 : 46 %\n",
      "Accuracy of    49 : 46 %\n",
      "Accuracy of    50 : 38 %\n",
      "Accuracy of    51 : 42 %\n",
      "Accuracy of    52 :  7 %\n",
      "Accuracy of    53 : 53 %\n",
      "Accuracy of    54 : 45 %\n",
      "Accuracy of    55 : 28 %\n",
      "Accuracy of    56 : 53 %\n",
      "Accuracy of    57 : 34 %\n",
      "epoch: 4/20 | step: 58/1360 | trn loss: 1.5072 | val loss: 5.4567\n",
      "Accuracy of the network on the 10000 test images: 32 %\n"
     ]
    },
    {
     "name": "stderr",
     "output_type": "stream",
     "text": [
      "\r",
      " 10%|█         | 1/10 [00:28<04:13, 28.20s/it]"
     ]
    },
    {
     "name": "stdout",
     "output_type": "stream",
     "text": [
      "Accuracy of the network on the 10000 test images: 7 %\n"
     ]
    },
    {
     "name": "stderr",
     "output_type": "stream",
     "text": [
      "\r",
      " 20%|██        | 2/10 [00:56<03:45, 28.21s/it]"
     ]
    },
    {
     "name": "stdout",
     "output_type": "stream",
     "text": [
      "Accuracy of the network on the 10000 test images: 7 %\n"
     ]
    },
    {
     "name": "stderr",
     "output_type": "stream",
     "text": [
      "\r",
      " 30%|███       | 3/10 [01:24<03:17, 28.21s/it]"
     ]
    },
    {
     "name": "stdout",
     "output_type": "stream",
     "text": [
      "Accuracy of the network on the 10000 test images: 7 %\n"
     ]
    },
    {
     "name": "stderr",
     "output_type": "stream",
     "text": [
      "\r",
      " 40%|████      | 4/10 [01:52<02:49, 28.22s/it]"
     ]
    },
    {
     "name": "stdout",
     "output_type": "stream",
     "text": [
      "Accuracy of the network on the 10000 test images: 8 %\n"
     ]
    },
    {
     "name": "stderr",
     "output_type": "stream",
     "text": [
      "\r",
      " 50%|█████     | 5/10 [02:20<02:20, 28.18s/it]"
     ]
    },
    {
     "name": "stdout",
     "output_type": "stream",
     "text": [
      "Accuracy of the network on the 10000 test images: 10 %\n"
     ]
    },
    {
     "name": "stderr",
     "output_type": "stream",
     "text": [
      "\r",
      " 60%|██████    | 6/10 [02:49<01:52, 28.15s/it]"
     ]
    },
    {
     "name": "stdout",
     "output_type": "stream",
     "text": [
      "Accuracy of the network on the 10000 test images: 12 %\n"
     ]
    },
    {
     "name": "stderr",
     "output_type": "stream",
     "text": [
      "\r",
      " 70%|███████   | 7/10 [03:16<01:23, 27.87s/it]"
     ]
    },
    {
     "name": "stdout",
     "output_type": "stream",
     "text": [
      "Accuracy of the network on the 10000 test images: 15 %\n"
     ]
    },
    {
     "name": "stderr",
     "output_type": "stream",
     "text": [
      "\r",
      " 80%|████████  | 8/10 [03:44<00:55, 27.90s/it]"
     ]
    },
    {
     "name": "stdout",
     "output_type": "stream",
     "text": [
      "Accuracy of the network on the 10000 test images: 19 %\n"
     ]
    },
    {
     "name": "stderr",
     "output_type": "stream",
     "text": [
      "\r",
      " 90%|█████████ | 9/10 [04:12<00:27, 27.90s/it]"
     ]
    },
    {
     "name": "stdout",
     "output_type": "stream",
     "text": [
      "Accuracy of the network on the 10000 test images: 25 %\n"
     ]
    },
    {
     "name": "stderr",
     "output_type": "stream",
     "text": [
      "100%|██████████| 10/10 [04:39<00:00, 27.90s/it]"
     ]
    },
    {
     "name": "stdout",
     "output_type": "stream",
     "text": [
      "Accuracy of the network on the 10000 test images: 32 %\n"
     ]
    },
    {
     "name": "stderr",
     "output_type": "stream",
     "text": [
      "\n",
      "1360it [07:16,  3.12it/s]\n",
      "  0%|          | 0/10 [00:00<?, ?it/s]"
     ]
    },
    {
     "name": "stdout",
     "output_type": "stream",
     "text": [
      "epoch: 4 67  batch\n",
      "Accuracy of     0 : 37 %\n",
      "Accuracy of     1 : 47 %\n",
      "Accuracy of     2 : 35 %\n",
      "Accuracy of     3 : 60 %\n",
      "Accuracy of     4 : 49 %\n",
      "Accuracy of     5 : 45 %\n",
      "Accuracy of     6 : 61 %\n",
      "Accuracy of     7 : 67 %\n",
      "Accuracy of     8 : 28 %\n",
      "Accuracy of     9 : 74 %\n",
      "Accuracy of    10 : 90 %\n",
      "Accuracy of    11 : 81 %\n",
      "Accuracy of    12 : 29 %\n",
      "Accuracy of    13 : 55 %\n",
      "Accuracy of    14 : 62 %\n",
      "Accuracy of    15 : 38 %\n",
      "Accuracy of    16 : 50 %\n",
      "Accuracy of    17 : 33 %\n",
      "Accuracy of    18 : 59 %\n",
      "Accuracy of    19 : 55 %\n",
      "Accuracy of    20 : 74 %\n",
      "Accuracy of    21 : 57 %\n",
      "Accuracy of    22 : 43 %\n",
      "Accuracy of    23 : 68 %\n",
      "Accuracy of    24 : 38 %\n",
      "Accuracy of    25 : 56 %\n",
      "Accuracy of    26 : 52 %\n",
      "Accuracy of    27 : 51 %\n",
      "Accuracy of    28 : 21 %\n",
      "Accuracy of    29 : 58 %\n",
      "Accuracy of    30 : 19 %\n",
      "Accuracy of    31 : 31 %\n",
      "Accuracy of    32 : 59 %\n",
      "Accuracy of    33 : 48 %\n",
      "Accuracy of    34 : 50 %\n",
      "Accuracy of    35 : 60 %\n",
      "Accuracy of    36 : 88 %\n",
      "Accuracy of    37 : 76 %\n",
      "Accuracy of    38 : 69 %\n",
      "Accuracy of    39 : 56 %\n",
      "Accuracy of    40 : 50 %\n",
      "Accuracy of    41 : 18 %\n",
      "Accuracy of    42 : 21 %\n",
      "Accuracy of    43 : 51 %\n",
      "Accuracy of    44 : 66 %\n",
      "Accuracy of    45 : 50 %\n",
      "Accuracy of    46 : 26 %\n",
      "Accuracy of    47 : 63 %\n",
      "Accuracy of    48 : 65 %\n",
      "Accuracy of    49 : 51 %\n",
      "Accuracy of    50 : 56 %\n",
      "Accuracy of    51 : 48 %\n",
      "Accuracy of    52 : 43 %\n",
      "Accuracy of    53 : 65 %\n",
      "Accuracy of    54 : 57 %\n",
      "Accuracy of    55 : 26 %\n",
      "Accuracy of    56 : 72 %\n",
      "Accuracy of    57 : 50 %\n",
      "epoch: 5/20 | step: 58/1360 | trn loss: 1.3270 | val loss: 2.4005\n",
      "Accuracy of the network on the 10000 test images: 45 %\n"
     ]
    },
    {
     "name": "stderr",
     "output_type": "stream",
     "text": [
      "\r",
      " 10%|█         | 1/10 [00:28<04:14, 28.23s/it]"
     ]
    },
    {
     "name": "stdout",
     "output_type": "stream",
     "text": [
      "Accuracy of the network on the 10000 test images: 11 %\n"
     ]
    },
    {
     "name": "stderr",
     "output_type": "stream",
     "text": [
      "\r",
      " 20%|██        | 2/10 [00:55<03:44, 28.08s/it]"
     ]
    },
    {
     "name": "stdout",
     "output_type": "stream",
     "text": [
      "Accuracy of the network on the 10000 test images: 11 %\n"
     ]
    },
    {
     "name": "stderr",
     "output_type": "stream",
     "text": [
      "\r",
      " 30%|███       | 3/10 [01:23<03:15, 27.97s/it]"
     ]
    },
    {
     "name": "stdout",
     "output_type": "stream",
     "text": [
      "Accuracy of the network on the 10000 test images: 11 %\n"
     ]
    },
    {
     "name": "stderr",
     "output_type": "stream",
     "text": [
      "\r",
      " 40%|████      | 4/10 [01:50<02:46, 27.74s/it]"
     ]
    },
    {
     "name": "stdout",
     "output_type": "stream",
     "text": [
      "Accuracy of the network on the 10000 test images: 13 %\n"
     ]
    },
    {
     "name": "stderr",
     "output_type": "stream",
     "text": [
      "\r",
      " 50%|█████     | 5/10 [02:19<02:19, 27.87s/it]"
     ]
    },
    {
     "name": "stdout",
     "output_type": "stream",
     "text": [
      "Accuracy of the network on the 10000 test images: 15 %\n"
     ]
    },
    {
     "name": "stderr",
     "output_type": "stream",
     "text": [
      "\r",
      " 60%|██████    | 6/10 [02:46<01:51, 27.82s/it]"
     ]
    },
    {
     "name": "stdout",
     "output_type": "stream",
     "text": [
      "Accuracy of the network on the 10000 test images: 19 %\n"
     ]
    },
    {
     "name": "stderr",
     "output_type": "stream",
     "text": [
      "\r",
      " 70%|███████   | 7/10 [03:14<01:23, 27.77s/it]"
     ]
    },
    {
     "name": "stdout",
     "output_type": "stream",
     "text": [
      "Accuracy of the network on the 10000 test images: 23 %\n"
     ]
    },
    {
     "name": "stderr",
     "output_type": "stream",
     "text": [
      "\r",
      " 80%|████████  | 8/10 [03:42<00:55, 27.81s/it]"
     ]
    },
    {
     "name": "stdout",
     "output_type": "stream",
     "text": [
      "Accuracy of the network on the 10000 test images: 29 %\n"
     ]
    },
    {
     "name": "stderr",
     "output_type": "stream",
     "text": [
      "\r",
      " 90%|█████████ | 9/10 [04:10<00:27, 27.79s/it]"
     ]
    },
    {
     "name": "stdout",
     "output_type": "stream",
     "text": [
      "Accuracy of the network on the 10000 test images: 37 %\n"
     ]
    },
    {
     "name": "stderr",
     "output_type": "stream",
     "text": [
      "100%|██████████| 10/10 [04:37<00:00, 27.80s/it]"
     ]
    },
    {
     "name": "stdout",
     "output_type": "stream",
     "text": [
      "Accuracy of the network on the 10000 test images: 45 %\n"
     ]
    },
    {
     "name": "stderr",
     "output_type": "stream",
     "text": [
      "\n",
      "1360it [07:31,  3.01it/s]\n",
      "  0%|          | 0/10 [00:00<?, ?it/s]"
     ]
    },
    {
     "name": "stdout",
     "output_type": "stream",
     "text": [
      "epoch: 5 67  batch\n",
      "Accuracy of     0 : 24 %\n",
      "Accuracy of     1 : 42 %\n",
      "Accuracy of     2 : 25 %\n",
      "Accuracy of     3 : 49 %\n",
      "Accuracy of     4 : 37 %\n",
      "Accuracy of     5 : 34 %\n",
      "Accuracy of     6 : 62 %\n",
      "Accuracy of     7 : 60 %\n",
      "Accuracy of     8 : 55 %\n",
      "Accuracy of     9 : 50 %\n",
      "Accuracy of    10 : 90 %\n",
      "Accuracy of    11 : 90 %\n",
      "Accuracy of    12 : 39 %\n",
      "Accuracy of    13 : 53 %\n",
      "Accuracy of    14 : 41 %\n",
      "Accuracy of    15 : 18 %\n",
      "Accuracy of    16 : 51 %\n",
      "Accuracy of    17 : 31 %\n",
      "Accuracy of    18 : 65 %\n",
      "Accuracy of    19 : 48 %\n",
      "Accuracy of    20 : 48 %\n",
      "Accuracy of    21 : 58 %\n",
      "Accuracy of    22 : 47 %\n",
      "Accuracy of    23 : 60 %\n",
      "Accuracy of    24 : 43 %\n",
      "Accuracy of    25 : 63 %\n",
      "Accuracy of    26 : 49 %\n",
      "Accuracy of    27 : 46 %\n",
      "Accuracy of    28 : 23 %\n",
      "Accuracy of    29 : 63 %\n",
      "Accuracy of    30 : 26 %\n",
      "Accuracy of    31 : 27 %\n",
      "Accuracy of    32 : 50 %\n",
      "Accuracy of    33 : 33 %\n",
      "Accuracy of    34 : 67 %\n",
      "Accuracy of    35 : 61 %\n",
      "Accuracy of    36 : 86 %\n",
      "Accuracy of    37 : 76 %\n",
      "Accuracy of    38 : 63 %\n",
      "Accuracy of    39 : 68 %\n",
      "Accuracy of    40 : 53 %\n",
      "Accuracy of    41 : 36 %\n",
      "Accuracy of    42 : 28 %\n",
      "Accuracy of    43 : 42 %\n",
      "Accuracy of    44 : 57 %\n",
      "Accuracy of    45 : 49 %\n",
      "Accuracy of    46 : 36 %\n",
      "Accuracy of    47 : 55 %\n",
      "Accuracy of    48 : 51 %\n",
      "Accuracy of    49 : 75 %\n",
      "Accuracy of    50 : 51 %\n",
      "Accuracy of    51 : 51 %\n",
      "Accuracy of    52 : 31 %\n",
      "Accuracy of    53 : 68 %\n",
      "Accuracy of    54 : 48 %\n",
      "Accuracy of    55 : 38 %\n",
      "Accuracy of    56 : 41 %\n",
      "Accuracy of    57 : 53 %\n",
      "epoch: 6/20 | step: 58/1360 | trn loss: 1.1555 | val loss: 3.3254\n",
      "Accuracy of the network on the 10000 test images: 39 %\n"
     ]
    },
    {
     "name": "stderr",
     "output_type": "stream",
     "text": [
      "\r",
      " 10%|█         | 1/10 [00:27<04:08, 27.66s/it]"
     ]
    },
    {
     "name": "stdout",
     "output_type": "stream",
     "text": [
      "Accuracy of the network on the 10000 test images: 10 %\n"
     ]
    },
    {
     "name": "stderr",
     "output_type": "stream",
     "text": [
      "\r",
      " 20%|██        | 2/10 [00:55<03:41, 27.73s/it]"
     ]
    },
    {
     "name": "stdout",
     "output_type": "stream",
     "text": [
      "Accuracy of the network on the 10000 test images: 11 %\n"
     ]
    },
    {
     "name": "stderr",
     "output_type": "stream",
     "text": [
      "\r",
      " 30%|███       | 3/10 [01:23<03:14, 27.75s/it]"
     ]
    },
    {
     "name": "stdout",
     "output_type": "stream",
     "text": [
      "Accuracy of the network on the 10000 test images: 11 %\n"
     ]
    },
    {
     "name": "stderr",
     "output_type": "stream",
     "text": [
      "\r",
      " 40%|████      | 4/10 [01:50<02:45, 27.66s/it]"
     ]
    },
    {
     "name": "stdout",
     "output_type": "stream",
     "text": [
      "Accuracy of the network on the 10000 test images: 12 %\n"
     ]
    },
    {
     "name": "stderr",
     "output_type": "stream",
     "text": [
      "\r",
      " 50%|█████     | 5/10 [02:18<02:17, 27.57s/it]"
     ]
    },
    {
     "name": "stdout",
     "output_type": "stream",
     "text": [
      "Accuracy of the network on the 10000 test images: 14 %\n"
     ]
    },
    {
     "name": "stderr",
     "output_type": "stream",
     "text": [
      "\r",
      " 60%|██████    | 6/10 [02:45<01:49, 27.43s/it]"
     ]
    },
    {
     "name": "stdout",
     "output_type": "stream",
     "text": [
      "Accuracy of the network on the 10000 test images: 17 %\n"
     ]
    },
    {
     "name": "stderr",
     "output_type": "stream",
     "text": [
      "\r",
      " 70%|███████   | 7/10 [03:12<01:22, 27.45s/it]"
     ]
    },
    {
     "name": "stdout",
     "output_type": "stream",
     "text": [
      "Accuracy of the network on the 10000 test images: 21 %\n"
     ]
    },
    {
     "name": "stderr",
     "output_type": "stream",
     "text": [
      "\r",
      " 80%|████████  | 8/10 [03:40<00:55, 27.50s/it]"
     ]
    },
    {
     "name": "stdout",
     "output_type": "stream",
     "text": [
      "Accuracy of the network on the 10000 test images: 26 %\n"
     ]
    },
    {
     "name": "stderr",
     "output_type": "stream",
     "text": [
      "\r",
      " 90%|█████████ | 9/10 [04:07<00:27, 27.32s/it]"
     ]
    },
    {
     "name": "stdout",
     "output_type": "stream",
     "text": [
      "Accuracy of the network on the 10000 test images: 34 %\n"
     ]
    },
    {
     "name": "stderr",
     "output_type": "stream",
     "text": [
      "100%|██████████| 10/10 [04:34<00:00, 27.47s/it]"
     ]
    },
    {
     "name": "stdout",
     "output_type": "stream",
     "text": [
      "Accuracy of the network on the 10000 test images: 39 %\n"
     ]
    },
    {
     "name": "stderr",
     "output_type": "stream",
     "text": [
      "\n",
      "1360it [07:21,  3.08it/s]\n",
      "  0%|          | 0/10 [00:00<?, ?it/s]"
     ]
    },
    {
     "name": "stdout",
     "output_type": "stream",
     "text": [
      "epoch: 6 67  batch\n",
      "Accuracy of     0 : 48 %\n",
      "Accuracy of     1 : 27 %\n",
      "Accuracy of     2 : 33 %\n",
      "Accuracy of     3 : 34 %\n",
      "Accuracy of     4 : 43 %\n",
      "Accuracy of     5 : 43 %\n",
      "Accuracy of     6 : 48 %\n",
      "Accuracy of     7 : 57 %\n",
      "Accuracy of     8 : 45 %\n",
      "Accuracy of     9 : 61 %\n",
      "Accuracy of    10 : 83 %\n",
      "Accuracy of    11 : 85 %\n",
      "Accuracy of    12 : 47 %\n",
      "Accuracy of    13 : 60 %\n",
      "Accuracy of    14 : 49 %\n",
      "Accuracy of    15 : 11 %\n",
      "Accuracy of    16 : 35 %\n",
      "Accuracy of    17 : 21 %\n",
      "Accuracy of    18 : 36 %\n",
      "Accuracy of    19 : 59 %\n",
      "Accuracy of    20 : 68 %\n",
      "Accuracy of    21 : 53 %\n",
      "Accuracy of    22 : 59 %\n",
      "Accuracy of    23 : 41 %\n",
      "Accuracy of    24 : 46 %\n",
      "Accuracy of    25 : 41 %\n",
      "Accuracy of    26 : 52 %\n",
      "Accuracy of    27 : 26 %\n",
      "Accuracy of    28 : 13 %\n",
      "Accuracy of    29 : 77 %\n",
      "Accuracy of    30 : 45 %\n",
      "Accuracy of    31 : 50 %\n",
      "Accuracy of    32 : 67 %\n",
      "Accuracy of    33 : 52 %\n",
      "Accuracy of    34 : 37 %\n",
      "Accuracy of    35 : 50 %\n",
      "Accuracy of    36 : 80 %\n",
      "Accuracy of    37 : 64 %\n",
      "Accuracy of    38 : 54 %\n",
      "Accuracy of    39 : 63 %\n",
      "Accuracy of    40 : 34 %\n",
      "Accuracy of    41 : 41 %\n",
      "Accuracy of    42 : 27 %\n",
      "Accuracy of    43 : 37 %\n",
      "Accuracy of    44 : 59 %\n",
      "Accuracy of    45 : 53 %\n",
      "Accuracy of    46 : 42 %\n",
      "Accuracy of    47 : 78 %\n",
      "Accuracy of    48 : 63 %\n",
      "Accuracy of    49 : 82 %\n",
      "Accuracy of    50 : 49 %\n",
      "Accuracy of    51 : 55 %\n",
      "Accuracy of    52 : 45 %\n",
      "Accuracy of    53 : 60 %\n",
      "Accuracy of    54 : 58 %\n",
      "Accuracy of    55 : 35 %\n",
      "Accuracy of    56 : 58 %\n",
      "Accuracy of    57 : 63 %\n",
      "epoch: 7/20 | step: 58/1360 | trn loss: 1.0170 | val loss: 2.6559\n",
      "Accuracy of the network on the 10000 test images: 48 %\n"
     ]
    },
    {
     "name": "stderr",
     "output_type": "stream",
     "text": [
      "\r",
      " 10%|█         | 1/10 [00:27<04:10, 27.82s/it]"
     ]
    },
    {
     "name": "stdout",
     "output_type": "stream",
     "text": [
      "Accuracy of the network on the 10000 test images: 12 %\n"
     ]
    },
    {
     "name": "stderr",
     "output_type": "stream",
     "text": [
      "\r",
      " 20%|██        | 2/10 [00:56<03:43, 27.93s/it]"
     ]
    },
    {
     "name": "stdout",
     "output_type": "stream",
     "text": [
      "Accuracy of the network on the 10000 test images: 12 %\n"
     ]
    },
    {
     "name": "stderr",
     "output_type": "stream",
     "text": [
      "\r",
      " 30%|███       | 3/10 [01:23<03:15, 27.94s/it]"
     ]
    },
    {
     "name": "stdout",
     "output_type": "stream",
     "text": [
      "Accuracy of the network on the 10000 test images: 13 %\n"
     ]
    },
    {
     "name": "stderr",
     "output_type": "stream",
     "text": [
      "\r",
      " 40%|████      | 4/10 [01:51<02:46, 27.73s/it]"
     ]
    },
    {
     "name": "stdout",
     "output_type": "stream",
     "text": [
      "Accuracy of the network on the 10000 test images: 14 %\n"
     ]
    },
    {
     "name": "stderr",
     "output_type": "stream",
     "text": [
      "\r",
      " 50%|█████     | 5/10 [02:19<02:19, 27.88s/it]"
     ]
    },
    {
     "name": "stdout",
     "output_type": "stream",
     "text": [
      "Accuracy of the network on the 10000 test images: 17 %\n"
     ]
    },
    {
     "name": "stderr",
     "output_type": "stream",
     "text": [
      "\r",
      " 60%|██████    | 6/10 [02:47<01:51, 27.90s/it]"
     ]
    },
    {
     "name": "stdout",
     "output_type": "stream",
     "text": [
      "Accuracy of the network on the 10000 test images: 20 %\n"
     ]
    },
    {
     "name": "stderr",
     "output_type": "stream",
     "text": [
      "\r",
      " 70%|███████   | 7/10 [03:14<01:23, 27.78s/it]"
     ]
    },
    {
     "name": "stdout",
     "output_type": "stream",
     "text": [
      "Accuracy of the network on the 10000 test images: 25 %\n"
     ]
    },
    {
     "name": "stderr",
     "output_type": "stream",
     "text": [
      "\r",
      " 80%|████████  | 8/10 [03:41<00:55, 27.57s/it]"
     ]
    },
    {
     "name": "stdout",
     "output_type": "stream",
     "text": [
      "Accuracy of the network on the 10000 test images: 31 %\n"
     ]
    },
    {
     "name": "stderr",
     "output_type": "stream",
     "text": [
      "\r",
      " 90%|█████████ | 9/10 [04:10<00:27, 27.75s/it]"
     ]
    },
    {
     "name": "stdout",
     "output_type": "stream",
     "text": [
      "Accuracy of the network on the 10000 test images: 40 %\n"
     ]
    },
    {
     "name": "stderr",
     "output_type": "stream",
     "text": [
      "100%|██████████| 10/10 [04:37<00:00, 27.75s/it]"
     ]
    },
    {
     "name": "stdout",
     "output_type": "stream",
     "text": [
      "Accuracy of the network on the 10000 test images: 48 %\n"
     ]
    },
    {
     "name": "stderr",
     "output_type": "stream",
     "text": [
      "\n",
      "1360it [07:33,  3.00it/s]\n",
      "  0%|          | 0/10 [00:00<?, ?it/s]"
     ]
    },
    {
     "name": "stdout",
     "output_type": "stream",
     "text": [
      "epoch: 7 67  batch\n",
      "Accuracy of     0 : 44 %\n",
      "Accuracy of     1 : 33 %\n",
      "Accuracy of     2 : 35 %\n",
      "Accuracy of     3 : 59 %\n",
      "Accuracy of     4 : 48 %\n",
      "Accuracy of     5 : 58 %\n",
      "Accuracy of     6 : 50 %\n",
      "Accuracy of     7 : 49 %\n",
      "Accuracy of     8 : 52 %\n",
      "Accuracy of     9 : 55 %\n",
      "Accuracy of    10 : 92 %\n",
      "Accuracy of    11 : 87 %\n",
      "Accuracy of    12 : 30 %\n",
      "Accuracy of    13 : 57 %\n",
      "Accuracy of    14 : 34 %\n",
      "Accuracy of    15 : 44 %\n",
      "Accuracy of    16 : 45 %\n",
      "Accuracy of    17 : 29 %\n",
      "Accuracy of    18 : 62 %\n",
      "Accuracy of    19 : 47 %\n",
      "Accuracy of    20 : 73 %\n",
      "Accuracy of    21 : 62 %\n",
      "Accuracy of    22 : 56 %\n",
      "Accuracy of    23 : 62 %\n",
      "Accuracy of    24 : 50 %\n",
      "Accuracy of    25 : 62 %\n",
      "Accuracy of    26 : 43 %\n",
      "Accuracy of    27 : 41 %\n",
      "Accuracy of    28 : 23 %\n",
      "Accuracy of    29 : 67 %\n",
      "Accuracy of    30 : 30 %\n",
      "Accuracy of    31 : 46 %\n",
      "Accuracy of    32 : 76 %\n",
      "Accuracy of    33 : 37 %\n",
      "Accuracy of    34 : 50 %\n",
      "Accuracy of    35 : 62 %\n",
      "Accuracy of    36 : 95 %\n",
      "Accuracy of    37 : 70 %\n",
      "Accuracy of    38 : 60 %\n",
      "Accuracy of    39 : 57 %\n",
      "Accuracy of    40 : 59 %\n",
      "Accuracy of    41 : 46 %\n",
      "Accuracy of    42 : 56 %\n",
      "Accuracy of    43 : 64 %\n",
      "Accuracy of    44 : 70 %\n",
      "Accuracy of    45 : 31 %\n",
      "Accuracy of    46 : 38 %\n",
      "Accuracy of    47 : 64 %\n",
      "Accuracy of    48 : 70 %\n",
      "Accuracy of    49 : 75 %\n",
      "Accuracy of    50 : 53 %\n",
      "Accuracy of    51 : 58 %\n",
      "Accuracy of    52 : 57 %\n",
      "Accuracy of    53 : 55 %\n",
      "Accuracy of    54 : 65 %\n",
      "Accuracy of    55 : 29 %\n",
      "Accuracy of    56 : 68 %\n",
      "Accuracy of    57 : 59 %\n",
      "epoch: 8/20 | step: 58/1360 | trn loss: 0.8870 | val loss: 2.0841\n",
      "Accuracy of the network on the 10000 test images: 49 %\n"
     ]
    },
    {
     "name": "stderr",
     "output_type": "stream",
     "text": [
      "\r",
      " 10%|█         | 1/10 [00:28<04:14, 28.26s/it]"
     ]
    },
    {
     "name": "stdout",
     "output_type": "stream",
     "text": [
      "Accuracy of the network on the 10000 test images: 14 %\n"
     ]
    },
    {
     "name": "stderr",
     "output_type": "stream",
     "text": [
      "\r",
      " 20%|██        | 2/10 [00:56<03:46, 28.29s/it]"
     ]
    },
    {
     "name": "stdout",
     "output_type": "stream",
     "text": [
      "Accuracy of the network on the 10000 test images: 14 %\n"
     ]
    },
    {
     "name": "stderr",
     "output_type": "stream",
     "text": [
      "\r",
      " 30%|███       | 3/10 [01:24<03:17, 28.20s/it]"
     ]
    },
    {
     "name": "stdout",
     "output_type": "stream",
     "text": [
      "Accuracy of the network on the 10000 test images: 15 %\n"
     ]
    },
    {
     "name": "stderr",
     "output_type": "stream",
     "text": [
      "\r",
      " 40%|████      | 4/10 [01:52<02:49, 28.19s/it]"
     ]
    },
    {
     "name": "stdout",
     "output_type": "stream",
     "text": [
      "Accuracy of the network on the 10000 test images: 16 %\n"
     ]
    },
    {
     "name": "stderr",
     "output_type": "stream",
     "text": [
      "\r",
      " 50%|█████     | 5/10 [02:20<02:20, 28.05s/it]"
     ]
    },
    {
     "name": "stdout",
     "output_type": "stream",
     "text": [
      "Accuracy of the network on the 10000 test images: 19 %\n"
     ]
    },
    {
     "name": "stderr",
     "output_type": "stream",
     "text": [
      "\r",
      " 60%|██████    | 6/10 [02:48<01:52, 28.06s/it]"
     ]
    },
    {
     "name": "stdout",
     "output_type": "stream",
     "text": [
      "Accuracy of the network on the 10000 test images: 22 %\n"
     ]
    },
    {
     "name": "stderr",
     "output_type": "stream",
     "text": [
      "\r",
      " 70%|███████   | 7/10 [03:16<01:24, 28.13s/it]"
     ]
    },
    {
     "name": "stdout",
     "output_type": "stream",
     "text": [
      "Accuracy of the network on the 10000 test images: 27 %\n"
     ]
    },
    {
     "name": "stderr",
     "output_type": "stream",
     "text": [
      "\r",
      " 80%|████████  | 8/10 [03:44<00:56, 28.12s/it]"
     ]
    },
    {
     "name": "stdout",
     "output_type": "stream",
     "text": [
      "Accuracy of the network on the 10000 test images: 33 %\n"
     ]
    },
    {
     "name": "stderr",
     "output_type": "stream",
     "text": [
      "\r",
      " 90%|█████████ | 9/10 [04:12<00:28, 28.03s/it]"
     ]
    },
    {
     "name": "stdout",
     "output_type": "stream",
     "text": [
      "Accuracy of the network on the 10000 test images: 42 %\n"
     ]
    },
    {
     "name": "stderr",
     "output_type": "stream",
     "text": [
      "100%|██████████| 10/10 [04:40<00:00, 28.08s/it]"
     ]
    },
    {
     "name": "stdout",
     "output_type": "stream",
     "text": [
      "Accuracy of the network on the 10000 test images: 49 %\n"
     ]
    },
    {
     "name": "stderr",
     "output_type": "stream",
     "text": [
      "\n",
      "1360it [07:27,  3.04it/s]\n",
      "  0%|          | 0/10 [00:00<?, ?it/s]"
     ]
    },
    {
     "name": "stdout",
     "output_type": "stream",
     "text": [
      "epoch: 8 67  batch\n",
      "Accuracy of     0 : 47 %\n",
      "Accuracy of     1 : 47 %\n",
      "Accuracy of     2 : 33 %\n",
      "Accuracy of     3 : 52 %\n",
      "Accuracy of     4 : 43 %\n",
      "Accuracy of     5 : 59 %\n",
      "Accuracy of     6 : 66 %\n",
      "Accuracy of     7 : 71 %\n",
      "Accuracy of     8 : 39 %\n",
      "Accuracy of     9 : 84 %\n",
      "Accuracy of    10 : 92 %\n",
      "Accuracy of    11 : 89 %\n",
      "Accuracy of    12 : 34 %\n",
      "Accuracy of    13 : 63 %\n",
      "Accuracy of    14 : 46 %\n",
      "Accuracy of    15 : 37 %\n",
      "Accuracy of    16 : 48 %\n",
      "Accuracy of    17 : 48 %\n",
      "Accuracy of    18 : 66 %\n",
      "Accuracy of    19 : 47 %\n",
      "Accuracy of    20 : 59 %\n",
      "Accuracy of    21 : 63 %\n",
      "Accuracy of    22 : 54 %\n",
      "Accuracy of    23 : 60 %\n",
      "Accuracy of    24 : 61 %\n",
      "Accuracy of    25 : 52 %\n",
      "Accuracy of    26 : 50 %\n",
      "Accuracy of    27 : 40 %\n",
      "Accuracy of    28 : 14 %\n",
      "Accuracy of    29 : 72 %\n",
      "Accuracy of    30 : 33 %\n",
      "Accuracy of    31 : 49 %\n",
      "Accuracy of    32 : 50 %\n",
      "Accuracy of    33 : 55 %\n",
      "Accuracy of    34 : 46 %\n",
      "Accuracy of    35 : 54 %\n",
      "Accuracy of    36 : 92 %\n",
      "Accuracy of    37 : 68 %\n",
      "Accuracy of    38 : 61 %\n",
      "Accuracy of    39 : 64 %\n",
      "Accuracy of    40 : 73 %\n",
      "Accuracy of    41 : 36 %\n",
      "Accuracy of    42 : 31 %\n",
      "Accuracy of    43 : 56 %\n",
      "Accuracy of    44 : 68 %\n",
      "Accuracy of    45 : 58 %\n",
      "Accuracy of    46 : 46 %\n",
      "Accuracy of    47 : 74 %\n",
      "Accuracy of    48 : 76 %\n",
      "Accuracy of    49 : 78 %\n",
      "Accuracy of    50 : 58 %\n",
      "Accuracy of    51 : 46 %\n",
      "Accuracy of    52 : 51 %\n",
      "Accuracy of    53 : 62 %\n",
      "Accuracy of    54 : 67 %\n",
      "Accuracy of    55 : 42 %\n",
      "Accuracy of    56 : 69 %\n",
      "Accuracy of    57 : 56 %\n",
      "epoch: 9/20 | step: 58/1360 | trn loss: 0.7227 | val loss: 1.8708\n",
      "Accuracy of the network on the 10000 test images: 51 %\n"
     ]
    },
    {
     "name": "stderr",
     "output_type": "stream",
     "text": [
      "\r",
      " 10%|█         | 1/10 [00:28<04:15, 28.38s/it]"
     ]
    },
    {
     "name": "stdout",
     "output_type": "stream",
     "text": [
      "Accuracy of the network on the 10000 test images: 16 %\n"
     ]
    },
    {
     "name": "stderr",
     "output_type": "stream",
     "text": [
      "\r",
      " 20%|██        | 2/10 [00:56<03:46, 28.34s/it]"
     ]
    },
    {
     "name": "stdout",
     "output_type": "stream",
     "text": [
      "Accuracy of the network on the 10000 test images: 17 %\n"
     ]
    },
    {
     "name": "stderr",
     "output_type": "stream",
     "text": [
      "\r",
      " 30%|███       | 3/10 [01:24<03:18, 28.29s/it]"
     ]
    },
    {
     "name": "stdout",
     "output_type": "stream",
     "text": [
      "Accuracy of the network on the 10000 test images: 17 %\n"
     ]
    },
    {
     "name": "stderr",
     "output_type": "stream",
     "text": [
      "\r",
      " 40%|████      | 4/10 [01:52<02:49, 28.23s/it]"
     ]
    },
    {
     "name": "stdout",
     "output_type": "stream",
     "text": [
      "Accuracy of the network on the 10000 test images: 19 %\n"
     ]
    },
    {
     "name": "stderr",
     "output_type": "stream",
     "text": [
      "\r",
      " 50%|█████     | 5/10 [02:20<02:20, 28.14s/it]"
     ]
    },
    {
     "name": "stdout",
     "output_type": "stream",
     "text": [
      "Accuracy of the network on the 10000 test images: 21 %\n"
     ]
    },
    {
     "name": "stderr",
     "output_type": "stream",
     "text": [
      "\r",
      " 60%|██████    | 6/10 [02:48<01:51, 27.99s/it]"
     ]
    },
    {
     "name": "stdout",
     "output_type": "stream",
     "text": [
      "Accuracy of the network on the 10000 test images: 24 %\n"
     ]
    },
    {
     "name": "stderr",
     "output_type": "stream",
     "text": [
      "\r",
      " 70%|███████   | 7/10 [03:15<01:23, 27.85s/it]"
     ]
    },
    {
     "name": "stdout",
     "output_type": "stream",
     "text": [
      "Accuracy of the network on the 10000 test images: 28 %\n"
     ]
    },
    {
     "name": "stderr",
     "output_type": "stream",
     "text": [
      "\r",
      " 80%|████████  | 8/10 [03:43<00:55, 27.82s/it]"
     ]
    },
    {
     "name": "stdout",
     "output_type": "stream",
     "text": [
      "Accuracy of the network on the 10000 test images: 34 %\n"
     ]
    },
    {
     "name": "stderr",
     "output_type": "stream",
     "text": [
      "\r",
      " 90%|█████████ | 9/10 [04:11<00:27, 27.77s/it]"
     ]
    },
    {
     "name": "stdout",
     "output_type": "stream",
     "text": [
      "Accuracy of the network on the 10000 test images: 44 %\n"
     ]
    },
    {
     "name": "stderr",
     "output_type": "stream",
     "text": [
      "100%|██████████| 10/10 [04:38<00:00, 27.83s/it]"
     ]
    },
    {
     "name": "stdout",
     "output_type": "stream",
     "text": [
      "Accuracy of the network on the 10000 test images: 51 %\n"
     ]
    },
    {
     "name": "stderr",
     "output_type": "stream",
     "text": [
      "\n",
      "1360it [07:28,  3.03it/s]\n",
      "  0%|          | 0/10 [00:00<?, ?it/s]"
     ]
    },
    {
     "name": "stdout",
     "output_type": "stream",
     "text": [
      "epoch: 9 67  batch\n",
      "Accuracy of     0 : 28 %\n",
      "Accuracy of     1 : 44 %\n",
      "Accuracy of     2 : 36 %\n",
      "Accuracy of     3 : 56 %\n",
      "Accuracy of     4 : 41 %\n",
      "Accuracy of     5 : 71 %\n",
      "Accuracy of     6 : 62 %\n",
      "Accuracy of     7 : 45 %\n",
      "Accuracy of     8 : 49 %\n",
      "Accuracy of     9 : 48 %\n",
      "Accuracy of    10 : 80 %\n",
      "Accuracy of    11 : 87 %\n",
      "Accuracy of    12 : 54 %\n",
      "Accuracy of    13 : 57 %\n",
      "Accuracy of    14 : 39 %\n",
      "Accuracy of    15 : 29 %\n",
      "Accuracy of    16 : 41 %\n",
      "Accuracy of    17 : 33 %\n",
      "Accuracy of    18 : 64 %\n",
      "Accuracy of    19 : 46 %\n",
      "Accuracy of    20 : 72 %\n",
      "Accuracy of    21 : 66 %\n",
      "Accuracy of    22 : 63 %\n",
      "Accuracy of    23 : 54 %\n",
      "Accuracy of    24 : 45 %\n",
      "Accuracy of    25 : 55 %\n",
      "Accuracy of    26 : 62 %\n",
      "Accuracy of    27 : 41 %\n",
      "Accuracy of    28 : 28 %\n",
      "Accuracy of    29 : 82 %\n",
      "Accuracy of    30 : 33 %\n",
      "Accuracy of    31 : 46 %\n",
      "Accuracy of    32 : 66 %\n",
      "Accuracy of    33 : 39 %\n",
      "Accuracy of    34 : 62 %\n",
      "Accuracy of    35 : 69 %\n",
      "Accuracy of    36 : 89 %\n",
      "Accuracy of    37 : 75 %\n",
      "Accuracy of    38 : 62 %\n",
      "Accuracy of    39 : 54 %\n",
      "Accuracy of    40 : 60 %\n",
      "Accuracy of    41 : 39 %\n",
      "Accuracy of    42 : 24 %\n",
      "Accuracy of    43 : 38 %\n",
      "Accuracy of    44 : 66 %\n",
      "Accuracy of    45 : 48 %\n",
      "Accuracy of    46 : 28 %\n",
      "Accuracy of    47 : 63 %\n",
      "Accuracy of    48 : 47 %\n",
      "Accuracy of    49 : 69 %\n",
      "Accuracy of    50 : 61 %\n",
      "Accuracy of    51 : 58 %\n",
      "Accuracy of    52 : 60 %\n",
      "Accuracy of    53 : 59 %\n",
      "Accuracy of    54 : 51 %\n",
      "Accuracy of    55 : 38 %\n",
      "Accuracy of    56 : 57 %\n",
      "Accuracy of    57 : 66 %\n",
      "epoch: 10/20 | step: 58/1360 | trn loss: 0.5616 | val loss: 2.5257\n",
      "Accuracy of the network on the 10000 test images: 43 %\n"
     ]
    },
    {
     "name": "stderr",
     "output_type": "stream",
     "text": [
      "\r",
      " 10%|█         | 1/10 [00:28<04:12, 28.09s/it]"
     ]
    },
    {
     "name": "stdout",
     "output_type": "stream",
     "text": [
      "Accuracy of the network on the 10000 test images: 10 %\n"
     ]
    },
    {
     "name": "stderr",
     "output_type": "stream",
     "text": [
      "\r",
      " 20%|██        | 2/10 [00:56<03:45, 28.16s/it]"
     ]
    },
    {
     "name": "stdout",
     "output_type": "stream",
     "text": [
      "Accuracy of the network on the 10000 test images: 11 %\n"
     ]
    },
    {
     "name": "stderr",
     "output_type": "stream",
     "text": [
      "\r",
      " 30%|███       | 3/10 [01:24<03:16, 28.07s/it]"
     ]
    },
    {
     "name": "stdout",
     "output_type": "stream",
     "text": [
      "Accuracy of the network on the 10000 test images: 11 %\n"
     ]
    },
    {
     "name": "stderr",
     "output_type": "stream",
     "text": [
      "\r",
      " 40%|████      | 4/10 [01:52<02:48, 28.11s/it]"
     ]
    },
    {
     "name": "stdout",
     "output_type": "stream",
     "text": [
      "Accuracy of the network on the 10000 test images: 12 %\n"
     ]
    },
    {
     "name": "stderr",
     "output_type": "stream",
     "text": [
      "\r",
      " 50%|█████     | 5/10 [02:20<02:20, 28.13s/it]"
     ]
    },
    {
     "name": "stdout",
     "output_type": "stream",
     "text": [
      "Accuracy of the network on the 10000 test images: 15 %\n"
     ]
    },
    {
     "name": "stderr",
     "output_type": "stream",
     "text": [
      "\r",
      " 60%|██████    | 6/10 [02:48<01:52, 28.16s/it]"
     ]
    },
    {
     "name": "stdout",
     "output_type": "stream",
     "text": [
      "Accuracy of the network on the 10000 test images: 17 %\n"
     ]
    },
    {
     "name": "stderr",
     "output_type": "stream",
     "text": [
      "\r",
      " 70%|███████   | 7/10 [03:16<01:24, 28.13s/it]"
     ]
    },
    {
     "name": "stdout",
     "output_type": "stream",
     "text": [
      "Accuracy of the network on the 10000 test images: 21 %\n"
     ]
    },
    {
     "name": "stderr",
     "output_type": "stream",
     "text": [
      "\r",
      " 80%|████████  | 8/10 [03:44<00:56, 28.07s/it]"
     ]
    },
    {
     "name": "stdout",
     "output_type": "stream",
     "text": [
      "Accuracy of the network on the 10000 test images: 26 %\n"
     ]
    },
    {
     "name": "stderr",
     "output_type": "stream",
     "text": [
      "\r",
      " 90%|█████████ | 9/10 [04:12<00:27, 27.97s/it]"
     ]
    },
    {
     "name": "stdout",
     "output_type": "stream",
     "text": [
      "Accuracy of the network on the 10000 test images: 34 %\n"
     ]
    },
    {
     "name": "stderr",
     "output_type": "stream",
     "text": [
      "100%|██████████| 10/10 [04:40<00:00, 28.02s/it]"
     ]
    },
    {
     "name": "stdout",
     "output_type": "stream",
     "text": [
      "Accuracy of the network on the 10000 test images: 43 %\n"
     ]
    },
    {
     "name": "stderr",
     "output_type": "stream",
     "text": [
      "\n",
      "1360it [07:11,  3.15it/s]\n",
      "  0%|          | 0/10 [00:00<?, ?it/s]"
     ]
    },
    {
     "name": "stdout",
     "output_type": "stream",
     "text": [
      "epoch: 10 67  batch\n",
      "Accuracy of     0 : 36 %\n",
      "Accuracy of     1 : 57 %\n",
      "Accuracy of     2 : 46 %\n",
      "Accuracy of     3 : 57 %\n",
      "Accuracy of     4 : 55 %\n",
      "Accuracy of     5 : 62 %\n",
      "Accuracy of     6 : 62 %\n",
      "Accuracy of     7 : 57 %\n",
      "Accuracy of     8 : 36 %\n",
      "Accuracy of     9 : 76 %\n",
      "Accuracy of    10 : 92 %\n",
      "Accuracy of    11 : 87 %\n",
      "Accuracy of    12 : 51 %\n",
      "Accuracy of    13 : 54 %\n",
      "Accuracy of    14 : 36 %\n",
      "Accuracy of    15 : 22 %\n",
      "Accuracy of    16 : 48 %\n",
      "Accuracy of    17 : 46 %\n",
      "Accuracy of    18 : 64 %\n",
      "Accuracy of    19 : 58 %\n",
      "Accuracy of    20 : 71 %\n",
      "Accuracy of    21 : 68 %\n",
      "Accuracy of    22 : 55 %\n",
      "Accuracy of    23 : 67 %\n",
      "Accuracy of    24 : 57 %\n",
      "Accuracy of    25 : 57 %\n",
      "Accuracy of    26 : 40 %\n",
      "Accuracy of    27 : 37 %\n",
      "Accuracy of    28 : 21 %\n",
      "Accuracy of    29 : 72 %\n",
      "Accuracy of    30 : 35 %\n",
      "Accuracy of    31 : 53 %\n",
      "Accuracy of    32 : 67 %\n",
      "Accuracy of    33 : 52 %\n",
      "Accuracy of    34 : 49 %\n",
      "Accuracy of    35 : 59 %\n",
      "Accuracy of    36 : 90 %\n",
      "Accuracy of    37 : 77 %\n",
      "Accuracy of    38 : 66 %\n",
      "Accuracy of    39 : 72 %\n",
      "Accuracy of    40 : 63 %\n",
      "Accuracy of    41 : 38 %\n",
      "Accuracy of    42 : 32 %\n",
      "Accuracy of    43 : 37 %\n",
      "Accuracy of    44 : 64 %\n",
      "Accuracy of    45 : 60 %\n",
      "Accuracy of    46 : 49 %\n",
      "Accuracy of    47 : 65 %\n",
      "Accuracy of    48 : 68 %\n",
      "Accuracy of    49 : 71 %\n",
      "Accuracy of    50 : 57 %\n",
      "Accuracy of    51 : 57 %\n",
      "Accuracy of    52 : 55 %\n",
      "Accuracy of    53 : 56 %\n",
      "Accuracy of    54 : 64 %\n",
      "Accuracy of    55 : 42 %\n",
      "Accuracy of    56 : 63 %\n",
      "Accuracy of    57 : 48 %\n",
      "epoch: 11/20 | step: 58/1360 | trn loss: 0.4316 | val loss: 2.5761\n",
      "Accuracy of the network on the 10000 test images: 47 %\n"
     ]
    },
    {
     "name": "stderr",
     "output_type": "stream",
     "text": [
      "\r",
      " 10%|█         | 1/10 [00:27<04:09, 27.74s/it]"
     ]
    },
    {
     "name": "stdout",
     "output_type": "stream",
     "text": [
      "Accuracy of the network on the 10000 test images: 12 %\n"
     ]
    },
    {
     "name": "stderr",
     "output_type": "stream",
     "text": [
      "\r",
      " 20%|██        | 2/10 [00:54<03:40, 27.55s/it]"
     ]
    },
    {
     "name": "stdout",
     "output_type": "stream",
     "text": [
      "Accuracy of the network on the 10000 test images: 12 %\n"
     ]
    },
    {
     "name": "stderr",
     "output_type": "stream",
     "text": [
      "\r",
      " 30%|███       | 3/10 [01:22<03:12, 27.53s/it]"
     ]
    },
    {
     "name": "stdout",
     "output_type": "stream",
     "text": [
      "Accuracy of the network on the 10000 test images: 12 %\n"
     ]
    },
    {
     "name": "stderr",
     "output_type": "stream",
     "text": [
      "\r",
      " 40%|████      | 4/10 [01:49<02:45, 27.55s/it]"
     ]
    },
    {
     "name": "stdout",
     "output_type": "stream",
     "text": [
      "Accuracy of the network on the 10000 test images: 14 %\n"
     ]
    },
    {
     "name": "stderr",
     "output_type": "stream",
     "text": [
      "\r",
      " 50%|█████     | 5/10 [02:17<02:17, 27.57s/it]"
     ]
    },
    {
     "name": "stdout",
     "output_type": "stream",
     "text": [
      "Accuracy of the network on the 10000 test images: 15 %\n"
     ]
    },
    {
     "name": "stderr",
     "output_type": "stream",
     "text": [
      "\r",
      " 60%|██████    | 6/10 [02:45<01:50, 27.59s/it]"
     ]
    },
    {
     "name": "stdout",
     "output_type": "stream",
     "text": [
      "Accuracy of the network on the 10000 test images: 19 %\n"
     ]
    },
    {
     "name": "stderr",
     "output_type": "stream",
     "text": [
      "\r",
      " 70%|███████   | 7/10 [03:12<01:22, 27.58s/it]"
     ]
    },
    {
     "name": "stdout",
     "output_type": "stream",
     "text": [
      "Accuracy of the network on the 10000 test images: 22 %\n"
     ]
    },
    {
     "name": "stderr",
     "output_type": "stream",
     "text": [
      "\r",
      " 80%|████████  | 8/10 [03:40<00:55, 27.62s/it]"
     ]
    },
    {
     "name": "stdout",
     "output_type": "stream",
     "text": [
      "Accuracy of the network on the 10000 test images: 28 %\n"
     ]
    },
    {
     "name": "stderr",
     "output_type": "stream",
     "text": [
      "\r",
      " 90%|█████████ | 9/10 [04:08<00:27, 27.71s/it]"
     ]
    },
    {
     "name": "stdout",
     "output_type": "stream",
     "text": [
      "Accuracy of the network on the 10000 test images: 37 %\n"
     ]
    },
    {
     "name": "stderr",
     "output_type": "stream",
     "text": [
      "100%|██████████| 10/10 [04:36<00:00, 27.63s/it]"
     ]
    },
    {
     "name": "stdout",
     "output_type": "stream",
     "text": [
      "Accuracy of the network on the 10000 test images: 47 %\n"
     ]
    },
    {
     "name": "stderr",
     "output_type": "stream",
     "text": [
      "\n",
      "1360it [08:02,  2.82it/s]\n",
      "  0%|          | 0/10 [00:00<?, ?it/s]"
     ]
    },
    {
     "name": "stdout",
     "output_type": "stream",
     "text": [
      "epoch: 11 67  batch\n",
      "Accuracy of     0 : 57 %\n",
      "Accuracy of     1 : 52 %\n",
      "Accuracy of     2 : 40 %\n",
      "Accuracy of     3 : 61 %\n",
      "Accuracy of     4 : 57 %\n",
      "Accuracy of     5 : 59 %\n",
      "Accuracy of     6 : 53 %\n",
      "Accuracy of     7 : 63 %\n",
      "Accuracy of     8 : 41 %\n",
      "Accuracy of     9 : 85 %\n",
      "Accuracy of    10 : 95 %\n",
      "Accuracy of    11 : 86 %\n",
      "Accuracy of    12 : 39 %\n",
      "Accuracy of    13 : 62 %\n",
      "Accuracy of    14 : 46 %\n",
      "Accuracy of    15 : 33 %\n",
      "Accuracy of    16 : 51 %\n",
      "Accuracy of    17 : 31 %\n",
      "Accuracy of    18 : 59 %\n",
      "Accuracy of    19 : 50 %\n",
      "Accuracy of    20 : 45 %\n",
      "Accuracy of    21 : 52 %\n",
      "Accuracy of    22 : 54 %\n",
      "Accuracy of    23 : 68 %\n",
      "Accuracy of    24 : 51 %\n",
      "Accuracy of    25 : 63 %\n",
      "Accuracy of    26 : 40 %\n",
      "Accuracy of    27 : 60 %\n",
      "Accuracy of    28 : 15 %\n",
      "Accuracy of    29 : 65 %\n",
      "Accuracy of    30 : 38 %\n",
      "Accuracy of    31 : 48 %\n",
      "Accuracy of    32 : 49 %\n",
      "Accuracy of    33 : 64 %\n",
      "Accuracy of    34 : 58 %\n",
      "Accuracy of    35 : 62 %\n",
      "Accuracy of    36 : 90 %\n",
      "Accuracy of    37 : 59 %\n",
      "Accuracy of    38 : 69 %\n",
      "Accuracy of    39 : 66 %\n",
      "Accuracy of    40 : 61 %\n",
      "Accuracy of    41 : 29 %\n",
      "Accuracy of    42 : 26 %\n",
      "Accuracy of    43 : 46 %\n",
      "Accuracy of    44 : 56 %\n",
      "Accuracy of    45 : 39 %\n",
      "Accuracy of    46 : 28 %\n",
      "Accuracy of    47 : 63 %\n",
      "Accuracy of    48 : 73 %\n",
      "Accuracy of    49 : 77 %\n",
      "Accuracy of    50 : 58 %\n",
      "Accuracy of    51 : 54 %\n",
      "Accuracy of    52 : 53 %\n",
      "Accuracy of    53 : 60 %\n",
      "Accuracy of    54 : 53 %\n",
      "Accuracy of    55 : 36 %\n",
      "Accuracy of    56 : 65 %\n",
      "Accuracy of    57 : 62 %\n",
      "epoch: 12/20 | step: 58/1360 | trn loss: 0.3262 | val loss: 2.1914\n",
      "Accuracy of the network on the 10000 test images: 52 %\n"
     ]
    },
    {
     "name": "stderr",
     "output_type": "stream",
     "text": [
      "\r",
      " 10%|█         | 1/10 [00:27<04:07, 27.49s/it]"
     ]
    },
    {
     "name": "stdout",
     "output_type": "stream",
     "text": [
      "Accuracy of the network on the 10000 test images: 14 %\n"
     ]
    },
    {
     "name": "stderr",
     "output_type": "stream",
     "text": [
      "\r",
      " 20%|██        | 2/10 [00:54<03:39, 27.48s/it]"
     ]
    },
    {
     "name": "stdout",
     "output_type": "stream",
     "text": [
      "Accuracy of the network on the 10000 test images: 14 %\n"
     ]
    },
    {
     "name": "stderr",
     "output_type": "stream",
     "text": [
      "\r",
      " 30%|███       | 3/10 [01:22<03:12, 27.50s/it]"
     ]
    },
    {
     "name": "stdout",
     "output_type": "stream",
     "text": [
      "Accuracy of the network on the 10000 test images: 14 %\n"
     ]
    },
    {
     "name": "stderr",
     "output_type": "stream",
     "text": [
      "\r",
      " 40%|████      | 4/10 [01:49<02:44, 27.37s/it]"
     ]
    },
    {
     "name": "stdout",
     "output_type": "stream",
     "text": [
      "Accuracy of the network on the 10000 test images: 16 %\n"
     ]
    },
    {
     "name": "stderr",
     "output_type": "stream",
     "text": [
      "\r",
      " 50%|█████     | 5/10 [02:17<02:17, 27.58s/it]"
     ]
    },
    {
     "name": "stdout",
     "output_type": "stream",
     "text": [
      "Accuracy of the network on the 10000 test images: 18 %\n"
     ]
    },
    {
     "name": "stderr",
     "output_type": "stream",
     "text": [
      "\r",
      " 60%|██████    | 6/10 [02:45<01:51, 27.77s/it]"
     ]
    },
    {
     "name": "stdout",
     "output_type": "stream",
     "text": [
      "Accuracy of the network on the 10000 test images: 21 %\n"
     ]
    },
    {
     "name": "stderr",
     "output_type": "stream",
     "text": [
      "\r",
      " 70%|███████   | 7/10 [03:13<01:23, 27.83s/it]"
     ]
    },
    {
     "name": "stdout",
     "output_type": "stream",
     "text": [
      "Accuracy of the network on the 10000 test images: 25 %\n"
     ]
    },
    {
     "name": "stderr",
     "output_type": "stream",
     "text": [
      "\r",
      " 80%|████████  | 8/10 [03:41<00:55, 27.77s/it]"
     ]
    },
    {
     "name": "stdout",
     "output_type": "stream",
     "text": [
      "Accuracy of the network on the 10000 test images: 31 %\n"
     ]
    },
    {
     "name": "stderr",
     "output_type": "stream",
     "text": [
      "\r",
      " 90%|█████████ | 9/10 [04:09<00:27, 27.82s/it]"
     ]
    },
    {
     "name": "stdout",
     "output_type": "stream",
     "text": [
      "Accuracy of the network on the 10000 test images: 41 %\n"
     ]
    },
    {
     "name": "stderr",
     "output_type": "stream",
     "text": [
      "100%|██████████| 10/10 [04:36<00:00, 27.65s/it]"
     ]
    },
    {
     "name": "stdout",
     "output_type": "stream",
     "text": [
      "Accuracy of the network on the 10000 test images: 52 %\n"
     ]
    },
    {
     "name": "stderr",
     "output_type": "stream",
     "text": [
      "\n",
      "1360it [07:31,  3.01it/s]\n",
      "  0%|          | 0/10 [00:00<?, ?it/s]"
     ]
    },
    {
     "name": "stdout",
     "output_type": "stream",
     "text": [
      "epoch: 12 67  batch\n",
      "Accuracy of     0 : 57 %\n",
      "Accuracy of     1 : 34 %\n",
      "Accuracy of     2 : 36 %\n",
      "Accuracy of     3 : 67 %\n",
      "Accuracy of     4 : 43 %\n",
      "Accuracy of     5 : 59 %\n",
      "Accuracy of     6 : 52 %\n",
      "Accuracy of     7 : 76 %\n",
      "Accuracy of     8 : 42 %\n",
      "Accuracy of     9 : 78 %\n",
      "Accuracy of    10 : 84 %\n",
      "Accuracy of    11 : 88 %\n",
      "Accuracy of    12 : 22 %\n",
      "Accuracy of    13 : 58 %\n",
      "Accuracy of    14 : 60 %\n",
      "Accuracy of    15 : 29 %\n",
      "Accuracy of    16 : 44 %\n",
      "Accuracy of    17 : 23 %\n",
      "Accuracy of    18 : 53 %\n",
      "Accuracy of    19 : 45 %\n",
      "Accuracy of    20 : 56 %\n",
      "Accuracy of    21 : 56 %\n",
      "Accuracy of    22 : 52 %\n",
      "Accuracy of    23 : 55 %\n",
      "Accuracy of    24 : 61 %\n",
      "Accuracy of    25 : 42 %\n",
      "Accuracy of    26 : 38 %\n",
      "Accuracy of    27 : 41 %\n",
      "Accuracy of    28 : 20 %\n",
      "Accuracy of    29 : 84 %\n",
      "Accuracy of    30 : 24 %\n",
      "Accuracy of    31 : 42 %\n",
      "Accuracy of    32 : 56 %\n",
      "Accuracy of    33 : 44 %\n",
      "Accuracy of    34 : 48 %\n",
      "Accuracy of    35 : 40 %\n",
      "Accuracy of    36 : 89 %\n",
      "Accuracy of    37 : 74 %\n",
      "Accuracy of    38 : 56 %\n",
      "Accuracy of    39 : 55 %\n",
      "Accuracy of    40 : 63 %\n",
      "Accuracy of    41 : 30 %\n",
      "Accuracy of    42 : 43 %\n",
      "Accuracy of    43 : 52 %\n",
      "Accuracy of    44 : 60 %\n",
      "Accuracy of    45 : 36 %\n",
      "Accuracy of    46 : 35 %\n",
      "Accuracy of    47 : 75 %\n",
      "Accuracy of    48 : 69 %\n",
      "Accuracy of    49 : 85 %\n",
      "Accuracy of    50 : 55 %\n",
      "Accuracy of    51 : 60 %\n",
      "Accuracy of    52 : 35 %\n",
      "Accuracy of    53 : 70 %\n",
      "Accuracy of    54 : 51 %\n",
      "Accuracy of    55 : 39 %\n",
      "Accuracy of    56 : 63 %\n",
      "Accuracy of    57 : 53 %\n",
      "epoch: 13/20 | step: 58/1360 | trn loss: 0.2647 | val loss: 2.4604\n",
      "Accuracy of the network on the 10000 test images: 53 %\n"
     ]
    },
    {
     "name": "stderr",
     "output_type": "stream",
     "text": [
      "\r",
      " 10%|█         | 1/10 [00:27<04:04, 27.15s/it]"
     ]
    },
    {
     "name": "stdout",
     "output_type": "stream",
     "text": [
      "Accuracy of the network on the 10000 test images: 16 %\n"
     ]
    },
    {
     "name": "stderr",
     "output_type": "stream",
     "text": [
      "\r",
      " 20%|██        | 2/10 [00:54<03:38, 27.29s/it]"
     ]
    },
    {
     "name": "stdout",
     "output_type": "stream",
     "text": [
      "Accuracy of the network on the 10000 test images: 16 %\n"
     ]
    },
    {
     "name": "stderr",
     "output_type": "stream",
     "text": [
      "\r",
      " 30%|███       | 3/10 [01:21<03:10, 27.22s/it]"
     ]
    },
    {
     "name": "stdout",
     "output_type": "stream",
     "text": [
      "Accuracy of the network on the 10000 test images: 16 %\n"
     ]
    },
    {
     "name": "stderr",
     "output_type": "stream",
     "text": [
      "\r",
      " 40%|████      | 4/10 [01:49<02:44, 27.48s/it]"
     ]
    },
    {
     "name": "stdout",
     "output_type": "stream",
     "text": [
      "Accuracy of the network on the 10000 test images: 17 %\n"
     ]
    },
    {
     "name": "stderr",
     "output_type": "stream",
     "text": [
      "\r",
      " 50%|█████     | 5/10 [02:17<02:16, 27.37s/it]"
     ]
    },
    {
     "name": "stdout",
     "output_type": "stream",
     "text": [
      "Accuracy of the network on the 10000 test images: 20 %\n"
     ]
    },
    {
     "name": "stderr",
     "output_type": "stream",
     "text": [
      "\r",
      " 60%|██████    | 6/10 [02:45<01:50, 27.57s/it]"
     ]
    },
    {
     "name": "stdout",
     "output_type": "stream",
     "text": [
      "Accuracy of the network on the 10000 test images: 23 %\n"
     ]
    },
    {
     "name": "stderr",
     "output_type": "stream",
     "text": [
      "\r",
      " 70%|███████   | 7/10 [03:13<01:23, 27.79s/it]"
     ]
    },
    {
     "name": "stdout",
     "output_type": "stream",
     "text": [
      "Accuracy of the network on the 10000 test images: 28 %\n"
     ]
    },
    {
     "name": "stderr",
     "output_type": "stream",
     "text": [
      "\r",
      " 80%|████████  | 8/10 [03:41<00:55, 27.90s/it]"
     ]
    },
    {
     "name": "stdout",
     "output_type": "stream",
     "text": [
      "Accuracy of the network on the 10000 test images: 34 %\n"
     ]
    },
    {
     "name": "stderr",
     "output_type": "stream",
     "text": [
      "\r",
      " 90%|█████████ | 9/10 [04:09<00:27, 27.88s/it]"
     ]
    },
    {
     "name": "stdout",
     "output_type": "stream",
     "text": [
      "Accuracy of the network on the 10000 test images: 43 %\n"
     ]
    },
    {
     "name": "stderr",
     "output_type": "stream",
     "text": [
      "100%|██████████| 10/10 [04:37<00:00, 27.73s/it]"
     ]
    },
    {
     "name": "stdout",
     "output_type": "stream",
     "text": [
      "Accuracy of the network on the 10000 test images: 53 %\n"
     ]
    },
    {
     "name": "stderr",
     "output_type": "stream",
     "text": [
      "\n",
      "1360it [07:06,  3.19it/s]\n",
      "  0%|          | 0/10 [00:00<?, ?it/s]"
     ]
    },
    {
     "name": "stdout",
     "output_type": "stream",
     "text": [
      "epoch: 13 67  batch\n",
      "Accuracy of     0 : 45 %\n",
      "Accuracy of     1 : 42 %\n",
      "Accuracy of     2 : 42 %\n",
      "Accuracy of     3 : 64 %\n",
      "Accuracy of     4 : 31 %\n",
      "Accuracy of     5 : 50 %\n",
      "Accuracy of     6 : 67 %\n",
      "Accuracy of     7 : 60 %\n",
      "Accuracy of     8 : 56 %\n",
      "Accuracy of     9 : 70 %\n",
      "Accuracy of    10 : 95 %\n",
      "Accuracy of    11 : 86 %\n",
      "Accuracy of    12 : 52 %\n",
      "Accuracy of    13 : 56 %\n",
      "Accuracy of    14 : 48 %\n",
      "Accuracy of    15 : 29 %\n",
      "Accuracy of    16 : 36 %\n",
      "Accuracy of    17 : 38 %\n",
      "Accuracy of    18 : 66 %\n",
      "Accuracy of    19 : 47 %\n",
      "Accuracy of    20 : 44 %\n",
      "Accuracy of    21 : 60 %\n",
      "Accuracy of    22 : 51 %\n",
      "Accuracy of    23 : 70 %\n",
      "Accuracy of    24 : 44 %\n",
      "Accuracy of    25 : 52 %\n",
      "Accuracy of    26 : 35 %\n",
      "Accuracy of    27 : 42 %\n",
      "Accuracy of    28 : 23 %\n",
      "Accuracy of    29 : 79 %\n",
      "Accuracy of    30 : 33 %\n",
      "Accuracy of    31 : 48 %\n",
      "Accuracy of    32 : 57 %\n",
      "Accuracy of    33 : 37 %\n",
      "Accuracy of    34 : 56 %\n",
      "Accuracy of    35 : 55 %\n",
      "Accuracy of    36 : 89 %\n",
      "Accuracy of    37 : 79 %\n",
      "Accuracy of    38 : 67 %\n",
      "Accuracy of    39 : 58 %\n",
      "Accuracy of    40 : 62 %\n",
      "Accuracy of    41 : 41 %\n",
      "Accuracy of    42 : 33 %\n",
      "Accuracy of    43 : 33 %\n",
      "Accuracy of    44 : 65 %\n",
      "Accuracy of    45 : 66 %\n",
      "Accuracy of    46 : 51 %\n",
      "Accuracy of    47 : 68 %\n",
      "Accuracy of    48 : 71 %\n",
      "Accuracy of    49 : 79 %\n",
      "Accuracy of    50 : 57 %\n",
      "Accuracy of    51 : 53 %\n",
      "Accuracy of    52 : 49 %\n",
      "Accuracy of    53 : 60 %\n",
      "Accuracy of    54 : 54 %\n",
      "Accuracy of    55 : 56 %\n",
      "Accuracy of    56 : 67 %\n",
      "Accuracy of    57 : 67 %\n",
      "epoch: 14/20 | step: 58/1360 | trn loss: 0.2447 | val loss: 2.7710\n",
      "Accuracy of the network on the 10000 test images: 49 %\n"
     ]
    },
    {
     "name": "stderr",
     "output_type": "stream",
     "text": [
      "\r",
      " 10%|█         | 1/10 [00:27<04:11, 27.89s/it]"
     ]
    },
    {
     "name": "stdout",
     "output_type": "stream",
     "text": [
      "Accuracy of the network on the 10000 test images: 12 %\n"
     ]
    },
    {
     "name": "stderr",
     "output_type": "stream",
     "text": [
      "\r",
      " 20%|██        | 2/10 [00:55<03:42, 27.76s/it]"
     ]
    },
    {
     "name": "stdout",
     "output_type": "stream",
     "text": [
      "Accuracy of the network on the 10000 test images: 12 %\n"
     ]
    },
    {
     "name": "stderr",
     "output_type": "stream",
     "text": [
      "\r",
      " 30%|███       | 3/10 [01:23<03:14, 27.73s/it]"
     ]
    },
    {
     "name": "stdout",
     "output_type": "stream",
     "text": [
      "Accuracy of the network on the 10000 test images: 12 %\n"
     ]
    },
    {
     "name": "stderr",
     "output_type": "stream",
     "text": [
      "\r",
      " 40%|████      | 4/10 [01:50<02:45, 27.55s/it]"
     ]
    },
    {
     "name": "stdout",
     "output_type": "stream",
     "text": [
      "Accuracy of the network on the 10000 test images: 14 %\n"
     ]
    },
    {
     "name": "stderr",
     "output_type": "stream",
     "text": [
      "\r",
      " 50%|█████     | 5/10 [02:18<02:18, 27.78s/it]"
     ]
    },
    {
     "name": "stdout",
     "output_type": "stream",
     "text": [
      "Accuracy of the network on the 10000 test images: 16 %\n"
     ]
    },
    {
     "name": "stderr",
     "output_type": "stream",
     "text": [
      "\r",
      " 60%|██████    | 6/10 [02:46<01:51, 27.91s/it]"
     ]
    },
    {
     "name": "stdout",
     "output_type": "stream",
     "text": [
      "Accuracy of the network on the 10000 test images: 20 %\n"
     ]
    },
    {
     "name": "stderr",
     "output_type": "stream",
     "text": [
      "\r",
      " 70%|███████   | 7/10 [03:14<01:24, 28.02s/it]"
     ]
    },
    {
     "name": "stdout",
     "output_type": "stream",
     "text": [
      "Accuracy of the network on the 10000 test images: 24 %\n"
     ]
    },
    {
     "name": "stderr",
     "output_type": "stream",
     "text": [
      "\r",
      " 80%|████████  | 8/10 [03:43<00:56, 28.18s/it]"
     ]
    },
    {
     "name": "stdout",
     "output_type": "stream",
     "text": [
      "Accuracy of the network on the 10000 test images: 30 %\n"
     ]
    },
    {
     "name": "stderr",
     "output_type": "stream",
     "text": [
      "\r",
      " 90%|█████████ | 9/10 [04:11<00:28, 28.14s/it]"
     ]
    },
    {
     "name": "stdout",
     "output_type": "stream",
     "text": [
      "Accuracy of the network on the 10000 test images: 39 %\n"
     ]
    },
    {
     "name": "stderr",
     "output_type": "stream",
     "text": [
      "100%|██████████| 10/10 [04:39<00:00, 27.92s/it]"
     ]
    },
    {
     "name": "stdout",
     "output_type": "stream",
     "text": [
      "Accuracy of the network on the 10000 test images: 49 %\n"
     ]
    },
    {
     "name": "stderr",
     "output_type": "stream",
     "text": [
      "\n",
      "1360it [07:38,  2.97it/s]\n",
      "  0%|          | 0/10 [00:00<?, ?it/s]"
     ]
    },
    {
     "name": "stdout",
     "output_type": "stream",
     "text": [
      "epoch: 14 67  batch\n",
      "Accuracy of     0 : 39 %\n",
      "Accuracy of     1 : 42 %\n",
      "Accuracy of     2 : 35 %\n",
      "Accuracy of     3 : 56 %\n",
      "Accuracy of     4 : 44 %\n",
      "Accuracy of     5 : 47 %\n",
      "Accuracy of     6 : 55 %\n",
      "Accuracy of     7 : 58 %\n",
      "Accuracy of     8 : 48 %\n",
      "Accuracy of     9 : 68 %\n",
      "Accuracy of    10 : 92 %\n",
      "Accuracy of    11 : 94 %\n",
      "Accuracy of    12 : 44 %\n",
      "Accuracy of    13 : 47 %\n",
      "Accuracy of    14 : 53 %\n",
      "Accuracy of    15 : 21 %\n",
      "Accuracy of    16 : 42 %\n",
      "Accuracy of    17 : 38 %\n",
      "Accuracy of    18 : 59 %\n",
      "Accuracy of    19 : 47 %\n",
      "Accuracy of    20 : 65 %\n",
      "Accuracy of    21 : 62 %\n",
      "Accuracy of    22 : 48 %\n",
      "Accuracy of    23 : 62 %\n",
      "Accuracy of    24 : 39 %\n",
      "Accuracy of    25 : 64 %\n",
      "Accuracy of    26 : 40 %\n",
      "Accuracy of    27 : 38 %\n",
      "Accuracy of    28 : 17 %\n",
      "Accuracy of    29 : 78 %\n",
      "Accuracy of    30 : 27 %\n",
      "Accuracy of    31 : 50 %\n",
      "Accuracy of    32 : 59 %\n",
      "Accuracy of    33 : 52 %\n",
      "Accuracy of    34 : 49 %\n",
      "Accuracy of    35 : 61 %\n",
      "Accuracy of    36 : 92 %\n",
      "Accuracy of    37 : 47 %\n",
      "Accuracy of    38 : 59 %\n",
      "Accuracy of    39 : 60 %\n",
      "Accuracy of    40 : 76 %\n",
      "Accuracy of    41 : 46 %\n",
      "Accuracy of    42 : 34 %\n",
      "Accuracy of    43 : 51 %\n",
      "Accuracy of    44 : 58 %\n",
      "Accuracy of    45 : 65 %\n",
      "Accuracy of    46 : 45 %\n",
      "Accuracy of    47 : 65 %\n",
      "Accuracy of    48 : 77 %\n",
      "Accuracy of    49 : 71 %\n",
      "Accuracy of    50 : 61 %\n",
      "Accuracy of    51 : 61 %\n",
      "Accuracy of    52 : 50 %\n",
      "Accuracy of    53 : 56 %\n",
      "Accuracy of    54 : 58 %\n",
      "Accuracy of    55 : 52 %\n",
      "Accuracy of    56 : 69 %\n",
      "Accuracy of    57 : 60 %\n",
      "epoch: 15/20 | step: 58/1360 | trn loss: 0.1696 | val loss: 3.1002\n",
      "Accuracy of the network on the 10000 test images: 47 %\n"
     ]
    },
    {
     "name": "stderr",
     "output_type": "stream",
     "text": [
      "\r",
      " 10%|█         | 1/10 [00:28<04:13, 28.18s/it]"
     ]
    },
    {
     "name": "stdout",
     "output_type": "stream",
     "text": [
      "Accuracy of the network on the 10000 test images: 12 %\n"
     ]
    },
    {
     "name": "stderr",
     "output_type": "stream",
     "text": [
      "\r",
      " 20%|██        | 2/10 [00:56<03:46, 28.35s/it]"
     ]
    },
    {
     "name": "stdout",
     "output_type": "stream",
     "text": [
      "Accuracy of the network on the 10000 test images: 12 %\n"
     ]
    },
    {
     "name": "stderr",
     "output_type": "stream",
     "text": [
      "\r",
      " 30%|███       | 3/10 [01:25<03:18, 28.30s/it]"
     ]
    },
    {
     "name": "stdout",
     "output_type": "stream",
     "text": [
      "Accuracy of the network on the 10000 test images: 13 %\n"
     ]
    },
    {
     "name": "stderr",
     "output_type": "stream",
     "text": [
      "\r",
      " 40%|████      | 4/10 [01:53<02:49, 28.25s/it]"
     ]
    },
    {
     "name": "stdout",
     "output_type": "stream",
     "text": [
      "Accuracy of the network on the 10000 test images: 14 %\n"
     ]
    },
    {
     "name": "stderr",
     "output_type": "stream",
     "text": [
      "\r",
      " 50%|█████     | 5/10 [02:21<02:21, 28.34s/it]"
     ]
    },
    {
     "name": "stdout",
     "output_type": "stream",
     "text": [
      "Accuracy of the network on the 10000 test images: 16 %\n"
     ]
    },
    {
     "name": "stderr",
     "output_type": "stream",
     "text": [
      "\r",
      " 60%|██████    | 6/10 [02:49<01:53, 28.26s/it]"
     ]
    },
    {
     "name": "stdout",
     "output_type": "stream",
     "text": [
      "Accuracy of the network on the 10000 test images: 19 %\n"
     ]
    },
    {
     "name": "stderr",
     "output_type": "stream",
     "text": [
      "\r",
      " 70%|███████   | 7/10 [03:18<01:25, 28.44s/it]"
     ]
    },
    {
     "name": "stdout",
     "output_type": "stream",
     "text": [
      "Accuracy of the network on the 10000 test images: 23 %\n"
     ]
    },
    {
     "name": "stderr",
     "output_type": "stream",
     "text": [
      "\r",
      " 80%|████████  | 8/10 [03:46<00:56, 28.33s/it]"
     ]
    },
    {
     "name": "stdout",
     "output_type": "stream",
     "text": [
      "Accuracy of the network on the 10000 test images: 28 %\n"
     ]
    },
    {
     "name": "stderr",
     "output_type": "stream",
     "text": [
      "\r",
      " 90%|█████████ | 9/10 [04:14<00:28, 28.21s/it]"
     ]
    },
    {
     "name": "stdout",
     "output_type": "stream",
     "text": [
      "Accuracy of the network on the 10000 test images: 37 %\n"
     ]
    },
    {
     "name": "stderr",
     "output_type": "stream",
     "text": [
      "100%|██████████| 10/10 [04:42<00:00, 28.26s/it]"
     ]
    },
    {
     "name": "stdout",
     "output_type": "stream",
     "text": [
      "Accuracy of the network on the 10000 test images: 47 %\n"
     ]
    },
    {
     "name": "stderr",
     "output_type": "stream",
     "text": [
      "\n",
      "1360it [07:12,  3.15it/s]\n",
      "  0%|          | 0/10 [00:00<?, ?it/s]"
     ]
    },
    {
     "name": "stdout",
     "output_type": "stream",
     "text": [
      "epoch: 15 67  batch\n",
      "Accuracy of     0 : 34 %\n",
      "Accuracy of     1 : 40 %\n",
      "Accuracy of     2 : 40 %\n",
      "Accuracy of     3 : 72 %\n",
      "Accuracy of     4 : 27 %\n",
      "Accuracy of     5 : 58 %\n",
      "Accuracy of     6 : 62 %\n",
      "Accuracy of     7 : 64 %\n",
      "Accuracy of     8 : 60 %\n",
      "Accuracy of     9 : 68 %\n",
      "Accuracy of    10 : 94 %\n",
      "Accuracy of    11 : 89 %\n",
      "Accuracy of    12 : 44 %\n",
      "Accuracy of    13 : 48 %\n",
      "Accuracy of    14 : 46 %\n",
      "Accuracy of    15 : 40 %\n",
      "Accuracy of    16 : 41 %\n",
      "Accuracy of    17 : 51 %\n",
      "Accuracy of    18 : 59 %\n",
      "Accuracy of    19 : 42 %\n",
      "Accuracy of    20 : 65 %\n",
      "Accuracy of    21 : 68 %\n",
      "Accuracy of    22 : 51 %\n",
      "Accuracy of    23 : 58 %\n",
      "Accuracy of    24 : 43 %\n",
      "Accuracy of    25 : 43 %\n",
      "Accuracy of    26 : 65 %\n",
      "Accuracy of    27 : 35 %\n",
      "Accuracy of    28 : 30 %\n",
      "Accuracy of    29 : 82 %\n",
      "Accuracy of    30 : 42 %\n",
      "Accuracy of    31 : 48 %\n",
      "Accuracy of    32 : 57 %\n",
      "Accuracy of    33 : 49 %\n",
      "Accuracy of    34 : 61 %\n",
      "Accuracy of    35 : 56 %\n",
      "Accuracy of    36 : 90 %\n",
      "Accuracy of    37 : 80 %\n",
      "Accuracy of    38 : 64 %\n",
      "Accuracy of    39 : 53 %\n",
      "Accuracy of    40 : 55 %\n",
      "Accuracy of    41 : 39 %\n",
      "Accuracy of    42 : 27 %\n",
      "Accuracy of    43 : 50 %\n",
      "Accuracy of    44 : 61 %\n",
      "Accuracy of    45 : 42 %\n",
      "Accuracy of    46 : 24 %\n",
      "Accuracy of    47 : 60 %\n",
      "Accuracy of    48 : 63 %\n",
      "Accuracy of    49 : 74 %\n",
      "Accuracy of    50 : 54 %\n",
      "Accuracy of    51 : 55 %\n",
      "Accuracy of    52 : 56 %\n",
      "Accuracy of    53 : 64 %\n",
      "Accuracy of    54 : 62 %\n",
      "Accuracy of    55 : 32 %\n",
      "Accuracy of    56 : 68 %\n",
      "Accuracy of    57 : 53 %\n",
      "epoch: 16/20 | step: 58/1360 | trn loss: 0.1576 | val loss: 3.3326\n",
      "Accuracy of the network on the 10000 test images: 46 %\n"
     ]
    },
    {
     "name": "stderr",
     "output_type": "stream",
     "text": [
      "\r",
      " 10%|█         | 1/10 [00:27<04:04, 27.21s/it]"
     ]
    },
    {
     "name": "stdout",
     "output_type": "stream",
     "text": [
      "Accuracy of the network on the 10000 test images: 12 %\n"
     ]
    },
    {
     "name": "stderr",
     "output_type": "stream",
     "text": [
      "\r",
      " 20%|██        | 2/10 [00:54<03:38, 27.31s/it]"
     ]
    },
    {
     "name": "stdout",
     "output_type": "stream",
     "text": [
      "Accuracy of the network on the 10000 test images: 12 %\n"
     ]
    },
    {
     "name": "stderr",
     "output_type": "stream",
     "text": [
      "\r",
      " 30%|███       | 3/10 [01:22<03:11, 27.39s/it]"
     ]
    },
    {
     "name": "stdout",
     "output_type": "stream",
     "text": [
      "Accuracy of the network on the 10000 test images: 13 %\n"
     ]
    },
    {
     "name": "stderr",
     "output_type": "stream",
     "text": [
      "\r",
      " 40%|████      | 4/10 [01:49<02:44, 27.44s/it]"
     ]
    },
    {
     "name": "stdout",
     "output_type": "stream",
     "text": [
      "Accuracy of the network on the 10000 test images: 14 %\n"
     ]
    },
    {
     "name": "stderr",
     "output_type": "stream",
     "text": [
      "\r",
      " 50%|█████     | 5/10 [02:18<02:18, 27.70s/it]"
     ]
    },
    {
     "name": "stdout",
     "output_type": "stream",
     "text": [
      "Accuracy of the network on the 10000 test images: 16 %\n"
     ]
    },
    {
     "name": "stderr",
     "output_type": "stream",
     "text": [
      "\r",
      " 60%|██████    | 6/10 [02:46<01:51, 27.88s/it]"
     ]
    },
    {
     "name": "stdout",
     "output_type": "stream",
     "text": [
      "Accuracy of the network on the 10000 test images: 19 %\n"
     ]
    },
    {
     "name": "stderr",
     "output_type": "stream",
     "text": [
      "\r",
      " 70%|███████   | 7/10 [03:14<01:23, 27.78s/it]"
     ]
    },
    {
     "name": "stdout",
     "output_type": "stream",
     "text": [
      "Accuracy of the network on the 10000 test images: 23 %\n"
     ]
    },
    {
     "name": "stderr",
     "output_type": "stream",
     "text": [
      "\r",
      " 80%|████████  | 8/10 [03:40<00:54, 27.49s/it]"
     ]
    },
    {
     "name": "stdout",
     "output_type": "stream",
     "text": [
      "Accuracy of the network on the 10000 test images: 29 %\n"
     ]
    },
    {
     "name": "stderr",
     "output_type": "stream",
     "text": [
      "\r",
      " 90%|█████████ | 9/10 [04:08<00:27, 27.54s/it]"
     ]
    },
    {
     "name": "stdout",
     "output_type": "stream",
     "text": [
      "Accuracy of the network on the 10000 test images: 37 %\n"
     ]
    },
    {
     "name": "stderr",
     "output_type": "stream",
     "text": [
      "100%|██████████| 10/10 [04:35<00:00, 27.59s/it]"
     ]
    },
    {
     "name": "stdout",
     "output_type": "stream",
     "text": [
      "Accuracy of the network on the 10000 test images: 46 %\n"
     ]
    },
    {
     "name": "stderr",
     "output_type": "stream",
     "text": [
      "\n",
      "1360it [07:27,  3.04it/s]\n",
      "  0%|          | 0/10 [00:00<?, ?it/s]"
     ]
    },
    {
     "name": "stdout",
     "output_type": "stream",
     "text": [
      "epoch: 16 67  batch\n",
      "Accuracy of     0 : 33 %\n",
      "Accuracy of     1 : 28 %\n",
      "Accuracy of     2 : 45 %\n",
      "Accuracy of     3 : 68 %\n",
      "Accuracy of     4 : 37 %\n",
      "Accuracy of     5 : 59 %\n",
      "Accuracy of     6 : 53 %\n",
      "Accuracy of     7 : 68 %\n",
      "Accuracy of     8 : 51 %\n",
      "Accuracy of     9 : 67 %\n",
      "Accuracy of    10 : 92 %\n",
      "Accuracy of    11 : 85 %\n",
      "Accuracy of    12 : 35 %\n",
      "Accuracy of    13 : 56 %\n",
      "Accuracy of    14 : 43 %\n",
      "Accuracy of    15 : 34 %\n",
      "Accuracy of    16 : 38 %\n",
      "Accuracy of    17 : 34 %\n",
      "Accuracy of    18 : 55 %\n",
      "Accuracy of    19 : 45 %\n",
      "Accuracy of    20 : 70 %\n",
      "Accuracy of    21 : 58 %\n",
      "Accuracy of    22 : 35 %\n",
      "Accuracy of    23 : 60 %\n",
      "Accuracy of    24 : 53 %\n",
      "Accuracy of    25 : 37 %\n",
      "Accuracy of    26 : 50 %\n",
      "Accuracy of    27 : 60 %\n",
      "Accuracy of    28 : 18 %\n",
      "Accuracy of    29 : 78 %\n",
      "Accuracy of    30 : 26 %\n",
      "Accuracy of    31 : 41 %\n",
      "Accuracy of    32 : 63 %\n",
      "Accuracy of    33 : 60 %\n",
      "Accuracy of    34 : 49 %\n",
      "Accuracy of    35 : 53 %\n",
      "Accuracy of    36 : 93 %\n",
      "Accuracy of    37 : 70 %\n",
      "Accuracy of    38 : 74 %\n",
      "Accuracy of    39 : 66 %\n",
      "Accuracy of    40 : 63 %\n",
      "Accuracy of    41 : 22 %\n",
      "Accuracy of    42 : 26 %\n",
      "Accuracy of    43 : 57 %\n",
      "Accuracy of    44 : 55 %\n",
      "Accuracy of    45 : 65 %\n",
      "Accuracy of    46 : 25 %\n",
      "Accuracy of    47 : 73 %\n",
      "Accuracy of    48 : 78 %\n",
      "Accuracy of    49 : 79 %\n",
      "Accuracy of    50 : 57 %\n",
      "Accuracy of    51 : 59 %\n",
      "Accuracy of    52 : 52 %\n",
      "Accuracy of    53 : 59 %\n",
      "Accuracy of    54 : 58 %\n",
      "Accuracy of    55 : 32 %\n",
      "Accuracy of    56 : 69 %\n",
      "Accuracy of    57 : 70 %\n",
      "epoch: 17/20 | step: 58/1360 | trn loss: 0.1429 | val loss: 3.4307\n",
      "Accuracy of the network on the 10000 test images: 44 %\n"
     ]
    },
    {
     "name": "stderr",
     "output_type": "stream",
     "text": [
      "\r",
      " 10%|█         | 1/10 [00:28<04:14, 28.24s/it]"
     ]
    },
    {
     "name": "stdout",
     "output_type": "stream",
     "text": [
      "Accuracy of the network on the 10000 test images: 12 %\n"
     ]
    },
    {
     "name": "stderr",
     "output_type": "stream",
     "text": [
      "\r",
      " 20%|██        | 2/10 [00:55<03:44, 28.06s/it]"
     ]
    },
    {
     "name": "stdout",
     "output_type": "stream",
     "text": [
      "Accuracy of the network on the 10000 test images: 12 %\n"
     ]
    },
    {
     "name": "stderr",
     "output_type": "stream",
     "text": [
      "\r",
      " 30%|███       | 3/10 [01:23<03:16, 28.05s/it]"
     ]
    },
    {
     "name": "stdout",
     "output_type": "stream",
     "text": [
      "Accuracy of the network on the 10000 test images: 12 %\n"
     ]
    },
    {
     "name": "stderr",
     "output_type": "stream",
     "text": [
      "\r",
      " 40%|████      | 4/10 [01:52<02:48, 28.10s/it]"
     ]
    },
    {
     "name": "stdout",
     "output_type": "stream",
     "text": [
      "Accuracy of the network on the 10000 test images: 13 %\n"
     ]
    },
    {
     "name": "stderr",
     "output_type": "stream",
     "text": [
      "\r",
      " 50%|█████     | 5/10 [02:19<02:19, 27.99s/it]"
     ]
    },
    {
     "name": "stdout",
     "output_type": "stream",
     "text": [
      "Accuracy of the network on the 10000 test images: 15 %\n"
     ]
    },
    {
     "name": "stderr",
     "output_type": "stream",
     "text": [
      "\r",
      " 60%|██████    | 6/10 [02:47<01:51, 27.87s/it]"
     ]
    },
    {
     "name": "stdout",
     "output_type": "stream",
     "text": [
      "Accuracy of the network on the 10000 test images: 18 %\n"
     ]
    },
    {
     "name": "stderr",
     "output_type": "stream",
     "text": [
      "\r",
      " 70%|███████   | 7/10 [03:15<01:24, 28.03s/it]"
     ]
    },
    {
     "name": "stdout",
     "output_type": "stream",
     "text": [
      "Accuracy of the network on the 10000 test images: 22 %\n"
     ]
    },
    {
     "name": "stderr",
     "output_type": "stream",
     "text": [
      "\r",
      " 80%|████████  | 8/10 [03:42<00:55, 27.75s/it]"
     ]
    },
    {
     "name": "stdout",
     "output_type": "stream",
     "text": [
      "Accuracy of the network on the 10000 test images: 27 %\n"
     ]
    },
    {
     "name": "stderr",
     "output_type": "stream",
     "text": [
      "\r",
      " 90%|█████████ | 9/10 [04:10<00:27, 27.65s/it]"
     ]
    },
    {
     "name": "stdout",
     "output_type": "stream",
     "text": [
      "Accuracy of the network on the 10000 test images: 35 %\n"
     ]
    },
    {
     "name": "stderr",
     "output_type": "stream",
     "text": [
      "100%|██████████| 10/10 [04:37<00:00, 27.73s/it]"
     ]
    },
    {
     "name": "stdout",
     "output_type": "stream",
     "text": [
      "Accuracy of the network on the 10000 test images: 44 %\n"
     ]
    },
    {
     "name": "stderr",
     "output_type": "stream",
     "text": [
      "\n",
      "1360it [07:21,  3.08it/s]\n",
      "  0%|          | 0/10 [00:00<?, ?it/s]"
     ]
    },
    {
     "name": "stdout",
     "output_type": "stream",
     "text": [
      "epoch: 17 67  batch\n",
      "Accuracy of     0 : 47 %\n",
      "Accuracy of     1 : 36 %\n",
      "Accuracy of     2 : 39 %\n",
      "Accuracy of     3 : 62 %\n",
      "Accuracy of     4 : 47 %\n",
      "Accuracy of     5 : 56 %\n",
      "Accuracy of     6 : 66 %\n",
      "Accuracy of     7 : 71 %\n",
      "Accuracy of     8 : 49 %\n",
      "Accuracy of     9 : 67 %\n",
      "Accuracy of    10 : 92 %\n",
      "Accuracy of    11 : 90 %\n",
      "Accuracy of    12 : 39 %\n",
      "Accuracy of    13 : 61 %\n",
      "Accuracy of    14 : 60 %\n",
      "Accuracy of    15 : 23 %\n",
      "Accuracy of    16 : 49 %\n",
      "Accuracy of    17 : 30 %\n",
      "Accuracy of    18 : 67 %\n",
      "Accuracy of    19 : 58 %\n",
      "Accuracy of    20 : 73 %\n",
      "Accuracy of    21 : 54 %\n",
      "Accuracy of    22 : 40 %\n",
      "Accuracy of    23 : 56 %\n",
      "Accuracy of    24 : 39 %\n",
      "Accuracy of    25 : 55 %\n",
      "Accuracy of    26 : 42 %\n",
      "Accuracy of    27 : 37 %\n",
      "Accuracy of    28 : 38 %\n",
      "Accuracy of    29 : 74 %\n",
      "Accuracy of    30 : 35 %\n",
      "Accuracy of    31 : 53 %\n",
      "Accuracy of    32 : 69 %\n",
      "Accuracy of    33 : 46 %\n",
      "Accuracy of    34 : 44 %\n",
      "Accuracy of    35 : 66 %\n",
      "Accuracy of    36 : 84 %\n",
      "Accuracy of    37 : 68 %\n",
      "Accuracy of    38 : 58 %\n",
      "Accuracy of    39 : 55 %\n",
      "Accuracy of    40 : 57 %\n",
      "Accuracy of    41 : 32 %\n",
      "Accuracy of    42 : 42 %\n",
      "Accuracy of    43 : 44 %\n",
      "Accuracy of    44 : 63 %\n",
      "Accuracy of    45 : 47 %\n",
      "Accuracy of    46 : 30 %\n",
      "Accuracy of    47 : 51 %\n",
      "Accuracy of    48 : 64 %\n",
      "Accuracy of    49 : 77 %\n",
      "Accuracy of    50 : 57 %\n",
      "Accuracy of    51 : 59 %\n",
      "Accuracy of    52 : 62 %\n",
      "Accuracy of    53 : 60 %\n",
      "Accuracy of    54 : 58 %\n",
      "Accuracy of    55 : 47 %\n",
      "Accuracy of    56 : 62 %\n",
      "Accuracy of    57 : 54 %\n",
      "epoch: 18/20 | step: 58/1360 | trn loss: 0.1309 | val loss: 2.8656\n",
      "Accuracy of the network on the 10000 test images: 51 %\n"
     ]
    },
    {
     "name": "stderr",
     "output_type": "stream",
     "text": [
      "\r",
      " 10%|█         | 1/10 [00:28<04:12, 28.10s/it]"
     ]
    },
    {
     "name": "stdout",
     "output_type": "stream",
     "text": [
      "Accuracy of the network on the 10000 test images: 14 %\n"
     ]
    },
    {
     "name": "stderr",
     "output_type": "stream",
     "text": [
      "\r",
      " 20%|██        | 2/10 [00:56<03:44, 28.10s/it]"
     ]
    },
    {
     "name": "stdout",
     "output_type": "stream",
     "text": [
      "Accuracy of the network on the 10000 test images: 14 %\n"
     ]
    },
    {
     "name": "stderr",
     "output_type": "stream",
     "text": [
      "\r",
      " 30%|███       | 3/10 [01:23<03:15, 27.96s/it]"
     ]
    },
    {
     "name": "stdout",
     "output_type": "stream",
     "text": [
      "Accuracy of the network on the 10000 test images: 14 %\n"
     ]
    },
    {
     "name": "stderr",
     "output_type": "stream",
     "text": [
      "\r",
      " 40%|████      | 4/10 [01:51<02:46, 27.83s/it]"
     ]
    },
    {
     "name": "stdout",
     "output_type": "stream",
     "text": [
      "Accuracy of the network on the 10000 test images: 15 %\n"
     ]
    },
    {
     "name": "stderr",
     "output_type": "stream",
     "text": [
      "\r",
      " 50%|█████     | 5/10 [02:19<02:19, 27.85s/it]"
     ]
    },
    {
     "name": "stdout",
     "output_type": "stream",
     "text": [
      "Accuracy of the network on the 10000 test images: 18 %\n"
     ]
    },
    {
     "name": "stderr",
     "output_type": "stream",
     "text": [
      "\r",
      " 60%|██████    | 6/10 [02:47<01:51, 27.92s/it]"
     ]
    },
    {
     "name": "stdout",
     "output_type": "stream",
     "text": [
      "Accuracy of the network on the 10000 test images: 21 %\n"
     ]
    },
    {
     "name": "stderr",
     "output_type": "stream",
     "text": [
      "\r",
      " 70%|███████   | 7/10 [03:14<01:22, 27.63s/it]"
     ]
    },
    {
     "name": "stdout",
     "output_type": "stream",
     "text": [
      "Accuracy of the network on the 10000 test images: 25 %\n"
     ]
    },
    {
     "name": "stderr",
     "output_type": "stream",
     "text": [
      "\r",
      " 80%|████████  | 8/10 [03:42<00:55, 27.67s/it]"
     ]
    },
    {
     "name": "stdout",
     "output_type": "stream",
     "text": [
      "Accuracy of the network on the 10000 test images: 32 %\n"
     ]
    },
    {
     "name": "stderr",
     "output_type": "stream",
     "text": [
      "\r",
      " 90%|█████████ | 9/10 [04:09<00:27, 27.51s/it]"
     ]
    },
    {
     "name": "stdout",
     "output_type": "stream",
     "text": [
      "Accuracy of the network on the 10000 test images: 41 %\n"
     ]
    },
    {
     "name": "stderr",
     "output_type": "stream",
     "text": [
      "100%|██████████| 10/10 [04:36<00:00, 27.61s/it]"
     ]
    },
    {
     "name": "stdout",
     "output_type": "stream",
     "text": [
      "Accuracy of the network on the 10000 test images: 51 %\n"
     ]
    },
    {
     "name": "stderr",
     "output_type": "stream",
     "text": [
      "\n",
      "1360it [07:43,  2.93it/s]\n",
      "  0%|          | 0/10 [00:00<?, ?it/s]"
     ]
    },
    {
     "name": "stdout",
     "output_type": "stream",
     "text": [
      "epoch: 18 67  batch\n",
      "Accuracy of     0 : 60 %\n",
      "Accuracy of     1 : 35 %\n",
      "Accuracy of     2 : 32 %\n",
      "Accuracy of     3 : 71 %\n",
      "Accuracy of     4 : 52 %\n",
      "Accuracy of     5 : 57 %\n",
      "Accuracy of     6 : 56 %\n",
      "Accuracy of     7 : 71 %\n",
      "Accuracy of     8 : 43 %\n",
      "Accuracy of     9 : 76 %\n",
      "Accuracy of    10 : 94 %\n",
      "Accuracy of    11 : 84 %\n",
      "Accuracy of    12 : 43 %\n",
      "Accuracy of    13 : 66 %\n",
      "Accuracy of    14 : 48 %\n",
      "Accuracy of    15 : 20 %\n",
      "Accuracy of    16 : 50 %\n",
      "Accuracy of    17 : 42 %\n",
      "Accuracy of    18 : 64 %\n",
      "Accuracy of    19 : 54 %\n",
      "Accuracy of    20 : 60 %\n",
      "Accuracy of    21 : 60 %\n",
      "Accuracy of    22 : 47 %\n",
      "Accuracy of    23 : 65 %\n",
      "Accuracy of    24 : 56 %\n",
      "Accuracy of    25 : 50 %\n",
      "Accuracy of    26 : 48 %\n",
      "Accuracy of    27 : 38 %\n",
      "Accuracy of    28 : 22 %\n",
      "Accuracy of    29 : 75 %\n",
      "Accuracy of    30 : 31 %\n",
      "Accuracy of    31 : 29 %\n",
      "Accuracy of    32 : 63 %\n",
      "Accuracy of    33 : 47 %\n",
      "Accuracy of    34 : 63 %\n",
      "Accuracy of    35 : 53 %\n",
      "Accuracy of    36 : 90 %\n",
      "Accuracy of    37 : 73 %\n",
      "Accuracy of    38 : 76 %\n",
      "Accuracy of    39 : 60 %\n",
      "Accuracy of    40 : 64 %\n",
      "Accuracy of    41 : 26 %\n",
      "Accuracy of    42 : 29 %\n",
      "Accuracy of    43 : 50 %\n",
      "Accuracy of    44 : 58 %\n",
      "Accuracy of    45 : 30 %\n",
      "Accuracy of    46 : 27 %\n",
      "Accuracy of    47 : 82 %\n",
      "Accuracy of    48 : 65 %\n",
      "Accuracy of    49 : 64 %\n",
      "Accuracy of    50 : 60 %\n",
      "Accuracy of    51 : 64 %\n",
      "Accuracy of    52 : 52 %\n",
      "Accuracy of    53 : 61 %\n",
      "Accuracy of    54 : 52 %\n",
      "Accuracy of    55 : 42 %\n",
      "Accuracy of    56 : 72 %\n",
      "Accuracy of    57 : 47 %\n",
      "epoch: 19/20 | step: 58/1360 | trn loss: 0.1209 | val loss: 2.7384\n",
      "Accuracy of the network on the 10000 test images: 53 %\n"
     ]
    },
    {
     "name": "stderr",
     "output_type": "stream",
     "text": [
      "\r",
      " 10%|█         | 1/10 [00:27<04:04, 27.20s/it]"
     ]
    },
    {
     "name": "stdout",
     "output_type": "stream",
     "text": [
      "Accuracy of the network on the 10000 test images: 18 %\n"
     ]
    },
    {
     "name": "stderr",
     "output_type": "stream",
     "text": [
      "\r",
      " 20%|██        | 2/10 [00:54<03:38, 27.33s/it]"
     ]
    },
    {
     "name": "stdout",
     "output_type": "stream",
     "text": [
      "Accuracy of the network on the 10000 test images: 18 %\n"
     ]
    },
    {
     "name": "stderr",
     "output_type": "stream",
     "text": [
      "\r",
      " 30%|███       | 3/10 [01:22<03:12, 27.44s/it]"
     ]
    },
    {
     "name": "stdout",
     "output_type": "stream",
     "text": [
      "Accuracy of the network on the 10000 test images: 18 %\n"
     ]
    },
    {
     "name": "stderr",
     "output_type": "stream",
     "text": [
      "\r",
      " 40%|████      | 4/10 [01:50<02:45, 27.53s/it]"
     ]
    },
    {
     "name": "stdout",
     "output_type": "stream",
     "text": [
      "Accuracy of the network on the 10000 test images: 20 %\n"
     ]
    },
    {
     "name": "stderr",
     "output_type": "stream",
     "text": [
      "\r",
      " 50%|█████     | 5/10 [02:18<02:18, 27.61s/it]"
     ]
    },
    {
     "name": "stdout",
     "output_type": "stream",
     "text": [
      "Accuracy of the network on the 10000 test images: 21 %\n"
     ]
    },
    {
     "name": "stderr",
     "output_type": "stream",
     "text": [
      "\r",
      " 60%|██████    | 6/10 [02:45<01:50, 27.59s/it]"
     ]
    },
    {
     "name": "stdout",
     "output_type": "stream",
     "text": [
      "Accuracy of the network on the 10000 test images: 25 %\n"
     ]
    },
    {
     "name": "stderr",
     "output_type": "stream",
     "text": [
      "\r",
      " 70%|███████   | 7/10 [03:13<01:22, 27.59s/it]"
     ]
    },
    {
     "name": "stdout",
     "output_type": "stream",
     "text": [
      "Accuracy of the network on the 10000 test images: 29 %\n"
     ]
    },
    {
     "name": "stderr",
     "output_type": "stream",
     "text": [
      "\r",
      " 80%|████████  | 8/10 [03:40<00:54, 27.42s/it]"
     ]
    },
    {
     "name": "stdout",
     "output_type": "stream",
     "text": [
      "Accuracy of the network on the 10000 test images: 35 %\n"
     ]
    },
    {
     "name": "stderr",
     "output_type": "stream",
     "text": [
      "\r",
      " 90%|█████████ | 9/10 [04:07<00:27, 27.41s/it]"
     ]
    },
    {
     "name": "stdout",
     "output_type": "stream",
     "text": [
      "Accuracy of the network on the 10000 test images: 44 %\n"
     ]
    },
    {
     "name": "stderr",
     "output_type": "stream",
     "text": [
      "100%|██████████| 10/10 [04:35<00:00, 27.50s/it]"
     ]
    },
    {
     "name": "stdout",
     "output_type": "stream",
     "text": [
      "Accuracy of the network on the 10000 test images: 53 %\n"
     ]
    },
    {
     "name": "stderr",
     "output_type": "stream",
     "text": [
      "\n",
      "1360it [07:39,  2.96it/s]\n",
      "  0%|          | 0/10 [00:00<?, ?it/s]"
     ]
    },
    {
     "name": "stdout",
     "output_type": "stream",
     "text": [
      "epoch: 19 67  batch\n",
      "Accuracy of     0 : 57 %\n",
      "Accuracy of     1 : 50 %\n",
      "Accuracy of     2 : 42 %\n",
      "Accuracy of     3 : 64 %\n",
      "Accuracy of     4 : 56 %\n",
      "Accuracy of     5 : 42 %\n",
      "Accuracy of     6 : 61 %\n",
      "Accuracy of     7 : 58 %\n",
      "Accuracy of     8 : 53 %\n",
      "Accuracy of     9 : 71 %\n",
      "Accuracy of    10 : 93 %\n",
      "Accuracy of    11 : 87 %\n",
      "Accuracy of    12 : 40 %\n",
      "Accuracy of    13 : 50 %\n",
      "Accuracy of    14 : 58 %\n",
      "Accuracy of    15 : 30 %\n",
      "Accuracy of    16 : 38 %\n",
      "Accuracy of    17 : 42 %\n",
      "Accuracy of    18 : 68 %\n",
      "Accuracy of    19 : 52 %\n",
      "Accuracy of    20 : 46 %\n",
      "Accuracy of    21 : 60 %\n",
      "Accuracy of    22 : 58 %\n",
      "Accuracy of    23 : 69 %\n",
      "Accuracy of    24 : 52 %\n",
      "Accuracy of    25 : 64 %\n",
      "Accuracy of    26 : 28 %\n",
      "Accuracy of    27 : 46 %\n",
      "Accuracy of    28 : 23 %\n",
      "Accuracy of    29 : 70 %\n",
      "Accuracy of    30 : 29 %\n",
      "Accuracy of    31 : 39 %\n",
      "Accuracy of    32 : 60 %\n",
      "Accuracy of    33 : 42 %\n",
      "Accuracy of    34 : 41 %\n",
      "Accuracy of    35 : 60 %\n",
      "Accuracy of    36 : 90 %\n",
      "Accuracy of    37 : 74 %\n",
      "Accuracy of    38 : 72 %\n",
      "Accuracy of    39 : 66 %\n",
      "Accuracy of    40 : 57 %\n",
      "Accuracy of    41 : 42 %\n",
      "Accuracy of    42 : 28 %\n",
      "Accuracy of    43 : 45 %\n",
      "Accuracy of    44 : 62 %\n",
      "Accuracy of    45 : 40 %\n",
      "Accuracy of    46 : 30 %\n",
      "Accuracy of    47 : 68 %\n",
      "Accuracy of    48 : 65 %\n",
      "Accuracy of    49 : 72 %\n",
      "Accuracy of    50 : 64 %\n",
      "Accuracy of    51 : 53 %\n",
      "Accuracy of    52 : 34 %\n",
      "Accuracy of    53 : 67 %\n",
      "Accuracy of    54 : 51 %\n",
      "Accuracy of    55 : 45 %\n",
      "Accuracy of    56 : 67 %\n",
      "Accuracy of    57 : 62 %\n",
      "epoch: 20/20 | step: 58/1360 | trn loss: 0.1130 | val loss: 2.8243\n",
      "Accuracy of the network on the 10000 test images: 53 %\n"
     ]
    },
    {
     "name": "stderr",
     "output_type": "stream",
     "text": [
      "\r",
      " 10%|█         | 1/10 [00:27<04:10, 27.81s/it]"
     ]
    },
    {
     "name": "stdout",
     "output_type": "stream",
     "text": [
      "Accuracy of the network on the 10000 test images: 15 %\n"
     ]
    },
    {
     "name": "stderr",
     "output_type": "stream",
     "text": [
      "\r",
      " 20%|██        | 2/10 [00:55<03:41, 27.69s/it]"
     ]
    },
    {
     "name": "stdout",
     "output_type": "stream",
     "text": [
      "Accuracy of the network on the 10000 test images: 15 %\n"
     ]
    },
    {
     "name": "stderr",
     "output_type": "stream",
     "text": [
      "\r",
      " 30%|███       | 3/10 [01:22<03:12, 27.55s/it]"
     ]
    },
    {
     "name": "stdout",
     "output_type": "stream",
     "text": [
      "Accuracy of the network on the 10000 test images: 15 %\n"
     ]
    },
    {
     "name": "stderr",
     "output_type": "stream",
     "text": [
      "\r",
      " 40%|████      | 4/10 [01:50<02:46, 27.72s/it]"
     ]
    },
    {
     "name": "stdout",
     "output_type": "stream",
     "text": [
      "Accuracy of the network on the 10000 test images: 16 %\n"
     ]
    },
    {
     "name": "stderr",
     "output_type": "stream",
     "text": [
      "\r",
      " 50%|█████     | 5/10 [02:18<02:19, 27.89s/it]"
     ]
    },
    {
     "name": "stdout",
     "output_type": "stream",
     "text": [
      "Accuracy of the network on the 10000 test images: 18 %\n"
     ]
    },
    {
     "name": "stderr",
     "output_type": "stream",
     "text": [
      "\r",
      " 60%|██████    | 6/10 [02:46<01:51, 27.93s/it]"
     ]
    },
    {
     "name": "stdout",
     "output_type": "stream",
     "text": [
      "Accuracy of the network on the 10000 test images: 21 %\n"
     ]
    },
    {
     "name": "stderr",
     "output_type": "stream",
     "text": [
      "\r",
      " 70%|███████   | 7/10 [03:14<01:23, 27.87s/it]"
     ]
    },
    {
     "name": "stdout",
     "output_type": "stream",
     "text": [
      "Accuracy of the network on the 10000 test images: 25 %\n"
     ]
    },
    {
     "name": "stderr",
     "output_type": "stream",
     "text": [
      "\r",
      " 80%|████████  | 8/10 [03:42<00:55, 27.88s/it]"
     ]
    },
    {
     "name": "stdout",
     "output_type": "stream",
     "text": [
      "Accuracy of the network on the 10000 test images: 32 %\n"
     ]
    },
    {
     "name": "stderr",
     "output_type": "stream",
     "text": [
      "\r",
      " 90%|█████████ | 9/10 [04:10<00:27, 27.94s/it]"
     ]
    },
    {
     "name": "stdout",
     "output_type": "stream",
     "text": [
      "Accuracy of the network on the 10000 test images: 42 %\n"
     ]
    },
    {
     "name": "stderr",
     "output_type": "stream",
     "text": [
      "100%|██████████| 10/10 [04:38<00:00, 27.86s/it]"
     ]
    },
    {
     "name": "stdout",
     "output_type": "stream",
     "text": [
      "Accuracy of the network on the 10000 test images: 53 %\n"
     ]
    },
    {
     "name": "stderr",
     "output_type": "stream",
     "text": [
      "\n"
     ]
    }
   ],
   "source": [
    "import torch.optim as optim\n",
    "import sys\n",
    "\n",
    "trn_loss_list = []\n",
    "val_loss_list = []\n",
    "acc_list = []\n",
    "acc_list_aug = []\n",
    "num_batches = len(trainloader)\n",
    "for epoch in range(20):\n",
    "    running_loss = 0.0\n",
    "    model1.train()\n",
    "    #device = 'cuda:0'\n",
    "    for i,images in tqdm(enumerate(trainloader)):\n",
    "        optimizer.zero_grad()\n",
    "        c1 = images[0].to(device)\n",
    "        c6 = images[1].to(device)\n",
    "        output = model1(c1)\n",
    "        loss = criterion(output, c6)\n",
    "        loss.backward()    # calc gradients\n",
    "        optimizer.step()   # update gradients\n",
    "        running_loss += loss.item()\n",
    "    \n",
    "        if (i+1) % 6500 == 0:\n",
    "            model1.eval()\n",
    "            with torch.no_grad(): # very very very very important!!\n",
    "                val_loss = 0.0\n",
    "                class_correct = list(0. for i in range(num_classes))\n",
    "                class_total = list(0. for i in range(num_classes))\n",
    "                correct = 0\n",
    "                total = 0\n",
    "                for j,val in enumerate(testloader):\n",
    "                    v1 = val[0].to(device)\n",
    "                    val_labels = val[1].to(device)\n",
    "                    val_output = model1(v1)\n",
    "                    v_loss = criterion(val_output, val_labels)\n",
    "                    val_loss += v_loss\n",
    "                    _, predicted = torch.max(val_output, 1)\n",
    "                    c = (predicted == val_labels).squeeze()\n",
    "                    total += val_labels.size(0)\n",
    "                    correct += (predicted == val_labels).sum().item()\n",
    "                    for i in range(len(val_labels)):\n",
    "                        val_label = val_labels[i]\n",
    "                        class_correct[val_label] += c[i].item()\n",
    "                        class_total[val_label] += 1\n",
    "\n",
    "                print(\"epoch:\",str(epoch),str(i),\" batch\")\n",
    "                for i in range(num_classes):\n",
    "                    if class_total[i]==0:\n",
    "                        print('class_total = 0',class_correct,class_total)\n",
    "                    else:\n",
    "                        print('Accuracy of %5s : %2d %%' % (i, 100 * class_correct[i] / class_total[i]))\n",
    "\n",
    "            print(\"epoch: {}/{} | step: {}/{} | trn loss: {:.4f} | val loss: {:.4f}\".format(\n",
    "                epoch+1, 20, i+1, num_batches, running_loss / len(trainloader), val_loss / len(testloader)\n",
    "            ))        \n",
    "            print('Accuracy of the network on the 10000 test images: %d %%' % (100 * correct / total))\n",
    "\n",
    "            trn_loss_list.append(running_loss/1875)\n",
    "            val_loss_list.append(val_loss/len(testloader))\n",
    "            running_loss = 0.0\n",
    "\n",
    "            temp_acc = []\n",
    "            for testloader_val in tqdm(val_gen_arr):\n",
    "                correct = 0\n",
    "                total = 0\n",
    "                class_correct = list(0. for i in range(num_classes))\n",
    "                class_total = list(0. for i in range(num_classes))\n",
    "                with torch.no_grad():\n",
    "                    for images in testloader_val:\n",
    "                        c1 = images[0].to(device)\n",
    "                        val_labels = images[1].to(device)\n",
    "                        outputs = model1(c1)\n",
    "                        _, predicted = torch.max(outputs.data, 1)\n",
    "                        c = (predicted == val_labels).squeeze()\n",
    "                        total += val_labels.size(0)\n",
    "                        correct += (predicted == val_labels).sum().item()\n",
    "                #print(total,correct,end='')\n",
    "\n",
    "                print('Accuracy of the network on the 10000 test images: %d %%' % (100 * correct / total))\n",
    "                temp_acc.append(100 * correct / total)\n",
    "                #print(temp_acc)\n",
    "            acc_list.append(temp_acc)\n",
    "\n",
    "            import csv\n",
    "\n",
    "            csvfile = open(TEST_RESULT_PATH+'testresult_'+TASK_NAME+'_'+DATE+'.csv','w',newline=\"\")\n",
    "\n",
    "            csvwriter = csv.writer(csvfile)\n",
    "            for row in acc_list:\n",
    "                csvwriter.writerow(row)\n",
    "\n",
    "            csvfile.close()\n",
    "\n",
    "            torch.save(model1.state_dict(),WEIGHTS_PATH+TASK_NAME+'_'+DATE+'.pt')\n",
    "\n",
    "            model1.train()\n",
    "            \n",
    "    model1.eval()\n",
    "    with torch.no_grad(): # very very very very important!!!\n",
    "        val_loss = 0.0\n",
    "        class_correct = list(0. for i in range(num_classes))\n",
    "        class_total = list(0. for i in range(num_classes))\n",
    "        correct = 0\n",
    "        total = 0\n",
    "        for j,val in enumerate(testloader):\n",
    "            v1 = val[0].to(device)\n",
    "            val_labels = val[1].to(device)\n",
    "            val_output = model1(v1)\n",
    "            v_loss = criterion(val_output, val_labels)\n",
    "            val_loss += v_loss\n",
    "            _, predicted = torch.max(val_output, 1)\n",
    "            c = (predicted == val_labels).squeeze()\n",
    "            total += val_labels.size(0)\n",
    "            correct += (predicted == val_labels).sum().item()\n",
    "            for i in range(len(val_labels)):\n",
    "                val_label = val_labels[i]\n",
    "                class_correct[val_label] += c[i].item()\n",
    "                class_total[val_label] += 1\n",
    "\n",
    "        print(\"epoch:\",str(epoch),str(i),\" batch\")\n",
    "        for i in range(num_classes):\n",
    "            if class_total[i]==0:\n",
    "                print('class_total = 0',class_correct,class_total)\n",
    "            else:\n",
    "                print('Accuracy of %5s : %2d %%' % (i, 100 * class_correct[i] / class_total[i]))\n",
    "\n",
    "    print(\"epoch: {}/{} | step: {}/{} | trn loss: {:.4f} | val loss: {:.4f}\".format(\n",
    "        epoch+1, 20, i+1, num_batches, running_loss / len(trainloader), val_loss / len(testloader)\n",
    "    ))        \n",
    "    print('Accuracy of the network on the 10000 test images: %d %%' % (100 * correct / total))\n",
    "\n",
    "    trn_loss_list.append(running_loss/1875)\n",
    "    val_loss_list.append(val_loss/len(testloader))\n",
    "    running_loss = 0.0\n",
    "\n",
    "    temp_acc = []\n",
    "    for testloader_val in tqdm(val_gen_arr):\n",
    "        correct = 0\n",
    "        total = 0\n",
    "        class_correct = list(0. for i in range(num_classes))\n",
    "        class_total = list(0. for i in range(num_classes))\n",
    "        with torch.no_grad():\n",
    "            for images in testloader_val:\n",
    "                c1 = images[0].to(device)\n",
    "                val_labels = images[1].to(device)\n",
    "                outputs = model1(c1)\n",
    "                _, predicted = torch.max(outputs.data, 1)\n",
    "                c = (predicted == val_labels).squeeze()\n",
    "                total += val_labels.size(0)\n",
    "                correct += (predicted == val_labels).sum().item()\n",
    "        #print(total,correct,end='')\n",
    "\n",
    "        print('Accuracy of the network on the 10000 test images: %d %%' % (100 * correct / total))\n",
    "        temp_acc.append(100 * correct / total)\n",
    "        #print(temp_acc)\n",
    "    acc_list.append(temp_acc)\n",
    "\n",
    "    import csv\n",
    "\n",
    "    csvfile = open(TEST_RESULT_PATH+'testresult_'+TASK_NAME+'_'+DATE+'.csv','w',newline=\"\")\n",
    "\n",
    "    csvwriter = csv.writer(csvfile)\n",
    "    for row in acc_list:\n",
    "        csvwriter.writerow(row)\n",
    "\n",
    "    csvfile.close()\n",
    "\n",
    "    torch.save(model1.state_dict(),WEIGHTS_PATH+TASK_NAME+'_'+DATE+'.pt')\n",
    "\n",
    "    model1.train()\n",
    "    '''if epoch == 9:\n",
    "        optimizer = optim.Adam(model1.parameters(), lr=0.0001)\n",
    "        print('lr is changed to 0.0001')'''\n",
    "        \n",
    "    #optimizer = optim.SGD(model.parameters(), lr=0.001, momentum=0.9)'''\n",
    "    "
   ]
  },
  {
   "cell_type": "code",
   "execution_count": null,
   "metadata": {},
   "outputs": [],
   "source": [
    "images[1]"
   ]
  },
  {
   "cell_type": "code",
   "execution_count": null,
   "metadata": {},
   "outputs": [],
   "source": [
    "for i,images in tqdm(enumerate(trainloader)):\n",
    "    print(images[1].shape)\n",
    "    break"
   ]
  },
  {
   "cell_type": "markdown",
   "metadata": {},
   "source": [
    "# TRAIN AND TEST ENDS\n",
    "code below won't work"
   ]
  },
  {
   "cell_type": "code",
   "execution_count": null,
   "metadata": {},
   "outputs": [],
   "source": [
    "import torch.nn as nn\n",
    "import torch.nn.functional as F\n",
    "\n",
    "class Net(nn.Module):\n",
    "    def __init__(self):\n",
    "        super(Net, self).__init__()\n",
    "        \n",
    "        self.conv1 = nn.Conv2d(3,64,kernel_size=7,stride=2,padding=3,bias=False)\n",
    "        self.bn1 = nn.BatchNorm2d(64)\n",
    "        self.relu = nn.ReLU(inplace = True)\n",
    "        self.maxpool = nn.MaxPool2d(kernel_size=3,stride=2,padding=1)\n",
    "        \n",
    "        self.prepool1 = nn.Upsample(scale_factor=2, mode='bilinear')\n",
    "        self.prepool2 = nn.AvgPool2d(2,2)\n",
    "        \n",
    "        #self.sc1 = SCModule1(3,64)\n",
    "        self.rp1 = ResPoolModule(256)\n",
    "        self.rp2 = ResPoolModule(512)\n",
    "        self.rp3 = ResPoolModule(1024)\n",
    "        self.rp4 = ResPoolModule(2048)\n",
    "        \n",
    "        #self.relu = nn.ReLU(inplace = True)\n",
    "        \n",
    "        self.conv2_1 = SCBottleneck(64,256,downsample=True)\n",
    "        self.conv2_2 = SCBottleneck(256,256)\n",
    "        self.conv2_3 = SCBottleneck(256,256)\n",
    "        \n",
    "        self.conv3_1 = SCBottleneck(256,512,downsample=True)\n",
    "        self.conv3_2 = SCBottleneck(512,512)\n",
    "        self.conv3_3 = SCBottleneck(512,512)\n",
    "        self.conv3_4 = SCBottleneck(512,512)\n",
    "        \n",
    "        self.conv4_1 = SCBottleneck(512,1024,downsample=True)\n",
    "        self.conv4_2 = SCBottleneck(1024,1024)\n",
    "        self.conv4_3 = SCBottleneck(1024,1024)\n",
    "        self.conv4_4 = SCBottleneck(1024,1024)\n",
    "        self.conv4_5 = SCBottleneck(1024,1024)\n",
    "        self.conv4_6 = SCBottleneck(1024,1024)\n",
    "        \n",
    "        self.conv5_1 = SCBottleneck(1024,2048,downsample=True)\n",
    "        self.conv5_2 = SCBottleneck(2048,2048)\n",
    "        self.conv5_3 = SCBottleneck(2048,2048)\n",
    "        \n",
    "        self.avgpool = nn.AdaptiveAvgPool2d((1,1))\n",
    "        self.fc = nn.Linear(2048,10)\n",
    "\n",
    "    def forward(self, x):\n",
    "        save = []\n",
    "        \n",
    "        x = self.conv1(x)\n",
    "        x = self.bn1(x)\n",
    "        x = self.relu(x)\n",
    "        save.append(x)\n",
    "        \n",
    "        #print(x.size())\n",
    "            \n",
    "        x = self.conv2_1([self.prepool1(x),x,self.prepool2(x)])\n",
    "        save.append(x[0])\n",
    "        save.append(x[1])\n",
    "        save.append(x[2])\n",
    "        x = self.conv2_2(x)\n",
    "        save.append(x[0])\n",
    "        save.append(x[1])\n",
    "        save.append(x[2])\n",
    "        x = self.conv2_3(x)\n",
    "        save.append(x[0])\n",
    "        save.append(x[1])\n",
    "        save.append(x[2])\n",
    "        \n",
    "        x = self.rp1(x)\n",
    "        save.append(x)\n",
    "        \n",
    "        #print(x.size())\n",
    "        \n",
    "        x = self.conv3_1([self.prepool1(x),x,self.prepool2(x)])\n",
    "        save.append(x[0])\n",
    "        save.append(x[1])\n",
    "        save.append(x[2])\n",
    "        x = self.conv3_2(x)\n",
    "        save.append(x[0])\n",
    "        save.append(x[1])\n",
    "        save.append(x[2])\n",
    "        x = self.conv3_3(x)\n",
    "        save.append(x[0])\n",
    "        save.append(x[1])\n",
    "        save.append(x[2])\n",
    "        x = self.conv3_4(x)\n",
    "        save.append(x[0])\n",
    "        save.append(x[1])\n",
    "        save.append(x[2])\n",
    "        \n",
    "        x = self.rp2(x)\n",
    "        save.append(x)\n",
    "        \n",
    "        x = self.conv4_1([self.prepool1(x),x,self.prepool2(x)])\n",
    "        save.append(x[0])\n",
    "        save.append(x[1])\n",
    "        save.append(x[2])\n",
    "        x = self.conv4_2(x)\n",
    "        save.append(x[0])\n",
    "        save.append(x[1])\n",
    "        save.append(x[2])\n",
    "        x = self.conv4_3(x)\n",
    "        save.append(x[0])\n",
    "        save.append(x[1])\n",
    "        save.append(x[2])\n",
    "        x = self.conv4_4(x)\n",
    "        save.append(x[0])\n",
    "        save.append(x[1])\n",
    "        save.append(x[2])\n",
    "        x = self.conv4_5(x)\n",
    "        save.append(x[0])\n",
    "        save.append(x[1])\n",
    "        save.append(x[2])\n",
    "        x = self.conv4_6(x)\n",
    "        save.append(x[0])\n",
    "        save.append(x[1])\n",
    "        save.append(x[2])\n",
    "        \n",
    "        x = self.rp3(x)\n",
    "        save.append(x)\n",
    "        \n",
    "        x = self.conv5_1([self.prepool1(x),x,self.prepool2(x)])\n",
    "        save.append(x[0])\n",
    "        save.append(x[1])\n",
    "        save.append(x[2])\n",
    "        x = self.conv5_2(x)\n",
    "        save.append(x[0])\n",
    "        save.append(x[1])\n",
    "        save.append(x[2])\n",
    "        x = self.conv5_3(x)\n",
    "        save.append(x[0])\n",
    "        save.append(x[1])\n",
    "        save.append(x[2])\n",
    "        \n",
    "        x = self.rp4(x)\n",
    "        save.append(x)\n",
    "        \n",
    "        x = self.avgpool(x)\n",
    "        x = torch.flatten(x,1)\n",
    "        x = self.fc(x)\n",
    "        \n",
    "        return x,save\n",
    "        \n",
    "        "
   ]
  },
  {
   "cell_type": "code",
   "execution_count": null,
   "metadata": {},
   "outputs": [],
   "source": [
    "model1 = Net().to('cuda:0')\n",
    "if torch.cuda.device_count() > 1:\n",
    "    model1 = DDP(model1,device_ids = [0])\n",
    "'''    \n",
    "model2 = Net().to('cuda:0')\n",
    "if torch.cuda.device_count() > 1:\n",
    "    model2 = DDP(model2,device_ids = [2])'''"
   ]
  },
  {
   "cell_type": "code",
   "execution_count": null,
   "metadata": {},
   "outputs": [],
   "source": [
    "model1.load_state_dict(torch.load('ResNet50_allsc_half_mar11.pt'))\n",
    "#model2.load_state_dict(torch.load('ResNet50_scrp2_feb19.pt'))"
   ]
  },
  {
   "cell_type": "code",
   "execution_count": null,
   "metadata": {},
   "outputs": [],
   "source": [
    "model1.eval()\n",
    "#model2.eval()"
   ]
  },
  {
   "cell_type": "code",
   "execution_count": null,
   "metadata": {},
   "outputs": [],
   "source": [
    "from PIL import Image\n",
    "\n",
    "transform = transforms.Compose([\n",
    "    transforms.ToTensor(),\n",
    "    transforms.Normalize((0.1307, 0.1307, 0.1307), (0.3081, 0.3081, 0.3081))])\n",
    "\n",
    "SIZED_VAL_PATH = 'mnist_sized'\n",
    "l2_img_test_arr = []\n",
    "for i in range(1,113):\n",
    "    img_path = os.path.join(SIZED_VAL_PATH,str(i),'9','1622.png')\n",
    "    img = Image.open(img_path)\n",
    "    img = transform(img)\n",
    "    img = torch.unsqueeze(img,0)\n",
    "    img.to(device)\n",
    "    l2_img_test_arr.append(img)"
   ]
  },
  {
   "cell_type": "code",
   "execution_count": null,
   "metadata": {},
   "outputs": [],
   "source": [
    "!mkdir res50_allsc_l2"
   ]
  },
  {
   "cell_type": "code",
   "execution_count": null,
   "metadata": {
    "scrolled": true
   },
   "outputs": [],
   "source": [
    "name = ['1st conv',\\\n",
    "        'sc2_1_1(256)','sc2_1_2(256)','sc2_1_3(256)',\\\n",
    "        'sc2_2_1(256)','sc2_2_2(256)','sc2_2_3(256)',\\\n",
    "        'sc2_3_1(256)','sc2_3_2(256)','sc2_3_3(256)',\\\n",
    "        'rp2',\\\n",
    "        'sc3_1_1(512)','sc3_1_2(512)','sc3_1_3(512)',\\\n",
    "        'sc3_2_1(512)','sc3_2_2(512)','sc3_2_3(512)',\\\n",
    "        'sc3_3_1(512)','sc3_3_2(512)','sc3_3_3(512)',\\\n",
    "        'sc3_4_1(512)','sc3_4_2(512)','sc3_4_3(512)',\\\n",
    "        'rp3',\\\n",
    "        'sc4_1_1(1024)','sc4_1_2(1024)','sc4_1_3(1024)',\\\n",
    "        'sc4_2_1(1024)','sc4_2_2(1024)','sc4_2_3(1024)',\\\n",
    "        'sc4_3_1(1024)','sc4_3_2(1024)','sc4_3_3(1024)',\\\n",
    "        'sc4_4_1(1024)','sc4_4_2(1024)','sc4_4_3(1024)',\\\n",
    "        'sc4_5_1(1024)','sc4_5_2(1024)','sc4_5_3(1024)',\\\n",
    "        'sc4_6_1(1024)','sc4_6_2(1024)','sc4_6_3(1024)',\\\n",
    "        'rp4',\\\n",
    "        'sc5_1_1(2048)','sc5_1_2(2048)','sc5_1_3(2048)',\\\n",
    "        'sc5_2_1(2048)','sc5_2_2(2048)','sc5_2_3(2048)',\\\n",
    "        'sc5_3_1(2048)','sc5_3_2(2048)','sc5_3_3(2048)',\\\n",
    "        'rp5']\n",
    "\n",
    "size = 1\n",
    "for img in tqdm(l2_img_test_arr):\n",
    "    with torch.no_grad():\n",
    "        outputs,save = model1(img)\n",
    "        _, predicted = torch.max(outputs.data, 1)\n",
    "    print(predicted)\n",
    "    \n",
    "    j = 0\n",
    "    plt.figure(figsize=(24,12))\n",
    "    plt.suptitle('resnet L2ALL SC half image size:'+str(size)+'\\n'+'predicted :'+str(predicted.cpu().numpy()[0])+' ground truth:9')\n",
    "    #plt.suptitle('resnet L2 ALL layer SC half')\n",
    "    for act in save:\n",
    "        dist = []\n",
    "        index = np.arange(act[0].size()[0])\n",
    "        for i in range(act[0].size()[0]):\n",
    "            dist.append(torch.norm(act[0][i],p=2).cpu().detach().numpy())\n",
    "        plt.subplot(6,9,j+1)\n",
    "        plt.title(name[j])\n",
    "        plt.bar(index,dist)\n",
    "        j = j+1\n",
    "        plt.gca().axes.get_xaxis().set_visible(False)\n",
    "    plt.savefig('res50_allsc_l2/l2_'+str(size)+'.png')\n",
    "    plt.show()\n",
    "    size = size+1"
   ]
  },
  {
   "cell_type": "code",
   "execution_count": null,
   "metadata": {},
   "outputs": [],
   "source": [
    "import cv2\n",
    "\n",
    "frame_array = []\n",
    "for i in range(1,113):\n",
    "    filename='res50_allsc_l2/l2_'+str(i)+'.png'\n",
    "    img = cv2.imread(filename)\n",
    "    height, width, layers = img.shape\n",
    "    size = (width,height)\n",
    "    \n",
    "    #inserting the frames into an image array\n",
    "    frame_array.append(img)\n",
    "    \n",
    "out = cv2.VideoWriter('res50_allsc_l2/allsc_half_l2_mar15.mp4',cv2.VideoWriter_fourcc(*'MP4V'), 5, size)\n",
    "for i in range(len(frame_array)):\n",
    "    # writing to a image array\n",
    "    out.write(frame_array[i])\n",
    "out.release()"
   ]
  },
  {
   "cell_type": "code",
   "execution_count": null,
   "metadata": {},
   "outputs": [],
   "source": [
    "def imshow(img):\n",
    "    img = img / 2 + 0.5     # unnormalize\n",
    "    npimg = img.detach().numpy()\n",
    "    #plt.imshow(np.transpose(npimg, (1, 2, 0)))\n",
    "    return np.transpose(npimg, (1, 2, 0))"
   ]
  },
  {
   "cell_type": "code",
   "execution_count": null,
   "metadata": {},
   "outputs": [],
   "source": [
    "import matplotlib.cm as cm\n",
    "\n",
    "def show_gradient(gradient):\n",
    "    #gradient = gradient.cpu().numpy().transpose(1, 2, 0)\n",
    "    gradient = gradient.cpu().numpy().transpose(1,2,0)\n",
    "    gradient -= gradient.min()\n",
    "    gradient /= gradient.max()\n",
    "    gradient *= 255.0\n",
    "    plt.imshow(np.squeeze(np.uint8(gradient),axis=2))\n",
    "    plt.show()\n",
    "\n",
    "def show_gradcam(gcam, raw_image, paper_cmap=False,show = True):\n",
    "    gcam = gcam.cpu().numpy()\n",
    "    cmap = cm.jet(gcam)[..., :3]*255.0#\n",
    "    if paper_cmap:\n",
    "        alpha = gcam[..., None]\n",
    "        gcam = alpha * cmap + (1 - alpha) * raw_image\n",
    "    else:\n",
    "        gcam = (cmap.astype(np.float) + raw_image.astype(np.float)) / 2\n",
    "        #gcam = (cmap.astype(np.float)*raw_image.astype(np.float))\n",
    "    if show:\n",
    "        plt.imshow(gcam.astype(np.uint8))\n",
    "        plt.show()\n",
    "        return 0\n",
    "    else:\n",
    "        return gcam.astype(np.uint8)"
   ]
  },
  {
   "cell_type": "code",
   "execution_count": null,
   "metadata": {},
   "outputs": [],
   "source": [
    "!mkdir 'gradcam_2x_respool_soloconv'"
   ]
  },
  {
   "cell_type": "code",
   "execution_count": null,
   "metadata": {
    "scrolled": true
   },
   "outputs": [],
   "source": [
    "from sklearn.metrics import confusion_matrix\n",
    "\n",
    "confusion = []\n",
    "\n",
    "temp_acc = []\n",
    "device = 'cuda:0'\n",
    "for testloader in tqdm(val_gen_arr):\n",
    "    correct = 0\n",
    "    total = 0\n",
    "    class_correct = list(0. for i in range(10))\n",
    "    class_total = list(0. for i in range(10))\n",
    "    confusion.append([])\n",
    "    with torch.no_grad():\n",
    "        for images in testloader:\n",
    "            c1 = images[0].to(device)\n",
    "            val_labels = images[1].to(device)\n",
    "            outputs = model1(c1)\n",
    "            _, predicted = torch.max(outputs.data, 1)\n",
    "            #print(predicted)\n",
    "            c = (predicted == val_labels).squeeze()\n",
    "            total += val_labels.size(0)\n",
    "            correct += (predicted == val_labels).sum().item()\n",
    "            \n",
    "            confusion[-1].append(confusion_matrix(val_labels.cpu().numpy(),predicted.cpu().numpy(),labels=[0,1,2,3,4,5,6,7,8,9]))\n",
    "    #print(total,correct,end='')\n",
    "\n",
    "    print('Accuracy of the network on the 10000 test images: %d %%' % (100 * correct / total))\n",
    "    temp_acc.append(100 * correct / total)\n",
    "    \n",
    "#print(confusion)\n"
   ]
  },
  {
   "cell_type": "code",
   "execution_count": null,
   "metadata": {},
   "outputs": [],
   "source": [
    "confusion_sum = []\n",
    "\n",
    "for i in range(len(confusion)):\n",
    "    confusion_sum.append(confusion[i][0])\n",
    "    for j in range(1,len(confusion[i])):\n",
    "        confusion_sum[i] += confusion[i][j]\n",
    "        \n",
    "print(confusion_sum[0])"
   ]
  },
  {
   "cell_type": "code",
   "execution_count": null,
   "metadata": {},
   "outputs": [],
   "source": [
    "!mkdir confusion_2x_respool_soloconv"
   ]
  },
  {
   "cell_type": "code",
   "execution_count": null,
   "metadata": {},
   "outputs": [],
   "source": [
    "for size in range(0,112):\n",
    "    fig = plt.figure(figsize=(12,12))\n",
    "    pred_name = ['pred '+str(x) for x in range(0,10)]\n",
    "    actual_name = ['true '+str(x) for x in range(0,10)]\n",
    "    ax = fig.add_subplot(111)\n",
    "    cax = ax.matshow(confusion_sum[size],cmap = plt.cm.Greens)\n",
    "    fig.colorbar(cax)\n",
    "    ticks = np.arange(0,10,1)\n",
    "\n",
    "    ind_array = np.arange(0, 10, 1)\n",
    "    x, y = np.meshgrid(ind_array, ind_array)\n",
    "\n",
    "    for x_val, y_val in zip(x.flatten(), y.flatten()):\n",
    "        c = str(confusion_sum[size][y_val][x_val])\n",
    "        ax.text(x_val, y_val, c, va='center', ha='center')\n",
    "\n",
    "    ax.set_xticks(ticks)\n",
    "    ax.set_yticks(ticks)\n",
    "    ax.set_xticklabels(pred_name)\n",
    "    ax.set_yticklabels(actual_name)\n",
    "    ax.set_title('size : '+str(size+1)+' acc : '+str(temp_acc[size]))\n",
    "    #plt.matshow(confusion_sum[0])\n",
    "    plt.savefig('confusion_2x_respool_soloconv/confusion'+str(size)+'.png')\n",
    "    plt.show()"
   ]
  },
  {
   "cell_type": "code",
   "execution_count": null,
   "metadata": {},
   "outputs": [],
   "source": [
    "import cv2\n",
    "\n",
    "frame_array = []\n",
    "for i in range(0,112):\n",
    "    filename='confusion_2x_respool_soloconv/confusion' + str(i)+'.png'\n",
    "    img = cv2.imread(filename)\n",
    "    height, width, layers = img.shape\n",
    "    size = (width,height)\n",
    "    \n",
    "    #inserting the frames into an image array\n",
    "    frame_array.append(img)\n",
    "    \n",
    "out = cv2.VideoWriter('confusion_2x_respool_soloconv/confusion_feb13.mp4',cv2.VideoWriter_fourcc(*'MP4V'), 5, size)\n",
    "for i in range(len(frame_array)):\n",
    "    # writing to a image array\n",
    "    out.write(frame_array[i])\n",
    "out.release()"
   ]
  },
  {
   "cell_type": "code",
   "execution_count": null,
   "metadata": {},
   "outputs": [],
   "source": [
    "import os\n",
    "\n",
    "\n",
    "SIZED_VAL_PATH = 'mnist_sized'\n",
    "new_path = []\n",
    "for i in range(1,113):\n",
    "    new_path.append([os.path.join(SIZED_VAL_PATH,str(i))])\n",
    "\n",
    "#new_path.sort(key=lambda x:int(x[0].split('/')[1]))\n",
    "\n",
    "gradcam_gen_arr = []\n",
    "for i in tqdm(range(0,len(new_path))):\n",
    "    transform = transforms.Compose(\n",
    "        [\n",
    "        transforms.ToTensor(),\n",
    "        transforms.Normalize((0.1307, 0.1307, 0.1307), (0.3081, 0.3081, 0.3081))])\n",
    "\n",
    "    testMnistDataset = SizedMnistDataset(new_path[i],transform)\n",
    "\n",
    "    testloader = torch.utils.data.DataLoader(testMnistDataset,\n",
    "                                              batch_size = batch_size, \n",
    "                                              shuffle=False,\n",
    "                                            num_workers=8)\n",
    "    gradcam_gen_arr.append(testloader)\n",
    "#\n",
    "#val_gen_arr\n",
    "accuracy = []"
   ]
  },
  {
   "cell_type": "code",
   "execution_count": null,
   "metadata": {},
   "outputs": [],
   "source": [
    "from gradcam import GradCAM\n",
    "from gradcam import GuidedBackPropagation\n",
    "\n",
    "#model1.eval()\n",
    "#model2.eval()\n",
    "gcam = GradCAM(model=model1)\n",
    "gbp = GuidedBackPropagation(model=model2)"
   ]
  },
  {
   "cell_type": "code",
   "execution_count": null,
   "metadata": {},
   "outputs": [],
   "source": [
    "for name, module in model1.named_modules():\n",
    "    print(name)"
   ]
  },
  {
   "cell_type": "code",
   "execution_count": null,
   "metadata": {},
   "outputs": [],
   "source": [
    "for i in gcam.fmap_pool.keys():\n",
    "    print(i)"
   ]
  },
  {
   "cell_type": "code",
   "execution_count": null,
   "metadata": {},
   "outputs": [],
   "source": [
    "from matplotlib import gridspec\n",
    "\n",
    "gridspec.GridSpec(3,6)\n",
    "\n",
    "imsize = 1\n",
    "for testloader in tqdm(gradcam_gen_arr):\n",
    "    for images in testloader:\n",
    "        v1 = images[0].to(device)\n",
    "        val_labels = images[1].to(device)\n",
    "        break\n",
    "\n",
    "    _ = gcam.forward(v1)\n",
    "    probs,ids = gbp.forward(v1)\n",
    "\n",
    "    gcam.backward(ids=ids[:,[0]])\n",
    "    gbp.backward(ids=ids[:,[0]])\n",
    "\n",
    "    grad_img = []\n",
    "\n",
    "    for j in range(len(v1)):\n",
    "        grad_img.append([])\n",
    "        for name, module in model1.named_modules():\n",
    "            #print(name)\n",
    "            if name == '' or name == 'module' or name == 'module.fc1' or name == 'module.fc2' or name == 'module.fc3' or name == 'module.prepool1' or name == 'module.prepool2':\n",
    "                continue\n",
    "            regions = gcam.generate(target_layer=name)\n",
    "            gradients = gbp.generate()\n",
    "            #print(\"\\t#{}: {} ({:.5f})\".format(j, ids[j, 0], probs[j, 0]))\n",
    "            #print(regions[j,0])\n",
    "            if name == 'module.sc1' or name == 'module.sc2' or name == 'module.sc3':\n",
    "                grad_img[j].append(show_gradcam(gcam=regions[0][j,0],raw_image=imshow(v1[j].cpu()),show=False))\n",
    "                grad_img[j].append(show_gradcam(gcam=regions[1][j,0],raw_image=imshow(v1[j].cpu()),show=False))\n",
    "                grad_img[j].append(show_gradcam(gcam=regions[2][j,0],raw_image=imshow(v1[j].cpu()),show=False))\n",
    "            if name == 'module.rp1':\n",
    "                grad_img[j].append(show_gradcam(gcam=regions[j,0],raw_image=imshow(v1[j].cpu()),show=False))\n",
    "\n",
    "    img_num = [0,1,2,3,4,5,15,16,17,18,19,20,31,32,33,34]\n",
    "    col_num = [3,3,3,1]\n",
    "    title = ['sc1 (L1,L2,L3)','sc2(L1,L2,L3)','sc3(L1,L2,L3)','rp1']\n",
    "    size = 112\n",
    "    \n",
    "    scale = 3./size\n",
    "    plt.figure(figsize=(18,9))\n",
    "    plt.suptitle('SC_CNN_2x_respool_gradcam'+'_size:'+str(imsize)+'_acc:'+str(temp_acc[imsize-1])+'\\n predicted:{} ({:.5f})'.format(ids[0, 0], probs[0, 0]))\n",
    "    num = 0\n",
    "    for i in range(len(col_num)):\n",
    "        display_grid = np.zeros((112,112*col_num[i],3)).astype(np.uint8)\n",
    "        for row in range(col_num[i]):\n",
    "            display_grid[:size,row*size : (row+1)*size,:3] = grad_img[0][num]\n",
    "            num = num+1\n",
    "        if i == 3:\n",
    "            plt.subplot2grid((3,6), (i//2,(i%2)*3),colspan = 1,rowspan=1)\n",
    "        else:\n",
    "            plt.subplot2grid((3,6), (i//2,(i%2)*3),colspan = 3,rowspan=1)\n",
    "        plt.axis('off')\n",
    "        plt.title(title[i])\n",
    "        plt.grid(False)\n",
    "        plt.imshow(display_grid,aspect='auto')\n",
    "    plt.savefig('gradcam_2x_respool/pltgrad'+str(imsize)+'.png')\n",
    "    plt.show()\n",
    "    imsize = imsize+1"
   ]
  },
  {
   "cell_type": "code",
   "execution_count": null,
   "metadata": {},
   "outputs": [],
   "source": [
    "v1.size()"
   ]
  },
  {
   "cell_type": "code",
   "execution_count": null,
   "metadata": {},
   "outputs": [],
   "source": [
    "frame_array = []\n",
    "for i in range(1,113):\n",
    "    filename='gradcam_2x/pltgrad' + str(i)+'.png'\n",
    "    img = cv2.imread(filename)\n",
    "    height, width, layers = img.shape\n",
    "    size = (width,height)\n",
    "    \n",
    "    #inserting the frames into an image array\n",
    "    frame_array.append(img)\n",
    "    \n",
    "out = cv2.VideoWriter('gradcam_2x_respool/gradcam_ordered_feb13.mp4',cv2.VideoWriter_fourcc(*'MP4V'), 5, size)\n",
    "for i in range(len(frame_array)):\n",
    "    # writing to a image array\n",
    "    out.write(frame_array[i])\n",
    "out.release()"
   ]
  },
  {
   "cell_type": "code",
   "execution_count": null,
   "metadata": {},
   "outputs": [],
   "source": [
    "for i in gcam.fmap_pool.keys():\n",
    "    print(i)"
   ]
  },
  {
   "cell_type": "code",
   "execution_count": null,
   "metadata": {},
   "outputs": [],
   "source": [
    "num=0\n",
    "\n",
    "#plt.figure(figsize=(12,5))\n",
    "plt.matshow([gcam.fmap_pool['module.fc1'].cpu().numpy()[num]])\n",
    "plt.matshow([gcam.fmap_pool['module.fc2'].cpu().numpy()[num]])\n",
    "plt.matshow([gcam.fmap_pool['module.fc3'].cpu().numpy()[num]])\n",
    "\n",
    "plt.show()"
   ]
  },
  {
   "cell_type": "code",
   "execution_count": null,
   "metadata": {},
   "outputs": [],
   "source": [
    "i=0\n",
    "print(gcam.fmap_pool['module.prepool1'].cpu().numpy()[0][i].var())\n",
    "plt.imshow(gcam.fmap_pool['module.prepool2'].cpu().numpy()[0][i])\n",
    "plt.show()"
   ]
  },
  {
   "cell_type": "code",
   "execution_count": null,
   "metadata": {},
   "outputs": [],
   "source": [
    "gcam.fmap_pool['module.sc1_1'].cpu().numpy()[0][0]"
   ]
  },
  {
   "cell_type": "code",
   "execution_count": null,
   "metadata": {},
   "outputs": [],
   "source": [
    "num = 1\n",
    "#print(gcam.fmap_pool['module.sc1_1'].cpu().numpy()[0][num])\n",
    "plt.figure(figsize=(16,12))\n",
    "for i in range(6):\n",
    "    plt.subplot(3,6,i+1)\n",
    "    plt.imshow(gcam.fmap_pool['module.sc1_1'].cpu().numpy()[0][i])\n",
    "for i in range(6):\n",
    "    plt.subplot(3,6,i+1+6)\n",
    "    plt.imshow(gcam.fmap_pool['module.sc1_2'].cpu().numpy()[0][i])\n",
    "for i in range(6):\n",
    "    plt.subplot(3,6,i+1+12)\n",
    "    plt.imshow(gcam.fmap_pool['module.sc1_3'].cpu().numpy()[0][i])\n",
    "plt.show()"
   ]
  },
  {
   "cell_type": "code",
   "execution_count": null,
   "metadata": {},
   "outputs": [],
   "source": [
    "num = 1\n",
    "#print(gcam.fmap_pool['module.sc1_1'].cpu().numpy()[0][num])\n",
    "plt.figure(figsize=(16,5))\n",
    "for i in range(18):\n",
    "    plt.subplot(3,18,i+1)\n",
    "    plt.imshow(gcam.fmap_pool['module.sc2_1'].cpu().numpy()[0][i])\n",
    "for i in range(18):\n",
    "    plt.subplot(3,18,i+1+18)\n",
    "    plt.imshow(gcam.fmap_pool['module.sc2_2'].cpu().numpy()[0][i])\n",
    "for i in range(18):\n",
    "    plt.subplot(3,18,i+1+36)\n",
    "    plt.imshow(gcam.fmap_pool['module.sc2_3'].cpu().numpy()[0][i])\n",
    "plt.show()"
   ]
  },
  {
   "cell_type": "code",
   "execution_count": null,
   "metadata": {},
   "outputs": [],
   "source": [
    "num = 1\n",
    "#print(gcam.fmap_pool['module.sc1_1'].cpu().numpy()[0][num])\n",
    "plt.figure(figsize=(16,5))\n",
    "for i in range(30):\n",
    "    plt.subplot(3,30,i+1)\n",
    "    plt.imshow(gcam.fmap_pool['module.sc3_1'].cpu().numpy()[0][i])\n",
    "for i in range(30):\n",
    "    plt.subplot(3,30,i+1+30)\n",
    "    plt.imshow(gcam.fmap_pool['module.sc3_2'].cpu().numpy()[0][i])\n",
    "for i in range(30):\n",
    "    plt.subplot(3,30,i+1+60)\n",
    "    plt.imshow(gcam.fmap_pool['module.sc3_3'].cpu().numpy()[0][i])\n",
    "plt.show()"
   ]
  },
  {
   "cell_type": "code",
   "execution_count": null,
   "metadata": {},
   "outputs": [],
   "source": [
    "num = 1\n",
    "#print(gcam.fmap_pool['module.sc1_1'].cpu().numpy()[0][num])\n",
    "plt.figure(figsize=(16,5))\n",
    "for i in range(30):\n",
    "    plt.subplot(3,10,i+1)\n",
    "    plt.imshow(gcam.fmap_pool['module.rp1'].cpu().numpy()[0][i])\n",
    "plt.show()"
   ]
  },
  {
   "cell_type": "code",
   "execution_count": null,
   "metadata": {},
   "outputs": [],
   "source": [
    "gcam.fmap_pool['module.sc1_1'].cpu().numpy().shape"
   ]
  },
  {
   "cell_type": "code",
   "execution_count": null,
   "metadata": {},
   "outputs": [],
   "source": [
    "num = 1\n",
    "conv_list = ['module.sc1.conv1','module.sc1.conv2','module.sc1.conv3']\n",
    "conv_num = 0\n",
    "#print(gcam.fmap_pool[conv_list[conv_num]].cpu().numpy()[0][num])\n",
    "for i in range(2):\n",
    "    plt.subplot(1,2,i+1)\n",
    "    plt.imshow(gcam.fmap_pool[conv_list[conv_num]].cpu().numpy()[0][i])\n",
    "plt.show()"
   ]
  },
  {
   "cell_type": "code",
   "execution_count": null,
   "metadata": {},
   "outputs": [],
   "source": [
    "num = 1\n",
    "conv_list = ['module.sc1.conv1','module.sc1.conv2','module.sc1.conv3']\n",
    "conv_num = 1\n",
    "#print(gcam.fmap_pool[conv_list[conv_num]].cpu().numpy()[0][num])\n",
    "for i in range(2):\n",
    "    plt.subplot(1,2,i+1)\n",
    "    plt.imshow(gcam.fmap_pool[conv_list[conv_num]].cpu().numpy()[0][i])\n",
    "plt.show()"
   ]
  },
  {
   "cell_type": "code",
   "execution_count": null,
   "metadata": {},
   "outputs": [],
   "source": [
    "num = 1\n",
    "conv_list = ['module.sc1.conv1','module.sc1.conv2','module.sc1.conv3']\n",
    "conv_num = 2\n",
    "#print(gcam.fmap_pool[conv_list[conv_num]].cpu().numpy()[0][num])\n",
    "for i in range(2):\n",
    "    plt.subplot(1,2,i+1)\n",
    "    plt.imshow(gcam.fmap_pool[conv_list[conv_num]].cpu().numpy()[0][i])\n",
    "plt.show()"
   ]
  },
  {
   "cell_type": "code",
   "execution_count": null,
   "metadata": {},
   "outputs": [],
   "source": [
    "model1.module.sc1.conv1.weight.shape"
   ]
  },
  {
   "cell_type": "code",
   "execution_count": null,
   "metadata": {},
   "outputs": [],
   "source": [
    "for i in range(3):\n",
    "    print(model1.module.sc1.conv1.weight[0][i].cpu().detach().numpy())\n",
    "    plt.imshow(model1.module.sc1.conv1.weight[0][i].cpu().detach().numpy())#.shape\n",
    "    plt.show()"
   ]
  },
  {
   "cell_type": "code",
   "execution_count": null,
   "metadata": {},
   "outputs": [],
   "source": [
    "for i in range(3):\n",
    "    print(model1.module.sc1.conv2.weight[0][i].cpu().detach().numpy())\n",
    "    plt.imshow(model1.module.sc1.conv2.weight[0][i].cpu().detach().numpy())#.shape\n",
    "    plt.show()"
   ]
  },
  {
   "cell_type": "code",
   "execution_count": null,
   "metadata": {},
   "outputs": [],
   "source": [
    "for i in range(3):\n",
    "    print(model1.module.sc1.conv3.weight[0][i].cpu().detach().numpy())\n",
    "    plt.imshow(model1.module.sc1.conv3.weight[0][i].cpu().detach().numpy())#.shape\n",
    "    plt.show()"
   ]
  },
  {
   "cell_type": "code",
   "execution_count": null,
   "metadata": {},
   "outputs": [],
   "source": []
  }
 ],
 "metadata": {
  "accelerator": "GPU",
  "colab": {
   "collapsed_sections": [],
   "name": "SC_CNN_v0.ipynb",
   "provenance": []
  },
  "kernelspec": {
   "display_name": "Python 3",
   "language": "python",
   "name": "python3"
  },
  "language_info": {
   "codemirror_mode": {
    "name": "ipython",
    "version": 3
   },
   "file_extension": ".py",
   "mimetype": "text/x-python",
   "name": "python",
   "nbconvert_exporter": "python",
   "pygments_lexer": "ipython3",
   "version": "3.6.9"
  }
 },
 "nbformat": 4,
 "nbformat_minor": 1
}
