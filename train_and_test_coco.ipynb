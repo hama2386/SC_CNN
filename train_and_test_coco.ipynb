{
 "cells": [
  {
   "cell_type": "code",
   "execution_count": 1,
   "metadata": {
    "colab": {
     "base_uri": "https://localhost:8080/",
     "height": 318
    },
    "colab_type": "code",
    "id": "SD8EvIMWEBPH",
    "outputId": "f582d519-eb7a-457f-9705-0d961fc032a2"
   },
   "outputs": [
    {
     "name": "stdout",
     "output_type": "stream",
     "text": [
      "Sun Apr  5 18:40:56 2020       \r\n",
      "+-----------------------------------------------------------------------------+\r\n",
      "| NVIDIA-SMI 440.33.01    Driver Version: 440.33.01    CUDA Version: 10.2     |\r\n",
      "|-------------------------------+----------------------+----------------------+\r\n",
      "| GPU  Name        Persistence-M| Bus-Id        Disp.A | Volatile Uncorr. ECC |\r\n",
      "| Fan  Temp  Perf  Pwr:Usage/Cap|         Memory-Usage | GPU-Util  Compute M. |\r\n",
      "|===============================+======================+======================|\r\n",
      "|   0  GeForce RTX 208...  Off  | 00000000:3B:00.0 Off |                  N/A |\r\n",
      "| 56%   64C    P0    59W / 250W |      0MiB / 11019MiB |      0%      Default |\r\n",
      "+-------------------------------+----------------------+----------------------+\r\n",
      "|   1  GeForce RTX 208...  Off  | 00000000:5E:00.0 Off |                  N/A |\r\n",
      "| 51%   61C    P0    72W / 250W |      0MiB / 11019MiB |      1%      Default |\r\n",
      "+-------------------------------+----------------------+----------------------+\r\n",
      "|   2  GeForce RTX 208...  Off  | 00000000:86:00.0 Off |                  N/A |\r\n",
      "| 40%   56C    P0    61W / 250W |      0MiB / 11019MiB |      0%      Default |\r\n",
      "+-------------------------------+----------------------+----------------------+\r\n",
      "|   3  GeForce RTX 208...  Off  | 00000000:AF:00.0 Off |                  N/A |\r\n",
      "| 69%   66C    P0    36W / 250W |      0MiB / 11016MiB |      0%      Default |\r\n",
      "+-------------------------------+----------------------+----------------------+\r\n",
      "                                                                               \r\n",
      "+-----------------------------------------------------------------------------+\r\n",
      "| Processes:                                                       GPU Memory |\r\n",
      "|  GPU       PID   Type   Process name                             Usage      |\r\n",
      "|=============================================================================|\r\n",
      "|  No running processes found                                                 |\r\n",
      "+-----------------------------------------------------------------------------+\r\n"
     ]
    }
   ],
   "source": [
    "!nvidia-smi "
   ]
  },
  {
   "cell_type": "code",
   "execution_count": 2,
   "metadata": {
    "colab": {},
    "colab_type": "code",
    "id": "QuCAgoS1Hn4L"
   },
   "outputs": [
    {
     "data": {
      "text/plain": [
       "'# For clean\\n\\nimport os\\nimport fnmatch\\n \\nINTERNAL_DATA_PATH = \\'cropped_coco/\\'\\n# Get a list of all files in directory\\nfor rootDir, subdirs, filenames in os.walk(INTERNAL_DATA_PATH):\\n    # Find the files that matches the given patterm\\n    for filename in fnmatch.filter(filenames, \\'.*\\'):\\n        try:\\n            #print(filename)\\n            os.remove(os.path.join(rootDir, filename))\\n        except OSError:\\n            print(\"Error while deleting file\")\\n    for subdir in fnmatch.filter(subdirs, \\'.*\\'):\\n        try:\\n            #print(filename)\\n            os.remove(os.path.join(rootDir, subdir))\\n        except OSError:\\n            print(\"Error while deleting file\")'"
      ]
     },
     "execution_count": 2,
     "metadata": {},
     "output_type": "execute_result"
    }
   ],
   "source": [
    "'''# For clean\n",
    "\n",
    "import os\n",
    "import fnmatch\n",
    " \n",
    "INTERNAL_DATA_PATH = 'cropped_coco/'\n",
    "# Get a list of all files in directory\n",
    "for rootDir, subdirs, filenames in os.walk(INTERNAL_DATA_PATH):\n",
    "    # Find the files that matches the given patterm\n",
    "    for filename in fnmatch.filter(filenames, '.*'):\n",
    "        try:\n",
    "            #print(filename)\n",
    "            os.remove(os.path.join(rootDir, filename))\n",
    "        except OSError:\n",
    "            print(\"Error while deleting file\")\n",
    "    for subdir in fnmatch.filter(subdirs, '.*'):\n",
    "        try:\n",
    "            #print(filename)\n",
    "            os.remove(os.path.join(rootDir, subdir))\n",
    "        except OSError:\n",
    "            print(\"Error while deleting file\")'''"
   ]
  },
  {
   "cell_type": "code",
   "execution_count": 3,
   "metadata": {
    "colab": {},
    "colab_type": "code",
    "id": "q-52A9hHEf9y"
   },
   "outputs": [],
   "source": [
    "import torchvision.datasets as datasets\n",
    "import torchvision.transforms as transforms\n",
    "import torchvision\n",
    "import torch\n",
    "from torch.utils.data import Dataset, DataLoader\n",
    "import os\n",
    "import matplotlib.pyplot as plt\n",
    "import numpy as np\n",
    "from tqdm import tqdm\n",
    "\n",
    "\n",
    "########################################################################\n",
    "batch_size = 16\n",
    "########################################################################\n"
   ]
  },
  {
   "cell_type": "code",
   "execution_count": 4,
   "metadata": {},
   "outputs": [],
   "source": [
    "DATASET_PATH = 'sampled_cropped_coco'\n",
    "TRAIN_PATH = DATASET_PATH + '/train/50'\n",
    "TEST_PATH = DATASET_PATH + '/val/50'"
   ]
  },
  {
   "cell_type": "code",
   "execution_count": 5,
   "metadata": {},
   "outputs": [],
   "source": [
    "#img_size = [729,243,81,27,9]  \n",
    "\n",
    "default_transform = transforms.Compose(\n",
    "    [transforms.Resize((224,224)),\n",
    "    transforms.ToTensor()])\n",
    "\n",
    "trainCocoDataset = datasets.ImageFolder(root=TRAIN_PATH,transform = default_transform)\n",
    "testCocoDataset = datasets.ImageFolder(root=TEST_PATH,transform = default_transform)\n",
    "\n",
    "trainloader = torch.utils.data.DataLoader(trainCocoDataset,\n",
    "                                          batch_size = batch_size, \n",
    "                                          shuffle=True,\n",
    "                                         num_workers=4)\n",
    "\n",
    "testloader = torch.utils.data.DataLoader(testCocoDataset,\n",
    "                                          batch_size = batch_size, \n",
    "                                          shuffle=False,\n",
    "                                        num_workers=4)\n"
   ]
  },
  {
   "cell_type": "code",
   "execution_count": 6,
   "metadata": {
    "scrolled": true
   },
   "outputs": [
    {
     "data": {
      "text/plain": [
       "'trainCocoDataset.class_to_idx'"
      ]
     },
     "execution_count": 6,
     "metadata": {},
     "output_type": "execute_result"
    }
   ],
   "source": [
    "'''trainCocoDataset.class_to_idx'''"
   ]
  },
  {
   "cell_type": "code",
   "execution_count": 7,
   "metadata": {},
   "outputs": [],
   "source": [
    "from SCResnet import SCResNet50,ResNet50\n",
    "from torchvision.models import resnet50\n"
   ]
  },
  {
   "cell_type": "code",
   "execution_count": 8,
   "metadata": {},
   "outputs": [],
   "source": [
    "from torch.nn.parallel.data_parallel import DataParallel\n",
    "from torch.nn.parallel import DistributedDataParallel as DDP\n",
    "import torch.distributed as dist\n",
    "\n",
    "os.environ['MASTER_ADDR'] = '127.0.0.1'\n",
    "os.environ['MASTER_PORT'] = '29500'\n",
    "dist.init_process_group(backend='nccl',rank=0,world_size=1)"
   ]
  },
  {
   "cell_type": "code",
   "execution_count": 9,
   "metadata": {
    "colab": {
     "base_uri": "https://localhost:8080/",
     "height": 214
    },
    "colab_type": "code",
    "id": "xdajs104otKK",
    "outputId": "294463e8-ed55-49c4-939e-6bdda6c87d72"
   },
   "outputs": [],
   "source": [
    "device = 'cuda:0'\n",
    "num_classes = 58\n",
    "#model1 = resnet50(num_classes=80).to(device)\n",
    "model1 = SCResNet50(num_classes).to(device)\n",
    "if torch.cuda.device_count() > 1:\n",
    "    model1 = DDP(model1,device_ids = [0,1,2,3],find_unused_parameters=True)"
   ]
  },
  {
   "cell_type": "code",
   "execution_count": 10,
   "metadata": {},
   "outputs": [
    {
     "name": "stderr",
     "output_type": "stream",
     "text": [
      "100%|██████████| 10/10 [00:01<00:00,  9.52it/s]\n"
     ]
    }
   ],
   "source": [
    "import os\n",
    "from torchvision import transforms\n",
    "\n",
    "SIZED_VAL_PATH = 'cropped_coco/val'\n",
    "\n",
    "val_gen_arr = []\n",
    "for i in tqdm(range(10,110,10)):\n",
    "    transform = transforms.Compose(\n",
    "        [\n",
    "        transforms.Resize((224,224)),\n",
    "        transforms.ToTensor()])\n",
    "\n",
    "    testCocoDataset_val = datasets.ImageFolder(root=os.path.join(SIZED_VAL_PATH,str(i)),transform = transform)\n",
    "\n",
    "    testloader_val = torch.utils.data.DataLoader(testCocoDataset_val,\n",
    "                                              batch_size = batch_size, \n",
    "                                              shuffle=False,\n",
    "                                            num_workers=4)\n",
    "    val_gen_arr.append(testloader_val)\n"
   ]
  },
  {
   "cell_type": "code",
   "execution_count": 11,
   "metadata": {
    "colab": {},
    "colab_type": "code",
    "id": "74xBqeGcpub_"
   },
   "outputs": [],
   "source": [
    "import torch.optim as optim\n",
    "import torch.nn as nn\n",
    "import torch.nn.functional as F\n",
    "\n",
    "learning_rate = 0.001\n",
    "criterion = nn.CrossEntropyLoss()\n",
    "optimizer = optim.Adam(model1.parameters(), lr=learning_rate)"
   ]
  },
  {
   "cell_type": "code",
   "execution_count": 12,
   "metadata": {},
   "outputs": [],
   "source": [
    "TEST_RESULT_PATH = 'testresults/'\n",
    "WEIGHTS_PATH = 'weights/'\n",
    "\n",
    "TASK_NAME = 'sampled_COCO_SCResnet_50'\n",
    "DATE = 'apr5'"
   ]
  },
  {
   "cell_type": "code",
   "execution_count": null,
   "metadata": {
    "colab": {
     "base_uri": "https://localhost:8080/",
     "height": 1000
    },
    "colab_type": "code",
    "id": "Pd0stQ4Jolv7",
    "outputId": "3e1b592d-71a2-41cf-9936-8dd874e59431",
    "scrolled": true
   },
   "outputs": [
    {
     "name": "stderr",
     "output_type": "stream",
     "text": [
      "0it [00:00, ?it/s]/nfs/home/hama2386/.local/lib/python3.6/site-packages/torch/nn/functional.py:2494: UserWarning: Default upsampling behavior when mode=bilinear is changed to align_corners=False since 0.4.0. Please specify align_corners=True if the old behavior is desired. See the documentation of nn.Upsample for details.\n",
      "  \"See the documentation of nn.Upsample for details.\".format(mode))\n",
      "10875it [2:03:06,  1.47it/s]\n",
      "  0%|          | 0/10 [00:00<?, ?it/s]"
     ]
    },
    {
     "name": "stdout",
     "output_type": "stream",
     "text": [
      "epoch: 0 3  batch\n",
      "Accuracy of     0 :  3 %\n",
      "Accuracy of     1 :  8 %\n",
      "Accuracy of     2 :  7 %\n",
      "Accuracy of     3 :  1 %\n",
      "Accuracy of     4 :  0 %\n",
      "Accuracy of     5 : 40 %\n",
      "Accuracy of     6 :  3 %\n",
      "Accuracy of     7 : 55 %\n",
      "Accuracy of     8 : 12 %\n",
      "Accuracy of     9 : 43 %\n",
      "Accuracy of    10 : 82 %\n",
      "Accuracy of    11 : 47 %\n",
      "Accuracy of    12 :  3 %\n",
      "Accuracy of    13 : 12 %\n",
      "Accuracy of    14 :  2 %\n",
      "Accuracy of    15 :  2 %\n",
      "Accuracy of    16 : 24 %\n",
      "Accuracy of    17 :  8 %\n",
      "Accuracy of    18 : 60 %\n",
      "Accuracy of    19 : 63 %\n",
      "Accuracy of    20 : 46 %\n",
      "Accuracy of    21 : 26 %\n",
      "Accuracy of    22 : 38 %\n",
      "Accuracy of    23 : 63 %\n",
      "Accuracy of    24 :  0 %\n",
      "Accuracy of    25 :  7 %\n",
      "Accuracy of    26 :  0 %\n",
      "Accuracy of    27 :  0 %\n",
      "Accuracy of    28 : 10 %\n",
      "Accuracy of    29 : 55 %\n",
      "Accuracy of    30 :  0 %\n",
      "Accuracy of    31 :  0 %\n",
      "Accuracy of    32 : 27 %\n",
      "Accuracy of    33 :  5 %\n",
      "Accuracy of    34 :  0 %\n",
      "Accuracy of    35 : 28 %\n",
      "Accuracy of    36 : 58 %\n",
      "Accuracy of    37 : 37 %\n",
      "Accuracy of    38 : 24 %\n",
      "Accuracy of    39 : 48 %\n",
      "Accuracy of    40 :  9 %\n",
      "Accuracy of    41 :  0 %\n",
      "Accuracy of    42 :  0 %\n",
      "Accuracy of    43 :  3 %\n",
      "Accuracy of    44 :  2 %\n",
      "Accuracy of    45 : 24 %\n",
      "Accuracy of    46 :  0 %\n",
      "Accuracy of    47 : 44 %\n",
      "Accuracy of    48 : 48 %\n",
      "Accuracy of    49 : 22 %\n",
      "Accuracy of    50 : 16 %\n",
      "Accuracy of    51 : 15 %\n",
      "Accuracy of    52 :  0 %\n",
      "Accuracy of    53 :  6 %\n",
      "Accuracy of    54 : 11 %\n",
      "Accuracy of    55 :  3 %\n",
      "Accuracy of    56 : 17 %\n",
      "Accuracy of    57 : 22 %\n",
      "epoch: 1/20 | step: 58/10875 | trn loss: 3.2978 | val loss: 3.7906\n",
      "Accuracy of the network on the 10000 test images: 11 %\n"
     ]
    },
    {
     "name": "stderr",
     "output_type": "stream",
     "text": [
      "\r",
      " 10%|█         | 1/10 [06:35<59:19, 395.55s/it]"
     ]
    },
    {
     "name": "stdout",
     "output_type": "stream",
     "text": [
      "Accuracy of the network on the 10000 test images: 1 %\n"
     ]
    },
    {
     "name": "stderr",
     "output_type": "stream",
     "text": [
      "\r",
      " 20%|██        | 2/10 [13:13<52:51, 396.41s/it]"
     ]
    },
    {
     "name": "stdout",
     "output_type": "stream",
     "text": [
      "Accuracy of the network on the 10000 test images: 1 %\n"
     ]
    },
    {
     "name": "stderr",
     "output_type": "stream",
     "text": [
      "\r",
      " 30%|███       | 3/10 [19:49<46:12, 396.01s/it]"
     ]
    },
    {
     "name": "stdout",
     "output_type": "stream",
     "text": [
      "Accuracy of the network on the 10000 test images: 1 %\n"
     ]
    },
    {
     "name": "stderr",
     "output_type": "stream",
     "text": [
      "\r",
      " 40%|████      | 4/10 [26:20<39:27, 394.57s/it]"
     ]
    },
    {
     "name": "stdout",
     "output_type": "stream",
     "text": [
      "Accuracy of the network on the 10000 test images: 2 %\n"
     ]
    },
    {
     "name": "stderr",
     "output_type": "stream",
     "text": [
      "\r",
      " 50%|█████     | 5/10 [32:54<32:52, 394.54s/it]"
     ]
    },
    {
     "name": "stdout",
     "output_type": "stream",
     "text": [
      "Accuracy of the network on the 10000 test images: 2 %\n"
     ]
    },
    {
     "name": "stderr",
     "output_type": "stream",
     "text": [
      "\r",
      " 60%|██████    | 6/10 [39:30<26:19, 394.97s/it]"
     ]
    },
    {
     "name": "stdout",
     "output_type": "stream",
     "text": [
      "Accuracy of the network on the 10000 test images: 2 %\n"
     ]
    },
    {
     "name": "stderr",
     "output_type": "stream",
     "text": [
      "\r",
      " 70%|███████   | 7/10 [46:06<19:45, 395.32s/it]"
     ]
    },
    {
     "name": "stdout",
     "output_type": "stream",
     "text": [
      "Accuracy of the network on the 10000 test images: 1 %\n"
     ]
    },
    {
     "name": "stderr",
     "output_type": "stream",
     "text": [
      "\r",
      " 80%|████████  | 8/10 [52:44<13:11, 395.97s/it]"
     ]
    },
    {
     "name": "stdout",
     "output_type": "stream",
     "text": [
      "Accuracy of the network on the 10000 test images: 1 %\n"
     ]
    },
    {
     "name": "stderr",
     "output_type": "stream",
     "text": [
      "\r",
      " 90%|█████████ | 9/10 [59:22<06:36, 396.53s/it]"
     ]
    },
    {
     "name": "stdout",
     "output_type": "stream",
     "text": [
      "Accuracy of the network on the 10000 test images: 1 %\n"
     ]
    },
    {
     "name": "stderr",
     "output_type": "stream",
     "text": [
      "100%|██████████| 10/10 [1:05:59<00:00, 395.94s/it]"
     ]
    },
    {
     "name": "stdout",
     "output_type": "stream",
     "text": [
      "Accuracy of the network on the 10000 test images: 1 %\n"
     ]
    },
    {
     "name": "stderr",
     "output_type": "stream",
     "text": [
      "\n",
      "10875it [2:03:33,  1.47it/s]\n",
      "  0%|          | 0/10 [00:00<?, ?it/s]"
     ]
    },
    {
     "name": "stdout",
     "output_type": "stream",
     "text": [
      "epoch: 1 3  batch\n",
      "Accuracy of     0 :  3 %\n",
      "Accuracy of     1 : 14 %\n",
      "Accuracy of     2 : 14 %\n",
      "Accuracy of     3 : 22 %\n",
      "Accuracy of     4 :  6 %\n",
      "Accuracy of     5 : 28 %\n",
      "Accuracy of     6 : 24 %\n",
      "Accuracy of     7 : 65 %\n",
      "Accuracy of     8 : 23 %\n",
      "Accuracy of     9 : 75 %\n",
      "Accuracy of    10 : 88 %\n",
      "Accuracy of    11 : 77 %\n",
      "Accuracy of    12 :  1 %\n",
      "Accuracy of    13 : 16 %\n",
      "Accuracy of    14 : 12 %\n",
      "Accuracy of    15 :  2 %\n",
      "Accuracy of    16 : 25 %\n",
      "Accuracy of    17 : 18 %\n",
      "Accuracy of    18 : 74 %\n",
      "Accuracy of    19 : 53 %\n",
      "Accuracy of    20 : 58 %\n",
      "Accuracy of    21 : 65 %\n",
      "Accuracy of    22 : 51 %\n",
      "Accuracy of    23 : 64 %\n",
      "Accuracy of    24 :  6 %\n",
      "Accuracy of    25 : 15 %\n",
      "Accuracy of    26 :  0 %\n",
      "Accuracy of    27 :  6 %\n",
      "Accuracy of    28 :  1 %\n",
      "Accuracy of    29 : 74 %\n",
      "Accuracy of    30 :  1 %\n",
      "Accuracy of    31 : 14 %\n",
      "Accuracy of    32 : 45 %\n",
      "Accuracy of    33 : 14 %\n",
      "Accuracy of    34 : 17 %\n",
      "Accuracy of    35 : 29 %\n",
      "Accuracy of    36 : 70 %\n",
      "Accuracy of    37 : 56 %\n",
      "Accuracy of    38 : 44 %\n",
      "Accuracy of    39 : 51 %\n",
      "Accuracy of    40 : 19 %\n",
      "Accuracy of    41 : 13 %\n",
      "Accuracy of    42 :  1 %\n",
      "Accuracy of    43 : 24 %\n",
      "Accuracy of    44 : 17 %\n",
      "Accuracy of    45 : 19 %\n",
      "Accuracy of    46 :  2 %\n",
      "Accuracy of    47 : 52 %\n",
      "Accuracy of    48 : 59 %\n",
      "Accuracy of    49 : 24 %\n",
      "Accuracy of    50 : 22 %\n",
      "Accuracy of    51 : 62 %\n",
      "Accuracy of    52 : 11 %\n",
      "Accuracy of    53 : 11 %\n",
      "Accuracy of    54 : 18 %\n",
      "Accuracy of    55 :  6 %\n",
      "Accuracy of    56 : 42 %\n",
      "Accuracy of    57 : 56 %\n",
      "epoch: 2/20 | step: 58/10875 | trn loss: 2.7170 | val loss: 3.7996\n",
      "Accuracy of the network on the 10000 test images: 17 %\n"
     ]
    },
    {
     "name": "stderr",
     "output_type": "stream",
     "text": [
      "\r",
      " 10%|█         | 1/10 [06:43<1:00:32, 403.66s/it]"
     ]
    },
    {
     "name": "stdout",
     "output_type": "stream",
     "text": [
      "Accuracy of the network on the 10000 test images: 2 %\n"
     ]
    },
    {
     "name": "stderr",
     "output_type": "stream",
     "text": [
      "\r",
      " 20%|██        | 2/10 [13:28<53:52, 404.08s/it]  "
     ]
    },
    {
     "name": "stdout",
     "output_type": "stream",
     "text": [
      "Accuracy of the network on the 10000 test images: 2 %\n"
     ]
    },
    {
     "name": "stderr",
     "output_type": "stream",
     "text": [
      "\r",
      " 30%|███       | 3/10 [20:12<47:07, 403.98s/it]"
     ]
    },
    {
     "name": "stdout",
     "output_type": "stream",
     "text": [
      "Accuracy of the network on the 10000 test images: 2 %\n"
     ]
    },
    {
     "name": "stderr",
     "output_type": "stream",
     "text": [
      "\r",
      " 40%|████      | 4/10 [26:57<40:26, 404.36s/it]"
     ]
    },
    {
     "name": "stdout",
     "output_type": "stream",
     "text": [
      "Accuracy of the network on the 10000 test images: 2 %\n"
     ]
    },
    {
     "name": "stderr",
     "output_type": "stream",
     "text": [
      "\r",
      " 50%|█████     | 5/10 [33:43<33:44, 404.81s/it]"
     ]
    },
    {
     "name": "stdout",
     "output_type": "stream",
     "text": [
      "Accuracy of the network on the 10000 test images: 2 %\n"
     ]
    },
    {
     "name": "stderr",
     "output_type": "stream",
     "text": [
      "\r",
      " 60%|██████    | 6/10 [40:27<26:58, 404.68s/it]"
     ]
    },
    {
     "name": "stdout",
     "output_type": "stream",
     "text": [
      "Accuracy of the network on the 10000 test images: 2 %\n"
     ]
    },
    {
     "name": "stderr",
     "output_type": "stream",
     "text": [
      "\r",
      " 70%|███████   | 7/10 [47:12<20:13, 404.50s/it]"
     ]
    },
    {
     "name": "stdout",
     "output_type": "stream",
     "text": [
      "Accuracy of the network on the 10000 test images: 1 %\n"
     ]
    },
    {
     "name": "stderr",
     "output_type": "stream",
     "text": [
      "\r",
      " 80%|████████  | 8/10 [53:56<13:29, 404.56s/it]"
     ]
    },
    {
     "name": "stdout",
     "output_type": "stream",
     "text": [
      "Accuracy of the network on the 10000 test images: 1 %\n"
     ]
    },
    {
     "name": "stderr",
     "output_type": "stream",
     "text": [
      "\r",
      " 90%|█████████ | 9/10 [1:00:41<06:44, 404.64s/it]"
     ]
    },
    {
     "name": "stdout",
     "output_type": "stream",
     "text": [
      "Accuracy of the network on the 10000 test images: 1 %\n"
     ]
    },
    {
     "name": "stderr",
     "output_type": "stream",
     "text": [
      "100%|██████████| 10/10 [1:07:25<00:00, 404.55s/it]"
     ]
    },
    {
     "name": "stdout",
     "output_type": "stream",
     "text": [
      "Accuracy of the network on the 10000 test images: 1 %\n"
     ]
    },
    {
     "name": "stderr",
     "output_type": "stream",
     "text": [
      "\n",
      "10875it [2:35:58,  1.16it/s]\n",
      "  0%|          | 0/10 [00:00<?, ?it/s]"
     ]
    },
    {
     "name": "stdout",
     "output_type": "stream",
     "text": [
      "epoch: 2 3  batch\n",
      "Accuracy of     0 :  6 %\n",
      "Accuracy of     1 : 20 %\n",
      "Accuracy of     2 : 19 %\n",
      "Accuracy of     3 : 33 %\n",
      "Accuracy of     4 : 18 %\n",
      "Accuracy of     5 : 39 %\n",
      "Accuracy of     6 : 16 %\n",
      "Accuracy of     7 : 45 %\n",
      "Accuracy of     8 : 60 %\n",
      "Accuracy of     9 : 70 %\n",
      "Accuracy of    10 : 85 %\n",
      "Accuracy of    11 : 84 %\n",
      "Accuracy of    12 :  2 %\n",
      "Accuracy of    13 : 17 %\n",
      "Accuracy of    14 : 20 %\n",
      "Accuracy of    15 :  2 %\n",
      "Accuracy of    16 : 25 %\n",
      "Accuracy of    17 : 24 %\n",
      "Accuracy of    18 : 67 %\n",
      "Accuracy of    19 : 50 %\n",
      "Accuracy of    20 : 66 %\n",
      "Accuracy of    21 : 71 %\n",
      "Accuracy of    22 : 51 %\n",
      "Accuracy of    23 : 70 %\n",
      "Accuracy of    24 : 14 %\n",
      "Accuracy of    25 : 29 %\n",
      "Accuracy of    26 :  0 %\n",
      "Accuracy of    27 :  6 %\n",
      "Accuracy of    28 :  1 %\n",
      "Accuracy of    29 : 60 %\n",
      "Accuracy of    30 :  8 %\n",
      "Accuracy of    31 :  4 %\n",
      "Accuracy of    32 : 57 %\n",
      "Accuracy of    33 : 20 %\n",
      "Accuracy of    34 : 34 %\n",
      "Accuracy of    35 : 51 %\n",
      "Accuracy of    36 : 56 %\n",
      "Accuracy of    37 : 35 %\n",
      "Accuracy of    38 : 38 %\n",
      "Accuracy of    39 : 72 %\n",
      "Accuracy of    40 : 21 %\n",
      "Accuracy of    41 :  9 %\n",
      "Accuracy of    42 :  3 %\n",
      "Accuracy of    43 : 28 %\n",
      "Accuracy of    44 : 28 %\n",
      "Accuracy of    45 : 19 %\n",
      "Accuracy of    46 :  7 %\n",
      "Accuracy of    47 : 50 %\n",
      "Accuracy of    48 : 59 %\n",
      "Accuracy of    49 : 54 %\n",
      "Accuracy of    50 : 22 %\n",
      "Accuracy of    51 : 32 %\n",
      "Accuracy of    52 : 19 %\n",
      "Accuracy of    53 : 26 %\n",
      "Accuracy of    54 : 25 %\n",
      "Accuracy of    55 : 13 %\n",
      "Accuracy of    56 : 52 %\n",
      "Accuracy of    57 : 25 %\n",
      "epoch: 3/20 | step: 58/10875 | trn loss: 2.4029 | val loss: 3.6697\n",
      "Accuracy of the network on the 10000 test images: 20 %\n"
     ]
    },
    {
     "name": "stderr",
     "output_type": "stream",
     "text": [
      "\r",
      " 10%|█         | 1/10 [10:25<1:33:51, 625.68s/it]"
     ]
    },
    {
     "name": "stdout",
     "output_type": "stream",
     "text": [
      "Accuracy of the network on the 10000 test images: 2 %\n"
     ]
    },
    {
     "name": "stderr",
     "output_type": "stream",
     "text": [
      "\r",
      " 20%|██        | 2/10 [18:00<1:16:34, 574.34s/it]"
     ]
    },
    {
     "name": "stdout",
     "output_type": "stream",
     "text": [
      "Accuracy of the network on the 10000 test images: 2 %\n"
     ]
    },
    {
     "name": "stderr",
     "output_type": "stream",
     "text": [
      "\r",
      " 30%|███       | 3/10 [24:25<1:00:23, 517.67s/it]"
     ]
    },
    {
     "name": "stdout",
     "output_type": "stream",
     "text": [
      "Accuracy of the network on the 10000 test images: 2 %\n"
     ]
    },
    {
     "name": "stderr",
     "output_type": "stream",
     "text": [
      "\r",
      " 40%|████      | 4/10 [30:55<47:55, 479.32s/it]  "
     ]
    },
    {
     "name": "stdout",
     "output_type": "stream",
     "text": [
      "Accuracy of the network on the 10000 test images: 3 %\n"
     ]
    },
    {
     "name": "stderr",
     "output_type": "stream",
     "text": [
      "\r",
      " 50%|█████     | 5/10 [40:56<42:59, 515.81s/it]"
     ]
    },
    {
     "name": "stdout",
     "output_type": "stream",
     "text": [
      "Accuracy of the network on the 10000 test images: 3 %\n"
     ]
    },
    {
     "name": "stderr",
     "output_type": "stream",
     "text": [
      "\r",
      " 60%|██████    | 6/10 [49:53<34:48, 522.15s/it]"
     ]
    },
    {
     "name": "stdout",
     "output_type": "stream",
     "text": [
      "Accuracy of the network on the 10000 test images: 3 %\n"
     ]
    },
    {
     "name": "stderr",
     "output_type": "stream",
     "text": [
      "\r",
      " 70%|███████   | 7/10 [56:28<24:12, 484.11s/it]"
     ]
    },
    {
     "name": "stdout",
     "output_type": "stream",
     "text": [
      "Accuracy of the network on the 10000 test images: 2 %\n"
     ]
    },
    {
     "name": "stderr",
     "output_type": "stream",
     "text": [
      "\r",
      " 80%|████████  | 8/10 [1:03:05<15:15, 457.79s/it]"
     ]
    },
    {
     "name": "stdout",
     "output_type": "stream",
     "text": [
      "Accuracy of the network on the 10000 test images: 2 %\n"
     ]
    },
    {
     "name": "stderr",
     "output_type": "stream",
     "text": [
      "\r",
      " 90%|█████████ | 9/10 [1:09:39<07:18, 438.87s/it]"
     ]
    },
    {
     "name": "stdout",
     "output_type": "stream",
     "text": [
      "Accuracy of the network on the 10000 test images: 1 %\n"
     ]
    },
    {
     "name": "stderr",
     "output_type": "stream",
     "text": [
      "100%|██████████| 10/10 [1:16:10<00:00, 457.08s/it]"
     ]
    },
    {
     "name": "stdout",
     "output_type": "stream",
     "text": [
      "Accuracy of the network on the 10000 test images: 1 %\n"
     ]
    },
    {
     "name": "stderr",
     "output_type": "stream",
     "text": [
      "\n",
      "10875it [2:26:44,  1.24it/s]\n",
      "  0%|          | 0/10 [00:00<?, ?it/s]"
     ]
    },
    {
     "name": "stdout",
     "output_type": "stream",
     "text": [
      "epoch: 3 3  batch\n",
      "Accuracy of     0 :  6 %\n",
      "Accuracy of     1 : 28 %\n",
      "Accuracy of     2 : 28 %\n",
      "Accuracy of     3 : 35 %\n",
      "Accuracy of     4 : 14 %\n",
      "Accuracy of     5 : 35 %\n",
      "Accuracy of     6 : 48 %\n",
      "Accuracy of     7 : 55 %\n",
      "Accuracy of     8 : 60 %\n",
      "Accuracy of     9 : 85 %\n",
      "Accuracy of    10 : 89 %\n",
      "Accuracy of    11 : 89 %\n",
      "Accuracy of    12 : 11 %\n",
      "Accuracy of    13 : 22 %\n",
      "Accuracy of    14 : 15 %\n",
      "Accuracy of    15 :  0 %\n",
      "Accuracy of    16 : 36 %\n",
      "Accuracy of    17 : 27 %\n",
      "Accuracy of    18 : 76 %\n",
      "Accuracy of    19 : 85 %\n",
      "Accuracy of    20 : 50 %\n",
      "Accuracy of    21 : 69 %\n",
      "Accuracy of    22 : 55 %\n",
      "Accuracy of    23 : 72 %\n",
      "Accuracy of    24 :  5 %\n",
      "Accuracy of    25 : 53 %\n",
      "Accuracy of    26 :  1 %\n",
      "Accuracy of    27 :  6 %\n",
      "Accuracy of    28 :  2 %\n",
      "Accuracy of    29 : 48 %\n",
      "Accuracy of    30 :  6 %\n",
      "Accuracy of    31 :  9 %\n",
      "Accuracy of    32 : 60 %\n",
      "Accuracy of    33 : 39 %\n",
      "Accuracy of    34 : 20 %\n",
      "Accuracy of    35 : 34 %\n",
      "Accuracy of    36 : 56 %\n",
      "Accuracy of    37 : 42 %\n",
      "Accuracy of    38 : 42 %\n",
      "Accuracy of    39 : 43 %\n",
      "Accuracy of    40 : 19 %\n",
      "Accuracy of    41 : 28 %\n",
      "Accuracy of    42 : 14 %\n",
      "Accuracy of    43 : 20 %\n",
      "Accuracy of    44 : 23 %\n",
      "Accuracy of    45 : 23 %\n",
      "Accuracy of    46 :  3 %\n",
      "Accuracy of    47 : 60 %\n",
      "Accuracy of    48 : 62 %\n",
      "Accuracy of    49 : 45 %\n",
      "Accuracy of    50 : 26 %\n",
      "Accuracy of    51 : 49 %\n",
      "Accuracy of    52 : 22 %\n",
      "Accuracy of    53 : 20 %\n",
      "Accuracy of    54 : 28 %\n",
      "Accuracy of    55 : 19 %\n",
      "Accuracy of    56 : 48 %\n",
      "Accuracy of    57 : 57 %\n",
      "epoch: 4/20 | step: 58/10875 | trn loss: 2.1929 | val loss: 3.6613\n",
      "Accuracy of the network on the 10000 test images: 22 %\n"
     ]
    },
    {
     "name": "stderr",
     "output_type": "stream",
     "text": [
      "\r",
      " 10%|█         | 1/10 [10:46<1:36:56, 646.27s/it]"
     ]
    },
    {
     "name": "stdout",
     "output_type": "stream",
     "text": [
      "Accuracy of the network on the 10000 test images: 3 %\n"
     ]
    },
    {
     "name": "stderr",
     "output_type": "stream",
     "text": [
      "\r",
      " 20%|██        | 2/10 [17:45<1:17:05, 578.20s/it]"
     ]
    },
    {
     "name": "stdout",
     "output_type": "stream",
     "text": [
      "Accuracy of the network on the 10000 test images: 3 %\n"
     ]
    },
    {
     "name": "stderr",
     "output_type": "stream",
     "text": [
      "\r",
      " 30%|███       | 3/10 [27:04<1:06:46, 572.39s/it]"
     ]
    },
    {
     "name": "stdout",
     "output_type": "stream",
     "text": [
      "Accuracy of the network on the 10000 test images: 3 %\n"
     ]
    },
    {
     "name": "stderr",
     "output_type": "stream",
     "text": [
      "\r",
      " 40%|████      | 4/10 [37:28<58:48, 588.00s/it]  "
     ]
    },
    {
     "name": "stdout",
     "output_type": "stream",
     "text": [
      "Accuracy of the network on the 10000 test images: 3 %\n"
     ]
    },
    {
     "name": "stderr",
     "output_type": "stream",
     "text": [
      "\r",
      " 50%|█████     | 5/10 [47:51<49:51, 598.25s/it]"
     ]
    },
    {
     "name": "stdout",
     "output_type": "stream",
     "text": [
      "Accuracy of the network on the 10000 test images: 3 %\n"
     ]
    },
    {
     "name": "stderr",
     "output_type": "stream",
     "text": [
      "\r",
      " 60%|██████    | 6/10 [58:13<40:21, 605.39s/it]"
     ]
    },
    {
     "name": "stdout",
     "output_type": "stream",
     "text": [
      "Accuracy of the network on the 10000 test images: 3 %\n"
     ]
    },
    {
     "name": "stderr",
     "output_type": "stream",
     "text": [
      "\r",
      " 70%|███████   | 7/10 [1:08:28<30:24, 608.27s/it]"
     ]
    },
    {
     "name": "stdout",
     "output_type": "stream",
     "text": [
      "Accuracy of the network on the 10000 test images: 3 %\n"
     ]
    },
    {
     "name": "stderr",
     "output_type": "stream",
     "text": [
      "\r",
      " 80%|████████  | 8/10 [1:18:44<20:21, 610.77s/it]"
     ]
    },
    {
     "name": "stdout",
     "output_type": "stream",
     "text": [
      "Accuracy of the network on the 10000 test images: 3 %\n"
     ]
    },
    {
     "name": "stderr",
     "output_type": "stream",
     "text": [
      "\r",
      " 90%|█████████ | 9/10 [1:29:01<10:12, 612.54s/it]"
     ]
    },
    {
     "name": "stdout",
     "output_type": "stream",
     "text": [
      "Accuracy of the network on the 10000 test images: 2 %\n"
     ]
    },
    {
     "name": "stderr",
     "output_type": "stream",
     "text": [
      "100%|██████████| 10/10 [1:38:53<00:00, 593.33s/it]"
     ]
    },
    {
     "name": "stdout",
     "output_type": "stream",
     "text": [
      "Accuracy of the network on the 10000 test images: 1 %\n"
     ]
    },
    {
     "name": "stderr",
     "output_type": "stream",
     "text": [
      "\n",
      "10875it [2:00:20,  1.51it/s]\n",
      "  0%|          | 0/10 [00:00<?, ?it/s]"
     ]
    },
    {
     "name": "stdout",
     "output_type": "stream",
     "text": [
      "epoch: 4 3  batch\n",
      "Accuracy of     0 : 16 %\n",
      "Accuracy of     1 : 28 %\n",
      "Accuracy of     2 : 36 %\n",
      "Accuracy of     3 : 24 %\n",
      "Accuracy of     4 : 26 %\n",
      "Accuracy of     5 : 33 %\n",
      "Accuracy of     6 : 50 %\n",
      "Accuracy of     7 : 77 %\n",
      "Accuracy of     8 : 50 %\n",
      "Accuracy of     9 : 82 %\n",
      "Accuracy of    10 : 92 %\n",
      "Accuracy of    11 : 80 %\n",
      "Accuracy of    12 :  7 %\n",
      "Accuracy of    13 : 33 %\n",
      "Accuracy of    14 : 15 %\n",
      "Accuracy of    15 : 13 %\n",
      "Accuracy of    16 : 38 %\n",
      "Accuracy of    17 : 38 %\n",
      "Accuracy of    18 : 79 %\n",
      "Accuracy of    19 : 65 %\n",
      "Accuracy of    20 : 63 %\n",
      "Accuracy of    21 : 74 %\n",
      "Accuracy of    22 : 62 %\n",
      "Accuracy of    23 : 75 %\n",
      "Accuracy of    24 : 22 %\n",
      "Accuracy of    25 : 41 %\n",
      "Accuracy of    26 :  8 %\n",
      "Accuracy of    27 :  6 %\n",
      "Accuracy of    28 :  2 %\n",
      "Accuracy of    29 : 61 %\n",
      "Accuracy of    30 : 10 %\n",
      "Accuracy of    31 :  7 %\n",
      "Accuracy of    32 : 46 %\n",
      "Accuracy of    33 : 24 %\n",
      "Accuracy of    34 : 41 %\n",
      "Accuracy of    35 : 29 %\n",
      "Accuracy of    36 : 71 %\n",
      "Accuracy of    37 : 47 %\n",
      "Accuracy of    38 : 48 %\n",
      "Accuracy of    39 : 59 %\n",
      "Accuracy of    40 : 48 %\n",
      "Accuracy of    41 : 13 %\n",
      "Accuracy of    42 : 12 %\n",
      "Accuracy of    43 : 26 %\n",
      "Accuracy of    44 : 30 %\n",
      "Accuracy of    45 : 19 %\n",
      "Accuracy of    46 :  3 %\n",
      "Accuracy of    47 : 71 %\n",
      "Accuracy of    48 : 74 %\n",
      "Accuracy of    49 : 59 %\n",
      "Accuracy of    50 : 36 %\n",
      "Accuracy of    51 : 30 %\n",
      "Accuracy of    52 : 20 %\n",
      "Accuracy of    53 : 18 %\n",
      "Accuracy of    54 : 29 %\n",
      "Accuracy of    55 : 18 %\n",
      "Accuracy of    56 : 51 %\n",
      "Accuracy of    57 : 62 %\n",
      "epoch: 5/20 | step: 58/10875 | trn loss: 2.0249 | val loss: 3.3502\n",
      "Accuracy of the network on the 10000 test images: 27 %\n"
     ]
    },
    {
     "name": "stderr",
     "output_type": "stream",
     "text": [
      "\r",
      " 10%|█         | 1/10 [06:17<56:41, 377.89s/it]"
     ]
    },
    {
     "name": "stdout",
     "output_type": "stream",
     "text": [
      "Accuracy of the network on the 10000 test images: 5 %\n"
     ]
    },
    {
     "name": "stderr",
     "output_type": "stream",
     "text": [
      "\r",
      " 20%|██        | 2/10 [12:36<50:23, 378.00s/it]"
     ]
    },
    {
     "name": "stdout",
     "output_type": "stream",
     "text": [
      "Accuracy of the network on the 10000 test images: 5 %\n"
     ]
    },
    {
     "name": "stderr",
     "output_type": "stream",
     "text": [
      "\r",
      " 30%|███       | 3/10 [18:54<44:05, 377.97s/it]"
     ]
    },
    {
     "name": "stdout",
     "output_type": "stream",
     "text": [
      "Accuracy of the network on the 10000 test images: 5 %\n"
     ]
    },
    {
     "name": "stderr",
     "output_type": "stream",
     "text": [
      "\r",
      " 40%|████      | 4/10 [25:11<37:47, 377.94s/it]"
     ]
    },
    {
     "name": "stdout",
     "output_type": "stream",
     "text": [
      "Accuracy of the network on the 10000 test images: 6 %\n"
     ]
    },
    {
     "name": "stderr",
     "output_type": "stream",
     "text": [
      "\r",
      " 50%|█████     | 5/10 [31:29<31:29, 377.88s/it]"
     ]
    },
    {
     "name": "stdout",
     "output_type": "stream",
     "text": [
      "Accuracy of the network on the 10000 test images: 6 %\n"
     ]
    },
    {
     "name": "stderr",
     "output_type": "stream",
     "text": [
      "\r",
      " 60%|██████    | 6/10 [37:46<25:10, 377.71s/it]"
     ]
    },
    {
     "name": "stdout",
     "output_type": "stream",
     "text": [
      "Accuracy of the network on the 10000 test images: 6 %\n"
     ]
    },
    {
     "name": "stderr",
     "output_type": "stream",
     "text": [
      "\r",
      " 70%|███████   | 7/10 [44:03<18:52, 377.43s/it]"
     ]
    },
    {
     "name": "stdout",
     "output_type": "stream",
     "text": [
      "Accuracy of the network on the 10000 test images: 6 %\n"
     ]
    },
    {
     "name": "stderr",
     "output_type": "stream",
     "text": [
      "\r",
      " 80%|████████  | 8/10 [50:20<12:34, 377.30s/it]"
     ]
    },
    {
     "name": "stdout",
     "output_type": "stream",
     "text": [
      "Accuracy of the network on the 10000 test images: 6 %\n"
     ]
    },
    {
     "name": "stderr",
     "output_type": "stream",
     "text": [
      "\r",
      " 90%|█████████ | 9/10 [56:37<06:17, 377.07s/it]"
     ]
    },
    {
     "name": "stdout",
     "output_type": "stream",
     "text": [
      "Accuracy of the network on the 10000 test images: 5 %\n"
     ]
    },
    {
     "name": "stderr",
     "output_type": "stream",
     "text": [
      "100%|██████████| 10/10 [1:02:53<00:00, 377.39s/it]"
     ]
    },
    {
     "name": "stdout",
     "output_type": "stream",
     "text": [
      "Accuracy of the network on the 10000 test images: 2 %\n"
     ]
    },
    {
     "name": "stderr",
     "output_type": "stream",
     "text": [
      "\n",
      "10875it [1:59:41,  1.51it/s]\n",
      "  0%|          | 0/10 [00:00<?, ?it/s]"
     ]
    },
    {
     "name": "stdout",
     "output_type": "stream",
     "text": [
      "epoch: 5 3  batch\n",
      "Accuracy of     0 :  5 %\n",
      "Accuracy of     1 : 23 %\n",
      "Accuracy of     2 : 50 %\n",
      "Accuracy of     3 : 23 %\n",
      "Accuracy of     4 : 12 %\n",
      "Accuracy of     5 : 58 %\n",
      "Accuracy of     6 : 51 %\n",
      "Accuracy of     7 : 56 %\n",
      "Accuracy of     8 : 66 %\n",
      "Accuracy of     9 : 87 %\n",
      "Accuracy of    10 : 86 %\n",
      "Accuracy of    11 : 87 %\n",
      "Accuracy of    12 :  5 %\n",
      "Accuracy of    13 : 28 %\n",
      "Accuracy of    14 : 32 %\n",
      "Accuracy of    15 : 14 %\n",
      "Accuracy of    16 : 49 %\n",
      "Accuracy of    17 : 44 %\n",
      "Accuracy of    18 : 82 %\n",
      "Accuracy of    19 : 70 %\n",
      "Accuracy of    20 : 41 %\n",
      "Accuracy of    21 : 78 %\n",
      "Accuracy of    22 : 64 %\n",
      "Accuracy of    23 : 69 %\n",
      "Accuracy of    24 :  7 %\n",
      "Accuracy of    25 : 41 %\n",
      "Accuracy of    26 : 10 %\n",
      "Accuracy of    27 : 10 %\n",
      "Accuracy of    28 :  4 %\n",
      "Accuracy of    29 : 51 %\n",
      "Accuracy of    30 : 11 %\n",
      "Accuracy of    31 : 18 %\n",
      "Accuracy of    32 : 66 %\n",
      "Accuracy of    33 : 31 %\n",
      "Accuracy of    34 : 19 %\n",
      "Accuracy of    35 : 37 %\n",
      "Accuracy of    36 : 55 %\n",
      "Accuracy of    37 : 36 %\n",
      "Accuracy of    38 : 43 %\n",
      "Accuracy of    39 : 69 %\n",
      "Accuracy of    40 : 44 %\n",
      "Accuracy of    41 : 21 %\n",
      "Accuracy of    42 :  5 %\n",
      "Accuracy of    43 : 32 %\n",
      "Accuracy of    44 : 28 %\n",
      "Accuracy of    45 : 26 %\n",
      "Accuracy of    46 :  3 %\n",
      "Accuracy of    47 : 65 %\n",
      "Accuracy of    48 : 55 %\n",
      "Accuracy of    49 : 42 %\n",
      "Accuracy of    50 : 36 %\n",
      "Accuracy of    51 : 55 %\n",
      "Accuracy of    52 : 12 %\n",
      "Accuracy of    53 : 43 %\n",
      "Accuracy of    54 : 30 %\n",
      "Accuracy of    55 : 20 %\n",
      "Accuracy of    56 : 59 %\n",
      "Accuracy of    57 : 62 %\n",
      "epoch: 6/20 | step: 58/10875 | trn loss: 1.8748 | val loss: 3.7811\n",
      "Accuracy of the network on the 10000 test images: 24 %\n"
     ]
    },
    {
     "name": "stderr",
     "output_type": "stream",
     "text": [
      "\r",
      " 10%|█         | 1/10 [06:18<56:45, 378.44s/it]"
     ]
    },
    {
     "name": "stdout",
     "output_type": "stream",
     "text": [
      "Accuracy of the network on the 10000 test images: 2 %\n"
     ]
    },
    {
     "name": "stderr",
     "output_type": "stream",
     "text": [
      "\r",
      " 20%|██        | 2/10 [12:36<50:25, 378.19s/it]"
     ]
    },
    {
     "name": "stdout",
     "output_type": "stream",
     "text": [
      "Accuracy of the network on the 10000 test images: 2 %\n"
     ]
    },
    {
     "name": "stderr",
     "output_type": "stream",
     "text": [
      "\r",
      " 30%|███       | 3/10 [18:54<44:07, 378.17s/it]"
     ]
    },
    {
     "name": "stdout",
     "output_type": "stream",
     "text": [
      "Accuracy of the network on the 10000 test images: 2 %\n"
     ]
    },
    {
     "name": "stderr",
     "output_type": "stream",
     "text": [
      "\r",
      " 40%|████      | 4/10 [25:14<37:52, 378.81s/it]"
     ]
    },
    {
     "name": "stdout",
     "output_type": "stream",
     "text": [
      "Accuracy of the network on the 10000 test images: 2 %\n"
     ]
    },
    {
     "name": "stderr",
     "output_type": "stream",
     "text": [
      "\r",
      " 50%|█████     | 5/10 [31:33<31:35, 379.00s/it]"
     ]
    },
    {
     "name": "stdout",
     "output_type": "stream",
     "text": [
      "Accuracy of the network on the 10000 test images: 2 %\n"
     ]
    },
    {
     "name": "stderr",
     "output_type": "stream",
     "text": [
      "\r",
      " 60%|██████    | 6/10 [37:52<25:15, 378.87s/it]"
     ]
    },
    {
     "name": "stdout",
     "output_type": "stream",
     "text": [
      "Accuracy of the network on the 10000 test images: 2 %\n"
     ]
    },
    {
     "name": "stderr",
     "output_type": "stream",
     "text": [
      "\r",
      " 70%|███████   | 7/10 [44:09<18:55, 378.41s/it]"
     ]
    },
    {
     "name": "stdout",
     "output_type": "stream",
     "text": [
      "Accuracy of the network on the 10000 test images: 2 %\n"
     ]
    },
    {
     "name": "stderr",
     "output_type": "stream",
     "text": [
      "\r",
      " 80%|████████  | 8/10 [50:27<12:36, 378.33s/it]"
     ]
    },
    {
     "name": "stdout",
     "output_type": "stream",
     "text": [
      "Accuracy of the network on the 10000 test images: 2 %\n"
     ]
    },
    {
     "name": "stderr",
     "output_type": "stream",
     "text": [
      "\r",
      " 90%|█████████ | 9/10 [56:46<06:18, 378.36s/it]"
     ]
    },
    {
     "name": "stdout",
     "output_type": "stream",
     "text": [
      "Accuracy of the network on the 10000 test images: 2 %\n"
     ]
    },
    {
     "name": "stderr",
     "output_type": "stream",
     "text": [
      "100%|██████████| 10/10 [1:03:03<00:00, 378.34s/it]"
     ]
    },
    {
     "name": "stdout",
     "output_type": "stream",
     "text": [
      "Accuracy of the network on the 10000 test images: 1 %\n"
     ]
    },
    {
     "name": "stderr",
     "output_type": "stream",
     "text": [
      "\n",
      "10875it [2:00:33,  1.50it/s]\n",
      "  0%|          | 0/10 [00:00<?, ?it/s]"
     ]
    },
    {
     "name": "stdout",
     "output_type": "stream",
     "text": [
      "epoch: 6 3  batch\n",
      "Accuracy of     0 :  5 %\n",
      "Accuracy of     1 : 18 %\n",
      "Accuracy of     2 : 53 %\n",
      "Accuracy of     3 : 38 %\n",
      "Accuracy of     4 : 28 %\n",
      "Accuracy of     5 : 52 %\n",
      "Accuracy of     6 : 53 %\n",
      "Accuracy of     7 : 68 %\n",
      "Accuracy of     8 : 50 %\n",
      "Accuracy of     9 : 90 %\n",
      "Accuracy of    10 : 91 %\n",
      "Accuracy of    11 : 91 %\n",
      "Accuracy of    12 : 10 %\n",
      "Accuracy of    13 : 34 %\n",
      "Accuracy of    14 : 25 %\n",
      "Accuracy of    15 :  7 %\n",
      "Accuracy of    16 : 27 %\n",
      "Accuracy of    17 : 34 %\n",
      "Accuracy of    18 : 73 %\n",
      "Accuracy of    19 : 78 %\n",
      "Accuracy of    20 : 45 %\n",
      "Accuracy of    21 : 72 %\n",
      "Accuracy of    22 : 72 %\n",
      "Accuracy of    23 : 76 %\n",
      "Accuracy of    24 : 15 %\n",
      "Accuracy of    25 : 28 %\n",
      "Accuracy of    26 :  8 %\n",
      "Accuracy of    27 : 16 %\n",
      "Accuracy of    28 :  2 %\n",
      "Accuracy of    29 : 59 %\n",
      "Accuracy of    30 : 15 %\n",
      "Accuracy of    31 : 12 %\n",
      "Accuracy of    32 : 29 %\n",
      "Accuracy of    33 : 34 %\n",
      "Accuracy of    34 : 24 %\n",
      "Accuracy of    35 : 62 %\n",
      "Accuracy of    36 : 64 %\n",
      "Accuracy of    37 : 36 %\n",
      "Accuracy of    38 : 26 %\n",
      "Accuracy of    39 : 56 %\n",
      "Accuracy of    40 : 31 %\n",
      "Accuracy of    41 : 26 %\n",
      "Accuracy of    42 :  8 %\n",
      "Accuracy of    43 : 23 %\n",
      "Accuracy of    44 : 45 %\n",
      "Accuracy of    45 : 26 %\n",
      "Accuracy of    46 :  4 %\n",
      "Accuracy of    47 : 66 %\n",
      "Accuracy of    48 : 66 %\n",
      "Accuracy of    49 : 49 %\n",
      "Accuracy of    50 : 44 %\n",
      "Accuracy of    51 : 42 %\n",
      "Accuracy of    52 : 20 %\n",
      "Accuracy of    53 : 32 %\n",
      "Accuracy of    54 : 29 %\n",
      "Accuracy of    55 : 20 %\n",
      "Accuracy of    56 : 56 %\n",
      "Accuracy of    57 : 59 %\n",
      "epoch: 7/20 | step: 58/10875 | trn loss: 1.7440 | val loss: 4.2171\n",
      "Accuracy of the network on the 10000 test images: 24 %\n"
     ]
    },
    {
     "name": "stderr",
     "output_type": "stream",
     "text": [
      "\r",
      " 10%|█         | 1/10 [06:17<56:34, 377.21s/it]"
     ]
    },
    {
     "name": "stdout",
     "output_type": "stream",
     "text": [
      "Accuracy of the network on the 10000 test images: 2 %\n"
     ]
    },
    {
     "name": "stderr",
     "output_type": "stream",
     "text": [
      "\r",
      " 20%|██        | 2/10 [12:34<50:18, 377.26s/it]"
     ]
    },
    {
     "name": "stdout",
     "output_type": "stream",
     "text": [
      "Accuracy of the network on the 10000 test images: 3 %\n"
     ]
    },
    {
     "name": "stderr",
     "output_type": "stream",
     "text": [
      "\r",
      " 30%|███       | 3/10 [18:52<44:01, 377.36s/it]"
     ]
    },
    {
     "name": "stdout",
     "output_type": "stream",
     "text": [
      "Accuracy of the network on the 10000 test images: 3 %\n"
     ]
    },
    {
     "name": "stderr",
     "output_type": "stream",
     "text": [
      "\r",
      " 40%|████      | 4/10 [25:10<37:45, 377.52s/it]"
     ]
    },
    {
     "name": "stdout",
     "output_type": "stream",
     "text": [
      "Accuracy of the network on the 10000 test images: 2 %\n"
     ]
    },
    {
     "name": "stderr",
     "output_type": "stream",
     "text": [
      "\r",
      " 50%|█████     | 5/10 [31:28<31:28, 377.79s/it]"
     ]
    },
    {
     "name": "stdout",
     "output_type": "stream",
     "text": [
      "Accuracy of the network on the 10000 test images: 2 %\n"
     ]
    },
    {
     "name": "stderr",
     "output_type": "stream",
     "text": [
      "\r",
      " 60%|██████    | 6/10 [37:45<25:10, 377.66s/it]"
     ]
    },
    {
     "name": "stdout",
     "output_type": "stream",
     "text": [
      "Accuracy of the network on the 10000 test images: 2 %\n"
     ]
    },
    {
     "name": "stderr",
     "output_type": "stream",
     "text": [
      "\r",
      " 70%|███████   | 7/10 [44:02<18:52, 377.43s/it]"
     ]
    },
    {
     "name": "stdout",
     "output_type": "stream",
     "text": [
      "Accuracy of the network on the 10000 test images: 2 %\n"
     ]
    },
    {
     "name": "stderr",
     "output_type": "stream",
     "text": [
      "\r",
      " 80%|████████  | 8/10 [50:20<12:34, 377.39s/it]"
     ]
    },
    {
     "name": "stdout",
     "output_type": "stream",
     "text": [
      "Accuracy of the network on the 10000 test images: 2 %\n"
     ]
    },
    {
     "name": "stderr",
     "output_type": "stream",
     "text": [
      "\r",
      " 90%|█████████ | 9/10 [56:37<06:17, 377.29s/it]"
     ]
    },
    {
     "name": "stdout",
     "output_type": "stream",
     "text": [
      "Accuracy of the network on the 10000 test images: 1 %\n"
     ]
    },
    {
     "name": "stderr",
     "output_type": "stream",
     "text": [
      "100%|██████████| 10/10 [1:02:53<00:00, 377.39s/it]"
     ]
    },
    {
     "name": "stdout",
     "output_type": "stream",
     "text": [
      "Accuracy of the network on the 10000 test images: 1 %\n"
     ]
    },
    {
     "name": "stderr",
     "output_type": "stream",
     "text": [
      "\n",
      "10875it [1:59:53,  1.51it/s]\n",
      "  0%|          | 0/10 [00:00<?, ?it/s]"
     ]
    },
    {
     "name": "stdout",
     "output_type": "stream",
     "text": [
      "epoch: 7 3  batch\n",
      "Accuracy of     0 :  5 %\n",
      "Accuracy of     1 : 20 %\n",
      "Accuracy of     2 : 53 %\n",
      "Accuracy of     3 : 14 %\n",
      "Accuracy of     4 : 16 %\n",
      "Accuracy of     5 : 52 %\n",
      "Accuracy of     6 : 46 %\n",
      "Accuracy of     7 : 70 %\n",
      "Accuracy of     8 : 47 %\n",
      "Accuracy of     9 : 75 %\n",
      "Accuracy of    10 : 89 %\n",
      "Accuracy of    11 : 86 %\n",
      "Accuracy of    12 :  6 %\n",
      "Accuracy of    13 : 25 %\n",
      "Accuracy of    14 : 27 %\n",
      "Accuracy of    15 :  4 %\n",
      "Accuracy of    16 : 42 %\n",
      "Accuracy of    17 : 48 %\n",
      "Accuracy of    18 : 91 %\n",
      "Accuracy of    19 : 75 %\n",
      "Accuracy of    20 : 47 %\n",
      "Accuracy of    21 : 65 %\n",
      "Accuracy of    22 : 61 %\n",
      "Accuracy of    23 : 73 %\n",
      "Accuracy of    24 : 21 %\n",
      "Accuracy of    25 : 27 %\n",
      "Accuracy of    26 :  4 %\n",
      "Accuracy of    27 :  8 %\n",
      "Accuracy of    28 :  4 %\n",
      "Accuracy of    29 : 65 %\n",
      "Accuracy of    30 : 28 %\n",
      "Accuracy of    31 : 13 %\n",
      "Accuracy of    32 : 58 %\n",
      "Accuracy of    33 : 28 %\n",
      "Accuracy of    34 : 15 %\n",
      "Accuracy of    35 : 52 %\n",
      "Accuracy of    36 : 58 %\n",
      "Accuracy of    37 : 56 %\n",
      "Accuracy of    38 : 34 %\n",
      "Accuracy of    39 : 51 %\n",
      "Accuracy of    40 : 30 %\n",
      "Accuracy of    41 : 23 %\n",
      "Accuracy of    42 : 13 %\n",
      "Accuracy of    43 : 20 %\n",
      "Accuracy of    44 : 33 %\n",
      "Accuracy of    45 : 27 %\n",
      "Accuracy of    46 :  8 %\n",
      "Accuracy of    47 : 68 %\n",
      "Accuracy of    48 : 67 %\n",
      "Accuracy of    49 : 31 %\n",
      "Accuracy of    50 : 43 %\n",
      "Accuracy of    51 : 56 %\n",
      "Accuracy of    52 : 27 %\n",
      "Accuracy of    53 : 24 %\n",
      "Accuracy of    54 : 32 %\n",
      "Accuracy of    55 : 17 %\n",
      "Accuracy of    56 : 59 %\n",
      "Accuracy of    57 : 53 %\n",
      "epoch: 8/20 | step: 58/10875 | trn loss: 1.6089 | val loss: 4.1478\n",
      "Accuracy of the network on the 10000 test images: 24 %\n"
     ]
    },
    {
     "name": "stderr",
     "output_type": "stream",
     "text": [
      "\r",
      " 10%|█         | 1/10 [06:17<56:35, 377.30s/it]"
     ]
    },
    {
     "name": "stdout",
     "output_type": "stream",
     "text": [
      "Accuracy of the network on the 10000 test images: 2 %\n"
     ]
    },
    {
     "name": "stderr",
     "output_type": "stream",
     "text": [
      "\r",
      " 20%|██        | 2/10 [12:35<50:20, 377.53s/it]"
     ]
    },
    {
     "name": "stdout",
     "output_type": "stream",
     "text": [
      "Accuracy of the network on the 10000 test images: 2 %\n"
     ]
    },
    {
     "name": "stderr",
     "output_type": "stream",
     "text": [
      "\r",
      " 30%|███       | 3/10 [18:53<44:04, 377.77s/it]"
     ]
    },
    {
     "name": "stdout",
     "output_type": "stream",
     "text": [
      "Accuracy of the network on the 10000 test images: 2 %\n"
     ]
    },
    {
     "name": "stderr",
     "output_type": "stream",
     "text": [
      "\r",
      " 40%|████      | 4/10 [25:12<37:48, 378.12s/it]"
     ]
    },
    {
     "name": "stdout",
     "output_type": "stream",
     "text": [
      "Accuracy of the network on the 10000 test images: 2 %\n"
     ]
    },
    {
     "name": "stderr",
     "output_type": "stream",
     "text": [
      "\r",
      " 50%|█████     | 5/10 [31:32<31:33, 378.60s/it]"
     ]
    },
    {
     "name": "stdout",
     "output_type": "stream",
     "text": [
      "Accuracy of the network on the 10000 test images: 2 %\n"
     ]
    },
    {
     "name": "stderr",
     "output_type": "stream",
     "text": [
      "\r",
      " 60%|██████    | 6/10 [37:51<25:15, 378.83s/it]"
     ]
    },
    {
     "name": "stdout",
     "output_type": "stream",
     "text": [
      "Accuracy of the network on the 10000 test images: 2 %\n"
     ]
    },
    {
     "name": "stderr",
     "output_type": "stream",
     "text": [
      "\r",
      " 70%|███████   | 7/10 [44:10<18:56, 378.77s/it]"
     ]
    },
    {
     "name": "stdout",
     "output_type": "stream",
     "text": [
      "Accuracy of the network on the 10000 test images: 2 %\n"
     ]
    },
    {
     "name": "stderr",
     "output_type": "stream",
     "text": [
      "\r",
      " 80%|████████  | 8/10 [50:28<12:37, 378.70s/it]"
     ]
    },
    {
     "name": "stdout",
     "output_type": "stream",
     "text": [
      "Accuracy of the network on the 10000 test images: 2 %\n"
     ]
    },
    {
     "name": "stderr",
     "output_type": "stream",
     "text": [
      "\r",
      " 90%|█████████ | 9/10 [56:47<06:18, 378.58s/it]"
     ]
    },
    {
     "name": "stdout",
     "output_type": "stream",
     "text": [
      "Accuracy of the network on the 10000 test images: 2 %\n"
     ]
    },
    {
     "name": "stderr",
     "output_type": "stream",
     "text": [
      "100%|██████████| 10/10 [1:03:05<00:00, 378.54s/it]"
     ]
    },
    {
     "name": "stdout",
     "output_type": "stream",
     "text": [
      "Accuracy of the network on the 10000 test images: 1 %\n"
     ]
    },
    {
     "name": "stderr",
     "output_type": "stream",
     "text": [
      "\n",
      "10875it [1:59:52,  1.51it/s]\n",
      "  0%|          | 0/10 [00:00<?, ?it/s]"
     ]
    },
    {
     "name": "stdout",
     "output_type": "stream",
     "text": [
      "epoch: 8 3  batch\n",
      "Accuracy of     0 :  8 %\n",
      "Accuracy of     1 : 25 %\n",
      "Accuracy of     2 : 43 %\n",
      "Accuracy of     3 : 33 %\n",
      "Accuracy of     4 : 20 %\n",
      "Accuracy of     5 : 49 %\n",
      "Accuracy of     6 : 38 %\n",
      "Accuracy of     7 : 58 %\n",
      "Accuracy of     8 : 56 %\n",
      "Accuracy of     9 : 73 %\n",
      "Accuracy of    10 : 92 %\n",
      "Accuracy of    11 : 85 %\n",
      "Accuracy of    12 : 13 %\n",
      "Accuracy of    13 : 33 %\n",
      "Accuracy of    14 : 41 %\n",
      "Accuracy of    15 :  6 %\n",
      "Accuracy of    16 : 39 %\n",
      "Accuracy of    17 : 35 %\n",
      "Accuracy of    18 : 92 %\n",
      "Accuracy of    19 : 68 %\n",
      "Accuracy of    20 : 56 %\n",
      "Accuracy of    21 : 83 %\n",
      "Accuracy of    22 : 58 %\n",
      "Accuracy of    23 : 76 %\n",
      "Accuracy of    24 : 12 %\n",
      "Accuracy of    25 : 33 %\n",
      "Accuracy of    26 : 14 %\n",
      "Accuracy of    27 : 11 %\n",
      "Accuracy of    28 :  1 %\n",
      "Accuracy of    29 : 55 %\n",
      "Accuracy of    30 : 16 %\n",
      "Accuracy of    31 : 15 %\n",
      "Accuracy of    32 : 56 %\n",
      "Accuracy of    33 : 24 %\n",
      "Accuracy of    34 : 23 %\n",
      "Accuracy of    35 : 59 %\n",
      "Accuracy of    36 : 72 %\n",
      "Accuracy of    37 : 39 %\n",
      "Accuracy of    38 : 38 %\n",
      "Accuracy of    39 : 61 %\n",
      "Accuracy of    40 : 45 %\n",
      "Accuracy of    41 : 30 %\n",
      "Accuracy of    42 :  9 %\n",
      "Accuracy of    43 : 21 %\n",
      "Accuracy of    44 : 41 %\n",
      "Accuracy of    45 : 17 %\n",
      "Accuracy of    46 :  9 %\n",
      "Accuracy of    47 : 73 %\n",
      "Accuracy of    48 : 73 %\n",
      "Accuracy of    49 : 50 %\n",
      "Accuracy of    50 : 38 %\n",
      "Accuracy of    51 : 48 %\n",
      "Accuracy of    52 : 13 %\n",
      "Accuracy of    53 : 22 %\n",
      "Accuracy of    54 : 34 %\n",
      "Accuracy of    55 : 16 %\n",
      "Accuracy of    56 : 51 %\n",
      "Accuracy of    57 : 66 %\n",
      "epoch: 9/20 | step: 58/10875 | trn loss: 1.4702 | val loss: 4.0083\n",
      "Accuracy of the network on the 10000 test images: 26 %\n"
     ]
    },
    {
     "name": "stderr",
     "output_type": "stream",
     "text": [
      "\r",
      " 10%|█         | 1/10 [06:18<56:44, 378.22s/it]"
     ]
    },
    {
     "name": "stdout",
     "output_type": "stream",
     "text": [
      "Accuracy of the network on the 10000 test images: 3 %\n"
     ]
    },
    {
     "name": "stderr",
     "output_type": "stream",
     "text": [
      "\r",
      " 20%|██        | 2/10 [12:38<50:30, 378.78s/it]"
     ]
    },
    {
     "name": "stdout",
     "output_type": "stream",
     "text": [
      "Accuracy of the network on the 10000 test images: 3 %\n"
     ]
    },
    {
     "name": "stderr",
     "output_type": "stream",
     "text": [
      "\r",
      " 30%|███       | 3/10 [18:57<44:12, 378.92s/it]"
     ]
    },
    {
     "name": "stdout",
     "output_type": "stream",
     "text": [
      "Accuracy of the network on the 10000 test images: 3 %\n"
     ]
    },
    {
     "name": "stderr",
     "output_type": "stream",
     "text": [
      "\r",
      " 40%|████      | 4/10 [25:17<37:55, 379.18s/it]"
     ]
    },
    {
     "name": "stdout",
     "output_type": "stream",
     "text": [
      "Accuracy of the network on the 10000 test images: 3 %\n"
     ]
    },
    {
     "name": "stderr",
     "output_type": "stream",
     "text": [
      "\r",
      " 50%|█████     | 5/10 [31:36<31:36, 379.24s/it]"
     ]
    },
    {
     "name": "stdout",
     "output_type": "stream",
     "text": [
      "Accuracy of the network on the 10000 test images: 3 %\n"
     ]
    },
    {
     "name": "stderr",
     "output_type": "stream",
     "text": [
      "\r",
      " 60%|██████    | 6/10 [37:55<25:16, 379.16s/it]"
     ]
    },
    {
     "name": "stdout",
     "output_type": "stream",
     "text": [
      "Accuracy of the network on the 10000 test images: 3 %\n"
     ]
    },
    {
     "name": "stderr",
     "output_type": "stream",
     "text": [
      "\r",
      " 70%|███████   | 7/10 [47:17<21:41, 433.82s/it]"
     ]
    },
    {
     "name": "stdout",
     "output_type": "stream",
     "text": [
      "Accuracy of the network on the 10000 test images: 3 %\n"
     ]
    },
    {
     "name": "stderr",
     "output_type": "stream",
     "text": [
      "\r",
      " 80%|████████  | 8/10 [55:47<15:13, 456.80s/it]"
     ]
    },
    {
     "name": "stdout",
     "output_type": "stream",
     "text": [
      "Accuracy of the network on the 10000 test images: 4 %\n"
     ]
    },
    {
     "name": "stderr",
     "output_type": "stream",
     "text": [
      "\r",
      " 90%|█████████ | 9/10 [1:02:06<07:13, 433.61s/it]"
     ]
    },
    {
     "name": "stdout",
     "output_type": "stream",
     "text": [
      "Accuracy of the network on the 10000 test images: 3 %\n"
     ]
    },
    {
     "name": "stderr",
     "output_type": "stream",
     "text": [
      "100%|██████████| 10/10 [1:09:39<00:00, 417.90s/it]"
     ]
    },
    {
     "name": "stdout",
     "output_type": "stream",
     "text": [
      "Accuracy of the network on the 10000 test images: 2 %\n"
     ]
    },
    {
     "name": "stderr",
     "output_type": "stream",
     "text": [
      "\n",
      "10875it [2:57:28,  1.02it/s]\n",
      "  0%|          | 0/10 [00:00<?, ?it/s]"
     ]
    },
    {
     "name": "stdout",
     "output_type": "stream",
     "text": [
      "epoch: 9 3  batch\n",
      "Accuracy of     0 : 10 %\n",
      "Accuracy of     1 : 22 %\n",
      "Accuracy of     2 : 55 %\n",
      "Accuracy of     3 : 29 %\n",
      "Accuracy of     4 : 26 %\n",
      "Accuracy of     5 : 49 %\n",
      "Accuracy of     6 : 42 %\n",
      "Accuracy of     7 : 77 %\n",
      "Accuracy of     8 : 32 %\n",
      "Accuracy of     9 : 76 %\n",
      "Accuracy of    10 : 88 %\n",
      "Accuracy of    11 : 86 %\n",
      "Accuracy of    12 : 18 %\n",
      "Accuracy of    13 : 23 %\n",
      "Accuracy of    14 : 34 %\n",
      "Accuracy of    15 :  7 %\n",
      "Accuracy of    16 : 32 %\n",
      "Accuracy of    17 : 42 %\n",
      "Accuracy of    18 : 75 %\n",
      "Accuracy of    19 : 83 %\n",
      "Accuracy of    20 : 55 %\n",
      "Accuracy of    21 : 62 %\n",
      "Accuracy of    22 : 55 %\n",
      "Accuracy of    23 : 67 %\n",
      "Accuracy of    24 : 23 %\n",
      "Accuracy of    25 : 33 %\n",
      "Accuracy of    26 : 11 %\n",
      "Accuracy of    27 :  9 %\n",
      "Accuracy of    28 :  3 %\n",
      "Accuracy of    29 : 74 %\n",
      "Accuracy of    30 : 22 %\n",
      "Accuracy of    31 : 16 %\n",
      "Accuracy of    32 : 52 %\n",
      "Accuracy of    33 : 25 %\n",
      "Accuracy of    34 : 23 %\n",
      "Accuracy of    35 : 54 %\n",
      "Accuracy of    36 : 57 %\n",
      "Accuracy of    37 : 51 %\n",
      "Accuracy of    38 : 40 %\n",
      "Accuracy of    39 : 48 %\n",
      "Accuracy of    40 : 29 %\n",
      "Accuracy of    41 : 29 %\n",
      "Accuracy of    42 :  8 %\n",
      "Accuracy of    43 : 24 %\n",
      "Accuracy of    44 : 30 %\n",
      "Accuracy of    45 : 19 %\n",
      "Accuracy of    46 :  5 %\n",
      "Accuracy of    47 : 74 %\n",
      "Accuracy of    48 : 64 %\n",
      "Accuracy of    49 : 39 %\n",
      "Accuracy of    50 : 45 %\n",
      "Accuracy of    51 : 54 %\n",
      "Accuracy of    52 : 15 %\n",
      "Accuracy of    53 : 12 %\n",
      "Accuracy of    54 : 25 %\n",
      "Accuracy of    55 : 17 %\n",
      "Accuracy of    56 : 54 %\n",
      "Accuracy of    57 : 61 %\n",
      "epoch: 10/20 | step: 58/10875 | trn loss: 1.3234 | val loss: 3.8889\n",
      "Accuracy of the network on the 10000 test images: 26 %\n"
     ]
    },
    {
     "name": "stderr",
     "output_type": "stream",
     "text": [
      "\r",
      " 10%|█         | 1/10 [08:17<1:14:39, 497.72s/it]"
     ]
    },
    {
     "name": "stdout",
     "output_type": "stream",
     "text": [
      "Accuracy of the network on the 10000 test images: 3 %\n"
     ]
    },
    {
     "name": "stderr",
     "output_type": "stream",
     "text": [
      "\r",
      " 20%|██        | 2/10 [17:27<1:08:27, 513.38s/it]"
     ]
    },
    {
     "name": "stdout",
     "output_type": "stream",
     "text": [
      "Accuracy of the network on the 10000 test images: 3 %\n"
     ]
    },
    {
     "name": "stderr",
     "output_type": "stream",
     "text": [
      "\r",
      " 30%|███       | 3/10 [27:59<1:04:01, 548.81s/it]"
     ]
    },
    {
     "name": "stdout",
     "output_type": "stream",
     "text": [
      "Accuracy of the network on the 10000 test images: 3 %\n"
     ]
    },
    {
     "name": "stderr",
     "output_type": "stream",
     "text": [
      "\r",
      " 40%|████      | 4/10 [38:30<57:21, 573.65s/it]  "
     ]
    },
    {
     "name": "stdout",
     "output_type": "stream",
     "text": [
      "Accuracy of the network on the 10000 test images: 3 %\n"
     ]
    },
    {
     "name": "stderr",
     "output_type": "stream",
     "text": [
      "\r",
      " 50%|█████     | 5/10 [49:00<49:13, 590.60s/it]"
     ]
    },
    {
     "name": "stdout",
     "output_type": "stream",
     "text": [
      "Accuracy of the network on the 10000 test images: 4 %\n"
     ]
    },
    {
     "name": "stderr",
     "output_type": "stream",
     "text": [
      "\r",
      " 60%|██████    | 6/10 [59:25<40:02, 600.68s/it]"
     ]
    },
    {
     "name": "stdout",
     "output_type": "stream",
     "text": [
      "Accuracy of the network on the 10000 test images: 4 %\n"
     ]
    },
    {
     "name": "stderr",
     "output_type": "stream",
     "text": [
      "\r",
      " 70%|███████   | 7/10 [1:09:48<30:22, 607.61s/it]"
     ]
    },
    {
     "name": "stdout",
     "output_type": "stream",
     "text": [
      "Accuracy of the network on the 10000 test images: 4 %\n"
     ]
    },
    {
     "name": "stderr",
     "output_type": "stream",
     "text": [
      "\r",
      " 80%|████████  | 8/10 [1:20:11<20:24, 612.06s/it]"
     ]
    },
    {
     "name": "stdout",
     "output_type": "stream",
     "text": [
      "Accuracy of the network on the 10000 test images: 4 %\n"
     ]
    },
    {
     "name": "stderr",
     "output_type": "stream",
     "text": [
      "\r",
      " 90%|█████████ | 9/10 [1:30:30<10:14, 614.11s/it]"
     ]
    },
    {
     "name": "stdout",
     "output_type": "stream",
     "text": [
      "Accuracy of the network on the 10000 test images: 3 %\n"
     ]
    },
    {
     "name": "stderr",
     "output_type": "stream",
     "text": [
      "100%|██████████| 10/10 [1:40:39<00:00, 603.91s/it]"
     ]
    },
    {
     "name": "stdout",
     "output_type": "stream",
     "text": [
      "Accuracy of the network on the 10000 test images: 2 %\n"
     ]
    },
    {
     "name": "stderr",
     "output_type": "stream",
     "text": [
      "\n",
      "10875it [3:05:17,  1.02s/it]\n",
      "  0%|          | 0/10 [00:00<?, ?it/s]"
     ]
    },
    {
     "name": "stdout",
     "output_type": "stream",
     "text": [
      "epoch: 10 3  batch\n",
      "Accuracy of     0 :  4 %\n",
      "Accuracy of     1 : 23 %\n",
      "Accuracy of     2 : 38 %\n",
      "Accuracy of     3 : 30 %\n",
      "Accuracy of     4 :  9 %\n",
      "Accuracy of     5 : 35 %\n",
      "Accuracy of     6 : 34 %\n",
      "Accuracy of     7 : 76 %\n",
      "Accuracy of     8 : 59 %\n",
      "Accuracy of     9 : 83 %\n",
      "Accuracy of    10 : 91 %\n",
      "Accuracy of    11 : 85 %\n",
      "Accuracy of    12 : 17 %\n",
      "Accuracy of    13 : 28 %\n",
      "Accuracy of    14 : 28 %\n",
      "Accuracy of    15 :  7 %\n",
      "Accuracy of    16 : 40 %\n",
      "Accuracy of    17 : 43 %\n",
      "Accuracy of    18 : 69 %\n",
      "Accuracy of    19 : 80 %\n",
      "Accuracy of    20 : 55 %\n",
      "Accuracy of    21 : 65 %\n",
      "Accuracy of    22 : 69 %\n",
      "Accuracy of    23 : 77 %\n",
      "Accuracy of    24 : 26 %\n",
      "Accuracy of    25 : 27 %\n",
      "Accuracy of    26 : 20 %\n",
      "Accuracy of    27 :  7 %\n",
      "Accuracy of    28 :  6 %\n",
      "Accuracy of    29 : 81 %\n",
      "Accuracy of    30 : 15 %\n",
      "Accuracy of    31 : 19 %\n",
      "Accuracy of    32 : 55 %\n",
      "Accuracy of    33 : 40 %\n",
      "Accuracy of    34 : 19 %\n",
      "Accuracy of    35 : 27 %\n",
      "Accuracy of    36 : 71 %\n",
      "Accuracy of    37 : 37 %\n",
      "Accuracy of    38 : 43 %\n",
      "Accuracy of    39 : 57 %\n",
      "Accuracy of    40 : 34 %\n",
      "Accuracy of    41 : 18 %\n",
      "Accuracy of    42 :  7 %\n",
      "Accuracy of    43 : 36 %\n",
      "Accuracy of    44 : 37 %\n",
      "Accuracy of    45 : 24 %\n",
      "Accuracy of    46 :  2 %\n",
      "Accuracy of    47 : 65 %\n",
      "Accuracy of    48 : 77 %\n",
      "Accuracy of    49 : 31 %\n",
      "Accuracy of    50 : 27 %\n",
      "Accuracy of    51 : 41 %\n",
      "Accuracy of    52 : 18 %\n",
      "Accuracy of    53 : 25 %\n",
      "Accuracy of    54 : 51 %\n",
      "Accuracy of    55 : 18 %\n",
      "Accuracy of    56 : 65 %\n",
      "Accuracy of    57 : 67 %\n",
      "epoch: 11/20 | step: 58/10875 | trn loss: 1.1695 | val loss: 4.8688\n",
      "Accuracy of the network on the 10000 test images: 25 %\n"
     ]
    },
    {
     "name": "stderr",
     "output_type": "stream",
     "text": [
      "\r",
      " 10%|█         | 1/10 [10:19<1:32:59, 619.93s/it]"
     ]
    },
    {
     "name": "stdout",
     "output_type": "stream",
     "text": [
      "Accuracy of the network on the 10000 test images: 2 %\n"
     ]
    },
    {
     "name": "stderr",
     "output_type": "stream",
     "text": [
      "\r",
      " 20%|██        | 2/10 [20:39<1:22:38, 619.75s/it]"
     ]
    },
    {
     "name": "stdout",
     "output_type": "stream",
     "text": [
      "Accuracy of the network on the 10000 test images: 2 %\n"
     ]
    },
    {
     "name": "stderr",
     "output_type": "stream",
     "text": [
      "\r",
      " 30%|███       | 3/10 [30:58<1:12:17, 619.68s/it]"
     ]
    },
    {
     "name": "stdout",
     "output_type": "stream",
     "text": [
      "Accuracy of the network on the 10000 test images: 2 %\n"
     ]
    },
    {
     "name": "stderr",
     "output_type": "stream",
     "text": [
      "\r",
      " 40%|████      | 4/10 [41:17<1:01:56, 619.45s/it]"
     ]
    },
    {
     "name": "stdout",
     "output_type": "stream",
     "text": [
      "Accuracy of the network on the 10000 test images: 2 %\n"
     ]
    },
    {
     "name": "stderr",
     "output_type": "stream",
     "text": [
      "\r",
      " 50%|█████     | 5/10 [50:27<49:52, 598.55s/it]  "
     ]
    },
    {
     "name": "stdout",
     "output_type": "stream",
     "text": [
      "Accuracy of the network on the 10000 test images: 2 %\n"
     ]
    },
    {
     "name": "stderr",
     "output_type": "stream",
     "text": [
      "\r",
      " 60%|██████    | 6/10 [58:49<37:58, 569.72s/it]"
     ]
    },
    {
     "name": "stdout",
     "output_type": "stream",
     "text": [
      "Accuracy of the network on the 10000 test images: 2 %\n"
     ]
    },
    {
     "name": "stderr",
     "output_type": "stream",
     "text": [
      "\r",
      " 70%|███████   | 7/10 [1:09:03<29:08, 582.75s/it]"
     ]
    },
    {
     "name": "stdout",
     "output_type": "stream",
     "text": [
      "Accuracy of the network on the 10000 test images: 2 %\n"
     ]
    },
    {
     "name": "stderr",
     "output_type": "stream",
     "text": [
      "\r",
      " 80%|████████  | 8/10 [1:19:13<19:42, 591.09s/it]"
     ]
    },
    {
     "name": "stdout",
     "output_type": "stream",
     "text": [
      "Accuracy of the network on the 10000 test images: 2 %\n"
     ]
    },
    {
     "name": "stderr",
     "output_type": "stream",
     "text": [
      "\r",
      " 90%|█████████ | 9/10 [1:29:24<09:57, 597.14s/it]"
     ]
    },
    {
     "name": "stdout",
     "output_type": "stream",
     "text": [
      "Accuracy of the network on the 10000 test images: 1 %\n"
     ]
    },
    {
     "name": "stderr",
     "output_type": "stream",
     "text": [
      "100%|██████████| 10/10 [1:39:36<00:00, 597.62s/it]"
     ]
    },
    {
     "name": "stdout",
     "output_type": "stream",
     "text": [
      "Accuracy of the network on the 10000 test images: 1 %\n"
     ]
    },
    {
     "name": "stderr",
     "output_type": "stream",
     "text": [
      "\n",
      "10875it [3:09:26,  1.05s/it]\n",
      "  0%|          | 0/10 [00:00<?, ?it/s]"
     ]
    },
    {
     "name": "stdout",
     "output_type": "stream",
     "text": [
      "epoch: 11 3  batch\n",
      "Accuracy of     0 : 12 %\n",
      "Accuracy of     1 : 12 %\n",
      "Accuracy of     2 : 54 %\n",
      "Accuracy of     3 : 19 %\n",
      "Accuracy of     4 : 30 %\n",
      "Accuracy of     5 : 43 %\n",
      "Accuracy of     6 : 41 %\n",
      "Accuracy of     7 : 64 %\n",
      "Accuracy of     8 : 41 %\n",
      "Accuracy of     9 : 84 %\n",
      "Accuracy of    10 : 87 %\n",
      "Accuracy of    11 : 89 %\n",
      "Accuracy of    12 : 22 %\n",
      "Accuracy of    13 : 29 %\n",
      "Accuracy of    14 : 45 %\n",
      "Accuracy of    15 :  6 %\n",
      "Accuracy of    16 : 42 %\n",
      "Accuracy of    17 : 30 %\n",
      "Accuracy of    18 : 84 %\n",
      "Accuracy of    19 : 84 %\n",
      "Accuracy of    20 : 58 %\n",
      "Accuracy of    21 : 61 %\n",
      "Accuracy of    22 : 51 %\n",
      "Accuracy of    23 : 69 %\n",
      "Accuracy of    24 : 13 %\n",
      "Accuracy of    25 : 27 %\n",
      "Accuracy of    26 :  8 %\n",
      "Accuracy of    27 : 10 %\n",
      "Accuracy of    28 :  1 %\n",
      "Accuracy of    29 : 63 %\n",
      "Accuracy of    30 :  9 %\n",
      "Accuracy of    31 : 13 %\n",
      "Accuracy of    32 : 57 %\n",
      "Accuracy of    33 : 38 %\n",
      "Accuracy of    34 : 20 %\n",
      "Accuracy of    35 : 43 %\n",
      "Accuracy of    36 : 44 %\n",
      "Accuracy of    37 : 66 %\n",
      "Accuracy of    38 : 30 %\n",
      "Accuracy of    39 : 40 %\n",
      "Accuracy of    40 : 23 %\n",
      "Accuracy of    41 : 38 %\n",
      "Accuracy of    42 :  8 %\n",
      "Accuracy of    43 : 23 %\n",
      "Accuracy of    44 : 38 %\n",
      "Accuracy of    45 : 28 %\n",
      "Accuracy of    46 :  5 %\n",
      "Accuracy of    47 : 69 %\n",
      "Accuracy of    48 : 65 %\n",
      "Accuracy of    49 : 37 %\n",
      "Accuracy of    50 : 38 %\n",
      "Accuracy of    51 : 58 %\n",
      "Accuracy of    52 : 20 %\n",
      "Accuracy of    53 : 18 %\n",
      "Accuracy of    54 : 31 %\n",
      "Accuracy of    55 : 19 %\n",
      "Accuracy of    56 : 57 %\n",
      "Accuracy of    57 : 60 %\n",
      "epoch: 12/20 | step: 58/10875 | trn loss: 1.0216 | val loss: 4.7946\n",
      "Accuracy of the network on the 10000 test images: 27 %\n"
     ]
    },
    {
     "name": "stderr",
     "output_type": "stream",
     "text": [
      "\r",
      " 10%|█         | 1/10 [10:38<1:35:44, 638.29s/it]"
     ]
    },
    {
     "name": "stdout",
     "output_type": "stream",
     "text": [
      "Accuracy of the network on the 10000 test images: 4 %\n"
     ]
    },
    {
     "name": "stderr",
     "output_type": "stream",
     "text": [
      "\r",
      " 20%|██        | 2/10 [21:17<1:25:08, 638.54s/it]"
     ]
    },
    {
     "name": "stdout",
     "output_type": "stream",
     "text": [
      "Accuracy of the network on the 10000 test images: 4 %\n"
     ]
    },
    {
     "name": "stderr",
     "output_type": "stream",
     "text": [
      "\r",
      " 30%|███       | 3/10 [31:56<1:14:31, 638.78s/it]"
     ]
    },
    {
     "name": "stdout",
     "output_type": "stream",
     "text": [
      "Accuracy of the network on the 10000 test images: 4 %\n"
     ]
    },
    {
     "name": "stderr",
     "output_type": "stream",
     "text": [
      "\r",
      " 40%|████      | 4/10 [42:37<1:03:55, 639.30s/it]"
     ]
    },
    {
     "name": "stdout",
     "output_type": "stream",
     "text": [
      "Accuracy of the network on the 10000 test images: 4 %\n"
     ]
    },
    {
     "name": "stderr",
     "output_type": "stream",
     "text": [
      "\r",
      " 50%|█████     | 5/10 [53:16<53:15, 639.18s/it]  "
     ]
    },
    {
     "name": "stdout",
     "output_type": "stream",
     "text": [
      "Accuracy of the network on the 10000 test images: 4 %\n"
     ]
    },
    {
     "name": "stderr",
     "output_type": "stream",
     "text": [
      "\r",
      " 60%|██████    | 6/10 [1:03:53<42:34, 638.55s/it]"
     ]
    },
    {
     "name": "stdout",
     "output_type": "stream",
     "text": [
      "Accuracy of the network on the 10000 test images: 4 %\n"
     ]
    },
    {
     "name": "stderr",
     "output_type": "stream",
     "text": [
      "\r",
      " 70%|███████   | 7/10 [1:14:29<31:54, 638.01s/it]"
     ]
    },
    {
     "name": "stdout",
     "output_type": "stream",
     "text": [
      "Accuracy of the network on the 10000 test images: 4 %\n"
     ]
    },
    {
     "name": "stderr",
     "output_type": "stream",
     "text": [
      "\r",
      " 80%|████████  | 8/10 [1:22:03<19:25, 582.51s/it]"
     ]
    },
    {
     "name": "stdout",
     "output_type": "stream",
     "text": [
      "Accuracy of the network on the 10000 test images: 4 %\n"
     ]
    },
    {
     "name": "stderr",
     "output_type": "stream",
     "text": [
      "\r",
      " 90%|█████████ | 9/10 [1:31:58<09:46, 586.28s/it]"
     ]
    },
    {
     "name": "stdout",
     "output_type": "stream",
     "text": [
      "Accuracy of the network on the 10000 test images: 3 %\n"
     ]
    },
    {
     "name": "stderr",
     "output_type": "stream",
     "text": [
      "100%|██████████| 10/10 [1:42:35<00:00, 615.58s/it]"
     ]
    },
    {
     "name": "stdout",
     "output_type": "stream",
     "text": [
      "Accuracy of the network on the 10000 test images: 2 %\n"
     ]
    },
    {
     "name": "stderr",
     "output_type": "stream",
     "text": [
      "\n",
      "10875it [3:10:27,  1.05s/it]\n",
      "  0%|          | 0/10 [00:00<?, ?it/s]"
     ]
    },
    {
     "name": "stdout",
     "output_type": "stream",
     "text": [
      "epoch: 12 3  batch\n",
      "Accuracy of     0 :  7 %\n",
      "Accuracy of     1 : 12 %\n",
      "Accuracy of     2 : 50 %\n",
      "Accuracy of     3 : 23 %\n",
      "Accuracy of     4 : 22 %\n",
      "Accuracy of     5 : 53 %\n",
      "Accuracy of     6 : 35 %\n",
      "Accuracy of     7 : 60 %\n",
      "Accuracy of     8 : 29 %\n",
      "Accuracy of     9 : 82 %\n",
      "Accuracy of    10 : 90 %\n",
      "Accuracy of    11 : 85 %\n",
      "Accuracy of    12 : 23 %\n",
      "Accuracy of    13 : 23 %\n",
      "Accuracy of    14 : 28 %\n",
      "Accuracy of    15 :  9 %\n",
      "Accuracy of    16 : 43 %\n",
      "Accuracy of    17 : 22 %\n",
      "Accuracy of    18 : 86 %\n",
      "Accuracy of    19 : 70 %\n",
      "Accuracy of    20 : 47 %\n",
      "Accuracy of    21 : 69 %\n",
      "Accuracy of    22 : 69 %\n",
      "Accuracy of    23 : 72 %\n",
      "Accuracy of    24 : 15 %\n",
      "Accuracy of    25 : 30 %\n",
      "Accuracy of    26 : 11 %\n",
      "Accuracy of    27 :  9 %\n",
      "Accuracy of    28 :  1 %\n",
      "Accuracy of    29 : 80 %\n",
      "Accuracy of    30 : 13 %\n",
      "Accuracy of    31 : 10 %\n",
      "Accuracy of    32 : 51 %\n",
      "Accuracy of    33 : 28 %\n",
      "Accuracy of    34 : 19 %\n",
      "Accuracy of    35 : 64 %\n",
      "Accuracy of    36 : 56 %\n",
      "Accuracy of    37 : 47 %\n",
      "Accuracy of    38 : 44 %\n",
      "Accuracy of    39 : 54 %\n",
      "Accuracy of    40 : 23 %\n",
      "Accuracy of    41 : 14 %\n",
      "Accuracy of    42 :  2 %\n",
      "Accuracy of    43 : 23 %\n",
      "Accuracy of    44 : 39 %\n",
      "Accuracy of    45 : 19 %\n",
      "Accuracy of    46 :  3 %\n",
      "Accuracy of    47 : 65 %\n",
      "Accuracy of    48 : 72 %\n",
      "Accuracy of    49 : 35 %\n",
      "Accuracy of    50 : 32 %\n",
      "Accuracy of    51 : 50 %\n",
      "Accuracy of    52 : 22 %\n",
      "Accuracy of    53 : 24 %\n",
      "Accuracy of    54 : 32 %\n",
      "Accuracy of    55 : 16 %\n",
      "Accuracy of    56 : 59 %\n",
      "Accuracy of    57 : 62 %\n",
      "epoch: 13/20 | step: 58/10875 | trn loss: 0.8792 | val loss: 5.5886\n",
      "Accuracy of the network on the 10000 test images: 24 %\n"
     ]
    },
    {
     "name": "stderr",
     "output_type": "stream",
     "text": [
      "\r",
      " 10%|█         | 1/10 [10:44<1:36:36, 644.03s/it]"
     ]
    },
    {
     "name": "stdout",
     "output_type": "stream",
     "text": [
      "Accuracy of the network on the 10000 test images: 3 %\n"
     ]
    },
    {
     "name": "stderr",
     "output_type": "stream",
     "text": [
      "\r",
      " 20%|██        | 2/10 [21:28<1:25:52, 644.08s/it]"
     ]
    },
    {
     "name": "stdout",
     "output_type": "stream",
     "text": [
      "Accuracy of the network on the 10000 test images: 3 %\n"
     ]
    },
    {
     "name": "stderr",
     "output_type": "stream",
     "text": [
      "\r",
      " 30%|███       | 3/10 [32:11<1:15:07, 643.92s/it]"
     ]
    },
    {
     "name": "stdout",
     "output_type": "stream",
     "text": [
      "Accuracy of the network on the 10000 test images: 3 %\n"
     ]
    },
    {
     "name": "stderr",
     "output_type": "stream",
     "text": [
      "\r",
      " 40%|████      | 4/10 [42:55<1:04:23, 643.85s/it]"
     ]
    },
    {
     "name": "stdout",
     "output_type": "stream",
     "text": [
      "Accuracy of the network on the 10000 test images: 3 %\n"
     ]
    },
    {
     "name": "stderr",
     "output_type": "stream",
     "text": [
      "\r",
      " 50%|█████     | 5/10 [53:38<53:38, 643.67s/it]  "
     ]
    },
    {
     "name": "stdout",
     "output_type": "stream",
     "text": [
      "Accuracy of the network on the 10000 test images: 3 %\n"
     ]
    },
    {
     "name": "stderr",
     "output_type": "stream",
     "text": [
      "\r",
      " 60%|██████    | 6/10 [1:04:21<42:53, 643.31s/it]"
     ]
    },
    {
     "name": "stdout",
     "output_type": "stream",
     "text": [
      "Accuracy of the network on the 10000 test images: 3 %\n"
     ]
    },
    {
     "name": "stderr",
     "output_type": "stream",
     "text": [
      "\r",
      " 70%|███████   | 7/10 [1:15:02<32:07, 642.56s/it]"
     ]
    },
    {
     "name": "stdout",
     "output_type": "stream",
     "text": [
      "Accuracy of the network on the 10000 test images: 3 %\n"
     ]
    },
    {
     "name": "stderr",
     "output_type": "stream",
     "text": [
      "\r",
      " 80%|████████  | 8/10 [1:25:41<21:23, 641.79s/it]"
     ]
    },
    {
     "name": "stdout",
     "output_type": "stream",
     "text": [
      "Accuracy of the network on the 10000 test images: 3 %\n"
     ]
    },
    {
     "name": "stderr",
     "output_type": "stream",
     "text": [
      "\r",
      " 90%|█████████ | 9/10 [1:36:22<10:41, 641.27s/it]"
     ]
    },
    {
     "name": "stdout",
     "output_type": "stream",
     "text": [
      "Accuracy of the network on the 10000 test images: 2 %\n"
     ]
    },
    {
     "name": "stderr",
     "output_type": "stream",
     "text": [
      "100%|██████████| 10/10 [1:46:58<00:00, 641.86s/it]"
     ]
    },
    {
     "name": "stdout",
     "output_type": "stream",
     "text": [
      "Accuracy of the network on the 10000 test images: 1 %\n"
     ]
    },
    {
     "name": "stderr",
     "output_type": "stream",
     "text": [
      "\n",
      "164it [02:53,  1.07s/it]"
     ]
    }
   ],
   "source": [
    "import torch.optim as optim\n",
    "import sys\n",
    "\n",
    "trn_loss_list = []\n",
    "val_loss_list = []\n",
    "acc_list = []\n",
    "acc_list_aug = []\n",
    "num_batches = len(trainloader)\n",
    "for epoch in range(20):\n",
    "    running_loss = 0.0\n",
    "    model1.train()\n",
    "    device = 'cuda:0'\n",
    "    for i,images in tqdm(enumerate(trainloader)):\n",
    "        optimizer.zero_grad()\n",
    "        c1 = images[0].to(device)\n",
    "        c6 = images[1].to(device)\n",
    "        output = model1(c1)\n",
    "        loss = criterion(output, c6)\n",
    "        loss.backward()    # calc gradients\n",
    "        optimizer.step()   # update gradients\n",
    "        running_loss += loss.item()\n",
    "\n",
    "    model1.eval()\n",
    "    with torch.no_grad(): # very very very very important!!!\n",
    "        val_loss = 0.0\n",
    "        class_correct = list(0. for i in range(num_classes))\n",
    "        class_total = list(0. for i in range(num_classes))\n",
    "        correct = 0\n",
    "        total = 0\n",
    "        for j,val in enumerate(testloader):\n",
    "            v1 = val[0].to(device)\n",
    "            val_labels = val[1].to(device)\n",
    "            val_output = model1(v1)\n",
    "            v_loss = criterion(val_output, val_labels)\n",
    "            val_loss += v_loss\n",
    "            _, predicted = torch.max(val_output, 1)\n",
    "            c = (predicted == val_labels).squeeze()\n",
    "            total += val_labels.size(0)\n",
    "            correct += (predicted == val_labels).sum().item()\n",
    "            for i in range(len(val_labels)):\n",
    "                val_label = val_labels[i]\n",
    "                class_correct[val_label] += c[i].item()\n",
    "                class_total[val_label] += 1\n",
    "\n",
    "        print(\"epoch:\",str(epoch),str(i),\" batch\")\n",
    "        for i in range(num_classes):\n",
    "            if class_total[i]==0:\n",
    "                print('class_total = 0',class_correct,class_total)\n",
    "            else:\n",
    "                print('Accuracy of %5s : %2d %%' % (i, 100 * class_correct[i] / class_total[i]))\n",
    "\n",
    "    print(\"epoch: {}/{} | step: {}/{} | trn loss: {:.4f} | val loss: {:.4f}\".format(\n",
    "        epoch+1, 20, i+1, num_batches, running_loss / len(trainloader), val_loss / len(testloader)\n",
    "    ))        \n",
    "    print('Accuracy of the network on the 10000 test images: %d %%' % (100 * correct / total))\n",
    "\n",
    "    trn_loss_list.append(running_loss/1875)\n",
    "    val_loss_list.append(val_loss/len(testloader))\n",
    "    running_loss = 0.0\n",
    "\n",
    "    temp_acc = []\n",
    "    for testloader_val in tqdm(val_gen_arr):\n",
    "        correct = 0\n",
    "        total = 0\n",
    "        class_correct = list(0. for i in range(num_classes))\n",
    "        class_total = list(0. for i in range(num_classes))\n",
    "        with torch.no_grad():\n",
    "            for images in testloader_val:\n",
    "                c1 = images[0].to(device)\n",
    "                val_labels = images[1].to(device)\n",
    "                outputs = model1(c1)\n",
    "                _, predicted = torch.max(outputs.data, 1)\n",
    "                c = (predicted == val_labels).squeeze()\n",
    "                total += val_labels.size(0)\n",
    "                correct += (predicted == val_labels).sum().item()\n",
    "        #print(total,correct,end='')\n",
    "\n",
    "        print('Accuracy of the network on the 10000 test images: %d %%' % (100 * correct / total))\n",
    "        temp_acc.append(100 * correct / total)\n",
    "        #print(temp_acc)\n",
    "    acc_list.append(temp_acc)\n",
    "\n",
    "    import csv\n",
    "\n",
    "    csvfile = open(TEST_RESULT_PATH+'testresult_'+TASK_NAME+'_'+DATE+'.csv','w',newline=\"\")\n",
    "\n",
    "    csvwriter = csv.writer(csvfile)\n",
    "    for row in acc_list:\n",
    "        csvwriter.writerow(row)\n",
    "\n",
    "    csvfile.close()\n",
    "\n",
    "    torch.save(model1.state_dict(),WEIGHTS_PATH+TASK_NAME+'_'+DATE+'.pt')\n",
    "\n",
    "    model1.train()\n",
    "    '''if epoch == 9:\n",
    "        optimizer = optim.Adam(model1.parameters(), lr=0.0001)\n",
    "        print('lr is changed to 0.0001')'''\n",
    "        \n",
    "    #optimizer = optim.SGD(model.parameters(), lr=0.001, momentum=0.9)'''\n",
    "    "
   ]
  },
  {
   "cell_type": "code",
   "execution_count": null,
   "metadata": {},
   "outputs": [],
   "source": [
    "images[1]"
   ]
  },
  {
   "cell_type": "code",
   "execution_count": null,
   "metadata": {},
   "outputs": [],
   "source": [
    "for i,images in tqdm(enumerate(trainloader)):\n",
    "    print(images[1].shape)\n",
    "    break"
   ]
  },
  {
   "cell_type": "markdown",
   "metadata": {},
   "source": [
    "# TRAIN AND TEST ENDS\n",
    "code below won't work"
   ]
  },
  {
   "cell_type": "code",
   "execution_count": null,
   "metadata": {},
   "outputs": [],
   "source": [
    "import torch.nn as nn\n",
    "import torch.nn.functional as F\n",
    "\n",
    "class Net(nn.Module):\n",
    "    def __init__(self):\n",
    "        super(Net, self).__init__()\n",
    "        \n",
    "        self.conv1 = nn.Conv2d(3,64,kernel_size=7,stride=2,padding=3,bias=False)\n",
    "        self.bn1 = nn.BatchNorm2d(64)\n",
    "        self.relu = nn.ReLU(inplace = True)\n",
    "        self.maxpool = nn.MaxPool2d(kernel_size=3,stride=2,padding=1)\n",
    "        \n",
    "        self.prepool1 = nn.Upsample(scale_factor=2, mode='bilinear')\n",
    "        self.prepool2 = nn.AvgPool2d(2,2)\n",
    "        \n",
    "        #self.sc1 = SCModule1(3,64)\n",
    "        self.rp1 = ResPoolModule(256)\n",
    "        self.rp2 = ResPoolModule(512)\n",
    "        self.rp3 = ResPoolModule(1024)\n",
    "        self.rp4 = ResPoolModule(2048)\n",
    "        \n",
    "        #self.relu = nn.ReLU(inplace = True)\n",
    "        \n",
    "        self.conv2_1 = SCBottleneck(64,256,downsample=True)\n",
    "        self.conv2_2 = SCBottleneck(256,256)\n",
    "        self.conv2_3 = SCBottleneck(256,256)\n",
    "        \n",
    "        self.conv3_1 = SCBottleneck(256,512,downsample=True)\n",
    "        self.conv3_2 = SCBottleneck(512,512)\n",
    "        self.conv3_3 = SCBottleneck(512,512)\n",
    "        self.conv3_4 = SCBottleneck(512,512)\n",
    "        \n",
    "        self.conv4_1 = SCBottleneck(512,1024,downsample=True)\n",
    "        self.conv4_2 = SCBottleneck(1024,1024)\n",
    "        self.conv4_3 = SCBottleneck(1024,1024)\n",
    "        self.conv4_4 = SCBottleneck(1024,1024)\n",
    "        self.conv4_5 = SCBottleneck(1024,1024)\n",
    "        self.conv4_6 = SCBottleneck(1024,1024)\n",
    "        \n",
    "        self.conv5_1 = SCBottleneck(1024,2048,downsample=True)\n",
    "        self.conv5_2 = SCBottleneck(2048,2048)\n",
    "        self.conv5_3 = SCBottleneck(2048,2048)\n",
    "        \n",
    "        self.avgpool = nn.AdaptiveAvgPool2d((1,1))\n",
    "        self.fc = nn.Linear(2048,10)\n",
    "\n",
    "    def forward(self, x):\n",
    "        save = []\n",
    "        \n",
    "        x = self.conv1(x)\n",
    "        x = self.bn1(x)\n",
    "        x = self.relu(x)\n",
    "        save.append(x)\n",
    "        \n",
    "        #print(x.size())\n",
    "            \n",
    "        x = self.conv2_1([self.prepool1(x),x,self.prepool2(x)])\n",
    "        save.append(x[0])\n",
    "        save.append(x[1])\n",
    "        save.append(x[2])\n",
    "        x = self.conv2_2(x)\n",
    "        save.append(x[0])\n",
    "        save.append(x[1])\n",
    "        save.append(x[2])\n",
    "        x = self.conv2_3(x)\n",
    "        save.append(x[0])\n",
    "        save.append(x[1])\n",
    "        save.append(x[2])\n",
    "        \n",
    "        x = self.rp1(x)\n",
    "        save.append(x)\n",
    "        \n",
    "        #print(x.size())\n",
    "        \n",
    "        x = self.conv3_1([self.prepool1(x),x,self.prepool2(x)])\n",
    "        save.append(x[0])\n",
    "        save.append(x[1])\n",
    "        save.append(x[2])\n",
    "        x = self.conv3_2(x)\n",
    "        save.append(x[0])\n",
    "        save.append(x[1])\n",
    "        save.append(x[2])\n",
    "        x = self.conv3_3(x)\n",
    "        save.append(x[0])\n",
    "        save.append(x[1])\n",
    "        save.append(x[2])\n",
    "        x = self.conv3_4(x)\n",
    "        save.append(x[0])\n",
    "        save.append(x[1])\n",
    "        save.append(x[2])\n",
    "        \n",
    "        x = self.rp2(x)\n",
    "        save.append(x)\n",
    "        \n",
    "        x = self.conv4_1([self.prepool1(x),x,self.prepool2(x)])\n",
    "        save.append(x[0])\n",
    "        save.append(x[1])\n",
    "        save.append(x[2])\n",
    "        x = self.conv4_2(x)\n",
    "        save.append(x[0])\n",
    "        save.append(x[1])\n",
    "        save.append(x[2])\n",
    "        x = self.conv4_3(x)\n",
    "        save.append(x[0])\n",
    "        save.append(x[1])\n",
    "        save.append(x[2])\n",
    "        x = self.conv4_4(x)\n",
    "        save.append(x[0])\n",
    "        save.append(x[1])\n",
    "        save.append(x[2])\n",
    "        x = self.conv4_5(x)\n",
    "        save.append(x[0])\n",
    "        save.append(x[1])\n",
    "        save.append(x[2])\n",
    "        x = self.conv4_6(x)\n",
    "        save.append(x[0])\n",
    "        save.append(x[1])\n",
    "        save.append(x[2])\n",
    "        \n",
    "        x = self.rp3(x)\n",
    "        save.append(x)\n",
    "        \n",
    "        x = self.conv5_1([self.prepool1(x),x,self.prepool2(x)])\n",
    "        save.append(x[0])\n",
    "        save.append(x[1])\n",
    "        save.append(x[2])\n",
    "        x = self.conv5_2(x)\n",
    "        save.append(x[0])\n",
    "        save.append(x[1])\n",
    "        save.append(x[2])\n",
    "        x = self.conv5_3(x)\n",
    "        save.append(x[0])\n",
    "        save.append(x[1])\n",
    "        save.append(x[2])\n",
    "        \n",
    "        x = self.rp4(x)\n",
    "        save.append(x)\n",
    "        \n",
    "        x = self.avgpool(x)\n",
    "        x = torch.flatten(x,1)\n",
    "        x = self.fc(x)\n",
    "        \n",
    "        return x,save\n",
    "        \n",
    "        "
   ]
  },
  {
   "cell_type": "code",
   "execution_count": null,
   "metadata": {},
   "outputs": [],
   "source": [
    "model1 = Net().to('cuda:0')\n",
    "if torch.cuda.device_count() > 1:\n",
    "    model1 = DDP(model1,device_ids = [0])\n",
    "'''    \n",
    "model2 = Net().to('cuda:0')\n",
    "if torch.cuda.device_count() > 1:\n",
    "    model2 = DDP(model2,device_ids = [2])'''"
   ]
  },
  {
   "cell_type": "code",
   "execution_count": null,
   "metadata": {},
   "outputs": [],
   "source": [
    "model1.load_state_dict(torch.load('ResNet50_allsc_half_mar11.pt'))\n",
    "#model2.load_state_dict(torch.load('ResNet50_scrp2_feb19.pt'))"
   ]
  },
  {
   "cell_type": "code",
   "execution_count": null,
   "metadata": {},
   "outputs": [],
   "source": [
    "model1.eval()\n",
    "#model2.eval()"
   ]
  },
  {
   "cell_type": "code",
   "execution_count": null,
   "metadata": {},
   "outputs": [],
   "source": [
    "from PIL import Image\n",
    "\n",
    "transform = transforms.Compose([\n",
    "    transforms.ToTensor(),\n",
    "    transforms.Normalize((0.1307, 0.1307, 0.1307), (0.3081, 0.3081, 0.3081))])\n",
    "\n",
    "SIZED_VAL_PATH = 'mnist_sized'\n",
    "l2_img_test_arr = []\n",
    "for i in range(1,113):\n",
    "    img_path = os.path.join(SIZED_VAL_PATH,str(i),'9','1622.png')\n",
    "    img = Image.open(img_path)\n",
    "    img = transform(img)\n",
    "    img = torch.unsqueeze(img,0)\n",
    "    img.to(device)\n",
    "    l2_img_test_arr.append(img)"
   ]
  },
  {
   "cell_type": "code",
   "execution_count": null,
   "metadata": {},
   "outputs": [],
   "source": [
    "!mkdir res50_allsc_l2"
   ]
  },
  {
   "cell_type": "code",
   "execution_count": null,
   "metadata": {
    "scrolled": true
   },
   "outputs": [],
   "source": [
    "name = ['1st conv',\\\n",
    "        'sc2_1_1(256)','sc2_1_2(256)','sc2_1_3(256)',\\\n",
    "        'sc2_2_1(256)','sc2_2_2(256)','sc2_2_3(256)',\\\n",
    "        'sc2_3_1(256)','sc2_3_2(256)','sc2_3_3(256)',\\\n",
    "        'rp2',\\\n",
    "        'sc3_1_1(512)','sc3_1_2(512)','sc3_1_3(512)',\\\n",
    "        'sc3_2_1(512)','sc3_2_2(512)','sc3_2_3(512)',\\\n",
    "        'sc3_3_1(512)','sc3_3_2(512)','sc3_3_3(512)',\\\n",
    "        'sc3_4_1(512)','sc3_4_2(512)','sc3_4_3(512)',\\\n",
    "        'rp3',\\\n",
    "        'sc4_1_1(1024)','sc4_1_2(1024)','sc4_1_3(1024)',\\\n",
    "        'sc4_2_1(1024)','sc4_2_2(1024)','sc4_2_3(1024)',\\\n",
    "        'sc4_3_1(1024)','sc4_3_2(1024)','sc4_3_3(1024)',\\\n",
    "        'sc4_4_1(1024)','sc4_4_2(1024)','sc4_4_3(1024)',\\\n",
    "        'sc4_5_1(1024)','sc4_5_2(1024)','sc4_5_3(1024)',\\\n",
    "        'sc4_6_1(1024)','sc4_6_2(1024)','sc4_6_3(1024)',\\\n",
    "        'rp4',\\\n",
    "        'sc5_1_1(2048)','sc5_1_2(2048)','sc5_1_3(2048)',\\\n",
    "        'sc5_2_1(2048)','sc5_2_2(2048)','sc5_2_3(2048)',\\\n",
    "        'sc5_3_1(2048)','sc5_3_2(2048)','sc5_3_3(2048)',\\\n",
    "        'rp5']\n",
    "\n",
    "size = 1\n",
    "for img in tqdm(l2_img_test_arr):\n",
    "    with torch.no_grad():\n",
    "        outputs,save = model1(img)\n",
    "        _, predicted = torch.max(outputs.data, 1)\n",
    "    print(predicted)\n",
    "    \n",
    "    j = 0\n",
    "    plt.figure(figsize=(24,12))\n",
    "    plt.suptitle('resnet L2ALL SC half image size:'+str(size)+'\\n'+'predicted :'+str(predicted.cpu().numpy()[0])+' ground truth:9')\n",
    "    #plt.suptitle('resnet L2 ALL layer SC half')\n",
    "    for act in save:\n",
    "        dist = []\n",
    "        index = np.arange(act[0].size()[0])\n",
    "        for i in range(act[0].size()[0]):\n",
    "            dist.append(torch.norm(act[0][i],p=2).cpu().detach().numpy())\n",
    "        plt.subplot(6,9,j+1)\n",
    "        plt.title(name[j])\n",
    "        plt.bar(index,dist)\n",
    "        j = j+1\n",
    "        plt.gca().axes.get_xaxis().set_visible(False)\n",
    "    plt.savefig('res50_allsc_l2/l2_'+str(size)+'.png')\n",
    "    plt.show()\n",
    "    size = size+1"
   ]
  },
  {
   "cell_type": "code",
   "execution_count": null,
   "metadata": {},
   "outputs": [],
   "source": [
    "import cv2\n",
    "\n",
    "frame_array = []\n",
    "for i in range(1,113):\n",
    "    filename='res50_allsc_l2/l2_'+str(i)+'.png'\n",
    "    img = cv2.imread(filename)\n",
    "    height, width, layers = img.shape\n",
    "    size = (width,height)\n",
    "    \n",
    "    #inserting the frames into an image array\n",
    "    frame_array.append(img)\n",
    "    \n",
    "out = cv2.VideoWriter('res50_allsc_l2/allsc_half_l2_mar15.mp4',cv2.VideoWriter_fourcc(*'MP4V'), 5, size)\n",
    "for i in range(len(frame_array)):\n",
    "    # writing to a image array\n",
    "    out.write(frame_array[i])\n",
    "out.release()"
   ]
  },
  {
   "cell_type": "code",
   "execution_count": null,
   "metadata": {},
   "outputs": [],
   "source": [
    "def imshow(img):\n",
    "    img = img / 2 + 0.5     # unnormalize\n",
    "    npimg = img.detach().numpy()\n",
    "    #plt.imshow(np.transpose(npimg, (1, 2, 0)))\n",
    "    return np.transpose(npimg, (1, 2, 0))"
   ]
  },
  {
   "cell_type": "code",
   "execution_count": null,
   "metadata": {},
   "outputs": [],
   "source": [
    "import matplotlib.cm as cm\n",
    "\n",
    "def show_gradient(gradient):\n",
    "    #gradient = gradient.cpu().numpy().transpose(1, 2, 0)\n",
    "    gradient = gradient.cpu().numpy().transpose(1,2,0)\n",
    "    gradient -= gradient.min()\n",
    "    gradient /= gradient.max()\n",
    "    gradient *= 255.0\n",
    "    plt.imshow(np.squeeze(np.uint8(gradient),axis=2))\n",
    "    plt.show()\n",
    "\n",
    "def show_gradcam(gcam, raw_image, paper_cmap=False,show = True):\n",
    "    gcam = gcam.cpu().numpy()\n",
    "    cmap = cm.jet(gcam)[..., :3]*255.0#\n",
    "    if paper_cmap:\n",
    "        alpha = gcam[..., None]\n",
    "        gcam = alpha * cmap + (1 - alpha) * raw_image\n",
    "    else:\n",
    "        gcam = (cmap.astype(np.float) + raw_image.astype(np.float)) / 2\n",
    "        #gcam = (cmap.astype(np.float)*raw_image.astype(np.float))\n",
    "    if show:\n",
    "        plt.imshow(gcam.astype(np.uint8))\n",
    "        plt.show()\n",
    "        return 0\n",
    "    else:\n",
    "        return gcam.astype(np.uint8)"
   ]
  },
  {
   "cell_type": "code",
   "execution_count": null,
   "metadata": {},
   "outputs": [],
   "source": [
    "!mkdir 'gradcam_2x_respool_soloconv'"
   ]
  },
  {
   "cell_type": "code",
   "execution_count": null,
   "metadata": {
    "scrolled": true
   },
   "outputs": [],
   "source": [
    "from sklearn.metrics import confusion_matrix\n",
    "\n",
    "confusion = []\n",
    "\n",
    "temp_acc = []\n",
    "device = 'cuda:0'\n",
    "for testloader in tqdm(val_gen_arr):\n",
    "    correct = 0\n",
    "    total = 0\n",
    "    class_correct = list(0. for i in range(10))\n",
    "    class_total = list(0. for i in range(10))\n",
    "    confusion.append([])\n",
    "    with torch.no_grad():\n",
    "        for images in testloader:\n",
    "            c1 = images[0].to(device)\n",
    "            val_labels = images[1].to(device)\n",
    "            outputs = model1(c1)\n",
    "            _, predicted = torch.max(outputs.data, 1)\n",
    "            #print(predicted)\n",
    "            c = (predicted == val_labels).squeeze()\n",
    "            total += val_labels.size(0)\n",
    "            correct += (predicted == val_labels).sum().item()\n",
    "            \n",
    "            confusion[-1].append(confusion_matrix(val_labels.cpu().numpy(),predicted.cpu().numpy(),labels=[0,1,2,3,4,5,6,7,8,9]))\n",
    "    #print(total,correct,end='')\n",
    "\n",
    "    print('Accuracy of the network on the 10000 test images: %d %%' % (100 * correct / total))\n",
    "    temp_acc.append(100 * correct / total)\n",
    "    \n",
    "#print(confusion)\n"
   ]
  },
  {
   "cell_type": "code",
   "execution_count": null,
   "metadata": {},
   "outputs": [],
   "source": [
    "confusion_sum = []\n",
    "\n",
    "for i in range(len(confusion)):\n",
    "    confusion_sum.append(confusion[i][0])\n",
    "    for j in range(1,len(confusion[i])):\n",
    "        confusion_sum[i] += confusion[i][j]\n",
    "        \n",
    "print(confusion_sum[0])"
   ]
  },
  {
   "cell_type": "code",
   "execution_count": null,
   "metadata": {},
   "outputs": [],
   "source": [
    "!mkdir confusion_2x_respool_soloconv"
   ]
  },
  {
   "cell_type": "code",
   "execution_count": null,
   "metadata": {},
   "outputs": [],
   "source": [
    "for size in range(0,112):\n",
    "    fig = plt.figure(figsize=(12,12))\n",
    "    pred_name = ['pred '+str(x) for x in range(0,10)]\n",
    "    actual_name = ['true '+str(x) for x in range(0,10)]\n",
    "    ax = fig.add_subplot(111)\n",
    "    cax = ax.matshow(confusion_sum[size],cmap = plt.cm.Greens)\n",
    "    fig.colorbar(cax)\n",
    "    ticks = np.arange(0,10,1)\n",
    "\n",
    "    ind_array = np.arange(0, 10, 1)\n",
    "    x, y = np.meshgrid(ind_array, ind_array)\n",
    "\n",
    "    for x_val, y_val in zip(x.flatten(), y.flatten()):\n",
    "        c = str(confusion_sum[size][y_val][x_val])\n",
    "        ax.text(x_val, y_val, c, va='center', ha='center')\n",
    "\n",
    "    ax.set_xticks(ticks)\n",
    "    ax.set_yticks(ticks)\n",
    "    ax.set_xticklabels(pred_name)\n",
    "    ax.set_yticklabels(actual_name)\n",
    "    ax.set_title('size : '+str(size+1)+' acc : '+str(temp_acc[size]))\n",
    "    #plt.matshow(confusion_sum[0])\n",
    "    plt.savefig('confusion_2x_respool_soloconv/confusion'+str(size)+'.png')\n",
    "    plt.show()"
   ]
  },
  {
   "cell_type": "code",
   "execution_count": null,
   "metadata": {},
   "outputs": [],
   "source": [
    "import cv2\n",
    "\n",
    "frame_array = []\n",
    "for i in range(0,112):\n",
    "    filename='confusion_2x_respool_soloconv/confusion' + str(i)+'.png'\n",
    "    img = cv2.imread(filename)\n",
    "    height, width, layers = img.shape\n",
    "    size = (width,height)\n",
    "    \n",
    "    #inserting the frames into an image array\n",
    "    frame_array.append(img)\n",
    "    \n",
    "out = cv2.VideoWriter('confusion_2x_respool_soloconv/confusion_feb13.mp4',cv2.VideoWriter_fourcc(*'MP4V'), 5, size)\n",
    "for i in range(len(frame_array)):\n",
    "    # writing to a image array\n",
    "    out.write(frame_array[i])\n",
    "out.release()"
   ]
  },
  {
   "cell_type": "code",
   "execution_count": null,
   "metadata": {},
   "outputs": [],
   "source": [
    "import os\n",
    "\n",
    "\n",
    "SIZED_VAL_PATH = 'mnist_sized'\n",
    "new_path = []\n",
    "for i in range(1,113):\n",
    "    new_path.append([os.path.join(SIZED_VAL_PATH,str(i))])\n",
    "\n",
    "#new_path.sort(key=lambda x:int(x[0].split('/')[1]))\n",
    "\n",
    "gradcam_gen_arr = []\n",
    "for i in tqdm(range(0,len(new_path))):\n",
    "    transform = transforms.Compose(\n",
    "        [\n",
    "        transforms.ToTensor(),\n",
    "        transforms.Normalize((0.1307, 0.1307, 0.1307), (0.3081, 0.3081, 0.3081))])\n",
    "\n",
    "    testMnistDataset = SizedMnistDataset(new_path[i],transform)\n",
    "\n",
    "    testloader = torch.utils.data.DataLoader(testMnistDataset,\n",
    "                                              batch_size = batch_size, \n",
    "                                              shuffle=False,\n",
    "                                            num_workers=8)\n",
    "    gradcam_gen_arr.append(testloader)\n",
    "#\n",
    "#val_gen_arr\n",
    "accuracy = []"
   ]
  },
  {
   "cell_type": "code",
   "execution_count": null,
   "metadata": {},
   "outputs": [],
   "source": [
    "from gradcam import GradCAM\n",
    "from gradcam import GuidedBackPropagation\n",
    "\n",
    "#model1.eval()\n",
    "#model2.eval()\n",
    "gcam = GradCAM(model=model1)\n",
    "gbp = GuidedBackPropagation(model=model2)"
   ]
  },
  {
   "cell_type": "code",
   "execution_count": null,
   "metadata": {},
   "outputs": [],
   "source": [
    "for name, module in model1.named_modules():\n",
    "    print(name)"
   ]
  },
  {
   "cell_type": "code",
   "execution_count": null,
   "metadata": {},
   "outputs": [],
   "source": [
    "for i in gcam.fmap_pool.keys():\n",
    "    print(i)"
   ]
  },
  {
   "cell_type": "code",
   "execution_count": null,
   "metadata": {},
   "outputs": [],
   "source": [
    "from matplotlib import gridspec\n",
    "\n",
    "gridspec.GridSpec(3,6)\n",
    "\n",
    "imsize = 1\n",
    "for testloader in tqdm(gradcam_gen_arr):\n",
    "    for images in testloader:\n",
    "        v1 = images[0].to(device)\n",
    "        val_labels = images[1].to(device)\n",
    "        break\n",
    "\n",
    "    _ = gcam.forward(v1)\n",
    "    probs,ids = gbp.forward(v1)\n",
    "\n",
    "    gcam.backward(ids=ids[:,[0]])\n",
    "    gbp.backward(ids=ids[:,[0]])\n",
    "\n",
    "    grad_img = []\n",
    "\n",
    "    for j in range(len(v1)):\n",
    "        grad_img.append([])\n",
    "        for name, module in model1.named_modules():\n",
    "            #print(name)\n",
    "            if name == '' or name == 'module' or name == 'module.fc1' or name == 'module.fc2' or name == 'module.fc3' or name == 'module.prepool1' or name == 'module.prepool2':\n",
    "                continue\n",
    "            regions = gcam.generate(target_layer=name)\n",
    "            gradients = gbp.generate()\n",
    "            #print(\"\\t#{}: {} ({:.5f})\".format(j, ids[j, 0], probs[j, 0]))\n",
    "            #print(regions[j,0])\n",
    "            if name == 'module.sc1' or name == 'module.sc2' or name == 'module.sc3':\n",
    "                grad_img[j].append(show_gradcam(gcam=regions[0][j,0],raw_image=imshow(v1[j].cpu()),show=False))\n",
    "                grad_img[j].append(show_gradcam(gcam=regions[1][j,0],raw_image=imshow(v1[j].cpu()),show=False))\n",
    "                grad_img[j].append(show_gradcam(gcam=regions[2][j,0],raw_image=imshow(v1[j].cpu()),show=False))\n",
    "            if name == 'module.rp1':\n",
    "                grad_img[j].append(show_gradcam(gcam=regions[j,0],raw_image=imshow(v1[j].cpu()),show=False))\n",
    "\n",
    "    img_num = [0,1,2,3,4,5,15,16,17,18,19,20,31,32,33,34]\n",
    "    col_num = [3,3,3,1]\n",
    "    title = ['sc1 (L1,L2,L3)','sc2(L1,L2,L3)','sc3(L1,L2,L3)','rp1']\n",
    "    size = 112\n",
    "    \n",
    "    scale = 3./size\n",
    "    plt.figure(figsize=(18,9))\n",
    "    plt.suptitle('SC_CNN_2x_respool_gradcam'+'_size:'+str(imsize)+'_acc:'+str(temp_acc[imsize-1])+'\\n predicted:{} ({:.5f})'.format(ids[0, 0], probs[0, 0]))\n",
    "    num = 0\n",
    "    for i in range(len(col_num)):\n",
    "        display_grid = np.zeros((112,112*col_num[i],3)).astype(np.uint8)\n",
    "        for row in range(col_num[i]):\n",
    "            display_grid[:size,row*size : (row+1)*size,:3] = grad_img[0][num]\n",
    "            num = num+1\n",
    "        if i == 3:\n",
    "            plt.subplot2grid((3,6), (i//2,(i%2)*3),colspan = 1,rowspan=1)\n",
    "        else:\n",
    "            plt.subplot2grid((3,6), (i//2,(i%2)*3),colspan = 3,rowspan=1)\n",
    "        plt.axis('off')\n",
    "        plt.title(title[i])\n",
    "        plt.grid(False)\n",
    "        plt.imshow(display_grid,aspect='auto')\n",
    "    plt.savefig('gradcam_2x_respool/pltgrad'+str(imsize)+'.png')\n",
    "    plt.show()\n",
    "    imsize = imsize+1"
   ]
  },
  {
   "cell_type": "code",
   "execution_count": null,
   "metadata": {},
   "outputs": [],
   "source": [
    "v1.size()"
   ]
  },
  {
   "cell_type": "code",
   "execution_count": null,
   "metadata": {},
   "outputs": [],
   "source": [
    "frame_array = []\n",
    "for i in range(1,113):\n",
    "    filename='gradcam_2x/pltgrad' + str(i)+'.png'\n",
    "    img = cv2.imread(filename)\n",
    "    height, width, layers = img.shape\n",
    "    size = (width,height)\n",
    "    \n",
    "    #inserting the frames into an image array\n",
    "    frame_array.append(img)\n",
    "    \n",
    "out = cv2.VideoWriter('gradcam_2x_respool/gradcam_ordered_feb13.mp4',cv2.VideoWriter_fourcc(*'MP4V'), 5, size)\n",
    "for i in range(len(frame_array)):\n",
    "    # writing to a image array\n",
    "    out.write(frame_array[i])\n",
    "out.release()"
   ]
  },
  {
   "cell_type": "code",
   "execution_count": null,
   "metadata": {},
   "outputs": [],
   "source": [
    "for i in gcam.fmap_pool.keys():\n",
    "    print(i)"
   ]
  },
  {
   "cell_type": "code",
   "execution_count": null,
   "metadata": {},
   "outputs": [],
   "source": [
    "num=0\n",
    "\n",
    "#plt.figure(figsize=(12,5))\n",
    "plt.matshow([gcam.fmap_pool['module.fc1'].cpu().numpy()[num]])\n",
    "plt.matshow([gcam.fmap_pool['module.fc2'].cpu().numpy()[num]])\n",
    "plt.matshow([gcam.fmap_pool['module.fc3'].cpu().numpy()[num]])\n",
    "\n",
    "plt.show()"
   ]
  },
  {
   "cell_type": "code",
   "execution_count": null,
   "metadata": {},
   "outputs": [],
   "source": [
    "i=0\n",
    "print(gcam.fmap_pool['module.prepool1'].cpu().numpy()[0][i].var())\n",
    "plt.imshow(gcam.fmap_pool['module.prepool2'].cpu().numpy()[0][i])\n",
    "plt.show()"
   ]
  },
  {
   "cell_type": "code",
   "execution_count": null,
   "metadata": {},
   "outputs": [],
   "source": [
    "gcam.fmap_pool['module.sc1_1'].cpu().numpy()[0][0]"
   ]
  },
  {
   "cell_type": "code",
   "execution_count": null,
   "metadata": {},
   "outputs": [],
   "source": [
    "num = 1\n",
    "#print(gcam.fmap_pool['module.sc1_1'].cpu().numpy()[0][num])\n",
    "plt.figure(figsize=(16,12))\n",
    "for i in range(6):\n",
    "    plt.subplot(3,6,i+1)\n",
    "    plt.imshow(gcam.fmap_pool['module.sc1_1'].cpu().numpy()[0][i])\n",
    "for i in range(6):\n",
    "    plt.subplot(3,6,i+1+6)\n",
    "    plt.imshow(gcam.fmap_pool['module.sc1_2'].cpu().numpy()[0][i])\n",
    "for i in range(6):\n",
    "    plt.subplot(3,6,i+1+12)\n",
    "    plt.imshow(gcam.fmap_pool['module.sc1_3'].cpu().numpy()[0][i])\n",
    "plt.show()"
   ]
  },
  {
   "cell_type": "code",
   "execution_count": null,
   "metadata": {},
   "outputs": [],
   "source": [
    "num = 1\n",
    "#print(gcam.fmap_pool['module.sc1_1'].cpu().numpy()[0][num])\n",
    "plt.figure(figsize=(16,5))\n",
    "for i in range(18):\n",
    "    plt.subplot(3,18,i+1)\n",
    "    plt.imshow(gcam.fmap_pool['module.sc2_1'].cpu().numpy()[0][i])\n",
    "for i in range(18):\n",
    "    plt.subplot(3,18,i+1+18)\n",
    "    plt.imshow(gcam.fmap_pool['module.sc2_2'].cpu().numpy()[0][i])\n",
    "for i in range(18):\n",
    "    plt.subplot(3,18,i+1+36)\n",
    "    plt.imshow(gcam.fmap_pool['module.sc2_3'].cpu().numpy()[0][i])\n",
    "plt.show()"
   ]
  },
  {
   "cell_type": "code",
   "execution_count": null,
   "metadata": {},
   "outputs": [],
   "source": [
    "num = 1\n",
    "#print(gcam.fmap_pool['module.sc1_1'].cpu().numpy()[0][num])\n",
    "plt.figure(figsize=(16,5))\n",
    "for i in range(30):\n",
    "    plt.subplot(3,30,i+1)\n",
    "    plt.imshow(gcam.fmap_pool['module.sc3_1'].cpu().numpy()[0][i])\n",
    "for i in range(30):\n",
    "    plt.subplot(3,30,i+1+30)\n",
    "    plt.imshow(gcam.fmap_pool['module.sc3_2'].cpu().numpy()[0][i])\n",
    "for i in range(30):\n",
    "    plt.subplot(3,30,i+1+60)\n",
    "    plt.imshow(gcam.fmap_pool['module.sc3_3'].cpu().numpy()[0][i])\n",
    "plt.show()"
   ]
  },
  {
   "cell_type": "code",
   "execution_count": null,
   "metadata": {},
   "outputs": [],
   "source": [
    "num = 1\n",
    "#print(gcam.fmap_pool['module.sc1_1'].cpu().numpy()[0][num])\n",
    "plt.figure(figsize=(16,5))\n",
    "for i in range(30):\n",
    "    plt.subplot(3,10,i+1)\n",
    "    plt.imshow(gcam.fmap_pool['module.rp1'].cpu().numpy()[0][i])\n",
    "plt.show()"
   ]
  },
  {
   "cell_type": "code",
   "execution_count": null,
   "metadata": {},
   "outputs": [],
   "source": [
    "gcam.fmap_pool['module.sc1_1'].cpu().numpy().shape"
   ]
  },
  {
   "cell_type": "code",
   "execution_count": null,
   "metadata": {},
   "outputs": [],
   "source": [
    "num = 1\n",
    "conv_list = ['module.sc1.conv1','module.sc1.conv2','module.sc1.conv3']\n",
    "conv_num = 0\n",
    "#print(gcam.fmap_pool[conv_list[conv_num]].cpu().numpy()[0][num])\n",
    "for i in range(2):\n",
    "    plt.subplot(1,2,i+1)\n",
    "    plt.imshow(gcam.fmap_pool[conv_list[conv_num]].cpu().numpy()[0][i])\n",
    "plt.show()"
   ]
  },
  {
   "cell_type": "code",
   "execution_count": null,
   "metadata": {},
   "outputs": [],
   "source": [
    "num = 1\n",
    "conv_list = ['module.sc1.conv1','module.sc1.conv2','module.sc1.conv3']\n",
    "conv_num = 1\n",
    "#print(gcam.fmap_pool[conv_list[conv_num]].cpu().numpy()[0][num])\n",
    "for i in range(2):\n",
    "    plt.subplot(1,2,i+1)\n",
    "    plt.imshow(gcam.fmap_pool[conv_list[conv_num]].cpu().numpy()[0][i])\n",
    "plt.show()"
   ]
  },
  {
   "cell_type": "code",
   "execution_count": null,
   "metadata": {},
   "outputs": [],
   "source": [
    "num = 1\n",
    "conv_list = ['module.sc1.conv1','module.sc1.conv2','module.sc1.conv3']\n",
    "conv_num = 2\n",
    "#print(gcam.fmap_pool[conv_list[conv_num]].cpu().numpy()[0][num])\n",
    "for i in range(2):\n",
    "    plt.subplot(1,2,i+1)\n",
    "    plt.imshow(gcam.fmap_pool[conv_list[conv_num]].cpu().numpy()[0][i])\n",
    "plt.show()"
   ]
  },
  {
   "cell_type": "code",
   "execution_count": null,
   "metadata": {},
   "outputs": [],
   "source": [
    "model1.module.sc1.conv1.weight.shape"
   ]
  },
  {
   "cell_type": "code",
   "execution_count": null,
   "metadata": {},
   "outputs": [],
   "source": [
    "for i in range(3):\n",
    "    print(model1.module.sc1.conv1.weight[0][i].cpu().detach().numpy())\n",
    "    plt.imshow(model1.module.sc1.conv1.weight[0][i].cpu().detach().numpy())#.shape\n",
    "    plt.show()"
   ]
  },
  {
   "cell_type": "code",
   "execution_count": null,
   "metadata": {},
   "outputs": [],
   "source": [
    "for i in range(3):\n",
    "    print(model1.module.sc1.conv2.weight[0][i].cpu().detach().numpy())\n",
    "    plt.imshow(model1.module.sc1.conv2.weight[0][i].cpu().detach().numpy())#.shape\n",
    "    plt.show()"
   ]
  },
  {
   "cell_type": "code",
   "execution_count": null,
   "metadata": {},
   "outputs": [],
   "source": [
    "for i in range(3):\n",
    "    print(model1.module.sc1.conv3.weight[0][i].cpu().detach().numpy())\n",
    "    plt.imshow(model1.module.sc1.conv3.weight[0][i].cpu().detach().numpy())#.shape\n",
    "    plt.show()"
   ]
  },
  {
   "cell_type": "code",
   "execution_count": null,
   "metadata": {},
   "outputs": [],
   "source": []
  }
 ],
 "metadata": {
  "accelerator": "GPU",
  "colab": {
   "collapsed_sections": [],
   "name": "SC_CNN_v0.ipynb",
   "provenance": []
  },
  "kernelspec": {
   "display_name": "Python 3",
   "language": "python",
   "name": "python3"
  },
  "language_info": {
   "codemirror_mode": {
    "name": "ipython",
    "version": 3
   },
   "file_extension": ".py",
   "mimetype": "text/x-python",
   "name": "python",
   "nbconvert_exporter": "python",
   "pygments_lexer": "ipython3",
   "version": "3.6.9"
  }
 },
 "nbformat": 4,
 "nbformat_minor": 1
}
